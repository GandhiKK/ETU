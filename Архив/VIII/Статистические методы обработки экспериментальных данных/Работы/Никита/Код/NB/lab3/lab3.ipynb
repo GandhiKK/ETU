{
 "cells": [
  {
   "cell_type": "code",
   "execution_count": 20,
   "id": "f8b6088b-1cf2-4772-b7b1-aef40e44866a",
   "metadata": {},
   "outputs": [],
   "source": [
    "import numpy as np\n",
    "import pandas as pd\n",
    "import scipy\n",
    "from IPython.core.interactiveshell import InteractiveShell \n",
    "InteractiveShell.ast_node_interactivity = \"all\""
   ]
  },
  {
   "cell_type": "markdown",
   "id": "d2e843a9-3388-44ac-b174-a9391831032c",
   "metadata": {
    "heading_collapsed": "true",
    "tags": []
   },
   "source": [
    "## Переменная $nu$"
   ]
  },
  {
   "cell_type": "code",
   "execution_count": 21,
   "id": "72d35ab1-331e-468b-9cff-828cd7e9313d",
   "metadata": {},
   "outputs": [
    {
     "data": {
      "text/plain": [
       "100"
      ]
     },
     "execution_count": 21,
     "metadata": {},
     "output_type": "execute_result"
    },
    {
     "data": {
      "text/html": [
       "<div>\n",
       "<style scoped>\n",
       "    .dataframe tbody tr th:only-of-type {\n",
       "        vertical-align: middle;\n",
       "    }\n",
       "\n",
       "    .dataframe tbody tr th {\n",
       "        vertical-align: top;\n",
       "    }\n",
       "\n",
       "    .dataframe thead th {\n",
       "        text-align: right;\n",
       "    }\n",
       "</style>\n",
       "<table border=\"1\" class=\"dataframe\">\n",
       "  <thead>\n",
       "    <tr style=\"text-align: right;\">\n",
       "      <th></th>\n",
       "      <th>inter</th>\n",
       "      <th>avg_inter</th>\n",
       "      <th>af</th>\n",
       "      <th>rf</th>\n",
       "    </tr>\n",
       "  </thead>\n",
       "  <tbody>\n",
       "    <tr>\n",
       "      <th>0</th>\n",
       "      <td>[321, 365)</td>\n",
       "      <td>343</td>\n",
       "      <td>4</td>\n",
       "      <td>0.04</td>\n",
       "    </tr>\n",
       "    <tr>\n",
       "      <th>1</th>\n",
       "      <td>[365, 409)</td>\n",
       "      <td>387</td>\n",
       "      <td>9</td>\n",
       "      <td>0.09</td>\n",
       "    </tr>\n",
       "    <tr>\n",
       "      <th>2</th>\n",
       "      <td>[409, 453)</td>\n",
       "      <td>431</td>\n",
       "      <td>27</td>\n",
       "      <td>0.27</td>\n",
       "    </tr>\n",
       "    <tr>\n",
       "      <th>3</th>\n",
       "      <td>[453, 497)</td>\n",
       "      <td>475</td>\n",
       "      <td>35</td>\n",
       "      <td>0.35</td>\n",
       "    </tr>\n",
       "    <tr>\n",
       "      <th>4</th>\n",
       "      <td>[497, 541)</td>\n",
       "      <td>519</td>\n",
       "      <td>17</td>\n",
       "      <td>0.17</td>\n",
       "    </tr>\n",
       "    <tr>\n",
       "      <th>5</th>\n",
       "      <td>[541, 585)</td>\n",
       "      <td>563</td>\n",
       "      <td>6</td>\n",
       "      <td>0.06</td>\n",
       "    </tr>\n",
       "    <tr>\n",
       "      <th>6</th>\n",
       "      <td>[585, 623)</td>\n",
       "      <td>604</td>\n",
       "      <td>2</td>\n",
       "      <td>0.02</td>\n",
       "    </tr>\n",
       "  </tbody>\n",
       "</table>\n",
       "</div>"
      ],
      "text/plain": [
       "        inter  avg_inter  af    rf\n",
       "0  [321, 365)        343   4  0.04\n",
       "1  [365, 409)        387   9  0.09\n",
       "2  [409, 453)        431  27  0.27\n",
       "3  [453, 497)        475  35  0.35\n",
       "4  [497, 541)        519  17  0.17\n",
       "5  [541, 585)        563   6  0.06\n",
       "6  [585, 623)        604   2  0.02"
      ]
     },
     "execution_count": 21,
     "metadata": {},
     "output_type": "execute_result"
    }
   ],
   "source": [
    "int_row = pd.read_csv('c:/Users/gandh/dev/unv/smoed/NB/data/interval.csv')\n",
    "N = int_row['af'].sum()\n",
    "h = 44\n",
    "N\n",
    "int_row"
   ]
  },
  {
   "cell_type": "code",
   "execution_count": 22,
   "id": "de66d672-35a9-4bbf-811f-59772b5d1695",
   "metadata": {},
   "outputs": [
    {
     "data": {
      "text/plain": [
       "(465.26, 2948.352, 2978.133, 54.572)"
      ]
     },
     "execution_count": 22,
     "metadata": {},
     "output_type": "execute_result"
    }
   ],
   "source": [
    "xv = (np.dot(int_row['avg_inter'], int_row['af'])/N).round(3)\n",
    "dv = (np.dot((int_row['avg_inter']-xv)**2, int_row['af'])/N).round(3)\n",
    "s = np.sqrt(dv*(N/(N-1))).round(3)\n",
    "xv, dv, (dv*(N/(N-1))).round(3), s"
   ]
  },
  {
   "cell_type": "code",
   "execution_count": 23,
   "id": "bb9796cd-dad1-49fd-a24f-4125e686f43d",
   "metadata": {},
   "outputs": [],
   "source": [
    "gamma = 0.99\n",
    "tg = 2.627"
   ]
  },
  {
   "cell_type": "code",
   "execution_count": 24,
   "id": "607528ed-6d74-4328-b704-a6eb548936ea",
   "metadata": {},
   "outputs": [
    {
     "data": {
      "text/plain": [
       "465.26"
      ]
     },
     "execution_count": 24,
     "metadata": {},
     "output_type": "execute_result"
    },
    {
     "data": {
      "text/plain": [
       "array([450.92, 479.6 ])"
      ]
     },
     "execution_count": 24,
     "metadata": {},
     "output_type": "execute_result"
    }
   ],
   "source": [
    "di_a = np.round((xv-tg*s/np.sqrt(N), xv+tg*s/np.sqrt(N)), 2)\n",
    "xv\n",
    "di_a"
   ]
  },
  {
   "cell_type": "code",
   "execution_count": 25,
   "id": "43489ee3-2a8c-4597-891a-b63575be8149",
   "metadata": {},
   "outputs": [
    {
     "data": {
      "text/plain": [
       "54.572"
      ]
     },
     "execution_count": 25,
     "metadata": {},
     "output_type": "execute_result"
    },
    {
     "data": {
      "text/plain": [
       "array([43.767, 65.377])"
      ]
     },
     "execution_count": 25,
     "metadata": {},
     "output_type": "execute_result"
    }
   ],
   "source": [
    "q = 0.198\n",
    "di_s = np.round((s*(1-q), s*(1+q)), 3)\n",
    "s\n",
    "di_s"
   ]
  },
  {
   "cell_type": "code",
   "execution_count": 26,
   "id": "6dbc03dc-dc61-4bb8-bd66-12ee3e889e82",
   "metadata": {},
   "outputs": [],
   "source": [
    "df = int_row.copy().drop(['avg_inter', 'inter', 'rf'], axis=1)\n",
    "df['xi'] = int_row['avg_inter']-h/2\n",
    "df['xi+1'] = int_row['avg_inter']+h/2\n",
    "df = df[['xi', 'xi+1', 'af']]\n",
    "df = df.rename(columns={'af': 'ni'})\n",
    "df.iloc[6, 0], df.iloc[6, 1] = 585, 623\n",
    "df['zi'] = np.round((df['xi']-xv)/s, 2)\n",
    "df['zi+1'] = np.round((df['xi+1']-xv)/s, 2)\n",
    "df.loc[0, 'zi'], df.loc[6, 'zi+1'] = -np.inf, np.inf"
   ]
  },
  {
   "cell_type": "code",
   "execution_count": 27,
   "id": "8f98af31-db2c-47df-863e-64040dbaa54a",
   "metadata": {},
   "outputs": [
    {
     "data": {
      "text/html": [
       "<div>\n",
       "<style scoped>\n",
       "    .dataframe tbody tr th:only-of-type {\n",
       "        vertical-align: middle;\n",
       "    }\n",
       "\n",
       "    .dataframe tbody tr th {\n",
       "        vertical-align: top;\n",
       "    }\n",
       "\n",
       "    .dataframe thead th {\n",
       "        text-align: right;\n",
       "    }\n",
       "</style>\n",
       "<table border=\"1\" class=\"dataframe\">\n",
       "  <thead>\n",
       "    <tr style=\"text-align: right;\">\n",
       "      <th></th>\n",
       "      <th>xi</th>\n",
       "      <th>xi+1</th>\n",
       "      <th>ni</th>\n",
       "      <th>zi</th>\n",
       "      <th>zi+1</th>\n",
       "      <th>F(zi)</th>\n",
       "      <th>F(zi+1)</th>\n",
       "      <th>pi</th>\n",
       "      <th>ni*</th>\n",
       "    </tr>\n",
       "  </thead>\n",
       "  <tbody>\n",
       "    <tr>\n",
       "      <th>0</th>\n",
       "      <td>321.0</td>\n",
       "      <td>365.0</td>\n",
       "      <td>4</td>\n",
       "      <td>-inf</td>\n",
       "      <td>-1.84</td>\n",
       "      <td>-0.5000</td>\n",
       "      <td>-0.4671</td>\n",
       "      <td>0.0329</td>\n",
       "      <td>3.29</td>\n",
       "    </tr>\n",
       "    <tr>\n",
       "      <th>1</th>\n",
       "      <td>365.0</td>\n",
       "      <td>409.0</td>\n",
       "      <td>9</td>\n",
       "      <td>-1.84</td>\n",
       "      <td>-1.03</td>\n",
       "      <td>-0.4671</td>\n",
       "      <td>-0.3485</td>\n",
       "      <td>0.1186</td>\n",
       "      <td>11.86</td>\n",
       "    </tr>\n",
       "    <tr>\n",
       "      <th>2</th>\n",
       "      <td>409.0</td>\n",
       "      <td>453.0</td>\n",
       "      <td>27</td>\n",
       "      <td>-1.03</td>\n",
       "      <td>-0.22</td>\n",
       "      <td>-0.3485</td>\n",
       "      <td>-0.0871</td>\n",
       "      <td>0.2614</td>\n",
       "      <td>26.14</td>\n",
       "    </tr>\n",
       "    <tr>\n",
       "      <th>3</th>\n",
       "      <td>453.0</td>\n",
       "      <td>497.0</td>\n",
       "      <td>35</td>\n",
       "      <td>-0.22</td>\n",
       "      <td>0.58</td>\n",
       "      <td>-0.0871</td>\n",
       "      <td>0.2190</td>\n",
       "      <td>0.3061</td>\n",
       "      <td>30.61</td>\n",
       "    </tr>\n",
       "    <tr>\n",
       "      <th>4</th>\n",
       "      <td>497.0</td>\n",
       "      <td>541.0</td>\n",
       "      <td>17</td>\n",
       "      <td>0.58</td>\n",
       "      <td>1.39</td>\n",
       "      <td>0.2190</td>\n",
       "      <td>0.4177</td>\n",
       "      <td>0.1987</td>\n",
       "      <td>19.87</td>\n",
       "    </tr>\n",
       "    <tr>\n",
       "      <th>5</th>\n",
       "      <td>541.0</td>\n",
       "      <td>585.0</td>\n",
       "      <td>6</td>\n",
       "      <td>1.39</td>\n",
       "      <td>2.19</td>\n",
       "      <td>0.4177</td>\n",
       "      <td>0.4858</td>\n",
       "      <td>0.0681</td>\n",
       "      <td>6.81</td>\n",
       "    </tr>\n",
       "    <tr>\n",
       "      <th>6</th>\n",
       "      <td>585.0</td>\n",
       "      <td>623.0</td>\n",
       "      <td>2</td>\n",
       "      <td>2.19</td>\n",
       "      <td>inf</td>\n",
       "      <td>0.4858</td>\n",
       "      <td>0.5000</td>\n",
       "      <td>0.0142</td>\n",
       "      <td>1.42</td>\n",
       "    </tr>\n",
       "  </tbody>\n",
       "</table>\n",
       "</div>"
      ],
      "text/plain": [
       "      xi   xi+1  ni    zi  zi+1   F(zi)  F(zi+1)      pi    ni*\n",
       "0  321.0  365.0   4  -inf -1.84 -0.5000  -0.4671  0.0329   3.29\n",
       "1  365.0  409.0   9 -1.84 -1.03 -0.4671  -0.3485  0.1186  11.86\n",
       "2  409.0  453.0  27 -1.03 -0.22 -0.3485  -0.0871  0.2614  26.14\n",
       "3  453.0  497.0  35 -0.22  0.58 -0.0871   0.2190  0.3061  30.61\n",
       "4  497.0  541.0  17  0.58  1.39  0.2190   0.4177  0.1987  19.87\n",
       "5  541.0  585.0   6  1.39  2.19  0.4177   0.4858  0.0681   6.81\n",
       "6  585.0  623.0   2  2.19   inf  0.4858   0.5000  0.0142   1.42"
      ]
     },
     "execution_count": 27,
     "metadata": {},
     "output_type": "execute_result"
    }
   ],
   "source": [
    "df['F(zi)'] = np.array([-5000,-4671,-3485,-871,2190,4177,4858])/10000\n",
    "df['F(zi+1)'] = np.array([-4671,-3485,-871,2190,4177,4858,5000])/10000\n",
    "df['pi'] = np.round(df['F(zi+1)'] - df['F(zi)'], 4)\n",
    "df['ni*'] = np.round(df['pi']*N, 4)\n",
    "df.to_csv('data/data1.csv', index=False)\n",
    "df"
   ]
  },
  {
   "cell_type": "code",
   "execution_count": 28,
   "id": "42e07d0d-2e59-4a09-8dce-44a93fdc17b6",
   "metadata": {},
   "outputs": [
    {
     "data": {
      "text/html": [
       "<div>\n",
       "<style scoped>\n",
       "    .dataframe tbody tr th:only-of-type {\n",
       "        vertical-align: middle;\n",
       "    }\n",
       "\n",
       "    .dataframe tbody tr th {\n",
       "        vertical-align: top;\n",
       "    }\n",
       "\n",
       "    .dataframe thead th {\n",
       "        text-align: right;\n",
       "    }\n",
       "</style>\n",
       "<table border=\"1\" class=\"dataframe\">\n",
       "  <thead>\n",
       "    <tr style=\"text-align: right;\">\n",
       "      <th></th>\n",
       "      <th>ni</th>\n",
       "      <th>ni*</th>\n",
       "      <th>-</th>\n",
       "      <th>-2</th>\n",
       "      <th>-2/</th>\n",
       "    </tr>\n",
       "  </thead>\n",
       "  <tbody>\n",
       "    <tr>\n",
       "      <th>0</th>\n",
       "      <td>4</td>\n",
       "      <td>3.29</td>\n",
       "      <td>0.71</td>\n",
       "      <td>0.5041</td>\n",
       "      <td>0.1532</td>\n",
       "    </tr>\n",
       "    <tr>\n",
       "      <th>1</th>\n",
       "      <td>9</td>\n",
       "      <td>11.86</td>\n",
       "      <td>-2.86</td>\n",
       "      <td>8.1796</td>\n",
       "      <td>0.6897</td>\n",
       "    </tr>\n",
       "    <tr>\n",
       "      <th>2</th>\n",
       "      <td>27</td>\n",
       "      <td>26.14</td>\n",
       "      <td>0.86</td>\n",
       "      <td>0.7396</td>\n",
       "      <td>0.0283</td>\n",
       "    </tr>\n",
       "    <tr>\n",
       "      <th>3</th>\n",
       "      <td>35</td>\n",
       "      <td>30.61</td>\n",
       "      <td>4.39</td>\n",
       "      <td>19.2721</td>\n",
       "      <td>0.6296</td>\n",
       "    </tr>\n",
       "    <tr>\n",
       "      <th>4</th>\n",
       "      <td>17</td>\n",
       "      <td>19.87</td>\n",
       "      <td>-2.87</td>\n",
       "      <td>8.2369</td>\n",
       "      <td>0.4145</td>\n",
       "    </tr>\n",
       "    <tr>\n",
       "      <th>5</th>\n",
       "      <td>6</td>\n",
       "      <td>6.81</td>\n",
       "      <td>-0.81</td>\n",
       "      <td>0.6561</td>\n",
       "      <td>0.0963</td>\n",
       "    </tr>\n",
       "    <tr>\n",
       "      <th>6</th>\n",
       "      <td>2</td>\n",
       "      <td>1.42</td>\n",
       "      <td>0.58</td>\n",
       "      <td>0.3364</td>\n",
       "      <td>0.2369</td>\n",
       "    </tr>\n",
       "  </tbody>\n",
       "</table>\n",
       "</div>"
      ],
      "text/plain": [
       "   ni    ni*     -       -2     -2/\n",
       "0   4   3.29  0.71   0.5041  0.1532\n",
       "1   9  11.86 -2.86   8.1796  0.6897\n",
       "2  27  26.14  0.86   0.7396  0.0283\n",
       "3  35  30.61  4.39  19.2721  0.6296\n",
       "4  17  19.87 -2.87   8.2369  0.4145\n",
       "5   6   6.81 -0.81   0.6561  0.0963\n",
       "6   2   1.42  0.58   0.3364  0.2369"
      ]
     },
     "execution_count": 28,
     "metadata": {},
     "output_type": "execute_result"
    }
   ],
   "source": [
    "df_nabl = pd.DataFrame()\n",
    "df_nabl['ni'], df_nabl['ni*'] = df['ni'], df['ni*']\n",
    "df_nabl['-'] = np.round(df_nabl['ni']-df_nabl['ni*'], 4)\n",
    "df_nabl['-2'] = np.round(df_nabl['-']**2, 4)\n",
    "df_nabl['-2/'] = np.round(df_nabl['-2']/df_nabl['ni*'], 4)\n",
    "df_nabl.to_csv('data/data2.csv', index=False)\n",
    "hi_nabl = df_nabl['-2/'].sum().round(4)\n",
    "df_nabl"
   ]
  },
  {
   "cell_type": "code",
   "execution_count": 29,
   "id": "31955202-0889-41fc-8982-8c7210c985de",
   "metadata": {},
   "outputs": [
    {
     "data": {
      "text/plain": [
       "(4, 0.05)"
      ]
     },
     "execution_count": 29,
     "metadata": {},
     "output_type": "execute_result"
    },
    {
     "data": {
      "text/plain": [
       "(2.2485, 9.5)"
      ]
     },
     "execution_count": 29,
     "metadata": {},
     "output_type": "execute_result"
    },
    {
     "data": {
      "text/plain": [
       "'True'"
      ]
     },
     "execution_count": 29,
     "metadata": {},
     "output_type": "execute_result"
    }
   ],
   "source": [
    "alpha = 0.05\n",
    "k = len(df)-3\n",
    "(k, alpha)\n",
    "hi_crit = 9.5\n",
    "(hi_nabl, hi_crit)\n",
    "'True' if hi_nabl <= hi_crit else 'False'"
   ]
  },
  {
   "cell_type": "markdown",
   "id": "302a38dd-d885-4dc4-8c0c-eb2602e2521d",
   "metadata": {
    "heading_collapsed": "true",
    "tags": []
   },
   "source": [
    "## Переменная $E$"
   ]
  },
  {
   "cell_type": "code",
   "execution_count": 30,
   "id": "21d70d8f-5e45-44e5-b82b-80688a6bb215",
   "metadata": {},
   "outputs": [
    {
     "data": {
      "text/plain": [
       "100"
      ]
     },
     "execution_count": 30,
     "metadata": {},
     "output_type": "execute_result"
    },
    {
     "data": {
      "text/html": [
       "<div>\n",
       "<style scoped>\n",
       "    .dataframe tbody tr th:only-of-type {\n",
       "        vertical-align: middle;\n",
       "    }\n",
       "\n",
       "    .dataframe tbody tr th {\n",
       "        vertical-align: top;\n",
       "    }\n",
       "\n",
       "    .dataframe thead th {\n",
       "        text-align: right;\n",
       "    }\n",
       "</style>\n",
       "<table border=\"1\" class=\"dataframe\">\n",
       "  <thead>\n",
       "    <tr style=\"text-align: right;\">\n",
       "      <th></th>\n",
       "      <th>inter</th>\n",
       "      <th>avg_inter</th>\n",
       "      <th>af</th>\n",
       "      <th>rf</th>\n",
       "    </tr>\n",
       "  </thead>\n",
       "  <tbody>\n",
       "    <tr>\n",
       "      <th>0</th>\n",
       "      <td>[84.9, 100.9)</td>\n",
       "      <td>92.9</td>\n",
       "      <td>6</td>\n",
       "      <td>0.06</td>\n",
       "    </tr>\n",
       "    <tr>\n",
       "      <th>1</th>\n",
       "      <td>[100.9, 116.9)</td>\n",
       "      <td>108.9</td>\n",
       "      <td>14</td>\n",
       "      <td>0.14</td>\n",
       "    </tr>\n",
       "    <tr>\n",
       "      <th>2</th>\n",
       "      <td>[116.9, 132.9)</td>\n",
       "      <td>124.9</td>\n",
       "      <td>32</td>\n",
       "      <td>0.32</td>\n",
       "    </tr>\n",
       "    <tr>\n",
       "      <th>3</th>\n",
       "      <td>[132.9, 148.9)</td>\n",
       "      <td>140.9</td>\n",
       "      <td>33</td>\n",
       "      <td>0.33</td>\n",
       "    </tr>\n",
       "    <tr>\n",
       "      <th>4</th>\n",
       "      <td>[148.9, 164.9)</td>\n",
       "      <td>156.9</td>\n",
       "      <td>9</td>\n",
       "      <td>0.09</td>\n",
       "    </tr>\n",
       "    <tr>\n",
       "      <th>5</th>\n",
       "      <td>[164.9, 180.9)</td>\n",
       "      <td>172.9</td>\n",
       "      <td>4</td>\n",
       "      <td>0.04</td>\n",
       "    </tr>\n",
       "    <tr>\n",
       "      <th>6</th>\n",
       "      <td>[180.9, 195.7)</td>\n",
       "      <td>188.3</td>\n",
       "      <td>2</td>\n",
       "      <td>0.02</td>\n",
       "    </tr>\n",
       "  </tbody>\n",
       "</table>\n",
       "</div>"
      ],
      "text/plain": [
       "            inter  avg_inter  af    rf\n",
       "0   [84.9, 100.9)       92.9   6  0.06\n",
       "1  [100.9, 116.9)      108.9  14  0.14\n",
       "2  [116.9, 132.9)      124.9  32  0.32\n",
       "3  [132.9, 148.9)      140.9  33  0.33\n",
       "4  [148.9, 164.9)      156.9   9  0.09\n",
       "5  [164.9, 180.9)      172.9   4  0.04\n",
       "6  [180.9, 195.7)      188.3   2  0.02"
      ]
     },
     "execution_count": 30,
     "metadata": {},
     "output_type": "execute_result"
    }
   ],
   "source": [
    "int_row = pd.read_csv('c:/Users/gandh/dev/unv/smoed/NB/data/interval2.csv')\n",
    "N = int_row['af'].sum()\n",
    "h = 16\n",
    "N\n",
    "int_row"
   ]
  },
  {
   "cell_type": "code",
   "execution_count": 31,
   "id": "ea2c7bae-2781-444f-abde-1df698959764",
   "metadata": {},
   "outputs": [
    {
     "data": {
      "text/plain": [
       "(132.088, 394.804, 398.792, 19.97)"
      ]
     },
     "execution_count": 31,
     "metadata": {},
     "output_type": "execute_result"
    }
   ],
   "source": [
    "xv = (np.dot(int_row['avg_inter'], int_row['af'])/N).round(3)\n",
    "dv = (np.dot((int_row['avg_inter']-xv)**2, int_row['af'])/N).round(3)\n",
    "s = np.sqrt(dv*(N/(N-1))).round(3)\n",
    "xv, dv, (dv*(N/(N-1))).round(3), s"
   ]
  },
  {
   "cell_type": "code",
   "execution_count": 32,
   "id": "5f8b75aa-4ee2-478c-a48e-01ce26e16dd9",
   "metadata": {},
   "outputs": [],
   "source": [
    "gamma = 0.99\n",
    "tg = 2.627"
   ]
  },
  {
   "cell_type": "code",
   "execution_count": 33,
   "id": "b7fe9efa-95a2-4649-a231-1b0bf46ad608",
   "metadata": {},
   "outputs": [
    {
     "data": {
      "text/plain": [
       "132.088"
      ]
     },
     "execution_count": 33,
     "metadata": {},
     "output_type": "execute_result"
    },
    {
     "data": {
      "text/plain": [
       "array([126.84, 137.33])"
      ]
     },
     "execution_count": 33,
     "metadata": {},
     "output_type": "execute_result"
    }
   ],
   "source": [
    "di_a = np.round((xv-tg*s/np.sqrt(N), xv+tg*s/np.sqrt(N)), 2)\n",
    "xv\n",
    "di_a"
   ]
  },
  {
   "cell_type": "code",
   "execution_count": 34,
   "id": "66441a48-0040-4bed-8b09-e9ca54a55833",
   "metadata": {},
   "outputs": [
    {
     "data": {
      "text/plain": [
       "19.97"
      ]
     },
     "execution_count": 34,
     "metadata": {},
     "output_type": "execute_result"
    },
    {
     "data": {
      "text/plain": [
       "array([16.016, 23.924])"
      ]
     },
     "execution_count": 34,
     "metadata": {},
     "output_type": "execute_result"
    }
   ],
   "source": [
    "q = 0.198\n",
    "di_s = np.round((s*(1-q), s*(1+q)), 3)\n",
    "s\n",
    "di_s"
   ]
  },
  {
   "cell_type": "code",
   "execution_count": 35,
   "id": "2617352c-85ed-48de-8272-729585ea2a2f",
   "metadata": {},
   "outputs": [
    {
     "data": {
      "text/html": [
       "<div>\n",
       "<style scoped>\n",
       "    .dataframe tbody tr th:only-of-type {\n",
       "        vertical-align: middle;\n",
       "    }\n",
       "\n",
       "    .dataframe tbody tr th {\n",
       "        vertical-align: top;\n",
       "    }\n",
       "\n",
       "    .dataframe thead th {\n",
       "        text-align: right;\n",
       "    }\n",
       "</style>\n",
       "<table border=\"1\" class=\"dataframe\">\n",
       "  <thead>\n",
       "    <tr style=\"text-align: right;\">\n",
       "      <th></th>\n",
       "      <th>inter</th>\n",
       "      <th>avg_inter</th>\n",
       "      <th>af</th>\n",
       "      <th>rf</th>\n",
       "    </tr>\n",
       "  </thead>\n",
       "  <tbody>\n",
       "    <tr>\n",
       "      <th>0</th>\n",
       "      <td>[84.9, 100.9)</td>\n",
       "      <td>92.9</td>\n",
       "      <td>6</td>\n",
       "      <td>0.06</td>\n",
       "    </tr>\n",
       "    <tr>\n",
       "      <th>1</th>\n",
       "      <td>[100.9, 116.9)</td>\n",
       "      <td>108.9</td>\n",
       "      <td>14</td>\n",
       "      <td>0.14</td>\n",
       "    </tr>\n",
       "    <tr>\n",
       "      <th>2</th>\n",
       "      <td>[116.9, 132.9)</td>\n",
       "      <td>124.9</td>\n",
       "      <td>32</td>\n",
       "      <td>0.32</td>\n",
       "    </tr>\n",
       "    <tr>\n",
       "      <th>3</th>\n",
       "      <td>[132.9, 148.9)</td>\n",
       "      <td>140.9</td>\n",
       "      <td>33</td>\n",
       "      <td>0.33</td>\n",
       "    </tr>\n",
       "    <tr>\n",
       "      <th>4</th>\n",
       "      <td>[148.9, 164.9)</td>\n",
       "      <td>156.9</td>\n",
       "      <td>9</td>\n",
       "      <td>0.09</td>\n",
       "    </tr>\n",
       "    <tr>\n",
       "      <th>5</th>\n",
       "      <td>[164.9, 180.9)</td>\n",
       "      <td>172.9</td>\n",
       "      <td>4</td>\n",
       "      <td>0.04</td>\n",
       "    </tr>\n",
       "    <tr>\n",
       "      <th>6</th>\n",
       "      <td>[180.9, 195.7)</td>\n",
       "      <td>188.3</td>\n",
       "      <td>2</td>\n",
       "      <td>0.02</td>\n",
       "    </tr>\n",
       "  </tbody>\n",
       "</table>\n",
       "</div>"
      ],
      "text/plain": [
       "            inter  avg_inter  af    rf\n",
       "0   [84.9, 100.9)       92.9   6  0.06\n",
       "1  [100.9, 116.9)      108.9  14  0.14\n",
       "2  [116.9, 132.9)      124.9  32  0.32\n",
       "3  [132.9, 148.9)      140.9  33  0.33\n",
       "4  [148.9, 164.9)      156.9   9  0.09\n",
       "5  [164.9, 180.9)      172.9   4  0.04\n",
       "6  [180.9, 195.7)      188.3   2  0.02"
      ]
     },
     "execution_count": 35,
     "metadata": {},
     "output_type": "execute_result"
    }
   ],
   "source": [
    "int_row"
   ]
  },
  {
   "cell_type": "code",
   "execution_count": 38,
   "id": "725f6e8c-11d6-44f9-9893-77dd9af36d59",
   "metadata": {},
   "outputs": [
    {
     "data": {
      "text/html": [
       "<div>\n",
       "<style scoped>\n",
       "    .dataframe tbody tr th:only-of-type {\n",
       "        vertical-align: middle;\n",
       "    }\n",
       "\n",
       "    .dataframe tbody tr th {\n",
       "        vertical-align: top;\n",
       "    }\n",
       "\n",
       "    .dataframe thead th {\n",
       "        text-align: right;\n",
       "    }\n",
       "</style>\n",
       "<table border=\"1\" class=\"dataframe\">\n",
       "  <thead>\n",
       "    <tr style=\"text-align: right;\">\n",
       "      <th></th>\n",
       "      <th>xi</th>\n",
       "      <th>xi+1</th>\n",
       "      <th>ni</th>\n",
       "      <th>zi</th>\n",
       "      <th>zi+1</th>\n",
       "    </tr>\n",
       "  </thead>\n",
       "  <tbody>\n",
       "    <tr>\n",
       "      <th>0</th>\n",
       "      <td>84.9</td>\n",
       "      <td>100.9</td>\n",
       "      <td>6</td>\n",
       "      <td>-inf</td>\n",
       "      <td>-1.56</td>\n",
       "    </tr>\n",
       "    <tr>\n",
       "      <th>1</th>\n",
       "      <td>100.9</td>\n",
       "      <td>116.9</td>\n",
       "      <td>14</td>\n",
       "      <td>-1.56</td>\n",
       "      <td>-0.76</td>\n",
       "    </tr>\n",
       "    <tr>\n",
       "      <th>2</th>\n",
       "      <td>116.9</td>\n",
       "      <td>132.9</td>\n",
       "      <td>32</td>\n",
       "      <td>-0.76</td>\n",
       "      <td>0.04</td>\n",
       "    </tr>\n",
       "    <tr>\n",
       "      <th>3</th>\n",
       "      <td>132.9</td>\n",
       "      <td>148.9</td>\n",
       "      <td>33</td>\n",
       "      <td>0.04</td>\n",
       "      <td>0.84</td>\n",
       "    </tr>\n",
       "    <tr>\n",
       "      <th>4</th>\n",
       "      <td>148.9</td>\n",
       "      <td>164.9</td>\n",
       "      <td>9</td>\n",
       "      <td>0.84</td>\n",
       "      <td>1.64</td>\n",
       "    </tr>\n",
       "    <tr>\n",
       "      <th>5</th>\n",
       "      <td>164.9</td>\n",
       "      <td>180.9</td>\n",
       "      <td>4</td>\n",
       "      <td>1.64</td>\n",
       "      <td>2.44</td>\n",
       "    </tr>\n",
       "    <tr>\n",
       "      <th>6</th>\n",
       "      <td>180.9</td>\n",
       "      <td>195.7</td>\n",
       "      <td>2</td>\n",
       "      <td>2.44</td>\n",
       "      <td>inf</td>\n",
       "    </tr>\n",
       "  </tbody>\n",
       "</table>\n",
       "</div>"
      ],
      "text/plain": [
       "      xi   xi+1  ni    zi  zi+1\n",
       "0   84.9  100.9   6  -inf -1.56\n",
       "1  100.9  116.9  14 -1.56 -0.76\n",
       "2  116.9  132.9  32 -0.76  0.04\n",
       "3  132.9  148.9  33  0.04  0.84\n",
       "4  148.9  164.9   9  0.84  1.64\n",
       "5  164.9  180.9   4  1.64  2.44\n",
       "6  180.9  195.7   2  2.44   inf"
      ]
     },
     "execution_count": 38,
     "metadata": {},
     "output_type": "execute_result"
    }
   ],
   "source": [
    "df = int_row.copy().drop(['avg_inter', 'inter', 'rf'], axis=1)\n",
    "df['xi'] = int_row['avg_inter']-h/2\n",
    "df['xi+1'] = int_row['avg_inter']+h/2\n",
    "df = df[['xi', 'xi+1', 'af']]\n",
    "df = df.rename(columns={'af': 'ni'})\n",
    "df.iloc[6, 0], df.iloc[6, 1] = 180.9, 195.7\n",
    "df['zi'] = np.round((df['xi']-xv)/s, 2)\n",
    "df['zi+1'] = np.round((df['xi+1']-xv)/s, 2)\n",
    "df.loc[0, 'zi'], df.loc[6, 'zi+1'] = -np.inf, np.inf\n",
    "df"
   ]
  },
  {
   "cell_type": "code",
   "execution_count": 39,
   "id": "68f530ab-6973-4a7d-946a-954ebc604b21",
   "metadata": {},
   "outputs": [
    {
     "data": {
      "text/html": [
       "<div>\n",
       "<style scoped>\n",
       "    .dataframe tbody tr th:only-of-type {\n",
       "        vertical-align: middle;\n",
       "    }\n",
       "\n",
       "    .dataframe tbody tr th {\n",
       "        vertical-align: top;\n",
       "    }\n",
       "\n",
       "    .dataframe thead th {\n",
       "        text-align: right;\n",
       "    }\n",
       "</style>\n",
       "<table border=\"1\" class=\"dataframe\">\n",
       "  <thead>\n",
       "    <tr style=\"text-align: right;\">\n",
       "      <th></th>\n",
       "      <th>xi</th>\n",
       "      <th>xi+1</th>\n",
       "      <th>ni</th>\n",
       "      <th>zi</th>\n",
       "      <th>zi+1</th>\n",
       "      <th>F(zi)</th>\n",
       "      <th>F(zi+1)</th>\n",
       "      <th>pi</th>\n",
       "      <th>ni*</th>\n",
       "    </tr>\n",
       "  </thead>\n",
       "  <tbody>\n",
       "    <tr>\n",
       "      <th>0</th>\n",
       "      <td>84.9</td>\n",
       "      <td>100.9</td>\n",
       "      <td>6</td>\n",
       "      <td>-inf</td>\n",
       "      <td>-1.56</td>\n",
       "      <td>-0.5000</td>\n",
       "      <td>-0.4406</td>\n",
       "      <td>0.0594</td>\n",
       "      <td>5.94</td>\n",
       "    </tr>\n",
       "    <tr>\n",
       "      <th>1</th>\n",
       "      <td>100.9</td>\n",
       "      <td>116.9</td>\n",
       "      <td>14</td>\n",
       "      <td>-1.56</td>\n",
       "      <td>-0.76</td>\n",
       "      <td>-0.4406</td>\n",
       "      <td>-0.2764</td>\n",
       "      <td>0.1642</td>\n",
       "      <td>16.42</td>\n",
       "    </tr>\n",
       "    <tr>\n",
       "      <th>2</th>\n",
       "      <td>116.9</td>\n",
       "      <td>132.9</td>\n",
       "      <td>32</td>\n",
       "      <td>-0.76</td>\n",
       "      <td>0.04</td>\n",
       "      <td>-0.2764</td>\n",
       "      <td>0.0160</td>\n",
       "      <td>0.2924</td>\n",
       "      <td>29.24</td>\n",
       "    </tr>\n",
       "    <tr>\n",
       "      <th>3</th>\n",
       "      <td>132.9</td>\n",
       "      <td>148.9</td>\n",
       "      <td>33</td>\n",
       "      <td>0.04</td>\n",
       "      <td>0.84</td>\n",
       "      <td>0.0160</td>\n",
       "      <td>0.2995</td>\n",
       "      <td>0.2835</td>\n",
       "      <td>28.35</td>\n",
       "    </tr>\n",
       "    <tr>\n",
       "      <th>4</th>\n",
       "      <td>148.9</td>\n",
       "      <td>164.9</td>\n",
       "      <td>9</td>\n",
       "      <td>0.84</td>\n",
       "      <td>1.64</td>\n",
       "      <td>0.2995</td>\n",
       "      <td>0.4495</td>\n",
       "      <td>0.1500</td>\n",
       "      <td>15.00</td>\n",
       "    </tr>\n",
       "    <tr>\n",
       "      <th>5</th>\n",
       "      <td>164.9</td>\n",
       "      <td>180.9</td>\n",
       "      <td>4</td>\n",
       "      <td>1.64</td>\n",
       "      <td>2.44</td>\n",
       "      <td>0.4495</td>\n",
       "      <td>0.4927</td>\n",
       "      <td>0.0432</td>\n",
       "      <td>4.32</td>\n",
       "    </tr>\n",
       "    <tr>\n",
       "      <th>6</th>\n",
       "      <td>180.9</td>\n",
       "      <td>195.7</td>\n",
       "      <td>2</td>\n",
       "      <td>2.44</td>\n",
       "      <td>inf</td>\n",
       "      <td>0.4927</td>\n",
       "      <td>0.5000</td>\n",
       "      <td>0.0073</td>\n",
       "      <td>0.73</td>\n",
       "    </tr>\n",
       "  </tbody>\n",
       "</table>\n",
       "</div>"
      ],
      "text/plain": [
       "      xi   xi+1  ni    zi  zi+1   F(zi)  F(zi+1)      pi    ni*\n",
       "0   84.9  100.9   6  -inf -1.56 -0.5000  -0.4406  0.0594   5.94\n",
       "1  100.9  116.9  14 -1.56 -0.76 -0.4406  -0.2764  0.1642  16.42\n",
       "2  116.9  132.9  32 -0.76  0.04 -0.2764   0.0160  0.2924  29.24\n",
       "3  132.9  148.9  33  0.04  0.84  0.0160   0.2995  0.2835  28.35\n",
       "4  148.9  164.9   9  0.84  1.64  0.2995   0.4495  0.1500  15.00\n",
       "5  164.9  180.9   4  1.64  2.44  0.4495   0.4927  0.0432   4.32\n",
       "6  180.9  195.7   2  2.44   inf  0.4927   0.5000  0.0073   0.73"
      ]
     },
     "execution_count": 39,
     "metadata": {},
     "output_type": "execute_result"
    }
   ],
   "source": [
    "df['F(zi)'] = np.array([-5000,-4406,-2764,160,2995,4495,4927])/10000\n",
    "df['F(zi+1)'] = np.array([-4406,-2764,160,2995,4495,4927,5000])/10000\n",
    "df['pi'] = np.round(df['F(zi+1)'] - df['F(zi)'], 4)\n",
    "df['ni*'] = np.round(df['pi']*N, 4)\n",
    "df.to_csv('data/data1_2.csv', index=False)\n",
    "df"
   ]
  },
  {
   "cell_type": "code",
   "execution_count": 41,
   "id": "267596a0-52ca-4c91-8743-fc414734a0a1",
   "metadata": {},
   "outputs": [
    {
     "data": {
      "text/html": [
       "<div>\n",
       "<style scoped>\n",
       "    .dataframe tbody tr th:only-of-type {\n",
       "        vertical-align: middle;\n",
       "    }\n",
       "\n",
       "    .dataframe tbody tr th {\n",
       "        vertical-align: top;\n",
       "    }\n",
       "\n",
       "    .dataframe thead th {\n",
       "        text-align: right;\n",
       "    }\n",
       "</style>\n",
       "<table border=\"1\" class=\"dataframe\">\n",
       "  <thead>\n",
       "    <tr style=\"text-align: right;\">\n",
       "      <th></th>\n",
       "      <th>ni</th>\n",
       "      <th>ni*</th>\n",
       "      <th>-</th>\n",
       "      <th>-2</th>\n",
       "      <th>-2/</th>\n",
       "    </tr>\n",
       "  </thead>\n",
       "  <tbody>\n",
       "    <tr>\n",
       "      <th>0</th>\n",
       "      <td>6</td>\n",
       "      <td>5.94</td>\n",
       "      <td>0.06</td>\n",
       "      <td>0.0036</td>\n",
       "      <td>0.0006</td>\n",
       "    </tr>\n",
       "    <tr>\n",
       "      <th>1</th>\n",
       "      <td>14</td>\n",
       "      <td>16.42</td>\n",
       "      <td>-2.42</td>\n",
       "      <td>5.8564</td>\n",
       "      <td>0.3567</td>\n",
       "    </tr>\n",
       "    <tr>\n",
       "      <th>2</th>\n",
       "      <td>32</td>\n",
       "      <td>29.24</td>\n",
       "      <td>2.76</td>\n",
       "      <td>7.6176</td>\n",
       "      <td>0.2605</td>\n",
       "    </tr>\n",
       "    <tr>\n",
       "      <th>3</th>\n",
       "      <td>33</td>\n",
       "      <td>28.35</td>\n",
       "      <td>4.65</td>\n",
       "      <td>21.6225</td>\n",
       "      <td>0.7627</td>\n",
       "    </tr>\n",
       "    <tr>\n",
       "      <th>4</th>\n",
       "      <td>9</td>\n",
       "      <td>15.00</td>\n",
       "      <td>-6.00</td>\n",
       "      <td>36.0000</td>\n",
       "      <td>2.4000</td>\n",
       "    </tr>\n",
       "    <tr>\n",
       "      <th>5</th>\n",
       "      <td>4</td>\n",
       "      <td>4.32</td>\n",
       "      <td>-0.32</td>\n",
       "      <td>0.1024</td>\n",
       "      <td>0.0237</td>\n",
       "    </tr>\n",
       "    <tr>\n",
       "      <th>6</th>\n",
       "      <td>2</td>\n",
       "      <td>0.73</td>\n",
       "      <td>1.27</td>\n",
       "      <td>1.6129</td>\n",
       "      <td>2.2095</td>\n",
       "    </tr>\n",
       "  </tbody>\n",
       "</table>\n",
       "</div>"
      ],
      "text/plain": [
       "   ni    ni*     -       -2     -2/\n",
       "0   6   5.94  0.06   0.0036  0.0006\n",
       "1  14  16.42 -2.42   5.8564  0.3567\n",
       "2  32  29.24  2.76   7.6176  0.2605\n",
       "3  33  28.35  4.65  21.6225  0.7627\n",
       "4   9  15.00 -6.00  36.0000  2.4000\n",
       "5   4   4.32 -0.32   0.1024  0.0237\n",
       "6   2   0.73  1.27   1.6129  2.2095"
      ]
     },
     "execution_count": 41,
     "metadata": {},
     "output_type": "execute_result"
    }
   ],
   "source": [
    "df_nabl = pd.DataFrame()\n",
    "df_nabl['ni'], df_nabl['ni*'] = df['ni'], df['ni*']\n",
    "df_nabl['-'] = np.round(df_nabl['ni']-df_nabl['ni*'], 4)\n",
    "df_nabl['-2'] = np.round(df_nabl['-']**2, 4)\n",
    "df_nabl['-2/'] = np.round(df_nabl['-2']/df_nabl['ni*'], 4)\n",
    "df_nabl.to_csv('data/data2_2.csv', index=False)\n",
    "hi_nabl = df_nabl['-2/'].sum().round(4)\n",
    "df_nabl"
   ]
  },
  {
   "cell_type": "code",
   "execution_count": 43,
   "id": "77666422-d634-45b9-9bfb-16f3813e8a0c",
   "metadata": {},
   "outputs": [
    {
     "data": {
      "text/plain": [
       "(4, 0.05)"
      ]
     },
     "execution_count": 43,
     "metadata": {},
     "output_type": "execute_result"
    },
    {
     "data": {
      "text/plain": [
       "(6.0137, 9.5)"
      ]
     },
     "execution_count": 43,
     "metadata": {},
     "output_type": "execute_result"
    },
    {
     "data": {
      "text/plain": [
       "'True'"
      ]
     },
     "execution_count": 43,
     "metadata": {},
     "output_type": "execute_result"
    }
   ],
   "source": [
    "alpha = 0.05\n",
    "k = len(df)-3\n",
    "(k, alpha)\n",
    "hi_crit = 9.5\n",
    "(hi_nabl, hi_crit)\n",
    "'True' if hi_nabl <= hi_crit else 'False'"
   ]
  },
  {
   "cell_type": "code",
   "execution_count": null,
   "id": "84e66670-0975-474f-a464-0a3c6baca5e9",
   "metadata": {},
   "outputs": [],
   "source": []
  }
 ],
 "metadata": {
  "kernelspec": {
   "display_name": "Python 3",
   "language": "python",
   "name": "python3"
  },
  "language_info": {
   "codemirror_mode": {
    "name": "ipython",
    "version": 3
   },
   "file_extension": ".py",
   "mimetype": "text/x-python",
   "name": "python",
   "nbconvert_exporter": "python",
   "pygments_lexer": "ipython3",
   "version": "3.8.8"
  }
 },
 "nbformat": 4,
 "nbformat_minor": 5
}
