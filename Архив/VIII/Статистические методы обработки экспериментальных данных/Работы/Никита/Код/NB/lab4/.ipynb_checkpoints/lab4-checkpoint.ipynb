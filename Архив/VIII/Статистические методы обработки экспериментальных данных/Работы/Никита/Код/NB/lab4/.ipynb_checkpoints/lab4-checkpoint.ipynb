{
 "cells": [
  {
   "cell_type": "code",
   "execution_count": 1,
   "id": "11e97953-3905-4922-8962-ab0a37dfb4b5",
   "metadata": {},
   "outputs": [],
   "source": [
    "import numpy as np\n",
    "import pandas as pd\n",
    "import matplotlib.pyplot as plt\n",
    "import seaborn as sns\n",
    "from IPython.core.interactiveshell import InteractiveShell \n",
    "InteractiveShell.ast_node_interactivity = \"all\"\n",
    "pd.set_option('display.max_columns', None)\n",
    "pd.set_option('display.max_rows', None)"
   ]
  },
  {
   "cell_type": "code",
   "execution_count": 2,
   "id": "3e535186-ce85-4235-8e68-0f8bfb9fff21",
   "metadata": {},
   "outputs": [],
   "source": [
    "df = pd.read_csv('c:/Users/gandh/dev/unv/smoed/NB/data/main_data.csv')\n",
    "X = df['nu']\n",
    "Y = df['E']"
   ]
  },
  {
   "cell_type": "code",
   "execution_count": 36,
   "id": "6b9759a6-9a21-43ba-8dde-339279311db5",
   "metadata": {},
   "outputs": [],
   "source": [
    "h1, h2 = 44, 16\n",
    "ivs_X = np.hstack((np.arange(min(X), max(X), h1), np.array(max(X))))\n",
    "ivs_Y = np.hstack((np.arange(min(Y), max(Y), h2), np.array(max(Y))))"
   ]
  },
  {
   "cell_type": "markdown",
   "id": "9807800d-e2b7-4641-8a62-8157edd3612c",
   "metadata": {},
   "source": [
    "## Двумерный интервальный ряд"
   ]
  },
  {
   "cell_type": "code",
   "execution_count": 26,
   "id": "e33b02de-45b5-4f25-b7f4-083da98c6d20",
   "metadata": {},
   "outputs": [],
   "source": [
    "df_int = df.copy()\n",
    "df_int['intX'] = pd.cut(df_int['nu'], bins=ivs_X, right=False)\n",
    "df_int['intXl'] = pd.cut(df_int['nu'], bins=ivs_X, \n",
    "                        labels=[1,2,3,4,5,6,7], right=False)\n",
    "df_int['intY'] = pd.cut(df_int['E'], bins=ivs_Y, right=False)\n",
    "df_int['intYl'] = pd.cut(df_int['E'], bins=ivs_Y, \n",
    "                        labels=[1,2,3,4,5,6,7], right=False)"
   ]
  },
  {
   "cell_type": "code",
   "execution_count": 34,
   "id": "e31e41d4-3510-45e3-91f6-19fa13044b86",
   "metadata": {},
   "outputs": [],
   "source": [
    "df_int.iloc[77, 2:6] = df_int.iloc[50, 2:6]\n",
    "# df_int['intXl'].value_counts().sort_index()\n",
    "# df_int['intYl'].value_counts().sort_index()\n",
    "# df_int.sort_values(by=['nu'], ignore_index = True).head()\n",
    "# df_int.value_counts(['intYl', 'intXl']).sort_index()"
   ]
  },
  {
   "cell_type": "markdown",
   "id": "3a41b1f6-464a-4ae6-816a-6210fc313bed",
   "metadata": {},
   "source": [
    "## Корреляционная таблица"
   ]
  },
  {
   "cell_type": "code",
   "execution_count": 35,
   "id": "f6666607-78bd-4eaf-b29b-6204bff0e338",
   "metadata": {},
   "outputs": [],
   "source": [
    "N = 100\n",
    "xv = 465.26\n",
    "sx = 54.57\n",
    "yv = 132.09\n",
    "sy = 19.97"
   ]
  },
  {
   "cell_type": "code",
   "execution_count": 38,
   "id": "57174127-29f9-4687-ae41-769b49eb14ec",
   "metadata": {},
   "outputs": [
    {
     "data": {
      "text/plain": [
       "array([321, 365, 409, 453, 497, 541, 585, 623])"
      ]
     },
     "execution_count": 38,
     "metadata": {},
     "output_type": "execute_result"
    },
    {
     "data": {
      "text/plain": [
       "array([ 84.9, 100.9, 116.9, 132.9, 148.9, 164.9, 180.9, 195.7])"
      ]
     },
     "execution_count": 38,
     "metadata": {},
     "output_type": "execute_result"
    }
   ],
   "source": [
    "ivs_X\n",
    "ivs_Y\n",
    "# середины "
   ]
  },
  {
   "cell_type": "code",
   "execution_count": 9,
   "id": "9e75bd15-343d-4fbc-bf46-cd8b7a58bd6e",
   "metadata": {},
   "outputs": [
    {
     "data": {
      "text/html": [
       "<div>\n",
       "<style scoped>\n",
       "    .dataframe tbody tr th:only-of-type {\n",
       "        vertical-align: middle;\n",
       "    }\n",
       "\n",
       "    .dataframe tbody tr th {\n",
       "        vertical-align: top;\n",
       "    }\n",
       "\n",
       "    .dataframe thead th {\n",
       "        text-align: right;\n",
       "    }\n",
       "</style>\n",
       "<table border=\"1\" class=\"dataframe\">\n",
       "  <thead>\n",
       "    <tr style=\"text-align: right;\">\n",
       "      <th></th>\n",
       "      <th>x1</th>\n",
       "      <th>x2</th>\n",
       "      <th>x3</th>\n",
       "      <th>x4</th>\n",
       "      <th>x5</th>\n",
       "      <th>x6</th>\n",
       "      <th>x7</th>\n",
       "    </tr>\n",
       "  </thead>\n",
       "  <tbody>\n",
       "    <tr>\n",
       "      <th>0</th>\n",
       "      <td>338.5</td>\n",
       "      <td>375.5</td>\n",
       "      <td>0.0</td>\n",
       "      <td>0.0</td>\n",
       "      <td>0.0</td>\n",
       "      <td>0.0</td>\n",
       "      <td>0.0</td>\n",
       "    </tr>\n",
       "    <tr>\n",
       "      <th>1</th>\n",
       "      <td>1015.5</td>\n",
       "      <td>751.0</td>\n",
       "      <td>0.0</td>\n",
       "      <td>0.0</td>\n",
       "      <td>0.0</td>\n",
       "      <td>0.0</td>\n",
       "      <td>0.0</td>\n",
       "    </tr>\n",
       "    <tr>\n",
       "      <th>2</th>\n",
       "      <td>338.5</td>\n",
       "      <td>1877.5</td>\n",
       "      <td>3300.0</td>\n",
       "      <td>449.5</td>\n",
       "      <td>0.0</td>\n",
       "      <td>0.0</td>\n",
       "      <td>0.0</td>\n",
       "    </tr>\n",
       "    <tr>\n",
       "      <th>3</th>\n",
       "      <td>0.0</td>\n",
       "      <td>0.0</td>\n",
       "      <td>5775.0</td>\n",
       "      <td>4944.5</td>\n",
       "      <td>973.0</td>\n",
       "      <td>0.0</td>\n",
       "      <td>0.0</td>\n",
       "    </tr>\n",
       "    <tr>\n",
       "      <th>4</th>\n",
       "      <td>0.0</td>\n",
       "      <td>0.0</td>\n",
       "      <td>412.5</td>\n",
       "      <td>5394.0</td>\n",
       "      <td>5838.0</td>\n",
       "      <td>1047.0</td>\n",
       "      <td>0.0</td>\n",
       "    </tr>\n",
       "    <tr>\n",
       "      <th>5</th>\n",
       "      <td>0.0</td>\n",
       "      <td>0.0</td>\n",
       "      <td>0.0</td>\n",
       "      <td>449.5</td>\n",
       "      <td>4865.0</td>\n",
       "      <td>4188.0</td>\n",
       "      <td>1118.0</td>\n",
       "    </tr>\n",
       "    <tr>\n",
       "      <th>6</th>\n",
       "      <td>0.0</td>\n",
       "      <td>0.0</td>\n",
       "      <td>0.0</td>\n",
       "      <td>0.0</td>\n",
       "      <td>0.0</td>\n",
       "      <td>2617.5</td>\n",
       "      <td>1118.0</td>\n",
       "    </tr>\n",
       "  </tbody>\n",
       "</table>\n",
       "</div>"
      ],
      "text/plain": [
       "       x1      x2      x3      x4      x5      x6      x7\n",
       "0   338.5   375.5     0.0     0.0     0.0     0.0     0.0\n",
       "1  1015.5   751.0     0.0     0.0     0.0     0.0     0.0\n",
       "2   338.5  1877.5  3300.0   449.5     0.0     0.0     0.0\n",
       "3     0.0     0.0  5775.0  4944.5   973.0     0.0     0.0\n",
       "4     0.0     0.0   412.5  5394.0  5838.0  1047.0     0.0\n",
       "5     0.0     0.0     0.0   449.5  4865.0  4188.0  1118.0\n",
       "6     0.0     0.0     0.0     0.0     0.0  2617.5  1118.0"
      ]
     },
     "execution_count": 9,
     "metadata": {},
     "output_type": "execute_result"
    },
    {
     "data": {
      "text/html": [
       "<div>\n",
       "<style scoped>\n",
       "    .dataframe tbody tr th:only-of-type {\n",
       "        vertical-align: middle;\n",
       "    }\n",
       "\n",
       "    .dataframe tbody tr th {\n",
       "        vertical-align: top;\n",
       "    }\n",
       "\n",
       "    .dataframe thead th {\n",
       "        text-align: right;\n",
       "    }\n",
       "</style>\n",
       "<table border=\"1\" class=\"dataframe\">\n",
       "  <thead>\n",
       "    <tr style=\"text-align: right;\">\n",
       "      <th></th>\n",
       "      <th>0</th>\n",
       "      <th>1</th>\n",
       "      <th>2</th>\n",
       "      <th>3</th>\n",
       "      <th>4</th>\n",
       "      <th>5</th>\n",
       "      <th>6</th>\n",
       "    </tr>\n",
       "  </thead>\n",
       "  <tbody>\n",
       "    <tr>\n",
       "      <th>1</th>\n",
       "      <td>72.55</td>\n",
       "      <td>72.55</td>\n",
       "      <td>0.00</td>\n",
       "      <td>0.00</td>\n",
       "      <td>0.0</td>\n",
       "      <td>0.00</td>\n",
       "      <td>0.0</td>\n",
       "    </tr>\n",
       "    <tr>\n",
       "      <th>2</th>\n",
       "      <td>265.95</td>\n",
       "      <td>177.30</td>\n",
       "      <td>0.00</td>\n",
       "      <td>0.00</td>\n",
       "      <td>0.0</td>\n",
       "      <td>0.00</td>\n",
       "      <td>0.0</td>\n",
       "    </tr>\n",
       "    <tr>\n",
       "      <th>3</th>\n",
       "      <td>104.75</td>\n",
       "      <td>523.75</td>\n",
       "      <td>838.00</td>\n",
       "      <td>104.75</td>\n",
       "      <td>0.0</td>\n",
       "      <td>0.00</td>\n",
       "      <td>0.0</td>\n",
       "    </tr>\n",
       "    <tr>\n",
       "      <th>4</th>\n",
       "      <td>0.00</td>\n",
       "      <td>0.00</td>\n",
       "      <td>1691.90</td>\n",
       "      <td>1329.35</td>\n",
       "      <td>241.7</td>\n",
       "      <td>0.00</td>\n",
       "      <td>0.0</td>\n",
       "    </tr>\n",
       "    <tr>\n",
       "      <th>5</th>\n",
       "      <td>0.00</td>\n",
       "      <td>0.00</td>\n",
       "      <td>136.95</td>\n",
       "      <td>1643.40</td>\n",
       "      <td>1643.4</td>\n",
       "      <td>273.90</td>\n",
       "      <td>0.0</td>\n",
       "    </tr>\n",
       "    <tr>\n",
       "      <th>6</th>\n",
       "      <td>0.00</td>\n",
       "      <td>0.00</td>\n",
       "      <td>0.00</td>\n",
       "      <td>153.05</td>\n",
       "      <td>1530.5</td>\n",
       "      <td>1224.40</td>\n",
       "      <td>306.1</td>\n",
       "    </tr>\n",
       "    <tr>\n",
       "      <th>7</th>\n",
       "      <td>0.00</td>\n",
       "      <td>0.00</td>\n",
       "      <td>0.00</td>\n",
       "      <td>0.00</td>\n",
       "      <td>0.0</td>\n",
       "      <td>845.25</td>\n",
       "      <td>338.1</td>\n",
       "    </tr>\n",
       "  </tbody>\n",
       "</table>\n",
       "</div>"
      ],
      "text/plain": [
       "        0       1        2        3       4        5      6\n",
       "1   72.55   72.55     0.00     0.00     0.0     0.00    0.0\n",
       "2  265.95  177.30     0.00     0.00     0.0     0.00    0.0\n",
       "3  104.75  523.75   838.00   104.75     0.0     0.00    0.0\n",
       "4    0.00    0.00  1691.90  1329.35   241.7     0.00    0.0\n",
       "5    0.00    0.00   136.95  1643.40  1643.4   273.90    0.0\n",
       "6    0.00    0.00     0.00   153.05  1530.5  1224.40  306.1\n",
       "7    0.00    0.00     0.00     0.00     0.0   845.25  338.1"
      ]
     },
     "execution_count": 9,
     "metadata": {},
     "output_type": "execute_result"
    },
    {
     "data": {
      "text/html": [
       "<div>\n",
       "<style scoped>\n",
       "    .dataframe tbody tr th:only-of-type {\n",
       "        vertical-align: middle;\n",
       "    }\n",
       "\n",
       "    .dataframe tbody tr th {\n",
       "        vertical-align: top;\n",
       "    }\n",
       "\n",
       "    .dataframe thead th {\n",
       "        text-align: right;\n",
       "    }\n",
       "</style>\n",
       "<table border=\"1\" class=\"dataframe\">\n",
       "  <thead>\n",
       "    <tr style=\"text-align: right;\">\n",
       "      <th></th>\n",
       "      <th>yi</th>\n",
       "      <th>x1</th>\n",
       "      <th>x2</th>\n",
       "      <th>x3</th>\n",
       "      <th>x4</th>\n",
       "      <th>x5</th>\n",
       "      <th>x6</th>\n",
       "      <th>x7</th>\n",
       "      <th>Xi</th>\n",
       "      <th>yX</th>\n",
       "    </tr>\n",
       "  </thead>\n",
       "  <tbody>\n",
       "    <tr>\n",
       "      <th>0</th>\n",
       "      <td>NaN</td>\n",
       "      <td>338.500</td>\n",
       "      <td>375.5</td>\n",
       "      <td>412.500</td>\n",
       "      <td>449.500</td>\n",
       "      <td>486.5</td>\n",
       "      <td>523.500</td>\n",
       "      <td>559.0</td>\n",
       "      <td>NaN</td>\n",
       "      <td>NaN</td>\n",
       "    </tr>\n",
       "    <tr>\n",
       "      <th>1</th>\n",
       "      <td>72.55</td>\n",
       "      <td>1.000</td>\n",
       "      <td>1.0</td>\n",
       "      <td>0.000</td>\n",
       "      <td>0.000</td>\n",
       "      <td>0.0</td>\n",
       "      <td>0.000</td>\n",
       "      <td>0.0</td>\n",
       "      <td>714.0</td>\n",
       "      <td>51800.7</td>\n",
       "    </tr>\n",
       "    <tr>\n",
       "      <th>2</th>\n",
       "      <td>88.65</td>\n",
       "      <td>3.000</td>\n",
       "      <td>2.0</td>\n",
       "      <td>0.000</td>\n",
       "      <td>0.000</td>\n",
       "      <td>0.0</td>\n",
       "      <td>0.000</td>\n",
       "      <td>0.0</td>\n",
       "      <td>1766.5</td>\n",
       "      <td>156600.225</td>\n",
       "    </tr>\n",
       "    <tr>\n",
       "      <th>3</th>\n",
       "      <td>104.75</td>\n",
       "      <td>1.000</td>\n",
       "      <td>5.0</td>\n",
       "      <td>8.000</td>\n",
       "      <td>1.000</td>\n",
       "      <td>0.0</td>\n",
       "      <td>0.000</td>\n",
       "      <td>0.0</td>\n",
       "      <td>5965.5</td>\n",
       "      <td>624886.125</td>\n",
       "    </tr>\n",
       "    <tr>\n",
       "      <th>4</th>\n",
       "      <td>120.85</td>\n",
       "      <td>0.000</td>\n",
       "      <td>0.0</td>\n",
       "      <td>14.000</td>\n",
       "      <td>11.000</td>\n",
       "      <td>2.0</td>\n",
       "      <td>0.000</td>\n",
       "      <td>0.0</td>\n",
       "      <td>11692.5</td>\n",
       "      <td>1413038.625</td>\n",
       "    </tr>\n",
       "    <tr>\n",
       "      <th>5</th>\n",
       "      <td>136.95</td>\n",
       "      <td>0.000</td>\n",
       "      <td>0.0</td>\n",
       "      <td>1.000</td>\n",
       "      <td>12.000</td>\n",
       "      <td>12.0</td>\n",
       "      <td>2.000</td>\n",
       "      <td>0.0</td>\n",
       "      <td>12691.5</td>\n",
       "      <td>1738100.925</td>\n",
       "    </tr>\n",
       "    <tr>\n",
       "      <th>6</th>\n",
       "      <td>153.05</td>\n",
       "      <td>0.000</td>\n",
       "      <td>0.0</td>\n",
       "      <td>0.000</td>\n",
       "      <td>1.000</td>\n",
       "      <td>10.0</td>\n",
       "      <td>8.000</td>\n",
       "      <td>2.0</td>\n",
       "      <td>10620.5</td>\n",
       "      <td>1625467.525</td>\n",
       "    </tr>\n",
       "    <tr>\n",
       "      <th>7</th>\n",
       "      <td>169.05</td>\n",
       "      <td>0.000</td>\n",
       "      <td>0.0</td>\n",
       "      <td>0.000</td>\n",
       "      <td>0.000</td>\n",
       "      <td>0.0</td>\n",
       "      <td>5.000</td>\n",
       "      <td>2.0</td>\n",
       "      <td>3735.5</td>\n",
       "      <td>631486.275</td>\n",
       "    </tr>\n",
       "    <tr>\n",
       "      <th>8</th>\n",
       "      <td>NaN</td>\n",
       "      <td>443.250</td>\n",
       "      <td>773.6</td>\n",
       "      <td>2666.850</td>\n",
       "      <td>3230.550</td>\n",
       "      <td>3415.6</td>\n",
       "      <td>2343.550</td>\n",
       "      <td>644.2</td>\n",
       "      <td>NaN</td>\n",
       "      <td>6241380.4</td>\n",
       "    </tr>\n",
       "    <tr>\n",
       "      <th>9</th>\n",
       "      <td>NaN</td>\n",
       "      <td>150040.125</td>\n",
       "      <td>290486.8</td>\n",
       "      <td>1100075.625</td>\n",
       "      <td>1452132.225</td>\n",
       "      <td>1661689.4</td>\n",
       "      <td>1226848.425</td>\n",
       "      <td>360107.8</td>\n",
       "      <td>6241380.4</td>\n",
       "      <td>NaN</td>\n",
       "    </tr>\n",
       "  </tbody>\n",
       "</table>\n",
       "</div>"
      ],
      "text/plain": [
       "       yi          x1        x2           x3           x4         x5  \\\n",
       "0     NaN     338.500     375.5      412.500      449.500      486.5   \n",
       "1   72.55       1.000       1.0        0.000        0.000        0.0   \n",
       "2   88.65       3.000       2.0        0.000        0.000        0.0   \n",
       "3  104.75       1.000       5.0        8.000        1.000        0.0   \n",
       "4  120.85       0.000       0.0       14.000       11.000        2.0   \n",
       "5  136.95       0.000       0.0        1.000       12.000       12.0   \n",
       "6  153.05       0.000       0.0        0.000        1.000       10.0   \n",
       "7  169.05       0.000       0.0        0.000        0.000        0.0   \n",
       "8     NaN     443.250     773.6     2666.850     3230.550     3415.6   \n",
       "9     NaN  150040.125  290486.8  1100075.625  1452132.225  1661689.4   \n",
       "\n",
       "            x6        x7         Xi           yX  \n",
       "0      523.500     559.0        NaN          NaN  \n",
       "1        0.000       0.0      714.0      51800.7  \n",
       "2        0.000       0.0     1766.5   156600.225  \n",
       "3        0.000       0.0     5965.5   624886.125  \n",
       "4        0.000       0.0    11692.5  1413038.625  \n",
       "5        2.000       0.0    12691.5  1738100.925  \n",
       "6        8.000       2.0    10620.5  1625467.525  \n",
       "7        5.000       2.0     3735.5   631486.275  \n",
       "8     2343.550     644.2        NaN    6241380.4  \n",
       "9  1226848.425  360107.8  6241380.4          NaN  "
      ]
     },
     "execution_count": 9,
     "metadata": {},
     "output_type": "execute_result"
    }
   ],
   "source": [
    "df_kor = pd.DataFrame(columns=['yi','x1','x2','x3','x4','x5','x6','x7','Xi','yX'])\n",
    "df_kor['yi'] = [np.NaN,72.55,88.65,104.75,120.85,136.95,153.05,169.05,np.NaN,np.NaN]\n",
    "df_kor['x1'] = [338.5,1,3,1,0,0,0,0,np.NaN,np.NaN]\n",
    "df_kor['x2'] = [375.5,1,2,5,0,0,0,0,np.NaN,np.NaN]\n",
    "df_kor['x3'] = [412.5,0,0,8,14,1,0,0,np.NaN,np.NaN]\n",
    "df_kor['x4'] = [449.5,0,0,1,11,12,1,0,0,np.NaN]\n",
    "df_kor['x5'] = [486.5,0,0,0,2,12,10,0,np.NaN,np.NaN]\n",
    "df_kor['x6'] = [523.5,0,0,0,0,2,8,5,np.NaN,np.NaN]\n",
    "df_kor['x7'] = [559,0,0,0,0,0,2,2,np.NaN,np.NaN]\n",
    "# df_kor['yi']*df_kor['x1']\n",
    "df_curr1 = pd.DataFrame()\n",
    "df_curr2 = pd.DataFrame()\n",
    "for i in range(7):\n",
    "    df_curr1[i] = df_kor.iloc[0,1:8]*df_kor.iloc[i+1,1:8]\n",
    "    df_kor.loc[i+1,'Xi'] = np.dot(df_kor.iloc[0,1:8],df_kor.iloc[i+1,1:8])\n",
    "    df_curr2[i] = df_kor.iloc[1:8,0]*df_kor.iloc[1:8,i+1]\n",
    "    df_kor.iloc[8,i+1] = np.dot(df_kor.iloc[1:8,0],df_kor.iloc[1:8,i+1])\n",
    "\n",
    "df_kor['yX'] = df_kor['yi']*df_kor['Xi']\n",
    "df_kor.iloc[9,:] = df_kor.iloc[0,:]*df_kor.iloc[8,:]\n",
    "df_kor.loc[8,'yX'] = df_kor['yX'].sum()\n",
    "df_kor.loc[9,'Xi'] = df_kor.iloc[9,:].sum()\n",
    "\n",
    "df_curr1.transpose() # желт\n",
    "df_curr2 # зелен\n",
    "df_kor"
   ]
  },
  {
   "cell_type": "markdown",
   "id": "584f0c10-f9f7-4020-b4ff-6a1931ad73e9",
   "metadata": {},
   "source": [
    "### Коэффициент корреляции"
   ]
  },
  {
   "cell_type": "code",
   "execution_count": 14,
   "id": "0fa14911-d627-4957-9492-c471ef94ac1a",
   "metadata": {},
   "outputs": [
    {
     "data": {
      "text/plain": [
       "0.8765"
      ]
     },
     "execution_count": 14,
     "metadata": {},
     "output_type": "execute_result"
    }
   ],
   "source": [
    "r = ((df_kor.loc[8,'yX']-N*xv*yv)/(N*sx*sy)).round(4)\n",
    "r"
   ]
  },
  {
   "cell_type": "markdown",
   "id": "09f841a7-3c8d-4f95-ae22-643d518d1185",
   "metadata": {},
   "source": [
    "### Оценка кк"
   ]
  },
  {
   "cell_type": "code",
   "execution_count": 20,
   "id": "fd0aa0e7-3e63-4c0a-9191-0397f5dc8dbe",
   "metadata": {},
   "outputs": [
    {
     "data": {
      "text/plain": [
       "(0.8083, 1.3967)"
      ]
     },
     "execution_count": 20,
     "metadata": {},
     "output_type": "execute_result"
    }
   ],
   "source": [
    "((r-3*((1-r**2)/np.sqrt(N))).round(4), (r+3*((1+r**2)/np.sqrt(N))).round(4))"
   ]
  },
  {
   "cell_type": "markdown",
   "id": "8e93681b-1d24-4914-bf8f-48905173ac0f",
   "metadata": {},
   "source": [
    "## Доверительный интервал для кк"
   ]
  },
  {
   "cell_type": "code",
   "execution_count": 31,
   "id": "1578e899-aeea-4805-bb2f-1e0782a1b274",
   "metadata": {},
   "outputs": [
    {
     "data": {
      "text/plain": [
       "1.36"
      ]
     },
     "execution_count": 31,
     "metadata": {},
     "output_type": "execute_result"
    }
   ],
   "source": [
    "z = (0.5*np.log((1+r)/(1-r))).round(3)\n",
    "z"
   ]
  },
  {
   "cell_type": "code",
   "execution_count": 30,
   "id": "959bd641-b1db-4544-95e1-65347fd494a0",
   "metadata": {},
   "outputs": [
    {
     "data": {
      "text/plain": [
       "0.0995"
      ]
     },
     "execution_count": 30,
     "metadata": {},
     "output_type": "execute_result"
    }
   ],
   "source": [
    "sz = (1/np.sqrt(N-3)).round(4)\n",
    "sz"
   ]
  },
  {
   "cell_type": "code",
   "execution_count": 35,
   "id": "8a55a109-28a7-40f2-a8a9-23fd20db1b4b",
   "metadata": {},
   "outputs": [
    {
     "data": {
      "text/plain": [
       "(1.165, 1.555)"
      ]
     },
     "execution_count": 35,
     "metadata": {},
     "output_type": "execute_result"
    }
   ],
   "source": [
    "gamma = 0.95\n",
    "F = gamma/2\n",
    "l = 1.96\n",
    "z1 = (z-l*sz).round(4)\n",
    "z2 = (z+l*sz).round(4)\n",
    "(z1,z2)"
   ]
  },
  {
   "cell_type": "code",
   "execution_count": 38,
   "id": "99b9d4d5-929e-4c24-bf71-0711681bc8c7",
   "metadata": {},
   "outputs": [
    {
     "data": {
      "text/plain": [
       "(0.8227, 0.9146)"
      ]
     },
     "execution_count": 38,
     "metadata": {},
     "output_type": "execute_result"
    }
   ],
   "source": [
    "r1 = ((np.exp(2*z1)-1)/(np.exp(2*z1)+1)).round(4)\n",
    "r2 = ((np.exp(2*z2)-1)/(np.exp(2*z2)+1)).round(4)\n",
    "(r1, r2)"
   ]
  },
  {
   "cell_type": "markdown",
   "id": "c1047d14-6652-42bd-a875-7333833e8af4",
   "metadata": {},
   "source": [
    "## Гипотеза о значимости выборочного коэффициента корреляции"
   ]
  },
  {
   "cell_type": "code",
   "execution_count": 50,
   "id": "a40bce42-74c7-4fe6-bbbb-0415ec8aa3ea",
   "metadata": {},
   "outputs": [],
   "source": [
    "K = 7\n",
    "Tn = ((r*np.sqrt(N-2))/np.sqrt(1-r**2)).round(3)\n",
    "tk = 1.985"
   ]
  },
  {
   "cell_type": "code",
   "execution_count": 51,
   "id": "e0546806-1967-4b01-9cd4-d7844aa39000",
   "metadata": {},
   "outputs": [
    {
     "data": {
      "text/plain": [
       "'False'"
      ]
     },
     "execution_count": 51,
     "metadata": {},
     "output_type": "execute_result"
    }
   ],
   "source": [
    "'True' if np.abs(Tn) <= tk else 'False'"
   ]
  },
  {
   "cell_type": "code",
   "execution_count": null,
   "id": "0d256585-04c4-4c76-aac7-dd5bfb6d3496",
   "metadata": {},
   "outputs": [],
   "source": []
  }
 ],
 "metadata": {
  "kernelspec": {
   "display_name": "Python 3",
   "language": "python",
   "name": "python3"
  },
  "language_info": {
   "codemirror_mode": {
    "name": "ipython",
    "version": 3
   },
   "file_extension": ".py",
   "mimetype": "text/x-python",
   "name": "python",
   "nbconvert_exporter": "python",
   "pygments_lexer": "ipython3",
   "version": "3.8.8"
  }
 },
 "nbformat": 4,
 "nbformat_minor": 5
}
