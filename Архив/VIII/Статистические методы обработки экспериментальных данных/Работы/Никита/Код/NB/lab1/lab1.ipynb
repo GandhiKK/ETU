{
 "cells": [
  {
   "cell_type": "code",
   "execution_count": 1,
   "id": "caf847b8-02e7-4544-83ea-62511fa38e67",
   "metadata": {},
   "outputs": [],
   "source": [
    "import numpy as np\n",
    "import pandas as pd\n",
    "import matplotlib.pyplot as plt\n",
    "import seaborn as sns\n",
    "from IPython.core.interactiveshell import InteractiveShell \n",
    "InteractiveShell.ast_node_interactivity = \"all\""
   ]
  },
  {
   "cell_type": "markdown",
   "id": "91b7849e-7cf6-41bf-a13a-529168013060",
   "metadata": {
    "heading_collapsed": "true",
    "tags": []
   },
   "source": [
    "# Выборка"
   ]
  },
  {
   "cell_type": "code",
   "execution_count": 2,
   "id": "3cd7f776-291b-4061-9dbe-bfa7c947dac2",
   "metadata": {},
   "outputs": [
    {
     "data": {
      "text/plain": [
       "100"
      ]
     },
     "execution_count": 2,
     "metadata": {},
     "output_type": "execute_result"
    }
   ],
   "source": [
    "raw = pd.read_csv('c:/Users/gandh/dev/unv/smoed/NB/data/sample.csv')\n",
    "df = pd.read_csv('c:/Users/gandh/dev/unv/smoed/NB/data/main_data.csv')\n",
    "df.to_csv('data/data1.csv', index=False)\n",
    "n = len(df)\n",
    "n"
   ]
  },
  {
   "cell_type": "markdown",
   "id": "0a82b4d4-f4fb-44bc-bb59-1924a4beeae8",
   "metadata": {
    "tags": []
   },
   "source": [
    "# Переменная $nu$"
   ]
  },
  {
   "cell_type": "markdown",
   "id": "9006001e-8141-47c2-bdfd-85df32f8d976",
   "metadata": {
    "heading_collapsed": "true",
    "tags": []
   },
   "source": [
    "## Одна переменная"
   ]
  },
  {
   "cell_type": "code",
   "execution_count": 3,
   "id": "4f3c1ca8-2b8e-4606-abef-206a9920bbf9",
   "metadata": {},
   "outputs": [
    {
     "data": {
      "text/html": [
       "<div>\n",
       "<style scoped>\n",
       "    .dataframe tbody tr th:only-of-type {\n",
       "        vertical-align: middle;\n",
       "    }\n",
       "\n",
       "    .dataframe tbody tr th {\n",
       "        vertical-align: top;\n",
       "    }\n",
       "\n",
       "    .dataframe thead th {\n",
       "        text-align: right;\n",
       "    }\n",
       "</style>\n",
       "<table border=\"1\" class=\"dataframe\">\n",
       "  <thead>\n",
       "    <tr style=\"text-align: right;\">\n",
       "      <th></th>\n",
       "      <th>nu</th>\n",
       "    </tr>\n",
       "  </thead>\n",
       "  <tbody>\n",
       "    <tr>\n",
       "      <th>0</th>\n",
       "      <td>481</td>\n",
       "    </tr>\n",
       "    <tr>\n",
       "      <th>1</th>\n",
       "      <td>445</td>\n",
       "    </tr>\n",
       "    <tr>\n",
       "      <th>2</th>\n",
       "      <td>550</td>\n",
       "    </tr>\n",
       "    <tr>\n",
       "      <th>3</th>\n",
       "      <td>465</td>\n",
       "    </tr>\n",
       "    <tr>\n",
       "      <th>4</th>\n",
       "      <td>566</td>\n",
       "    </tr>\n",
       "  </tbody>\n",
       "</table>\n",
       "</div>"
      ],
      "text/plain": [
       "    nu\n",
       "0  481\n",
       "1  445\n",
       "2  550\n",
       "3  465\n",
       "4  566"
      ]
     },
     "execution_count": 3,
     "metadata": {},
     "output_type": "execute_result"
    }
   ],
   "source": [
    "df2 = df.drop('E', axis=1)\n",
    "df2.to_csv('data/data2.csv', index=False)\n",
    "df2.head()"
   ]
  },
  {
   "cell_type": "markdown",
   "id": "70afd09a-2878-444a-8b8b-c9cd9f8ba8ec",
   "metadata": {
    "heading_collapsed": "true",
    "tags": []
   },
   "source": [
    "## Ранжированный ряд"
   ]
  },
  {
   "cell_type": "code",
   "execution_count": 4,
   "id": "6c7e4aed-b8f5-43a4-8033-2be33ee1e646",
   "metadata": {},
   "outputs": [
    {
     "data": {
      "text/html": [
       "<div>\n",
       "<style scoped>\n",
       "    .dataframe tbody tr th:only-of-type {\n",
       "        vertical-align: middle;\n",
       "    }\n",
       "\n",
       "    .dataframe tbody tr th {\n",
       "        vertical-align: top;\n",
       "    }\n",
       "\n",
       "    .dataframe thead th {\n",
       "        text-align: right;\n",
       "    }\n",
       "</style>\n",
       "<table border=\"1\" class=\"dataframe\">\n",
       "  <thead>\n",
       "    <tr style=\"text-align: right;\">\n",
       "      <th></th>\n",
       "      <th>nu</th>\n",
       "    </tr>\n",
       "  </thead>\n",
       "  <tbody>\n",
       "    <tr>\n",
       "      <th>0</th>\n",
       "      <td>321</td>\n",
       "    </tr>\n",
       "    <tr>\n",
       "      <th>1</th>\n",
       "      <td>351</td>\n",
       "    </tr>\n",
       "    <tr>\n",
       "      <th>2</th>\n",
       "      <td>352</td>\n",
       "    </tr>\n",
       "    <tr>\n",
       "      <th>3</th>\n",
       "      <td>362</td>\n",
       "    </tr>\n",
       "    <tr>\n",
       "      <th>4</th>\n",
       "      <td>378</td>\n",
       "    </tr>\n",
       "  </tbody>\n",
       "</table>\n",
       "</div>"
      ],
      "text/plain": [
       "    nu\n",
       "0  321\n",
       "1  351\n",
       "2  352\n",
       "3  362\n",
       "4  378"
      ]
     },
     "execution_count": 4,
     "metadata": {},
     "output_type": "execute_result"
    }
   ],
   "source": [
    "df2 = df2.sort_values(by=['nu'], ignore_index = True)\n",
    "df2.to_csv('data/data3.csv', index=False)\n",
    "df2.head()"
   ]
  },
  {
   "cell_type": "code",
   "execution_count": 5,
   "id": "03599f8d-be88-485b-9d7d-5c472e7e81e9",
   "metadata": {},
   "outputs": [
    {
     "data": {
      "text/plain": [
       "nu    321\n",
       "dtype: int64"
      ]
     },
     "execution_count": 5,
     "metadata": {},
     "output_type": "execute_result"
    },
    {
     "data": {
      "text/plain": [
       "nu    623\n",
       "dtype: int64"
      ]
     },
     "execution_count": 5,
     "metadata": {},
     "output_type": "execute_result"
    }
   ],
   "source": [
    "df2.min()\n",
    "df2.max()"
   ]
  },
  {
   "cell_type": "code",
   "execution_count": 6,
   "id": "734f9dc2-531e-420b-8d34-fe5a47ad1c6d",
   "metadata": {},
   "outputs": [],
   "source": [
    "X = df2['nu']"
   ]
  },
  {
   "cell_type": "markdown",
   "id": "1b6163b7-023c-412d-b57d-e620a9165ded",
   "metadata": {
    "heading_collapsed": "true",
    "tags": []
   },
   "source": [
    "## Вариационный ряд"
   ]
  },
  {
   "cell_type": "code",
   "execution_count": 7,
   "id": "94bb04e5-e77f-45b8-8bb6-82e30395e4f8",
   "metadata": {},
   "outputs": [
    {
     "data": {
      "text/plain": [
       "0    465\n",
       "dtype: int64"
      ]
     },
     "execution_count": 7,
     "metadata": {},
     "output_type": "execute_result"
    }
   ],
   "source": [
    "X.mode()"
   ]
  },
  {
   "cell_type": "code",
   "execution_count": 8,
   "id": "714f3337-d9bf-4365-bd7b-cdf0eea0edc3",
   "metadata": {},
   "outputs": [],
   "source": [
    "table_af = X.value_counts().sort_index()\n",
    "table_rf = X.value_counts(normalize=True).sort_index()\n",
    "table_af = pd.DataFrame({'nu': table_af.index, 'af': table_af.values})\n",
    "table_rf = pd.DataFrame({'nu': table_rf.index, 'rf': table_rf.values})\n",
    "table_rf2 = table_rf.copy()\n",
    "table_rf2['rf'] = np.round(table_rf2['rf'], 4)\n",
    "table_af.to_csv('data/data4.csv', index=False)\n",
    "table_rf2.to_csv('data/data5.csv', index=False)"
   ]
  },
  {
   "cell_type": "markdown",
   "id": "a6099759-352c-4955-89a8-a0d6409a2caa",
   "metadata": {
    "heading_collapsed": "true",
    "tags": []
   },
   "source": [
    "## Интервальный ряд"
   ]
  },
  {
   "cell_type": "code",
   "execution_count": 9,
   "id": "9674f5c4-072b-491c-823e-bf30ad4b028d",
   "metadata": {},
   "outputs": [
    {
     "data": {
      "text/plain": [
       "7"
      ]
     },
     "execution_count": 9,
     "metadata": {},
     "output_type": "execute_result"
    }
   ],
   "source": [
    "k = 1+3.31*np.log10(n)\n",
    "k = int(np.floor(k))\n",
    "k"
   ]
  },
  {
   "cell_type": "code",
   "execution_count": 10,
   "id": "d1873a49-764e-4d38-96b7-6102428ced48",
   "metadata": {},
   "outputs": [
    {
     "data": {
      "text/plain": [
       "321"
      ]
     },
     "execution_count": 10,
     "metadata": {},
     "output_type": "execute_result"
    },
    {
     "data": {
      "text/plain": [
       "623"
      ]
     },
     "execution_count": 10,
     "metadata": {},
     "output_type": "execute_result"
    }
   ],
   "source": [
    "min(X)\n",
    "max(X)"
   ]
  },
  {
   "cell_type": "code",
   "execution_count": 11,
   "id": "f5cba525-9269-4e37-be8d-e4b7ae8ecccf",
   "metadata": {},
   "outputs": [
    {
     "data": {
      "text/plain": [
       "44"
      ]
     },
     "execution_count": 11,
     "metadata": {},
     "output_type": "execute_result"
    }
   ],
   "source": [
    "h = (max(X)-min(X))/k\n",
    "h = int(np.ceil(h))\n",
    "h"
   ]
  },
  {
   "cell_type": "code",
   "execution_count": 12,
   "id": "18f53fc0-67b1-495c-9bcb-1f75c0ebe04d",
   "metadata": {},
   "outputs": [],
   "source": [
    "data_interval = pd.concat([table_af, table_rf], ignore_index=True, axis=1).drop(2, axis=1)\n",
    "data_interval.columns = ['nu', 'af', 'rf']\n",
    "data_interval.to_csv('data/data6.csv', index=False)"
   ]
  },
  {
   "cell_type": "code",
   "execution_count": 13,
   "id": "449b3bb7-4584-4a26-91dc-997b13836c00",
   "metadata": {},
   "outputs": [
    {
     "data": {
      "text/plain": [
       "array([321, 365, 409, 453, 497, 541, 585, 623])"
      ]
     },
     "execution_count": 13,
     "metadata": {},
     "output_type": "execute_result"
    }
   ],
   "source": [
    "ivs = np.hstack((np.arange(min(X), max(X), h), np.array(max(X))))\n",
    "ivs"
   ]
  },
  {
   "cell_type": "code",
   "execution_count": 14,
   "id": "4b9b08d5-5974-4708-be87-ce5e156fd8bd",
   "metadata": {},
   "outputs": [
    {
     "data": {
      "text/plain": [
       "[321, 365)     4\n",
       "[365, 409)     8\n",
       "[409, 453)    22\n",
       "[453, 497)    22\n",
       "[497, 541)    14\n",
       "[541, 585)     5\n",
       "[585, 623)     2\n",
       "Name: inter, dtype: int64"
      ]
     },
     "execution_count": 14,
     "metadata": {},
     "output_type": "execute_result"
    }
   ],
   "source": [
    "data_interval['inter'] = pd.cut(data_interval['nu'], bins=ivs, \n",
    "                                right=False)\n",
    "data_interval.iloc[76, 3] = data_interval.iloc[75, 3]\n",
    "data_interval['inter'].value_counts().sort_index()"
   ]
  },
  {
   "cell_type": "code",
   "execution_count": 15,
   "id": "ab7965ac-cd7f-46a3-a05f-17ad17bff5e2",
   "metadata": {},
   "outputs": [
    {
     "data": {
      "text/html": [
       "<div>\n",
       "<style scoped>\n",
       "    .dataframe tbody tr th:only-of-type {\n",
       "        vertical-align: middle;\n",
       "    }\n",
       "\n",
       "    .dataframe tbody tr th {\n",
       "        vertical-align: top;\n",
       "    }\n",
       "\n",
       "    .dataframe thead th {\n",
       "        text-align: right;\n",
       "    }\n",
       "</style>\n",
       "<table border=\"1\" class=\"dataframe\">\n",
       "  <thead>\n",
       "    <tr style=\"text-align: right;\">\n",
       "      <th></th>\n",
       "      <th>inter</th>\n",
       "      <th>avg_inter</th>\n",
       "      <th>af</th>\n",
       "      <th>rf</th>\n",
       "    </tr>\n",
       "  </thead>\n",
       "  <tbody>\n",
       "    <tr>\n",
       "      <th>0</th>\n",
       "      <td>[321, 365)</td>\n",
       "      <td>343</td>\n",
       "      <td>4</td>\n",
       "      <td>0.04</td>\n",
       "    </tr>\n",
       "    <tr>\n",
       "      <th>1</th>\n",
       "      <td>[365, 409)</td>\n",
       "      <td>387</td>\n",
       "      <td>9</td>\n",
       "      <td>0.09</td>\n",
       "    </tr>\n",
       "    <tr>\n",
       "      <th>2</th>\n",
       "      <td>[409, 453)</td>\n",
       "      <td>431</td>\n",
       "      <td>27</td>\n",
       "      <td>0.27</td>\n",
       "    </tr>\n",
       "    <tr>\n",
       "      <th>3</th>\n",
       "      <td>[453, 497)</td>\n",
       "      <td>475</td>\n",
       "      <td>35</td>\n",
       "      <td>0.35</td>\n",
       "    </tr>\n",
       "    <tr>\n",
       "      <th>4</th>\n",
       "      <td>[497, 541)</td>\n",
       "      <td>519</td>\n",
       "      <td>17</td>\n",
       "      <td>0.17</td>\n",
       "    </tr>\n",
       "    <tr>\n",
       "      <th>5</th>\n",
       "      <td>[541, 585)</td>\n",
       "      <td>563</td>\n",
       "      <td>6</td>\n",
       "      <td>0.06</td>\n",
       "    </tr>\n",
       "    <tr>\n",
       "      <th>6</th>\n",
       "      <td>[585, 623)</td>\n",
       "      <td>604</td>\n",
       "      <td>2</td>\n",
       "      <td>0.02</td>\n",
       "    </tr>\n",
       "  </tbody>\n",
       "</table>\n",
       "</div>"
      ],
      "text/plain": [
       "        inter  avg_inter  af    rf\n",
       "0  [321, 365)        343   4  0.04\n",
       "1  [365, 409)        387   9  0.09\n",
       "2  [409, 453)        431  27  0.27\n",
       "3  [453, 497)        475  35  0.35\n",
       "4  [497, 541)        519  17  0.17\n",
       "5  [541, 585)        563   6  0.06\n",
       "6  [585, 623)        604   2  0.02"
      ]
     },
     "execution_count": 15,
     "metadata": {},
     "output_type": "execute_result"
    }
   ],
   "source": [
    "f_inter = data_interval.groupby(['inter'])[['af', 'rf']].apply(sum).reset_index()\n",
    "f_inter['avg_inter'] = np.array([np.mean([ivs[i], ivs[i+1]], axis=0) for i in range(k)])\n",
    "f_inter = f_inter[['inter', 'avg_inter', 'af', 'rf']]\n",
    "f_inter['avg_inter'] = (f_inter['avg_inter']).astype(int)\n",
    "f_inter['af'] = (f_inter['af']).astype(int)\n",
    "f_inter['rf'] = np.round(f_inter['rf'], 2)\n",
    "f_inter.to_csv('data/data7.csv', index=False)\n",
    "f_inter"
   ]
  },
  {
   "cell_type": "markdown",
   "id": "807d748a-84aa-45e6-8523-e29a9fc5cb8b",
   "metadata": {
    "tags": []
   },
   "source": [
    "## Графики абсолют"
   ]
  },
  {
   "cell_type": "markdown",
   "id": "edd424a4-3f18-4654-b516-38c539551de9",
   "metadata": {
    "tags": []
   },
   "source": [
    "### Полигон"
   ]
  },
  {
   "cell_type": "code",
   "execution_count": 16,
   "id": "e46f1036-d8c1-49a5-996a-3c6ff38f5971",
   "metadata": {},
   "outputs": [
    {
     "data": {
      "text/plain": [
       "<seaborn.axisgrid.FacetGrid at 0x18b93582fd0>"
      ]
     },
     "execution_count": 16,
     "metadata": {},
     "output_type": "execute_result"
    },
    {
     "data": {
      "text/plain": [
       "<seaborn.axisgrid.FacetGrid at 0x18b93582fd0>"
      ]
     },
     "execution_count": 16,
     "metadata": {},
     "output_type": "execute_result"
    },
    {
     "data": {
      "image/png": "[encoded data removed]",
      "text/plain": [
       "<Figure size 842.4x595.44 with 1 Axes>"
      ]
     },
     "metadata": {},
     "output_type": "display_data"
    }
   ],
   "source": [
    "sns.set_theme(palette='crest', font_scale=1.15)\n",
    "sns.set_style(\"ticks\", {\"axes.facecolor\": \".95\"})\n",
    "ax = sns.relplot(data=f_inter, x='avg_inter', y='af', kind='line', \n",
    "                 height=8.27, aspect=11.7/8.27, linewidth=3)\n",
    "ax.set_axis_labels('Середины интервалов', 'Частоты')\n",
    "ax.set(xticks=f_inter['avg_inter'])\n",
    "plt.savefig('pics/3.png')"
   ]
  },
  {
   "cell_type": "markdown",
   "id": "3987449a-81db-47ad-929c-3d8fe35f38f1",
   "metadata": {
    "heading_collapsed": "true",
    "tags": []
   },
   "source": [
    "### Гист"
   ]
  },
  {
   "cell_type": "markdown",
   "id": "75e91deb-10c5-4918-ab72-2e4a52f4528f",
   "metadata": {
    "heading_collapsed": "true",
    "tags": []
   },
   "source": [
    "#### Только ось ординат"
   ]
  },
  {
   "cell_type": "code",
   "execution_count": 17,
   "id": "3722cbcb-3bdb-4e77-bf61-166d8d76c0ad",
   "metadata": {},
   "outputs": [
    {
     "data": {
      "text/plain": [
       "<seaborn.axisgrid.FacetGrid at 0x18b938539d0>"
      ]
     },
     "execution_count": 17,
     "metadata": {},
     "output_type": "execute_result"
    },
    {
     "data": {
      "text/plain": [
       "<seaborn.axisgrid.FacetGrid at 0x18b938539d0>"
      ]
     },
     "execution_count": 17,
     "metadata": {},
     "output_type": "execute_result"
    },
    {
     "data": {
      "image/png": "[encoded data removed]",
      "text/plain": [
       "<Figure size 842.4x595.44 with 1 Axes>"
      ]
     },
     "metadata": {},
     "output_type": "display_data"
    }
   ],
   "source": [
    "ax = sns.displot(data=df, x='nu', bins=ivs, kind='hist', stat='density',\n",
    "                 height=8.27, aspect=11.7/8.27,)\n",
    "ax.set_axis_labels('Середины интервалов', 'Частоты')\n",
    "ax.set(xticks=f_inter['avg_inter'], yticks=f_inter['af']/h)\n",
    "plt.savefig('pics/4o.png')"
   ]
  },
  {
   "cell_type": "markdown",
   "id": "2b9bfded-63ad-47a2-9102-670e63bfb5f0",
   "metadata": {
    "heading_collapsed": "true",
    "tags": []
   },
   "source": [
    "#### График"
   ]
  },
  {
   "cell_type": "code",
   "execution_count": 18,
   "id": "a6e55a0b-1d5b-40fb-acd5-ab29ad8f777b",
   "metadata": {},
   "outputs": [
    {
     "data": {
      "text/plain": [
       "<seaborn.axisgrid.FacetGrid at 0x18b93b47d60>"
      ]
     },
     "execution_count": 18,
     "metadata": {},
     "output_type": "execute_result"
    },
    {
     "data": {
      "text/plain": [
       "<seaborn.axisgrid.FacetGrid at 0x18b93b47d60>"
      ]
     },
     "execution_count": 18,
     "metadata": {},
     "output_type": "execute_result"
    },
    {
     "data": {
      "image/png": "[encoded data removed]",
      "text/plain": [
       "<Figure size 842.4x595.44 with 1 Axes>"
      ]
     },
     "metadata": {},
     "output_type": "display_data"
    }
   ],
   "source": [
    "ax = sns.displot(data=df, x='nu', bins=ivs, kind='hist', \n",
    "                 height=8.27, aspect=11.7/8.27,)\n",
    "ax.set_axis_labels('Середины интервалов', 'Частоты')\n",
    "ax.set(xticks=f_inter['avg_inter'], yticks=f_inter['af'])\n",
    "plt.savefig('pics/4.png')"
   ]
  },
  {
   "cell_type": "markdown",
   "id": "12527614-b6b2-4c4f-848d-50024511429b",
   "metadata": {
    "heading_collapsed": "true",
    "tags": []
   },
   "source": [
    "## Графики относительно"
   ]
  },
  {
   "cell_type": "markdown",
   "id": "c64bd906-990d-46b0-b5e3-0f0a03216751",
   "metadata": {
    "heading_collapsed": "true",
    "tags": []
   },
   "source": [
    "### ecdf"
   ]
  },
  {
   "cell_type": "code",
   "execution_count": 19,
   "id": "30fa99a7-ebfd-4cb7-ae6f-24b816f8c5f4",
   "metadata": {},
   "outputs": [
    {
     "data": {
      "text/html": [
       "<div>\n",
       "<style scoped>\n",
       "    .dataframe tbody tr th:only-of-type {\n",
       "        vertical-align: middle;\n",
       "    }\n",
       "\n",
       "    .dataframe tbody tr th {\n",
       "        vertical-align: top;\n",
       "    }\n",
       "\n",
       "    .dataframe thead th {\n",
       "        text-align: right;\n",
       "    }\n",
       "</style>\n",
       "<table border=\"1\" class=\"dataframe\">\n",
       "  <thead>\n",
       "    <tr style=\"text-align: right;\">\n",
       "      <th></th>\n",
       "      <th>inter</th>\n",
       "      <th>avg_inter</th>\n",
       "      <th>af</th>\n",
       "      <th>rf</th>\n",
       "      <th>sum_rf</th>\n",
       "    </tr>\n",
       "  </thead>\n",
       "  <tbody>\n",
       "    <tr>\n",
       "      <th>0</th>\n",
       "      <td>[321, 365)</td>\n",
       "      <td>343</td>\n",
       "      <td>4</td>\n",
       "      <td>0.04</td>\n",
       "      <td>0.04</td>\n",
       "    </tr>\n",
       "    <tr>\n",
       "      <th>1</th>\n",
       "      <td>[365, 409)</td>\n",
       "      <td>387</td>\n",
       "      <td>9</td>\n",
       "      <td>0.09</td>\n",
       "      <td>0.13</td>\n",
       "    </tr>\n",
       "    <tr>\n",
       "      <th>2</th>\n",
       "      <td>[409, 453)</td>\n",
       "      <td>431</td>\n",
       "      <td>27</td>\n",
       "      <td>0.27</td>\n",
       "      <td>0.40</td>\n",
       "    </tr>\n",
       "    <tr>\n",
       "      <th>3</th>\n",
       "      <td>[453, 497)</td>\n",
       "      <td>475</td>\n",
       "      <td>35</td>\n",
       "      <td>0.35</td>\n",
       "      <td>0.75</td>\n",
       "    </tr>\n",
       "    <tr>\n",
       "      <th>4</th>\n",
       "      <td>[497, 541)</td>\n",
       "      <td>519</td>\n",
       "      <td>17</td>\n",
       "      <td>0.17</td>\n",
       "      <td>0.92</td>\n",
       "    </tr>\n",
       "    <tr>\n",
       "      <th>5</th>\n",
       "      <td>[541, 585)</td>\n",
       "      <td>563</td>\n",
       "      <td>6</td>\n",
       "      <td>0.06</td>\n",
       "      <td>0.98</td>\n",
       "    </tr>\n",
       "    <tr>\n",
       "      <th>6</th>\n",
       "      <td>[585, 623)</td>\n",
       "      <td>604</td>\n",
       "      <td>2</td>\n",
       "      <td>0.02</td>\n",
       "      <td>1.00</td>\n",
       "    </tr>\n",
       "  </tbody>\n",
       "</table>\n",
       "</div>"
      ],
      "text/plain": [
       "        inter  avg_inter  af    rf  sum_rf\n",
       "0  [321, 365)        343   4  0.04    0.04\n",
       "1  [365, 409)        387   9  0.09    0.13\n",
       "2  [409, 453)        431  27  0.27    0.40\n",
       "3  [453, 497)        475  35  0.35    0.75\n",
       "4  [497, 541)        519  17  0.17    0.92\n",
       "5  [541, 585)        563   6  0.06    0.98\n",
       "6  [585, 623)        604   2  0.02    1.00"
      ]
     },
     "execution_count": 19,
     "metadata": {},
     "output_type": "execute_result"
    }
   ],
   "source": [
    "f_inter['sum_rf'] = f_inter['rf'].cumsum()\n",
    "f_inter"
   ]
  },
  {
   "cell_type": "code",
   "execution_count": 20,
   "id": "eb7de46b-c59d-462c-992b-3d9788f05a8d",
   "metadata": {},
   "outputs": [
    {
     "data": {
      "text/plain": [
       "<matplotlib.collections.LineCollection at 0x18b93be2670>"
      ]
     },
     "execution_count": 20,
     "metadata": {},
     "output_type": "execute_result"
    },
    {
     "data": {
      "text/plain": [
       "<matplotlib.collections.LineCollection at 0x18b93c231f0>"
      ]
     },
     "execution_count": 20,
     "metadata": {},
     "output_type": "execute_result"
    },
    {
     "data": {
      "text/plain": [
       "<matplotlib.collections.LineCollection at 0x18b93b5f1c0>"
      ]
     },
     "execution_count": 20,
     "metadata": {},
     "output_type": "execute_result"
    },
    {
     "data": {
      "text/plain": [
       "<matplotlib.collections.LineCollection at 0x18b93c11d90>"
      ]
     },
     "execution_count": 20,
     "metadata": {},
     "output_type": "execute_result"
    },
    {
     "data": {
      "text/plain": [
       "<matplotlib.collections.LineCollection at 0x18b93c3e2e0>"
      ]
     },
     "execution_count": 20,
     "metadata": {},
     "output_type": "execute_result"
    },
    {
     "data": {
      "text/plain": [
       "<matplotlib.collections.LineCollection at 0x18b93c3efd0>"
      ]
     },
     "execution_count": 20,
     "metadata": {},
     "output_type": "execute_result"
    },
    {
     "data": {
      "text/plain": [
       "<matplotlib.collections.LineCollection at 0x18b93be2d00>"
      ]
     },
     "execution_count": 20,
     "metadata": {},
     "output_type": "execute_result"
    },
    {
     "data": {
      "text/plain": [
       "<matplotlib.collections.LineCollection at 0x18b93c58610>"
      ]
     },
     "execution_count": 20,
     "metadata": {},
     "output_type": "execute_result"
    },
    {
     "data": {
      "text/plain": [
       "<matplotlib.collections.LineCollection at 0x18b93c588e0>"
      ]
     },
     "execution_count": 20,
     "metadata": {},
     "output_type": "execute_result"
    },
    {
     "data": {
      "text/plain": [
       "<matplotlib.collections.LineCollection at 0x18b93c237f0>"
      ]
     },
     "execution_count": 20,
     "metadata": {},
     "output_type": "execute_result"
    },
    {
     "data": {
      "text/plain": [
       "<matplotlib.collections.LineCollection at 0x18b93c58ee0>"
      ]
     },
     "execution_count": 20,
     "metadata": {},
     "output_type": "execute_result"
    },
    {
     "data": {
      "text/plain": [
       "<matplotlib.collections.LineCollection at 0x18b93c58f40>"
      ]
     },
     "execution_count": 20,
     "metadata": {},
     "output_type": "execute_result"
    },
    {
     "data": {
      "text/plain": [
       "<matplotlib.collections.LineCollection at 0x18b93c645e0>"
      ]
     },
     "execution_count": 20,
     "metadata": {},
     "output_type": "execute_result"
    },
    {
     "data": {
      "text/plain": [
       "<matplotlib.collections.LineCollection at 0x18b93c64790>"
      ]
     },
     "execution_count": 20,
     "metadata": {},
     "output_type": "execute_result"
    },
    {
     "data": {
      "text/plain": [
       "<matplotlib.collections.LineCollection at 0x18b93c588b0>"
      ]
     },
     "execution_count": 20,
     "metadata": {},
     "output_type": "execute_result"
    },
    {
     "data": {
      "text/plain": [
       "Text(387, 0.04, '')"
      ]
     },
     "execution_count": 20,
     "metadata": {},
     "output_type": "execute_result"
    },
    {
     "data": {
      "text/plain": [
       "Text(431, 0.13, '')"
      ]
     },
     "execution_count": 20,
     "metadata": {},
     "output_type": "execute_result"
    },
    {
     "data": {
      "text/plain": [
       "Text(475, 0.4, '')"
      ]
     },
     "execution_count": 20,
     "metadata": {},
     "output_type": "execute_result"
    },
    {
     "data": {
      "text/plain": [
       "Text(519, 0.75, '')"
      ]
     },
     "execution_count": 20,
     "metadata": {},
     "output_type": "execute_result"
    },
    {
     "data": {
      "text/plain": [
       "Text(563, 0.92, '')"
      ]
     },
     "execution_count": 20,
     "metadata": {},
     "output_type": "execute_result"
    },
    {
     "data": {
      "text/plain": [
       "Text(604, 0.98, '')"
      ]
     },
     "execution_count": 20,
     "metadata": {},
     "output_type": "execute_result"
    },
    {
     "data": {
      "text/plain": [
       "Text(648, 1, '')"
      ]
     },
     "execution_count": 20,
     "metadata": {},
     "output_type": "execute_result"
    },
    {
     "data": {
      "text/plain": [
       "<seaborn.axisgrid.FacetGrid at 0x18b93be29a0>"
      ]
     },
     "execution_count": 20,
     "metadata": {},
     "output_type": "execute_result"
    },
    {
     "data": {
      "text/plain": [
       "<seaborn.axisgrid.FacetGrid at 0x18b93be29a0>"
      ]
     },
     "execution_count": 20,
     "metadata": {},
     "output_type": "execute_result"
    },
    {
     "data": {
      "image/png": "[encoded data removed]",
      "text/plain": [
       "<Figure size 842.4x595.44 with 1 Axes>"
      ]
     },
     "metadata": {},
     "output_type": "display_data"
    }
   ],
   "source": [
    "ax = sns.relplot(data=f_inter, x='avg_inter', y='sum_rf', s=80,\n",
    "                 kind='scatter', height=8.27, aspect=11.7/8.27, color='w')\n",
    "for i in range(6):\n",
    "    plt.hlines(f_inter['sum_rf'][i], f_inter['avg_inter'][i], f_inter['avg_inter'][i+1], color='r')\n",
    "plt.hlines(1, 604, 604+h, color='k')\n",
    "plt.hlines(0, 343-h, 343, color='k')\n",
    "for i in range(6):\n",
    "    plt.vlines(f_inter['avg_inter'][i+1], f_inter['sum_rf'][i], f_inter['sum_rf'][i+1], color='r', linestyle='-')\n",
    "plt.vlines(343, 0, 0.04, color='r', linestyle='-')\n",
    "for i in range(6):\n",
    "    plt.annotate('', xy=(f_inter['avg_inter'][i]-1, f_inter['sum_rf'][i]), \n",
    "                 xytext=(f_inter['avg_inter'][i+1], f_inter['sum_rf'][i]), \n",
    "                 arrowprops=dict(arrowstyle=\"->\", color='k', linewidth=3))\n",
    "plt.annotate('', xy=(604, 1), \n",
    "                 xytext=(604+h, 1), \n",
    "                 arrowprops=dict(arrowstyle=\"->\", color='k', linewidth=3))\n",
    "ax.set_axis_labels('Середины интервалов', '')\n",
    "ax.set(xticks=f_inter['avg_inter'], yticks=[0]+f_inter['sum_rf'].to_list())\n",
    "plt.savefig('pics/5.png')"
   ]
  },
  {
   "cell_type": "markdown",
   "id": "9ac30041-a481-4b89-8b09-2e2c6845fb4f",
   "metadata": {
    "heading_collapsed": "true",
    "tags": []
   },
   "source": [
    "### Полигон"
   ]
  },
  {
   "cell_type": "code",
   "execution_count": 21,
   "id": "a0e7c235-cf7e-4796-be79-f3d9935a4cd0",
   "metadata": {},
   "outputs": [
    {
     "data": {
      "text/plain": [
       "<seaborn.axisgrid.FacetGrid at 0x18b93be2370>"
      ]
     },
     "execution_count": 21,
     "metadata": {},
     "output_type": "execute_result"
    },
    {
     "data": {
      "text/plain": [
       "<seaborn.axisgrid.FacetGrid at 0x18b93be2370>"
      ]
     },
     "execution_count": 21,
     "metadata": {},
     "output_type": "execute_result"
    },
    {
     "data": {
      "image/png": "[encoded data removed]",
      "text/plain": [
       "<Figure size 842.4x595.44 with 1 Axes>"
      ]
     },
     "metadata": {},
     "output_type": "display_data"
    }
   ],
   "source": [
    "ax = sns.relplot(data=f_inter, x='avg_inter', y='rf', kind='line', \n",
    "                 height=8.27, aspect=11.7/8.27, linewidth=3)\n",
    "ax.set_axis_labels('Середины интервалов', 'Частоты')\n",
    "ax.set(xticks=f_inter['avg_inter'])\n",
    "plt.savefig('pics/6.png')"
   ]
  },
  {
   "cell_type": "markdown",
   "id": "10e0236b-278c-49ff-afb0-ba4be214e4e2",
   "metadata": {
    "heading_collapsed": "true",
    "tags": []
   },
   "source": [
    "### Гист"
   ]
  },
  {
   "cell_type": "code",
   "execution_count": 22,
   "id": "e61c76f0-1432-42e4-82c3-e425a366d451",
   "metadata": {},
   "outputs": [
    {
     "data": {
      "text/plain": [
       "<seaborn.axisgrid.FacetGrid at 0x18b954a1f70>"
      ]
     },
     "execution_count": 22,
     "metadata": {},
     "output_type": "execute_result"
    },
    {
     "data": {
      "text/plain": [
       "<seaborn.axisgrid.FacetGrid at 0x18b954a1f70>"
      ]
     },
     "execution_count": 22,
     "metadata": {},
     "output_type": "execute_result"
    },
    {
     "data": {
      "image/png": "[encoded data removed]",
      "text/plain": [
       "<Figure size 842.4x595.44 with 1 Axes>"
      ]
     },
     "metadata": {},
     "output_type": "display_data"
    }
   ],
   "source": [
    "ax = sns.displot(data=df, x='nu', bins=ivs, kind='hist',\n",
    "                 height=8.27, aspect=11.7/8.27, stat='density')\n",
    "ax.set_axis_labels('Середины интервалов', 'Частоты')\n",
    "ax.set(xticks=f_inter['avg_inter'], yticks=round((f_inter['rf']/h), 4))\n",
    "plt.savefig('pics/7.png')"
   ]
  },
  {
   "cell_type": "markdown",
   "id": "d39f4792-8480-4f17-abb1-3cb439e82aa7",
   "metadata": {
    "heading_collapsed": "true",
    "tags": []
   },
   "source": [
    "# Переменная $E$"
   ]
  },
  {
   "cell_type": "markdown",
   "id": "43da983f-4b23-41e1-a50f-0c4e70b5b0fd",
   "metadata": {
    "heading_collapsed": "true",
    "tags": []
   },
   "source": [
    "## Одна переменная"
   ]
  },
  {
   "cell_type": "code",
   "execution_count": 23,
   "id": "c5e247b2-092f-439d-ad04-9aded9a31c92",
   "metadata": {},
   "outputs": [
    {
     "data": {
      "text/html": [
       "<div>\n",
       "<style scoped>\n",
       "    .dataframe tbody tr th:only-of-type {\n",
       "        vertical-align: middle;\n",
       "    }\n",
       "\n",
       "    .dataframe tbody tr th {\n",
       "        vertical-align: top;\n",
       "    }\n",
       "\n",
       "    .dataframe thead th {\n",
       "        text-align: right;\n",
       "    }\n",
       "</style>\n",
       "<table border=\"1\" class=\"dataframe\">\n",
       "  <thead>\n",
       "    <tr style=\"text-align: right;\">\n",
       "      <th></th>\n",
       "      <th>E</th>\n",
       "    </tr>\n",
       "  </thead>\n",
       "  <tbody>\n",
       "    <tr>\n",
       "      <th>0</th>\n",
       "      <td>135.2</td>\n",
       "    </tr>\n",
       "    <tr>\n",
       "      <th>1</th>\n",
       "      <td>124.7</td>\n",
       "    </tr>\n",
       "    <tr>\n",
       "      <th>2</th>\n",
       "      <td>147.9</td>\n",
       "    </tr>\n",
       "    <tr>\n",
       "      <th>3</th>\n",
       "      <td>140.9</td>\n",
       "    </tr>\n",
       "    <tr>\n",
       "      <th>4</th>\n",
       "      <td>168.5</td>\n",
       "    </tr>\n",
       "  </tbody>\n",
       "</table>\n",
       "</div>"
      ],
      "text/plain": [
       "       E\n",
       "0  135.2\n",
       "1  124.7\n",
       "2  147.9\n",
       "3  140.9\n",
       "4  168.5"
      ]
     },
     "execution_count": 23,
     "metadata": {},
     "output_type": "execute_result"
    }
   ],
   "source": [
    "df2 = df.drop('nu', axis=1)\n",
    "df2.to_csv('data2/data2.csv', index=False)\n",
    "df2.head()"
   ]
  },
  {
   "cell_type": "markdown",
   "id": "c0160bbf-997a-48be-b944-1c18945aaa20",
   "metadata": {
    "heading_collapsed": "true",
    "tags": []
   },
   "source": [
    "## Ранжированный ряд"
   ]
  },
  {
   "cell_type": "code",
   "execution_count": 24,
   "id": "54735609-ca31-449e-84e4-2d0a9b40da97",
   "metadata": {},
   "outputs": [
    {
     "data": {
      "text/html": [
       "<div>\n",
       "<style scoped>\n",
       "    .dataframe tbody tr th:only-of-type {\n",
       "        vertical-align: middle;\n",
       "    }\n",
       "\n",
       "    .dataframe tbody tr th {\n",
       "        vertical-align: top;\n",
       "    }\n",
       "\n",
       "    .dataframe thead th {\n",
       "        text-align: right;\n",
       "    }\n",
       "</style>\n",
       "<table border=\"1\" class=\"dataframe\">\n",
       "  <thead>\n",
       "    <tr style=\"text-align: right;\">\n",
       "      <th></th>\n",
       "      <th>E</th>\n",
       "    </tr>\n",
       "  </thead>\n",
       "  <tbody>\n",
       "    <tr>\n",
       "      <th>0</th>\n",
       "      <td>84.9</td>\n",
       "    </tr>\n",
       "    <tr>\n",
       "      <th>1</th>\n",
       "      <td>86.1</td>\n",
       "    </tr>\n",
       "    <tr>\n",
       "      <th>2</th>\n",
       "      <td>89.0</td>\n",
       "    </tr>\n",
       "    <tr>\n",
       "      <th>3</th>\n",
       "      <td>91.4</td>\n",
       "    </tr>\n",
       "    <tr>\n",
       "      <th>4</th>\n",
       "      <td>94.6</td>\n",
       "    </tr>\n",
       "  </tbody>\n",
       "</table>\n",
       "</div>"
      ],
      "text/plain": [
       "      E\n",
       "0  84.9\n",
       "1  86.1\n",
       "2  89.0\n",
       "3  91.4\n",
       "4  94.6"
      ]
     },
     "execution_count": 24,
     "metadata": {},
     "output_type": "execute_result"
    }
   ],
   "source": [
    "df2 = df2.sort_values(by=['E'], ignore_index = True)\n",
    "df2.to_csv('data2/data3.csv', index=False)\n",
    "df2.head()"
   ]
  },
  {
   "cell_type": "code",
   "execution_count": 25,
   "id": "4f0c5380-aed2-4dd6-9c14-dd07ee2e6035",
   "metadata": {},
   "outputs": [
    {
     "data": {
      "text/plain": [
       "E    84.9\n",
       "dtype: float64"
      ]
     },
     "execution_count": 25,
     "metadata": {},
     "output_type": "execute_result"
    },
    {
     "data": {
      "text/plain": [
       "E    195.7\n",
       "dtype: float64"
      ]
     },
     "execution_count": 25,
     "metadata": {},
     "output_type": "execute_result"
    }
   ],
   "source": [
    "df2.min()\n",
    "df2.max()"
   ]
  },
  {
   "cell_type": "code",
   "execution_count": 26,
   "id": "6243c28a-5d8e-401a-9eb5-08cdb3537c48",
   "metadata": {},
   "outputs": [],
   "source": [
    "X = df2['E']"
   ]
  },
  {
   "cell_type": "markdown",
   "id": "41a0cc0c-bf98-4200-aec9-4f437807b0a4",
   "metadata": {
    "heading_collapsed": "true",
    "tags": []
   },
   "source": [
    "## Вариационный ряд"
   ]
  },
  {
   "cell_type": "code",
   "execution_count": 27,
   "id": "5d1c48a3-1623-4fba-941f-2eb0451dd250",
   "metadata": {},
   "outputs": [
    {
     "data": {
      "text/plain": [
       "0    117.7\n",
       "1    122.3\n",
       "2    130.3\n",
       "3    132.5\n",
       "4    140.7\n",
       "5    141.2\n",
       "dtype: float64"
      ]
     },
     "execution_count": 27,
     "metadata": {},
     "output_type": "execute_result"
    }
   ],
   "source": [
    "X.mode()"
   ]
  },
  {
   "cell_type": "code",
   "execution_count": 28,
   "id": "0b31f58b-fd48-4e9f-8cc4-2fce6de03f84",
   "metadata": {},
   "outputs": [],
   "source": [
    "table_af0 = X.value_counts().sort_index()\n",
    "table_rf0 = X.value_counts(normalize=True).sort_index()\n",
    "table_af = pd.DataFrame({'E': table_af0.index, 'af': table_af0.values})\n",
    "table_rf = pd.DataFrame({'E': table_rf0.index, 'rf': table_rf0.values})\n",
    "table_rf2 = table_rf.copy()\n",
    "table_rf2['rf'] = np.round(table_rf2['rf'], 4)\n",
    "table_af.to_csv('data2/data4.csv', index=False)\n",
    "table_rf2.to_csv('data2/data5.csv', index=False)"
   ]
  },
  {
   "cell_type": "markdown",
   "id": "4d905865-2a7f-4bc0-af17-55384aa8c890",
   "metadata": {
    "heading_collapsed": "true",
    "tags": []
   },
   "source": [
    "## Интервальный ряд"
   ]
  },
  {
   "cell_type": "code",
   "execution_count": 29,
   "id": "3d188c83-a0f7-4a8e-8b62-3e049c29e445",
   "metadata": {},
   "outputs": [
    {
     "data": {
      "text/plain": [
       "7"
      ]
     },
     "execution_count": 29,
     "metadata": {},
     "output_type": "execute_result"
    }
   ],
   "source": [
    "k = 1+3.31*np.log10(n)\n",
    "k = int(np.floor(k))\n",
    "k"
   ]
  },
  {
   "cell_type": "code",
   "execution_count": 30,
   "id": "d7c4e830-0189-491c-8dd4-d82331e45720",
   "metadata": {},
   "outputs": [
    {
     "data": {
      "text/plain": [
       "84.9"
      ]
     },
     "execution_count": 30,
     "metadata": {},
     "output_type": "execute_result"
    },
    {
     "data": {
      "text/plain": [
       "195.7"
      ]
     },
     "execution_count": 30,
     "metadata": {},
     "output_type": "execute_result"
    }
   ],
   "source": [
    "min(X)\n",
    "max(X)"
   ]
  },
  {
   "cell_type": "code",
   "execution_count": 31,
   "id": "7d220ca3-26d7-4920-b00c-4ef11b4dc964",
   "metadata": {},
   "outputs": [
    {
     "data": {
      "text/plain": [
       "15.828571428571426"
      ]
     },
     "execution_count": 31,
     "metadata": {},
     "output_type": "execute_result"
    },
    {
     "data": {
      "text/plain": [
       "16"
      ]
     },
     "execution_count": 31,
     "metadata": {},
     "output_type": "execute_result"
    },
    {
     "data": {
      "text/plain": [
       "16"
      ]
     },
     "execution_count": 31,
     "metadata": {},
     "output_type": "execute_result"
    }
   ],
   "source": [
    "h = (max(X)-min(X))/k\n",
    "h\n",
    "h = int(np.ceil(h))\n",
    "h \n",
    "h"
   ]
  },
  {
   "cell_type": "code",
   "execution_count": 32,
   "id": "2b45a752-0c7a-4fc7-9920-d7895af573ac",
   "metadata": {},
   "outputs": [],
   "source": [
    "data_interval = pd.concat([table_af, table_rf], ignore_index=True, axis=1).drop(2, axis=1)\n",
    "data_interval.columns = ['E', 'af', 'rf']\n",
    "data_interval.to_csv('data2/data6.csv', index=False)"
   ]
  },
  {
   "cell_type": "code",
   "execution_count": 33,
   "id": "3d91ac49-ae3d-4735-b132-d7615a8cfaf2",
   "metadata": {},
   "outputs": [
    {
     "data": {
      "text/plain": [
       "array([ 84.9, 100.9, 116.9, 132.9, 148.9, 164.9, 180.9, 195.7])"
      ]
     },
     "execution_count": 33,
     "metadata": {},
     "output_type": "execute_result"
    }
   ],
   "source": [
    "ivs = np.hstack((np.arange(min(X), max(X), h), np.array(max(X))))\n",
    "ivs"
   ]
  },
  {
   "cell_type": "code",
   "execution_count": 34,
   "id": "2d2817b2-846d-4979-99a2-b5bf748a5411",
   "metadata": {},
   "outputs": [
    {
     "data": {
      "text/plain": [
       "[84.9, 100.9)      6\n",
       "[100.9, 116.9)    14\n",
       "[116.9, 132.9)    28\n",
       "[132.9, 148.9)    31\n",
       "[148.9, 164.9)     9\n",
       "[164.9, 180.9)     4\n",
       "[180.9, 195.7)     2\n",
       "Name: inter, dtype: int64"
      ]
     },
     "execution_count": 34,
     "metadata": {},
     "output_type": "execute_result"
    }
   ],
   "source": [
    "data_interval['inter'] = pd.cut(data_interval['E'], bins=ivs, \n",
    "                                right=False)\n",
    "data_interval.iloc[93, 3] = data_interval.iloc[92, 3]\n",
    "data_interval['inter'].value_counts().sort_index()"
   ]
  },
  {
   "cell_type": "code",
   "execution_count": 35,
   "id": "56d863f8-5962-4691-b197-60b02942f769",
   "metadata": {},
   "outputs": [
    {
     "data": {
      "text/html": [
       "<div>\n",
       "<style scoped>\n",
       "    .dataframe tbody tr th:only-of-type {\n",
       "        vertical-align: middle;\n",
       "    }\n",
       "\n",
       "    .dataframe tbody tr th {\n",
       "        vertical-align: top;\n",
       "    }\n",
       "\n",
       "    .dataframe thead th {\n",
       "        text-align: right;\n",
       "    }\n",
       "</style>\n",
       "<table border=\"1\" class=\"dataframe\">\n",
       "  <thead>\n",
       "    <tr style=\"text-align: right;\">\n",
       "      <th></th>\n",
       "      <th>inter</th>\n",
       "      <th>avg_inter</th>\n",
       "      <th>af</th>\n",
       "      <th>rf</th>\n",
       "    </tr>\n",
       "  </thead>\n",
       "  <tbody>\n",
       "    <tr>\n",
       "      <th>0</th>\n",
       "      <td>[84.9, 100.9)</td>\n",
       "      <td>92.9</td>\n",
       "      <td>6</td>\n",
       "      <td>0.06</td>\n",
       "    </tr>\n",
       "    <tr>\n",
       "      <th>1</th>\n",
       "      <td>[100.9, 116.9)</td>\n",
       "      <td>108.9</td>\n",
       "      <td>14</td>\n",
       "      <td>0.14</td>\n",
       "    </tr>\n",
       "    <tr>\n",
       "      <th>2</th>\n",
       "      <td>[116.9, 132.9)</td>\n",
       "      <td>124.9</td>\n",
       "      <td>32</td>\n",
       "      <td>0.32</td>\n",
       "    </tr>\n",
       "    <tr>\n",
       "      <th>3</th>\n",
       "      <td>[132.9, 148.9)</td>\n",
       "      <td>140.9</td>\n",
       "      <td>33</td>\n",
       "      <td>0.33</td>\n",
       "    </tr>\n",
       "    <tr>\n",
       "      <th>4</th>\n",
       "      <td>[148.9, 164.9)</td>\n",
       "      <td>156.9</td>\n",
       "      <td>9</td>\n",
       "      <td>0.09</td>\n",
       "    </tr>\n",
       "    <tr>\n",
       "      <th>5</th>\n",
       "      <td>[164.9, 180.9)</td>\n",
       "      <td>172.9</td>\n",
       "      <td>4</td>\n",
       "      <td>0.04</td>\n",
       "    </tr>\n",
       "    <tr>\n",
       "      <th>6</th>\n",
       "      <td>[180.9, 195.7)</td>\n",
       "      <td>188.3</td>\n",
       "      <td>2</td>\n",
       "      <td>0.02</td>\n",
       "    </tr>\n",
       "  </tbody>\n",
       "</table>\n",
       "</div>"
      ],
      "text/plain": [
       "            inter  avg_inter  af    rf\n",
       "0   [84.9, 100.9)       92.9   6  0.06\n",
       "1  [100.9, 116.9)      108.9  14  0.14\n",
       "2  [116.9, 132.9)      124.9  32  0.32\n",
       "3  [132.9, 148.9)      140.9  33  0.33\n",
       "4  [148.9, 164.9)      156.9   9  0.09\n",
       "5  [164.9, 180.9)      172.9   4  0.04\n",
       "6  [180.9, 195.7)      188.3   2  0.02"
      ]
     },
     "execution_count": 35,
     "metadata": {},
     "output_type": "execute_result"
    },
    {
     "data": {
      "text/plain": [
       "100"
      ]
     },
     "execution_count": 35,
     "metadata": {},
     "output_type": "execute_result"
    },
    {
     "data": {
      "text/plain": [
       "1.0"
      ]
     },
     "execution_count": 35,
     "metadata": {},
     "output_type": "execute_result"
    }
   ],
   "source": [
    "f_inter = data_interval.groupby(['inter'])[['af', 'rf']].apply(sum).reset_index()\n",
    "f_inter['avg_inter'] = np.array([np.mean([ivs[i], ivs[i+1]], axis=0) for i in range(k)])\n",
    "f_inter = f_inter[['inter', 'avg_inter', 'af', 'rf']]\n",
    "f_inter['af'] = (f_inter['af']).astype(int)\n",
    "f_inter['rf'] = np.round(f_inter['rf'], 2)\n",
    "f_inter.to_csv('data2/data7.csv', index=False)\n",
    "f_inter\n",
    "f_inter['af'].sum()\n",
    "f_inter['rf'].sum()"
   ]
  },
  {
   "cell_type": "markdown",
   "id": "b0b0bdd8-a887-4443-ae38-04dc0e313c22",
   "metadata": {
    "heading_collapsed": "true",
    "tags": []
   },
   "source": [
    "## Графики абсолют"
   ]
  },
  {
   "cell_type": "markdown",
   "id": "5ffe74c3-b49c-4d26-9c70-bdb4e559da14",
   "metadata": {
    "heading_collapsed": "true",
    "tags": []
   },
   "source": [
    "### Полигон"
   ]
  },
  {
   "cell_type": "code",
   "execution_count": 36,
   "id": "98cfca6d-1e42-4195-9bca-59ed19240603",
   "metadata": {},
   "outputs": [
    {
     "data": {
      "text/plain": [
       "<seaborn.axisgrid.FacetGrid at 0x18b93be2a30>"
      ]
     },
     "execution_count": 36,
     "metadata": {},
     "output_type": "execute_result"
    },
    {
     "data": {
      "text/plain": [
       "<seaborn.axisgrid.FacetGrid at 0x18b93be2a30>"
      ]
     },
     "execution_count": 36,
     "metadata": {},
     "output_type": "execute_result"
    },
    {
     "data": {
      "image/png": "[encoded data removed]",
      "text/plain": [
       "<Figure size 842.4x595.44 with 1 Axes>"
      ]
     },
     "metadata": {},
     "output_type": "display_data"
    }
   ],
   "source": [
    "sns.set_theme(palette='crest', font_scale=1.15)\n",
    "sns.set_style('ticks', {\"axes.facecolor\": \".94\"})\n",
    "ax = sns.relplot(data=f_inter, x='avg_inter', y='af', kind='line', \n",
    "                 height=8.27, aspect=11.7/8.27, linewidth=3)\n",
    "ax.set_axis_labels('Середины интервалов', 'Частоты')\n",
    "ax.set(xticks=f_inter['avg_inter'])\n",
    "plt.savefig('pics2/3.png')"
   ]
  },
  {
   "cell_type": "markdown",
   "id": "9936cc07-cb19-475b-84a4-3027f05d57ae",
   "metadata": {
    "heading_collapsed": "true",
    "tags": []
   },
   "source": [
    "### Гист"
   ]
  },
  {
   "cell_type": "markdown",
   "id": "809dca2b-9120-4f8b-bf26-20cff15812f7",
   "metadata": {
    "heading_collapsed": "true",
    "tags": []
   },
   "source": [
    "#### Только ось ординат"
   ]
  },
  {
   "cell_type": "code",
   "execution_count": 37,
   "id": "3d07c87f-a747-4900-a885-fde5c7d1dbce",
   "metadata": {},
   "outputs": [
    {
     "data": {
      "text/plain": [
       "99.984"
      ]
     },
     "execution_count": 37,
     "metadata": {},
     "output_type": "execute_result"
    }
   ],
   "source": [
    "h*(2.062+2+0.875+0.562+0.375+0.25+0.125)"
   ]
  },
  {
   "cell_type": "code",
   "execution_count": 38,
   "id": "b3a258cd-28e9-4c26-aebe-0153afbaaf17",
   "metadata": {},
   "outputs": [
    {
     "data": {
      "text/plain": [
       "<seaborn.axisgrid.FacetGrid at 0x18b95558850>"
      ]
     },
     "execution_count": 38,
     "metadata": {},
     "output_type": "execute_result"
    },
    {
     "data": {
      "text/plain": [
       "<seaborn.axisgrid.FacetGrid at 0x18b95558850>"
      ]
     },
     "execution_count": 38,
     "metadata": {},
     "output_type": "execute_result"
    },
    {
     "data": {
      "image/png": "[encoded data removed]",
      "text/plain": [
       "<Figure size 842.4x595.44 with 1 Axes>"
      ]
     },
     "metadata": {},
     "output_type": "display_data"
    }
   ],
   "source": [
    "ax = sns.displot(data=df, x='E', bins=ivs, kind='hist', stat='density',\n",
    "                 height=8.27, aspect=11.7/8.27)\n",
    "ax.set_axis_labels('Середины интервалов', 'Частоты')\n",
    "ax.set(xticks=f_inter['avg_inter'], yticks=f_inter['af']/h)\n",
    "plt.savefig('pics2/4o.png')"
   ]
  },
  {
   "cell_type": "markdown",
   "id": "cf3cac63-f693-4564-87d0-749bbe39ab52",
   "metadata": {
    "heading_collapsed": "true",
    "tags": []
   },
   "source": [
    "#### График"
   ]
  },
  {
   "cell_type": "code",
   "execution_count": 39,
   "id": "fc91c1cd-c33a-4c6b-b80a-829783d8802b",
   "metadata": {},
   "outputs": [
    {
     "data": {
      "text/plain": [
       "<seaborn.axisgrid.FacetGrid at 0x18b9556ad00>"
      ]
     },
     "execution_count": 39,
     "metadata": {},
     "output_type": "execute_result"
    },
    {
     "data": {
      "text/plain": [
       "<seaborn.axisgrid.FacetGrid at 0x18b9556ad00>"
      ]
     },
     "execution_count": 39,
     "metadata": {},
     "output_type": "execute_result"
    },
    {
     "data": {
      "image/png": "[encoded data removed]",
      "text/plain": [
       "<Figure size 842.4x595.44 with 1 Axes>"
      ]
     },
     "metadata": {},
     "output_type": "display_data"
    }
   ],
   "source": [
    "ax = sns.displot(data=df, x='E', bins=ivs, kind='hist', \n",
    "                 height=8.27, aspect=11.7/8.27)\n",
    "ax.set_axis_labels('Середины интервалов', 'Частоты')\n",
    "ax.set(xticks=f_inter['avg_inter'], yticks=f_inter['af'])\n",
    "plt.savefig('pics2/4.png')"
   ]
  },
  {
   "cell_type": "markdown",
   "id": "d494f710-3846-47b1-835c-a72e56be9525",
   "metadata": {
    "heading_collapsed": "true",
    "tags": []
   },
   "source": [
    "## Графики относительно"
   ]
  },
  {
   "cell_type": "markdown",
   "id": "47eac5ed-0678-4b72-8023-61ee49b21c3a",
   "metadata": {
    "heading_collapsed": "true",
    "tags": []
   },
   "source": [
    "### ecdf"
   ]
  },
  {
   "cell_type": "code",
   "execution_count": 40,
   "id": "f94585d0-8407-45f0-97e3-7aedf79583fb",
   "metadata": {},
   "outputs": [
    {
     "data": {
      "text/html": [
       "<div>\n",
       "<style scoped>\n",
       "    .dataframe tbody tr th:only-of-type {\n",
       "        vertical-align: middle;\n",
       "    }\n",
       "\n",
       "    .dataframe tbody tr th {\n",
       "        vertical-align: top;\n",
       "    }\n",
       "\n",
       "    .dataframe thead th {\n",
       "        text-align: right;\n",
       "    }\n",
       "</style>\n",
       "<table border=\"1\" class=\"dataframe\">\n",
       "  <thead>\n",
       "    <tr style=\"text-align: right;\">\n",
       "      <th></th>\n",
       "      <th>inter</th>\n",
       "      <th>avg_inter</th>\n",
       "      <th>af</th>\n",
       "      <th>rf</th>\n",
       "      <th>sum_rf</th>\n",
       "    </tr>\n",
       "  </thead>\n",
       "  <tbody>\n",
       "    <tr>\n",
       "      <th>0</th>\n",
       "      <td>[84.9, 100.9)</td>\n",
       "      <td>92.9</td>\n",
       "      <td>6</td>\n",
       "      <td>0.06</td>\n",
       "      <td>0.06</td>\n",
       "    </tr>\n",
       "    <tr>\n",
       "      <th>1</th>\n",
       "      <td>[100.9, 116.9)</td>\n",
       "      <td>108.9</td>\n",
       "      <td>14</td>\n",
       "      <td>0.14</td>\n",
       "      <td>0.20</td>\n",
       "    </tr>\n",
       "    <tr>\n",
       "      <th>2</th>\n",
       "      <td>[116.9, 132.9)</td>\n",
       "      <td>124.9</td>\n",
       "      <td>32</td>\n",
       "      <td>0.32</td>\n",
       "      <td>0.52</td>\n",
       "    </tr>\n",
       "    <tr>\n",
       "      <th>3</th>\n",
       "      <td>[132.9, 148.9)</td>\n",
       "      <td>140.9</td>\n",
       "      <td>33</td>\n",
       "      <td>0.33</td>\n",
       "      <td>0.85</td>\n",
       "    </tr>\n",
       "    <tr>\n",
       "      <th>4</th>\n",
       "      <td>[148.9, 164.9)</td>\n",
       "      <td>156.9</td>\n",
       "      <td>9</td>\n",
       "      <td>0.09</td>\n",
       "      <td>0.94</td>\n",
       "    </tr>\n",
       "    <tr>\n",
       "      <th>5</th>\n",
       "      <td>[164.9, 180.9)</td>\n",
       "      <td>172.9</td>\n",
       "      <td>4</td>\n",
       "      <td>0.04</td>\n",
       "      <td>0.98</td>\n",
       "    </tr>\n",
       "    <tr>\n",
       "      <th>6</th>\n",
       "      <td>[180.9, 195.7)</td>\n",
       "      <td>188.3</td>\n",
       "      <td>2</td>\n",
       "      <td>0.02</td>\n",
       "      <td>1.00</td>\n",
       "    </tr>\n",
       "  </tbody>\n",
       "</table>\n",
       "</div>"
      ],
      "text/plain": [
       "            inter  avg_inter  af    rf  sum_rf\n",
       "0   [84.9, 100.9)       92.9   6  0.06    0.06\n",
       "1  [100.9, 116.9)      108.9  14  0.14    0.20\n",
       "2  [116.9, 132.9)      124.9  32  0.32    0.52\n",
       "3  [132.9, 148.9)      140.9  33  0.33    0.85\n",
       "4  [148.9, 164.9)      156.9   9  0.09    0.94\n",
       "5  [164.9, 180.9)      172.9   4  0.04    0.98\n",
       "6  [180.9, 195.7)      188.3   2  0.02    1.00"
      ]
     },
     "execution_count": 40,
     "metadata": {},
     "output_type": "execute_result"
    }
   ],
   "source": [
    "f_inter['sum_rf'] = f_inter['rf'].cumsum()\n",
    "f_inter"
   ]
  },
  {
   "cell_type": "code",
   "execution_count": 41,
   "id": "5f45de1d-5696-49b0-9b7e-e1ea39be57e6",
   "metadata": {},
   "outputs": [
    {
     "data": {
      "text/plain": [
       "<matplotlib.collections.LineCollection at 0x18b96a463a0>"
      ]
     },
     "execution_count": 41,
     "metadata": {},
     "output_type": "execute_result"
    },
    {
     "data": {
      "text/plain": [
       "<matplotlib.collections.LineCollection at 0x18b96c76310>"
      ]
     },
     "execution_count": 41,
     "metadata": {},
     "output_type": "execute_result"
    },
    {
     "data": {
      "text/plain": [
       "<matplotlib.collections.LineCollection at 0x18b96c76b80>"
      ]
     },
     "execution_count": 41,
     "metadata": {},
     "output_type": "execute_result"
    },
    {
     "data": {
      "text/plain": [
       "<matplotlib.collections.LineCollection at 0x18b955adc10>"
      ]
     },
     "execution_count": 41,
     "metadata": {},
     "output_type": "execute_result"
    },
    {
     "data": {
      "text/plain": [
       "<matplotlib.collections.LineCollection at 0x18b96c7fac0>"
      ]
     },
     "execution_count": 41,
     "metadata": {},
     "output_type": "execute_result"
    },
    {
     "data": {
      "text/plain": [
       "<matplotlib.collections.LineCollection at 0x18b96c7fd90>"
      ]
     },
     "execution_count": 41,
     "metadata": {},
     "output_type": "execute_result"
    },
    {
     "data": {
      "text/plain": [
       "<matplotlib.collections.LineCollection at 0x18b96a46910>"
      ]
     },
     "execution_count": 41,
     "metadata": {},
     "output_type": "execute_result"
    },
    {
     "data": {
      "text/plain": [
       "<matplotlib.collections.LineCollection at 0x18b96e84430>"
      ]
     },
     "execution_count": 41,
     "metadata": {},
     "output_type": "execute_result"
    },
    {
     "data": {
      "text/plain": [
       "<matplotlib.collections.LineCollection at 0x18b93c76a30>"
      ]
     },
     "execution_count": 41,
     "metadata": {},
     "output_type": "execute_result"
    },
    {
     "data": {
      "text/plain": [
       "<matplotlib.collections.LineCollection at 0x18b96e849d0>"
      ]
     },
     "execution_count": 41,
     "metadata": {},
     "output_type": "execute_result"
    },
    {
     "data": {
      "text/plain": [
       "<matplotlib.collections.LineCollection at 0x18b96c7fd60>"
      ]
     },
     "execution_count": 41,
     "metadata": {},
     "output_type": "execute_result"
    },
    {
     "data": {
      "text/plain": [
       "<matplotlib.collections.LineCollection at 0x18b96e84f70>"
      ]
     },
     "execution_count": 41,
     "metadata": {},
     "output_type": "execute_result"
    },
    {
     "data": {
      "text/plain": [
       "<matplotlib.collections.LineCollection at 0x18b96e84fa0>"
      ]
     },
     "execution_count": 41,
     "metadata": {},
     "output_type": "execute_result"
    },
    {
     "data": {
      "text/plain": [
       "<matplotlib.collections.LineCollection at 0x18b96e84c70>"
      ]
     },
     "execution_count": 41,
     "metadata": {},
     "output_type": "execute_result"
    },
    {
     "data": {
      "text/plain": [
       "<matplotlib.collections.LineCollection at 0x18b96c71850>"
      ]
     },
     "execution_count": 41,
     "metadata": {},
     "output_type": "execute_result"
    },
    {
     "data": {
      "text/plain": [
       "Text(108.9, 0.06, '')"
      ]
     },
     "execution_count": 41,
     "metadata": {},
     "output_type": "execute_result"
    },
    {
     "data": {
      "text/plain": [
       "Text(124.9, 0.2, '')"
      ]
     },
     "execution_count": 41,
     "metadata": {},
     "output_type": "execute_result"
    },
    {
     "data": {
      "text/plain": [
       "Text(140.9, 0.52, '')"
      ]
     },
     "execution_count": 41,
     "metadata": {},
     "output_type": "execute_result"
    },
    {
     "data": {
      "text/plain": [
       "Text(156.9, 0.8500000000000001, '')"
      ]
     },
     "execution_count": 41,
     "metadata": {},
     "output_type": "execute_result"
    },
    {
     "data": {
      "text/plain": [
       "Text(172.9, 0.9400000000000001, '')"
      ]
     },
     "execution_count": 41,
     "metadata": {},
     "output_type": "execute_result"
    },
    {
     "data": {
      "text/plain": [
       "Text(188.3, 0.9800000000000001, '')"
      ]
     },
     "execution_count": 41,
     "metadata": {},
     "output_type": "execute_result"
    },
    {
     "data": {
      "text/plain": [
       "Text(208, 1, '')"
      ]
     },
     "execution_count": 41,
     "metadata": {},
     "output_type": "execute_result"
    },
    {
     "data": {
      "text/plain": [
       "<seaborn.axisgrid.FacetGrid at 0x18b96a464c0>"
      ]
     },
     "execution_count": 41,
     "metadata": {},
     "output_type": "execute_result"
    },
    {
     "data": {
      "text/plain": [
       "<seaborn.axisgrid.FacetGrid at 0x18b96a464c0>"
      ]
     },
     "execution_count": 41,
     "metadata": {},
     "output_type": "execute_result"
    },
    {
     "data": {
      "image/png": "[encoded data removed]",
      "text/plain": [
       "<Figure size 842.4x595.44 with 1 Axes>"
      ]
     },
     "metadata": {},
     "output_type": "display_data"
    }
   ],
   "source": [
    "ax = sns.relplot(data=f_inter, x='avg_inter', y='sum_rf', s=0,\n",
    "                 kind='scatter', height=8.27, aspect=11.7/8.27, color='w')\n",
    "for i in range(6):\n",
    "    plt.hlines(f_inter['sum_rf'][i], f_inter['avg_inter'][i], f_inter['avg_inter'][i+1], color='r')\n",
    "plt.hlines(1, 188, 188+h, color='k')\n",
    "plt.hlines(0, 92-h, 92, color='k')\n",
    "for i in range(6):\n",
    "    plt.vlines(f_inter['avg_inter'][i+1], f_inter['sum_rf'][i], f_inter['sum_rf'][i+1], color='r', linestyle='-')\n",
    "plt.vlines(92, 0, 0.06, color='r', linestyle='-')\n",
    "for i in range(6):\n",
    "    plt.annotate('', xy=(f_inter['avg_inter'][i]-1, f_inter['sum_rf'][i]), \n",
    "                 xytext=(f_inter['avg_inter'][i+1], f_inter['sum_rf'][i]), \n",
    "                 arrowprops=dict(arrowstyle=\"->\", color='k', linewidth=3))\n",
    "plt.annotate('', xy=(188, 1), \n",
    "                 xytext=(208, 1), \n",
    "                 arrowprops=dict(arrowstyle=\"->\", color='k', linewidth=3))\n",
    "ax.set_axis_labels('Середины интервалов', '')\n",
    "ax.set(xticks=f_inter['avg_inter'], yticks=[0]+f_inter['sum_rf'].to_list())\n",
    "plt.savefig('pics2/5.png')"
   ]
  },
  {
   "cell_type": "markdown",
   "id": "8c0aa207-8b0e-44d1-a77d-fb4ed978e16a",
   "metadata": {
    "heading_collapsed": "true",
    "tags": []
   },
   "source": [
    "### Полигон"
   ]
  },
  {
   "cell_type": "code",
   "execution_count": 42,
   "id": "2c5f6554-7513-4799-95db-9586179a9202",
   "metadata": {},
   "outputs": [
    {
     "data": {
      "text/plain": [
       "<seaborn.axisgrid.FacetGrid at 0x18b95571b50>"
      ]
     },
     "execution_count": 42,
     "metadata": {},
     "output_type": "execute_result"
    },
    {
     "data": {
      "text/plain": [
       "<seaborn.axisgrid.FacetGrid at 0x18b95571b50>"
      ]
     },
     "execution_count": 42,
     "metadata": {},
     "output_type": "execute_result"
    },
    {
     "data": {
      "image/png": "[encoded data removed]",
      "text/plain": [
       "<Figure size 842.4x595.44 with 1 Axes>"
      ]
     },
     "metadata": {},
     "output_type": "display_data"
    }
   ],
   "source": [
    "ax = sns.relplot(data=f_inter, x='avg_inter', y='rf', kind='line', \n",
    "                 height=8.27, aspect=11.7/8.27, linewidth=3)\n",
    "ax.set_axis_labels('Середины интервалов', 'Частоты')\n",
    "ax.set(xticks=f_inter['avg_inter'])\n",
    "plt.savefig('pics2/6.png')"
   ]
  },
  {
   "cell_type": "markdown",
   "id": "b9729dd6-ac21-4fb7-8eeb-df84b84ccb9b",
   "metadata": {
    "heading_collapsed": "true",
    "tags": []
   },
   "source": [
    "### Гист"
   ]
  },
  {
   "cell_type": "code",
   "execution_count": 43,
   "id": "45aa883e-0af0-46c9-aecd-55bf3a2f63dc",
   "metadata": {},
   "outputs": [
    {
     "data": {
      "text/plain": [
       "1.0"
      ]
     },
     "execution_count": 43,
     "metadata": {},
     "output_type": "execute_result"
    }
   ],
   "source": [
    "h*(0.0206+0.02+0.0088+0.0056+0.0038+0.0025+0.0012)"
   ]
  },
  {
   "cell_type": "code",
   "execution_count": 44,
   "id": "e87ad48f-22e0-4ea6-9494-716804890ff1",
   "metadata": {},
   "outputs": [
    {
     "data": {
      "text/plain": [
       "<seaborn.axisgrid.FacetGrid at 0x18b93bd1c10>"
      ]
     },
     "execution_count": 44,
     "metadata": {},
     "output_type": "execute_result"
    },
    {
     "data": {
      "text/plain": [
       "<seaborn.axisgrid.FacetGrid at 0x18b93bd1c10>"
      ]
     },
     "execution_count": 44,
     "metadata": {},
     "output_type": "execute_result"
    },
    {
     "data": {
      "image/png": "[encoded data removed]",
      "text/plain": [
       "<Figure size 842.4x595.44 with 1 Axes>"
      ]
     },
     "metadata": {},
     "output_type": "display_data"
    }
   ],
   "source": [
    "ax = sns.displot(data=df, x='E', bins=ivs, kind='hist', \n",
    "                 height=8.27, aspect=11.7/8.27, stat='density')\n",
    "ax.set_axis_labels('Середины интервалов', 'Частоты')\n",
    "ax.set(xticks=f_inter['avg_inter'], yticks=round((f_inter['rf']/h), 4))\n",
    "plt.savefig('pics2/7.png')"
   ]
  },
  {
   "cell_type": "code",
   "execution_count": null,
   "id": "ae40650c-58be-4dcb-a68f-4c8a9ef1b2ac",
   "metadata": {},
   "outputs": [],
   "source": []
  }
 ],
 "metadata": {
  "kernelspec": {
   "display_name": "Python 3",
   "language": "python",
   "name": "python3"
  },
  "language_info": {
   "codemirror_mode": {
    "name": "ipython",
    "version": 3
   },
   "file_extension": ".py",
   "mimetype": "text/x-python",
   "name": "python",
   "nbconvert_exporter": "python",
   "pygments_lexer": "ipython3",
   "version": "3.8.8"
  }
 },
 "nbformat": 4,
 "nbformat_minor": 5
}
