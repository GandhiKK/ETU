{
 "cells": [
  {
   "cell_type": "code",
   "execution_count": 12,
   "id": "c8adbc31-3c6e-4dfb-92de-b910075d428a",
   "metadata": {},
   "outputs": [],
   "source": [
    "import numpy as np\n",
    "import pandas as pd\n",
    "import matplotlib.pyplot as plt\n",
    "import seaborn as sns\n",
    "from sklearn.preprocessing import StandardScaler, MinMaxScaler\n",
    "from sklearn.cluster import KMeans\n",
    "from IPython.core.interactiveshell import InteractiveShell \n",
    "InteractiveShell.ast_node_interactivity = \"all\"\n",
    "from scipy.spatial import distance\n",
    "from sklearn.metrics import silhouette_score"
   ]
  },
  {
   "cell_type": "code",
   "execution_count": null,
   "id": "c37f9cc4-0ca7-4d49-8327-93116600e14e",
   "metadata": {},
   "outputs": [],
   "source": [
    "df0 = pd.read_csv('c:/Users/gandh/dev/unv/smoed/NB/data/main_data.csv')\n",
    "X = df0['nu']\n",
    "Y = df0['E']"
   ]
  },
  {
   "cell_type": "markdown",
   "id": "806e273a-2ecb-4c12-b5b6-81b273074411",
   "metadata": {
    "tags": []
   },
   "source": [
    "### Нормализация"
   ]
  },
  {
   "cell_type": "code",
   "execution_count": 52,
   "id": "d7837e64-7ee6-4d2d-8fd6-7b7504dad755",
   "metadata": {},
   "outputs": [],
   "source": [
    "X_norm = MinMaxScaler().fit_transform(df0)\n",
    "df = pd.DataFrame(data=X_norm, columns=['nu','E'])\n",
    "df.round(3).to_csv('data/df_norm.csv', index=False)"
   ]
  },
  {
   "cell_type": "code",
   "execution_count": 14,
   "id": "fb7029f9-615f-4d99-accb-33b2187ab4f1",
   "metadata": {},
   "outputs": [
    {
     "data": {
      "text/plain": [
       "<seaborn.axisgrid.FacetGrid at 0x26472f603d0>"
      ]
     },
     "execution_count": 14,
     "metadata": {},
     "output_type": "execute_result"
    },
    {
     "data": {
      "image/png": "[encoded data removed]",
      "text/plain": [
       "<Figure size 842.4x595.44 with 1 Axes>"
      ]
     },
     "metadata": {},
     "output_type": "display_data"
    }
   ],
   "source": [
    "sns.set_theme(palette='crest', font_scale=1.15)\n",
    "sns.set_style(\"ticks\", {\"axes.facecolor\": \".95\"})\n",
    "ax = sns.relplot(data=df, x='nu', y='E', kind='scatter', height=8.27, aspect=11.7/8.27)\n",
    "ax.set_axis_labels('X', 'Y')\n",
    "plt.tight_layout()\n",
    "plt.savefig('pics/1.png')"
   ]
  },
  {
   "cell_type": "code",
   "execution_count": 17,
   "id": "6e58c428-0317-4fe8-a2ec-a517a41d24f4",
   "metadata": {},
   "outputs": [
    {
     "data": {
      "text/plain": [
       "7.0"
      ]
     },
     "execution_count": 17,
     "metadata": {},
     "output_type": "execute_result"
    }
   ],
   "source": [
    "N = len(df)\n",
    "sup_k = np.floor(np.sqrt(N/2))\n",
    "sup_k"
   ]
  },
  {
   "cell_type": "markdown",
   "id": "9094d2da-9f7d-41ae-bff4-d642b0bff980",
   "metadata": {},
   "source": [
    "## Алгоритм"
   ]
  },
  {
   "cell_type": "code",
   "execution_count": 47,
   "id": "1781810a-97ef-4b79-a56f-8a7ecc11b23f",
   "metadata": {},
   "outputs": [],
   "source": [
    "def sc_plots(data, means, Ncl, step):\n",
    "    if Ncl > 6:\n",
    "        ax = sns.relplot(data=data, x='nu', y='E', hue='кластер', kind='scatter', alpha=0.8,\n",
    "                         height=8.27, aspect=11.7/8.27)\n",
    "        plt.scatter(means[:,0],means[:,1], c='m', s=60)\n",
    "    else:\n",
    "        ax = sns.relplot(data=data, x='nu', y='E', hue='кластер', kind='scatter', palette='viridis', alpha=0.8,\n",
    "                         height=8.27, aspect=11.7/8.27)\n",
    "        plt.scatter(means[:,0],means[:,1], c='m', s=60)\n",
    "    \n",
    "    print(f'кластеры = {Ncl}; шаги = {step}')\n",
    "    ax.set_axis_labels('X', 'Y')\n",
    "    ax.fig.suptitle(f'{Ncl} кластера(ов)')\n",
    "    plt.tight_layout()\n",
    "    plt.savefig(f'pics/2_{Ncl}.png')\n",
    "    plt.close()"
   ]
  },
  {
   "cell_type": "code",
   "execution_count": 48,
   "id": "0f0a0217-a15f-4b76-bee8-949e66cb9efb",
   "metadata": {},
   "outputs": [],
   "source": [
    "def nearest_center(data, cts):\n",
    "    distl = np.array([], dtype=np.float64)\n",
    "    for i in cts:\n",
    "        distl = np.append(distl, np.linalg.norm(i[:-1]-data)) # евклидово расстояние\n",
    "    min_dist = np.argmin(distl)\n",
    "    return min_dist"
   ]
  },
  {
   "cell_type": "code",
   "execution_count": 49,
   "id": "977839ee-85cb-4fb6-8d66-18b80e85b126",
   "metadata": {},
   "outputs": [],
   "source": [
    "def Fs(data):\n",
    "    curr_data = data.copy()\n",
    "    cts = curr_data.groupby('кластер').mean()\n",
    "    F1,F2,F3 = 0,0,0\n",
    "    \n",
    "    # F1 - сумма кв. расст. точек до центров соотв. кластеров\n",
    "    for i in range(len(curr_data)):        \n",
    "        dist_F1 = np.linalg.norm(curr_data.iloc[i,:-1].values-cts.values[curr_data.iloc[i,2]])\n",
    "        F1 += dist_F1**2\n",
    "        \n",
    "    # F2 - сумма кв. расст. до всех точек соотв. кластеров    \n",
    "    for i in range(len(cts)):\n",
    "        coords = curr_data[curr_data['кластер']==i].iloc[:,:2].values\n",
    "        dist_F2 = distance.cdist(coords, coords, 'euclidean')\n",
    "        F2 += (np.triu(dist_F2,0)**2).sum()\n",
    "\n",
    "    # F3 - сумма внутрикластерных дисперсий\n",
    "    F3 = curr_data.groupby('кластер').var().values.sum()\n",
    "    \n",
    "    return F1,F2,F3"
   ]
  },
  {
   "cell_type": "code",
   "execution_count": 50,
   "id": "6dc07fa3-e961-457d-89e1-2954c320559a",
   "metadata": {},
   "outputs": [],
   "source": [
    "def custKM(dataf, n_clusters, chng_ctr=1, max_iter=30, tol=0.01):\n",
    "    data = dataf.copy()\n",
    "    centers = data.sample(n_clusters) # рандомные центры    \n",
    "    data['кластер'] = -1 # нет принадлежности кластерам\n",
    "    cts = np.array([], dtype=np.float64)\n",
    "    F1,F2,F3 = 0,0,0\n",
    "    df_Fs = pd.DataFrame(columns=['F1', 'F2', 'F3'])\n",
    "\n",
    "    for i in range(n_clusters):\n",
    "        data.loc[centers.index[i],'кластер'] = i # кластеры для центров\n",
    "        cts = np.append(cts, [data.loc[centers.index[i]].values])\n",
    "    centers = cts.reshape((n_clusters,3)) \n",
    "\n",
    "    for j in range(max_iter):\n",
    "        for i in range(len(data)): # ближ. центр для каждой точки\n",
    "            curr_clust = nearest_center(data.iloc[i,:-1].values, centers)\n",
    "            data.loc[i,'кластер'] = curr_clust # соотносим кластер\n",
    "            if chng_ctr: # пересчет центра при новой точке\n",
    "                centers[curr_clust][:2] = data[data['кластер']==curr_clust].iloc[:,:2].mean() \n",
    "                \n",
    "        if chng_ctr == 0: # пересчет центра на каждой итерации\n",
    "            for i in range(n_clusters):\n",
    "                centers[i][:2] = data[data['кластер']==i].iloc[:,:2].mean()\n",
    "        \n",
    "        cur_F1,cur_F2,cur_F3 = Fs(data) # функционалы\n",
    "        df_Fs = df_Fs.append({'F1':cur_F1,'F2':cur_F2,'F3':cur_F3}, ignore_index=True)\n",
    "\n",
    "        if np.abs(F1-cur_F1) < tol:\n",
    "            data['кластер'].astype('int')\n",
    "            sc_plots(data, centers, n_clusters, j+1)\n",
    "            break\n",
    "        F1,F2,F3 = cur_F1,cur_F2,cur_F3\n",
    "        data['кластер'] = -1\n",
    "        \n",
    "    df_ctrs = pd.DataFrame(np.concatenate((centers[:,:2],\n",
    "                           data.groupby('кластер')['nu'].count().values.reshape(-1,1)), axis=1),\n",
    "                           columns=['nu_mean', 'E_mean', 'num'])\n",
    "    silhouette_avg = silhouette_score(data.values[:,:2], data.values[:,2])\n",
    "    \n",
    "    return df_Fs, df_ctrs, silhouette_avg"
   ]
  },
  {
   "cell_type": "code",
   "execution_count": 76,
   "id": "8d468ad8-f2ff-4b95-95d5-7ff25860f1cd",
   "metadata": {},
   "outputs": [
    {
     "name": "stdout",
     "output_type": "stream",
     "text": [
      "кластеры = 2; шаги = 2\n",
      "кластеры = 3; шаги = 2\n",
      "кластеры = 4; шаги = 3\n",
      "кластеры = 5; шаги = 4\n",
      "кластеры = 6; шаги = 3\n",
      "кластеры = 7; шаги = 3\n"
     ]
    }
   ],
   "source": [
    "sse = []\n",
    "sils = []\n",
    "for i in range(2,8):\n",
    "    F, ctrs, sil = custKM(df, n_clusters=i, chng_ctr=1)\n",
    "    sse.append(F.iloc[-1,0])\n",
    "    sils.append(sil)\n",
    "    F.round(3).to_csv(f'data/Fs_{i}c.csv', index=False)\n",
    "    ctrs.round(4).to_csv(f'data/centers_{i}c.csv', index=False)"
   ]
  },
  {
   "cell_type": "code",
   "execution_count": null,
   "id": "7bba3d2a-3497-4334-89f1-e6fd616ee6a2",
   "metadata": {},
   "outputs": [],
   "source": []
  }
 ],
 "metadata": {
  "kernelspec": {
   "display_name": "Python 3",
   "language": "python",
   "name": "python3"
  },
  "language_info": {
   "codemirror_mode": {
    "name": "ipython",
    "version": 3
   },
   "file_extension": ".py",
   "mimetype": "text/x-python",
   "name": "python",
   "nbconvert_exporter": "python",
   "pygments_lexer": "ipython3",
   "version": "3.8.8"
  }
 },
 "nbformat": 4,
 "nbformat_minor": 5
}
