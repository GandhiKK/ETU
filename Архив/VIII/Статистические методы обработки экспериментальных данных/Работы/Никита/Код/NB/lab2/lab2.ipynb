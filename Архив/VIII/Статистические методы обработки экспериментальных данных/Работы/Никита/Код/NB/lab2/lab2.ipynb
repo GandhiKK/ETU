{
 "cells": [
  {
   "cell_type": "code",
   "execution_count": 1,
   "id": "4e7c33f5-cf63-40c3-8c5b-f98524df7b90",
   "metadata": {},
   "outputs": [],
   "source": [
    "import numpy as np\n",
    "import pandas as pd\n",
    "import matplotlib.pyplot as plt\n",
    "import seaborn as sns\n",
    "from IPython.core.interactiveshell import InteractiveShell \n",
    "InteractiveShell.ast_node_interactivity = \"all\"\n",
    "pd.set_option('display.max_columns', None)\n",
    "pd.set_option('display.max_rows', None)"
   ]
  },
  {
   "cell_type": "markdown",
   "id": "260c45c1-a3f6-43d3-9c68-c54f7f213732",
   "metadata": {
    "tags": []
   },
   "source": [
    "## Переменная $nu$"
   ]
  },
  {
   "cell_type": "code",
   "execution_count": 2,
   "id": "8a7e9c4d-d17a-4019-8b1b-d43e626a17ef",
   "metadata": {},
   "outputs": [],
   "source": [
    "original = pd.read_csv('c:/Users/gandh/dev/unv/smoed/NB/lab1/data/data2.csv')\n",
    "var_row = pd.read_csv('c:/Users/gandh/dev/unv/smoed/NB/lab1/data/data4.csv')\n",
    "var_row.to_csv('data/var_row.csv', index=False)\n",
    "n = 100\n",
    "h = 44"
   ]
  },
  {
   "cell_type": "code",
   "execution_count": 3,
   "id": "e6a50ab3-76a6-4f82-ba75-fbbfff0b7aa3",
   "metadata": {},
   "outputs": [],
   "source": [
    "int_row = pd.read_csv('c:/Users/gandh/dev/unv/smoed/NB/data/interval.csv')\n",
    "int_row['cum_sum'] = np.round(np.cumsum(int_row['rf']), 3)\n",
    "int_row.to_csv('data/int_row.csv', index=False)"
   ]
  },
  {
   "cell_type": "code",
   "execution_count": 4,
   "id": "ef5e2d54-7451-4f01-98b7-7a100a059a46",
   "metadata": {},
   "outputs": [
    {
     "data": {
      "text/html": [
       "<div>\n",
       "<style scoped>\n",
       "    .dataframe tbody tr th:only-of-type {\n",
       "        vertical-align: middle;\n",
       "    }\n",
       "\n",
       "    .dataframe tbody tr th {\n",
       "        vertical-align: top;\n",
       "    }\n",
       "\n",
       "    .dataframe thead th {\n",
       "        text-align: right;\n",
       "    }\n",
       "</style>\n",
       "<table border=\"1\" class=\"dataframe\">\n",
       "  <thead>\n",
       "    <tr style=\"text-align: right;\">\n",
       "      <th></th>\n",
       "      <th>avg_inter</th>\n",
       "      <th>rf</th>\n",
       "      <th>u</th>\n",
       "      <th>nu</th>\n",
       "      <th>nu2</th>\n",
       "      <th>nu3</th>\n",
       "      <th>nu4</th>\n",
       "      <th>nu4+</th>\n",
       "    </tr>\n",
       "  </thead>\n",
       "  <tbody>\n",
       "    <tr>\n",
       "      <th>0</th>\n",
       "      <td>343</td>\n",
       "      <td>0.04</td>\n",
       "      <td>-3</td>\n",
       "      <td>-0.12</td>\n",
       "      <td>0.36</td>\n",
       "      <td>-1.08</td>\n",
       "      <td>3.24</td>\n",
       "      <td>0.64</td>\n",
       "    </tr>\n",
       "    <tr>\n",
       "      <th>1</th>\n",
       "      <td>387</td>\n",
       "      <td>0.09</td>\n",
       "      <td>-2</td>\n",
       "      <td>-0.18</td>\n",
       "      <td>0.36</td>\n",
       "      <td>-0.72</td>\n",
       "      <td>1.44</td>\n",
       "      <td>0.09</td>\n",
       "    </tr>\n",
       "    <tr>\n",
       "      <th>2</th>\n",
       "      <td>431</td>\n",
       "      <td>0.27</td>\n",
       "      <td>-1</td>\n",
       "      <td>-0.27</td>\n",
       "      <td>0.27</td>\n",
       "      <td>-0.27</td>\n",
       "      <td>0.27</td>\n",
       "      <td>0.00</td>\n",
       "    </tr>\n",
       "    <tr>\n",
       "      <th>3</th>\n",
       "      <td>475</td>\n",
       "      <td>0.35</td>\n",
       "      <td>0</td>\n",
       "      <td>0.00</td>\n",
       "      <td>0.00</td>\n",
       "      <td>0.00</td>\n",
       "      <td>0.00</td>\n",
       "      <td>0.35</td>\n",
       "    </tr>\n",
       "    <tr>\n",
       "      <th>4</th>\n",
       "      <td>519</td>\n",
       "      <td>0.17</td>\n",
       "      <td>1</td>\n",
       "      <td>0.17</td>\n",
       "      <td>0.17</td>\n",
       "      <td>0.17</td>\n",
       "      <td>0.17</td>\n",
       "      <td>2.72</td>\n",
       "    </tr>\n",
       "    <tr>\n",
       "      <th>5</th>\n",
       "      <td>563</td>\n",
       "      <td>0.06</td>\n",
       "      <td>2</td>\n",
       "      <td>0.12</td>\n",
       "      <td>0.24</td>\n",
       "      <td>0.48</td>\n",
       "      <td>0.96</td>\n",
       "      <td>4.86</td>\n",
       "    </tr>\n",
       "    <tr>\n",
       "      <th>6</th>\n",
       "      <td>604</td>\n",
       "      <td>0.02</td>\n",
       "      <td>3</td>\n",
       "      <td>0.06</td>\n",
       "      <td>0.18</td>\n",
       "      <td>0.54</td>\n",
       "      <td>1.62</td>\n",
       "      <td>5.12</td>\n",
       "    </tr>\n",
       "  </tbody>\n",
       "</table>\n",
       "</div>"
      ],
      "text/plain": [
       "   avg_inter    rf  u    nu   nu2   nu3   nu4  nu4+\n",
       "0        343  0.04 -3 -0.12  0.36 -1.08  3.24  0.64\n",
       "1        387  0.09 -2 -0.18  0.36 -0.72  1.44  0.09\n",
       "2        431  0.27 -1 -0.27  0.27 -0.27  0.27  0.00\n",
       "3        475  0.35  0  0.00  0.00  0.00  0.00  0.35\n",
       "4        519  0.17  1  0.17  0.17  0.17  0.17  2.72\n",
       "5        563  0.06  2  0.12  0.24  0.48  0.96  4.86\n",
       "6        604  0.02  3  0.06  0.18  0.54  1.62  5.12"
      ]
     },
     "execution_count": 4,
     "metadata": {},
     "output_type": "execute_result"
    }
   ],
   "source": [
    "usl_mom = int_row.copy()\n",
    "usl_mom = usl_mom.iloc[:, [1,3]]\n",
    "usl_mom['u'] = np.arange(-3,4,1)\n",
    "usl_mom['nu'] = usl_mom['rf']*usl_mom['u']\n",
    "usl_mom['nu2'] = usl_mom['rf']*pow(usl_mom['u'], 2)\n",
    "usl_mom['nu3'] = usl_mom['rf']*pow(usl_mom['u'], 3)\n",
    "usl_mom['nu4'] = usl_mom['rf']*pow(usl_mom['u'], 4)\n",
    "usl_mom['nu4+'] = usl_mom['rf']*pow(usl_mom['u']+1, 4)\n",
    "usl_mom"
   ]
  },
  {
   "cell_type": "code",
   "execution_count": 5,
   "id": "166d6eb8-4103-4a53-8652-b458e64353e2",
   "metadata": {},
   "outputs": [],
   "source": [
    "usl_mom_f = usl_mom.append(np.round(usl_mom.sum(), 3), ignore_index=True)\n",
    "usl_mom_f.to_csv('data/usl_mom.csv', index=False)"
   ]
  },
  {
   "cell_type": "code",
   "execution_count": 6,
   "id": "39cdf7a9-75d7-4923-a252-9dd8d3239542",
   "metadata": {},
   "outputs": [
    {
     "data": {
      "text/plain": [
       "'True'"
      ]
     },
     "execution_count": 6,
     "metadata": {},
     "output_type": "execute_result"
    },
    {
     "data": {
      "text/plain": [
       "13.78"
      ]
     },
     "execution_count": 6,
     "metadata": {},
     "output_type": "execute_result"
    }
   ],
   "source": [
    "moms = usl_mom_f.iloc[7, [3,4,5,6]]\n",
    "checker = moms[3]+4*moms[2]+6*moms[1]+4*moms[0]+1\n",
    "'True' if checker == usl_mom_f.loc[7, ['nu4+']][0] else 'False'\n",
    "checker"
   ]
  },
  {
   "cell_type": "code",
   "execution_count": 7,
   "id": "a74a2f0c-d9bf-41e8-8ce5-afc059d49579",
   "metadata": {},
   "outputs": [
    {
     "data": {
      "text/plain": [
       "(465.32, 2965.1776, 12053.876735999995, 27651219.62217472)"
      ]
     },
     "execution_count": 7,
     "metadata": {},
     "output_type": "execute_result"
    }
   ],
   "source": [
    "M1 = moms[0]*h+475\n",
    "m2 = (moms[1] - pow(moms[0],2))*pow(h,2)\n",
    "m3 = (moms[2] - 3*moms[1]*moms[0] + 2*pow(moms[0],3))*pow(h,3)\n",
    "m4 = (moms[3] - 4*moms[2]*moms[0] + 6*moms[1]*pow(moms[0],2) - 3*pow(moms[0],4))*pow(h,4)\n",
    "(M1, m2, m3, m4)"
   ]
  },
  {
   "cell_type": "code",
   "execution_count": 8,
   "id": "726bc316-06a0-4073-9eeb-346b1d613562",
   "metadata": {},
   "outputs": [
    {
     "data": {
      "text/plain": [
       "465.26"
      ]
     },
     "execution_count": 8,
     "metadata": {},
     "output_type": "execute_result"
    },
    {
     "data": {
      "text/plain": [
       "2948.3523999999998"
      ]
     },
     "execution_count": 8,
     "metadata": {},
     "output_type": "execute_result"
    },
    {
     "data": {
      "text/plain": [
       "2978.1337373737374"
      ]
     },
     "execution_count": 8,
     "metadata": {},
     "output_type": "execute_result"
    },
    {
     "data": {
      "text/plain": [
       "54.57227993563891"
      ]
     },
     "execution_count": 8,
     "metadata": {},
     "output_type": "execute_result"
    },
    {
     "data": {
      "text/plain": [
       "54.29873295022638"
      ]
     },
     "execution_count": 8,
     "metadata": {},
     "output_type": "execute_result"
    }
   ],
   "source": [
    "int_mean = (int_row['avg_inter']*int_row['af']).sum()/n\n",
    "int_var = (((int_row['avg_inter']-int_mean)**2)*int_row['af']).sum()/n\n",
    "s = int_var*(n/(n-1))\n",
    "std_s = np.sqrt(s)\n",
    "std_var = np.sqrt(int_var)\n",
    "int_mean\n",
    "int_var\n",
    "s\n",
    "std_s\n",
    "std_var"
   ]
  },
  {
   "cell_type": "code",
   "execution_count": 9,
   "id": "7b8bfe2a-7202-40f7-b58a-78d528f2c071",
   "metadata": {},
   "outputs": [
    {
     "data": {
      "text/plain": [
       "(4.563459037863951e-07, -2.999999648490145)"
      ]
     },
     "execution_count": 9,
     "metadata": {},
     "output_type": "execute_result"
    }
   ],
   "source": [
    "As = m3/(pow(s, 3))\n",
    "Ex = (m4/(pow(s, 4))) - 3\n",
    "As, Ex"
   ]
  },
  {
   "cell_type": "code",
   "execution_count": 10,
   "id": "bf98d3b0-37aa-4243-b82a-6e77c036ce1d",
   "metadata": {},
   "outputs": [
    {
     "data": {
      "text/plain": [
       "466.53846153846155"
      ]
     },
     "execution_count": 10,
     "metadata": {},
     "output_type": "execute_result"
    },
    {
     "data": {
      "text/plain": [
       "465.57142857142856"
      ]
     },
     "execution_count": 10,
     "metadata": {},
     "output_type": "execute_result"
    },
    {
     "data": {
      "text/plain": [
       "465.26"
      ]
     },
     "execution_count": 10,
     "metadata": {},
     "output_type": "execute_result"
    }
   ],
   "source": [
    "raw_mode = 453+h*(8/26)\n",
    "raw_median = 453+(((0.5*n)-40)/35)*h\n",
    "raw_mode\n",
    "raw_median\n",
    "int_mean"
   ]
  },
  {
   "cell_type": "code",
   "execution_count": 11,
   "id": "17cabe1e-c5e6-4f7a-85f8-f39570473697",
   "metadata": {},
   "outputs": [
    {
     "data": {
      "text/plain": [
       "<matplotlib.collections.LineCollection at 0x2f0fd10ee80>"
      ]
     },
     "execution_count": 11,
     "metadata": {},
     "output_type": "execute_result"
    },
    {
     "data": {
      "text/plain": [
       "<matplotlib.collections.LineCollection at 0x2f0fd3ccb50>"
      ]
     },
     "execution_count": 11,
     "metadata": {},
     "output_type": "execute_result"
    },
    {
     "data": {
      "text/plain": [
       "<seaborn.axisgrid.FacetGrid at 0x2f0fb36e7f0>"
      ]
     },
     "execution_count": 11,
     "metadata": {},
     "output_type": "execute_result"
    },
    {
     "data": {
      "text/plain": [
       "<seaborn.axisgrid.FacetGrid at 0x2f0fb36e7f0>"
      ]
     },
     "execution_count": 11,
     "metadata": {},
     "output_type": "execute_result"
    },
    {
     "data": {
      "text/plain": [
       "<matplotlib.legend.Legend at 0x2f0fd3ccc70>"
      ]
     },
     "execution_count": 11,
     "metadata": {},
     "output_type": "execute_result"
    },
    {
     "data": {
      "image/png": "[encoded data removed]",
      "text/plain": [
       "<Figure size 842.4x595.44 with 1 Axes>"
      ]
     },
     "metadata": {},
     "output_type": "display_data"
    }
   ],
   "source": [
    "sns.set_theme(palette='crest', font_scale=1.15)\n",
    "sns.set_style('ticks', {\"axes.facecolor\": \".94\"})\n",
    "ax = sns.displot(data=original, x='nu', bins=np.array([321, 365, 409, 453, 497, 541, 585, 623]),\n",
    "                 kind='hist', height=8.27, aspect=11.7/8.27, stat='density')\n",
    "plt.vlines(raw_mode, 0, int_row.loc[3, 'rf']/h, colors='b', linestyles='--', label='$мода$')\n",
    "plt.vlines(raw_median, 0, int_row.loc[3, 'rf']/h, colors='r', linestyles='--', label='$медиана$')\n",
    "# plt.vlines(int_mean, 0, int_row.loc[3, 'rf']/h, colors='k', linestyles='--', label='$x_в$')\n",
    "ax.set_axis_labels('Середины интервалов', 'Частоты')\n",
    "ax.set(xticks=int_row['avg_inter'])\n",
    "plt.legend()\n",
    "plt.savefig('pics/1.png')"
   ]
  },
  {
   "cell_type": "markdown",
   "id": "5a79202c-fd41-4c84-b3b8-23e3ce6d0d2f",
   "metadata": {
    "heading_collapsed": "true",
    "tags": []
   },
   "source": [
    "## Переменная $E$"
   ]
  },
  {
   "cell_type": "code",
   "execution_count": 12,
   "id": "d733eb6d-5cdf-40f2-ac4b-5221164e53eb",
   "metadata": {},
   "outputs": [],
   "source": [
    "original = pd.read_csv('c:/Users/gandh/dev/unv/smoed/NB/lab1/data2/data2.csv')\n",
    "var_row = pd.read_csv('c:/Users/gandh/dev/unv/smoed/NB/lab1/data2/data4.csv')\n",
    "var_row.to_csv('data/var_row2.csv', index=False)\n",
    "n = 100\n",
    "h = 16"
   ]
  },
  {
   "cell_type": "code",
   "execution_count": 13,
   "id": "df7b6fd0-1776-4121-9ef2-84b1f9901abc",
   "metadata": {},
   "outputs": [
    {
     "data": {
      "text/html": [
       "<div>\n",
       "<style scoped>\n",
       "    .dataframe tbody tr th:only-of-type {\n",
       "        vertical-align: middle;\n",
       "    }\n",
       "\n",
       "    .dataframe tbody tr th {\n",
       "        vertical-align: top;\n",
       "    }\n",
       "\n",
       "    .dataframe thead th {\n",
       "        text-align: right;\n",
       "    }\n",
       "</style>\n",
       "<table border=\"1\" class=\"dataframe\">\n",
       "  <thead>\n",
       "    <tr style=\"text-align: right;\">\n",
       "      <th></th>\n",
       "      <th>inter</th>\n",
       "      <th>avg_inter</th>\n",
       "      <th>af</th>\n",
       "      <th>rf</th>\n",
       "      <th>cum_sum</th>\n",
       "    </tr>\n",
       "  </thead>\n",
       "  <tbody>\n",
       "    <tr>\n",
       "      <th>0</th>\n",
       "      <td>[84.9, 100.9)</td>\n",
       "      <td>92.9</td>\n",
       "      <td>6</td>\n",
       "      <td>0.06</td>\n",
       "      <td>0.06</td>\n",
       "    </tr>\n",
       "    <tr>\n",
       "      <th>1</th>\n",
       "      <td>[100.9, 116.9)</td>\n",
       "      <td>108.9</td>\n",
       "      <td>14</td>\n",
       "      <td>0.14</td>\n",
       "      <td>0.20</td>\n",
       "    </tr>\n",
       "    <tr>\n",
       "      <th>2</th>\n",
       "      <td>[116.9, 132.9)</td>\n",
       "      <td>124.9</td>\n",
       "      <td>32</td>\n",
       "      <td>0.32</td>\n",
       "      <td>0.52</td>\n",
       "    </tr>\n",
       "    <tr>\n",
       "      <th>3</th>\n",
       "      <td>[132.9, 148.9)</td>\n",
       "      <td>140.9</td>\n",
       "      <td>33</td>\n",
       "      <td>0.33</td>\n",
       "      <td>0.85</td>\n",
       "    </tr>\n",
       "    <tr>\n",
       "      <th>4</th>\n",
       "      <td>[148.9, 164.9)</td>\n",
       "      <td>156.9</td>\n",
       "      <td>9</td>\n",
       "      <td>0.09</td>\n",
       "      <td>0.94</td>\n",
       "    </tr>\n",
       "    <tr>\n",
       "      <th>5</th>\n",
       "      <td>[164.9, 180.9)</td>\n",
       "      <td>172.9</td>\n",
       "      <td>4</td>\n",
       "      <td>0.04</td>\n",
       "      <td>0.98</td>\n",
       "    </tr>\n",
       "    <tr>\n",
       "      <th>6</th>\n",
       "      <td>[180.9, 195.7)</td>\n",
       "      <td>188.3</td>\n",
       "      <td>2</td>\n",
       "      <td>0.02</td>\n",
       "      <td>1.00</td>\n",
       "    </tr>\n",
       "  </tbody>\n",
       "</table>\n",
       "</div>"
      ],
      "text/plain": [
       "            inter  avg_inter  af    rf  cum_sum\n",
       "0   [84.9, 100.9)       92.9   6  0.06     0.06\n",
       "1  [100.9, 116.9)      108.9  14  0.14     0.20\n",
       "2  [116.9, 132.9)      124.9  32  0.32     0.52\n",
       "3  [132.9, 148.9)      140.9  33  0.33     0.85\n",
       "4  [148.9, 164.9)      156.9   9  0.09     0.94\n",
       "5  [164.9, 180.9)      172.9   4  0.04     0.98\n",
       "6  [180.9, 195.7)      188.3   2  0.02     1.00"
      ]
     },
     "execution_count": 13,
     "metadata": {},
     "output_type": "execute_result"
    }
   ],
   "source": [
    "int_row = pd.read_csv('c:/Users/gandh/dev/unv/smoed/NB/data/interval2.csv')\n",
    "int_row['cum_sum'] = np.round(np.cumsum(int_row['rf']), 3)\n",
    "int_row.to_csv('data/int_row2.csv', index=False)\n",
    "int_row"
   ]
  },
  {
   "cell_type": "code",
   "execution_count": 14,
   "id": "96c464a7-e71d-492f-b68c-98bca80dee37",
   "metadata": {},
   "outputs": [
    {
     "data": {
      "text/html": [
       "<div>\n",
       "<style scoped>\n",
       "    .dataframe tbody tr th:only-of-type {\n",
       "        vertical-align: middle;\n",
       "    }\n",
       "\n",
       "    .dataframe tbody tr th {\n",
       "        vertical-align: top;\n",
       "    }\n",
       "\n",
       "    .dataframe thead th {\n",
       "        text-align: right;\n",
       "    }\n",
       "</style>\n",
       "<table border=\"1\" class=\"dataframe\">\n",
       "  <thead>\n",
       "    <tr style=\"text-align: right;\">\n",
       "      <th></th>\n",
       "      <th>avg_inter</th>\n",
       "      <th>rf</th>\n",
       "      <th>u</th>\n",
       "      <th>nu</th>\n",
       "      <th>nu2</th>\n",
       "      <th>nu3</th>\n",
       "      <th>nu4</th>\n",
       "      <th>nu4+</th>\n",
       "    </tr>\n",
       "  </thead>\n",
       "  <tbody>\n",
       "    <tr>\n",
       "      <th>0</th>\n",
       "      <td>92.9</td>\n",
       "      <td>0.06</td>\n",
       "      <td>-3</td>\n",
       "      <td>-0.18</td>\n",
       "      <td>0.54</td>\n",
       "      <td>-1.62</td>\n",
       "      <td>4.86</td>\n",
       "      <td>0.96</td>\n",
       "    </tr>\n",
       "    <tr>\n",
       "      <th>1</th>\n",
       "      <td>108.9</td>\n",
       "      <td>0.14</td>\n",
       "      <td>-2</td>\n",
       "      <td>-0.28</td>\n",
       "      <td>0.56</td>\n",
       "      <td>-1.12</td>\n",
       "      <td>2.24</td>\n",
       "      <td>0.14</td>\n",
       "    </tr>\n",
       "    <tr>\n",
       "      <th>2</th>\n",
       "      <td>124.9</td>\n",
       "      <td>0.32</td>\n",
       "      <td>-1</td>\n",
       "      <td>-0.32</td>\n",
       "      <td>0.32</td>\n",
       "      <td>-0.32</td>\n",
       "      <td>0.32</td>\n",
       "      <td>0.00</td>\n",
       "    </tr>\n",
       "    <tr>\n",
       "      <th>3</th>\n",
       "      <td>140.9</td>\n",
       "      <td>0.33</td>\n",
       "      <td>0</td>\n",
       "      <td>0.00</td>\n",
       "      <td>0.00</td>\n",
       "      <td>0.00</td>\n",
       "      <td>0.00</td>\n",
       "      <td>0.33</td>\n",
       "    </tr>\n",
       "    <tr>\n",
       "      <th>4</th>\n",
       "      <td>156.9</td>\n",
       "      <td>0.09</td>\n",
       "      <td>1</td>\n",
       "      <td>0.09</td>\n",
       "      <td>0.09</td>\n",
       "      <td>0.09</td>\n",
       "      <td>0.09</td>\n",
       "      <td>1.44</td>\n",
       "    </tr>\n",
       "    <tr>\n",
       "      <th>5</th>\n",
       "      <td>172.9</td>\n",
       "      <td>0.04</td>\n",
       "      <td>2</td>\n",
       "      <td>0.08</td>\n",
       "      <td>0.16</td>\n",
       "      <td>0.32</td>\n",
       "      <td>0.64</td>\n",
       "      <td>3.24</td>\n",
       "    </tr>\n",
       "    <tr>\n",
       "      <th>6</th>\n",
       "      <td>188.3</td>\n",
       "      <td>0.02</td>\n",
       "      <td>3</td>\n",
       "      <td>0.06</td>\n",
       "      <td>0.18</td>\n",
       "      <td>0.54</td>\n",
       "      <td>1.62</td>\n",
       "      <td>5.12</td>\n",
       "    </tr>\n",
       "  </tbody>\n",
       "</table>\n",
       "</div>"
      ],
      "text/plain": [
       "   avg_inter    rf  u    nu   nu2   nu3   nu4  nu4+\n",
       "0       92.9  0.06 -3 -0.18  0.54 -1.62  4.86  0.96\n",
       "1      108.9  0.14 -2 -0.28  0.56 -1.12  2.24  0.14\n",
       "2      124.9  0.32 -1 -0.32  0.32 -0.32  0.32  0.00\n",
       "3      140.9  0.33  0  0.00  0.00  0.00  0.00  0.33\n",
       "4      156.9  0.09  1  0.09  0.09  0.09  0.09  1.44\n",
       "5      172.9  0.04  2  0.08  0.16  0.32  0.64  3.24\n",
       "6      188.3  0.02  3  0.06  0.18  0.54  1.62  5.12"
      ]
     },
     "execution_count": 14,
     "metadata": {},
     "output_type": "execute_result"
    }
   ],
   "source": [
    "usl_mom = int_row.copy()\n",
    "usl_mom = usl_mom.iloc[:, [1,3]]\n",
    "usl_mom['u'] = np.arange(-3,4,1)\n",
    "usl_mom['nu'] = usl_mom['rf']*usl_mom['u']\n",
    "usl_mom['nu2'] = usl_mom['rf']*pow(usl_mom['u'], 2)\n",
    "usl_mom['nu3'] = usl_mom['rf']*pow(usl_mom['u'], 3)\n",
    "usl_mom['nu4'] = usl_mom['rf']*pow(usl_mom['u'], 4)\n",
    "usl_mom['nu4+'] = usl_mom['rf']*pow(usl_mom['u']+1, 4)\n",
    "usl_mom"
   ]
  },
  {
   "cell_type": "code",
   "execution_count": 26,
   "id": "beea6d51-6345-471a-b30a-07d21998f95e",
   "metadata": {},
   "outputs": [
    {
     "data": {
      "text/html": [
       "<div>\n",
       "<style scoped>\n",
       "    .dataframe tbody tr th:only-of-type {\n",
       "        vertical-align: middle;\n",
       "    }\n",
       "\n",
       "    .dataframe tbody tr th {\n",
       "        vertical-align: top;\n",
       "    }\n",
       "\n",
       "    .dataframe thead th {\n",
       "        text-align: right;\n",
       "    }\n",
       "</style>\n",
       "<table border=\"1\" class=\"dataframe\">\n",
       "  <thead>\n",
       "    <tr style=\"text-align: right;\">\n",
       "      <th></th>\n",
       "      <th>avg_inter</th>\n",
       "      <th>rf</th>\n",
       "      <th>u</th>\n",
       "      <th>nu</th>\n",
       "      <th>nu2</th>\n",
       "      <th>nu3</th>\n",
       "      <th>nu4</th>\n",
       "      <th>nu4+</th>\n",
       "    </tr>\n",
       "  </thead>\n",
       "  <tbody>\n",
       "    <tr>\n",
       "      <th>0</th>\n",
       "      <td>92.9</td>\n",
       "      <td>0.06</td>\n",
       "      <td>-3.0</td>\n",
       "      <td>-0.18</td>\n",
       "      <td>0.54</td>\n",
       "      <td>-1.62</td>\n",
       "      <td>4.86</td>\n",
       "      <td>0.96</td>\n",
       "    </tr>\n",
       "    <tr>\n",
       "      <th>1</th>\n",
       "      <td>108.9</td>\n",
       "      <td>0.14</td>\n",
       "      <td>-2.0</td>\n",
       "      <td>-0.28</td>\n",
       "      <td>0.56</td>\n",
       "      <td>-1.12</td>\n",
       "      <td>2.24</td>\n",
       "      <td>0.14</td>\n",
       "    </tr>\n",
       "    <tr>\n",
       "      <th>2</th>\n",
       "      <td>124.9</td>\n",
       "      <td>0.32</td>\n",
       "      <td>-1.0</td>\n",
       "      <td>-0.32</td>\n",
       "      <td>0.32</td>\n",
       "      <td>-0.32</td>\n",
       "      <td>0.32</td>\n",
       "      <td>0.00</td>\n",
       "    </tr>\n",
       "    <tr>\n",
       "      <th>3</th>\n",
       "      <td>140.9</td>\n",
       "      <td>0.33</td>\n",
       "      <td>0.0</td>\n",
       "      <td>0.00</td>\n",
       "      <td>0.00</td>\n",
       "      <td>0.00</td>\n",
       "      <td>0.00</td>\n",
       "      <td>0.33</td>\n",
       "    </tr>\n",
       "    <tr>\n",
       "      <th>4</th>\n",
       "      <td>156.9</td>\n",
       "      <td>0.09</td>\n",
       "      <td>1.0</td>\n",
       "      <td>0.09</td>\n",
       "      <td>0.09</td>\n",
       "      <td>0.09</td>\n",
       "      <td>0.09</td>\n",
       "      <td>1.44</td>\n",
       "    </tr>\n",
       "    <tr>\n",
       "      <th>5</th>\n",
       "      <td>172.9</td>\n",
       "      <td>0.04</td>\n",
       "      <td>2.0</td>\n",
       "      <td>0.08</td>\n",
       "      <td>0.16</td>\n",
       "      <td>0.32</td>\n",
       "      <td>0.64</td>\n",
       "      <td>3.24</td>\n",
       "    </tr>\n",
       "    <tr>\n",
       "      <th>6</th>\n",
       "      <td>188.3</td>\n",
       "      <td>0.02</td>\n",
       "      <td>3.0</td>\n",
       "      <td>0.06</td>\n",
       "      <td>0.18</td>\n",
       "      <td>0.54</td>\n",
       "      <td>1.62</td>\n",
       "      <td>5.12</td>\n",
       "    </tr>\n",
       "    <tr>\n",
       "      <th>7</th>\n",
       "      <td>985.7</td>\n",
       "      <td>1.00</td>\n",
       "      <td>0.0</td>\n",
       "      <td>-0.55</td>\n",
       "      <td>1.85</td>\n",
       "      <td>-2.11</td>\n",
       "      <td>9.77</td>\n",
       "      <td>11.23</td>\n",
       "    </tr>\n",
       "  </tbody>\n",
       "</table>\n",
       "</div>"
      ],
      "text/plain": [
       "   avg_inter    rf    u    nu   nu2   nu3   nu4   nu4+\n",
       "0       92.9  0.06 -3.0 -0.18  0.54 -1.62  4.86   0.96\n",
       "1      108.9  0.14 -2.0 -0.28  0.56 -1.12  2.24   0.14\n",
       "2      124.9  0.32 -1.0 -0.32  0.32 -0.32  0.32   0.00\n",
       "3      140.9  0.33  0.0  0.00  0.00  0.00  0.00   0.33\n",
       "4      156.9  0.09  1.0  0.09  0.09  0.09  0.09   1.44\n",
       "5      172.9  0.04  2.0  0.08  0.16  0.32  0.64   3.24\n",
       "6      188.3  0.02  3.0  0.06  0.18  0.54  1.62   5.12\n",
       "7      985.7  1.00  0.0 -0.55  1.85 -2.11  9.77  11.23"
      ]
     },
     "execution_count": 26,
     "metadata": {},
     "output_type": "execute_result"
    }
   ],
   "source": [
    "usl_mom_f = usl_mom.append(np.round(usl_mom.sum(), 3), ignore_index=True)\n",
    "usl_mom_f.to_csv('data/usl_mom2.csv', index=False)\n",
    "usl_mom_f"
   ]
  },
  {
   "cell_type": "code",
   "execution_count": 27,
   "id": "3fbbab56-7ce9-4423-b1c5-51f607878646",
   "metadata": {},
   "outputs": [
    {
     "data": {
      "text/plain": [
       "'True'"
      ]
     },
     "execution_count": 27,
     "metadata": {},
     "output_type": "execute_result"
    },
    {
     "data": {
      "text/plain": [
       "11.23"
      ]
     },
     "execution_count": 27,
     "metadata": {},
     "output_type": "execute_result"
    }
   ],
   "source": [
    "moms = usl_mom_f.iloc[7, [3,4,5,6]]\n",
    "checker = moms[3]+4*moms[2]+6*moms[1]+4*moms[0]+1\n",
    "'True' if checker == usl_mom_f.loc[7, ['nu4+']][0] else 'False'\n",
    "checker"
   ]
  },
  {
   "cell_type": "code",
   "execution_count": 28,
   "id": "0b9e7adf-9f69-456e-b4ab-5619f01e0d20",
   "metadata": {},
   "outputs": [
    {
     "data": {
      "text/plain": [
       "(132.1, 396.16, 2497.536000000003, 538131.2511999999)"
      ]
     },
     "execution_count": 28,
     "metadata": {},
     "output_type": "execute_result"
    }
   ],
   "source": [
    "M1 = moms[0]*h+140.9\n",
    "m2 = (moms[1] - pow(moms[0],2))*pow(h,2)\n",
    "m3 = (moms[2] - 3*moms[1]*moms[0] + 2*pow(moms[0],3))*pow(h,3)\n",
    "m4 = (moms[3] - 4*moms[2]*moms[0] + 6*moms[1]*pow(moms[0],2) - 3*pow(moms[0],4))*pow(h,4)\n",
    "M1, m2, m3, m4"
   ]
  },
  {
   "cell_type": "code",
   "execution_count": 30,
   "id": "ba318764-56df-4279-9b4b-c13c4f3380c1",
   "metadata": {},
   "outputs": [
    {
     "data": {
      "text/plain": [
       "132.08800000000002"
      ]
     },
     "execution_count": 30,
     "metadata": {},
     "output_type": "execute_result"
    },
    {
     "data": {
      "text/plain": [
       "394.803856"
      ]
     },
     "execution_count": 30,
     "metadata": {},
     "output_type": "execute_result"
    },
    {
     "data": {
      "text/plain": [
       "398.7917737373738"
      ]
     },
     "execution_count": 30,
     "metadata": {},
     "output_type": "execute_result"
    },
    {
     "data": {
      "text/plain": [
       "19.969771499378098"
      ]
     },
     "execution_count": 30,
     "metadata": {},
     "output_type": "execute_result"
    },
    {
     "data": {
      "text/plain": [
       "19.869671763771038"
      ]
     },
     "execution_count": 30,
     "metadata": {},
     "output_type": "execute_result"
    }
   ],
   "source": [
    "int_mean = (int_row['avg_inter']*int_row['af']).sum()/n\n",
    "int_var = (pow((int_row['avg_inter']-int_mean),2)*int_row['af']).sum()/n\n",
    "s = int_var*(n/(n-1))\n",
    "std_s = np.sqrt(s)\n",
    "std_var = np.sqrt(int_var)\n",
    "int_mean\n",
    "int_var\n",
    "s\n",
    "std_s\n",
    "std_var"
   ]
  },
  {
   "cell_type": "code",
   "execution_count": 19,
   "id": "311131bb-7718-4f95-9d51-ceab1d77a5a3",
   "metadata": {},
   "outputs": [
    {
     "data": {
      "text/plain": [
       "(3.937977075311945e-05, -2.999978723340211)"
      ]
     },
     "execution_count": 19,
     "metadata": {},
     "output_type": "execute_result"
    }
   ],
   "source": [
    "As = m3/(pow(s, 3))\n",
    "Ex = (m4/(pow(s, 4))) - 3\n",
    "As, Ex"
   ]
  },
  {
   "cell_type": "code",
   "execution_count": 32,
   "id": "e125fc0e-44da-450b-97c2-5bc5c51a8065",
   "metadata": {},
   "outputs": [
    {
     "data": {
      "text/plain": [
       "E    132.431\n",
       "dtype: float64"
      ]
     },
     "execution_count": 32,
     "metadata": {},
     "output_type": "execute_result"
    }
   ],
   "source": [
    "original.mean()"
   ]
  },
  {
   "cell_type": "code",
   "execution_count": null,
   "id": "56c0fcd7-94bf-4ab2-a2ad-6d2aa23b67cf",
   "metadata": {},
   "outputs": [],
   "source": []
  }
 ],
 "metadata": {
  "kernelspec": {
   "display_name": "Python 3",
   "language": "python",
   "name": "python3"
  },
  "language_info": {
   "codemirror_mode": {
    "name": "ipython",
    "version": 3
   },
   "file_extension": ".py",
   "mimetype": "text/x-python",
   "name": "python",
   "nbconvert_exporter": "python",
   "pygments_lexer": "ipython3",
   "version": "3.8.8"
  }
 },
 "nbformat": 4,
 "nbformat_minor": 5
}
