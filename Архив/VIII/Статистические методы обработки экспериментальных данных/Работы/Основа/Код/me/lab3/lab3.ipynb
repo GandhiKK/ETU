{
 "cells": [
  {
   "cell_type": "code",
   "execution_count": 1,
   "id": "f8b6088b-1cf2-4772-b7b1-aef40e44866a",
   "metadata": {},
   "outputs": [],
   "source": [
    "import numpy as np\n",
    "import pandas as pd\n",
    "import matplotlib.pyplot as plt\n",
    "import seaborn as sns\n",
    "import scipy\n",
    "from IPython.core.interactiveshell import InteractiveShell \n",
    "InteractiveShell.ast_node_interactivity = \"all\"\n",
    "sns.set_theme(style=\"whitegrid\", palette='deep', context='notebook', font_scale=1.3)"
   ]
  },
  {
   "cell_type": "markdown",
   "id": "d2e843a9-3388-44ac-b174-a9391831032c",
   "metadata": {
    "heading_collapsed": "true",
    "tags": []
   },
   "source": [
    "## Переменная $nu$"
   ]
  },
  {
   "cell_type": "code",
   "execution_count": 2,
   "id": "72d35ab1-331e-468b-9cff-828cd7e9313d",
   "metadata": {},
   "outputs": [
    {
     "data": {
      "text/plain": [
       "104"
      ]
     },
     "execution_count": 2,
     "metadata": {},
     "output_type": "execute_result"
    }
   ],
   "source": [
    "int_row = pd.read_csv('c:/Users/gandh/dev/unv/smoed/me/data/interval.csv')\n",
    "N = int_row['af'].sum()\n",
    "h = 37\n",
    "N"
   ]
  },
  {
   "cell_type": "code",
   "execution_count": 3,
   "id": "de66d672-35a9-4bbf-811f-59772b5d1695",
   "metadata": {},
   "outputs": [
    {
     "data": {
      "text/plain": [
       "53.79"
      ]
     },
     "execution_count": 3,
     "metadata": {},
     "output_type": "execute_result"
    }
   ],
   "source": [
    "xv = (np.dot(int_row['avg_inter'], int_row['af'])/N).round(2)\n",
    "dv = (np.dot((int_row['avg_inter']-xv)**2, int_row['af'])/N)\n",
    "s = np.sqrt(dv*(N/(N-1))).round(2)\n",
    "s"
   ]
  },
  {
   "cell_type": "code",
   "execution_count": 4,
   "id": "bb9796cd-dad1-49fd-a24f-4125e686f43d",
   "metadata": {},
   "outputs": [
    {
     "data": {
      "text/plain": [
       "6"
      ]
     },
     "execution_count": 4,
     "metadata": {},
     "output_type": "execute_result"
    }
   ],
   "source": [
    "k = len(int_row)-1\n",
    "gamma = 0.95\n",
    "tg = 1.984\n",
    "k"
   ]
  },
  {
   "cell_type": "code",
   "execution_count": 5,
   "id": "607528ed-6d74-4328-b704-a6eb548936ea",
   "metadata": {},
   "outputs": [
    {
     "data": {
      "text/plain": [
       "453.71"
      ]
     },
     "execution_count": 5,
     "metadata": {},
     "output_type": "execute_result"
    },
    {
     "data": {
      "text/plain": [
       "array([443.25, 464.17])"
      ]
     },
     "execution_count": 5,
     "metadata": {},
     "output_type": "execute_result"
    }
   ],
   "source": [
    "di_a = np.round((xv-tg*s/np.sqrt(N), xv+tg*s/np.sqrt(N)), 2)\n",
    "xv\n",
    "di_a"
   ]
  },
  {
   "cell_type": "code",
   "execution_count": 6,
   "id": "43489ee3-2a8c-4597-891a-b63575be8149",
   "metadata": {},
   "outputs": [
    {
     "data": {
      "text/plain": [
       "53.79"
      ]
     },
     "execution_count": 6,
     "metadata": {},
     "output_type": "execute_result"
    },
    {
     "data": {
      "text/plain": [
       "(46.20561, 61.37439)"
      ]
     },
     "execution_count": 6,
     "metadata": {},
     "output_type": "execute_result"
    }
   ],
   "source": [
    "q = 0.141\n",
    "di_s = (s*(1-q), s*(1+q))\n",
    "s\n",
    "di_s"
   ]
  },
  {
   "cell_type": "code",
   "execution_count": 7,
   "id": "fed9b8f3-20f3-4032-b8f4-05da5aefa9ab",
   "metadata": {},
   "outputs": [],
   "source": [
    "alpha = 0.05"
   ]
  },
  {
   "cell_type": "code",
   "execution_count": 8,
   "id": "6dbc03dc-dc61-4bb8-bd66-12ee3e889e82",
   "metadata": {},
   "outputs": [],
   "source": [
    "df = int_row.copy().drop(['avg_inter', 'inter', 'rf'], axis=1)\n",
    "df['xi'] = int_row['avg_inter']-h/2\n",
    "df['xi+1'] = int_row['avg_inter']+h/2\n",
    "df = df[['xi', 'xi+1', 'af']]\n",
    "df = df.rename(columns={'af': 'ni'})\n",
    "df.iloc[6, 0], df.iloc[6, 1] = 542, 576\n",
    "df['zi'] = np.round((df['xi']-xv)/s, 2)\n",
    "df['zi+1'] = np.round((df['xi+1']-xv)/s, 2)\n",
    "df.loc[0, 'zi'], df.loc[6, 'zi+1'] = -np.inf, np.inf"
   ]
  },
  {
   "cell_type": "code",
   "execution_count": 9,
   "id": "8f98af31-db2c-47df-863e-64040dbaa54a",
   "metadata": {},
   "outputs": [
    {
     "data": {
      "text/html": [
       "<div>\n",
       "<style scoped>\n",
       "    .dataframe tbody tr th:only-of-type {\n",
       "        vertical-align: middle;\n",
       "    }\n",
       "\n",
       "    .dataframe tbody tr th {\n",
       "        vertical-align: top;\n",
       "    }\n",
       "\n",
       "    .dataframe thead th {\n",
       "        text-align: right;\n",
       "    }\n",
       "</style>\n",
       "<table border=\"1\" class=\"dataframe\">\n",
       "  <thead>\n",
       "    <tr style=\"text-align: right;\">\n",
       "      <th></th>\n",
       "      <th>xi</th>\n",
       "      <th>xi+1</th>\n",
       "      <th>ni</th>\n",
       "      <th>zi</th>\n",
       "      <th>zi+1</th>\n",
       "      <th>F(zi)</th>\n",
       "      <th>F(zi+1)</th>\n",
       "      <th>pi</th>\n",
       "      <th>ni*</th>\n",
       "    </tr>\n",
       "  </thead>\n",
       "  <tbody>\n",
       "    <tr>\n",
       "      <th>0</th>\n",
       "      <td>320.0</td>\n",
       "      <td>357.0</td>\n",
       "      <td>5</td>\n",
       "      <td>-inf</td>\n",
       "      <td>-1.80</td>\n",
       "      <td>-0.5000</td>\n",
       "      <td>-0.4641</td>\n",
       "      <td>0.0359</td>\n",
       "      <td>3.7336</td>\n",
       "    </tr>\n",
       "    <tr>\n",
       "      <th>1</th>\n",
       "      <td>357.0</td>\n",
       "      <td>394.0</td>\n",
       "      <td>8</td>\n",
       "      <td>-1.80</td>\n",
       "      <td>-1.11</td>\n",
       "      <td>-0.4641</td>\n",
       "      <td>-0.3665</td>\n",
       "      <td>0.0976</td>\n",
       "      <td>10.1504</td>\n",
       "    </tr>\n",
       "    <tr>\n",
       "      <th>2</th>\n",
       "      <td>394.0</td>\n",
       "      <td>431.0</td>\n",
       "      <td>23</td>\n",
       "      <td>-1.11</td>\n",
       "      <td>-0.42</td>\n",
       "      <td>-0.3665</td>\n",
       "      <td>-0.1628</td>\n",
       "      <td>0.2037</td>\n",
       "      <td>21.1848</td>\n",
       "    </tr>\n",
       "    <tr>\n",
       "      <th>3</th>\n",
       "      <td>431.0</td>\n",
       "      <td>468.0</td>\n",
       "      <td>25</td>\n",
       "      <td>-0.42</td>\n",
       "      <td>0.27</td>\n",
       "      <td>-0.1628</td>\n",
       "      <td>0.1064</td>\n",
       "      <td>0.2692</td>\n",
       "      <td>27.9968</td>\n",
       "    </tr>\n",
       "    <tr>\n",
       "      <th>4</th>\n",
       "      <td>468.0</td>\n",
       "      <td>505.0</td>\n",
       "      <td>24</td>\n",
       "      <td>0.27</td>\n",
       "      <td>0.95</td>\n",
       "      <td>0.1064</td>\n",
       "      <td>0.3289</td>\n",
       "      <td>0.2225</td>\n",
       "      <td>23.1400</td>\n",
       "    </tr>\n",
       "    <tr>\n",
       "      <th>5</th>\n",
       "      <td>505.0</td>\n",
       "      <td>542.0</td>\n",
       "      <td>15</td>\n",
       "      <td>0.95</td>\n",
       "      <td>1.64</td>\n",
       "      <td>0.3289</td>\n",
       "      <td>0.4495</td>\n",
       "      <td>0.1206</td>\n",
       "      <td>12.5424</td>\n",
       "    </tr>\n",
       "    <tr>\n",
       "      <th>6</th>\n",
       "      <td>542.0</td>\n",
       "      <td>576.0</td>\n",
       "      <td>4</td>\n",
       "      <td>1.64</td>\n",
       "      <td>inf</td>\n",
       "      <td>0.4495</td>\n",
       "      <td>0.5000</td>\n",
       "      <td>0.0505</td>\n",
       "      <td>5.2520</td>\n",
       "    </tr>\n",
       "  </tbody>\n",
       "</table>\n",
       "</div>"
      ],
      "text/plain": [
       "      xi   xi+1  ni    zi  zi+1   F(zi)  F(zi+1)      pi      ni*\n",
       "0  320.0  357.0   5  -inf -1.80 -0.5000  -0.4641  0.0359   3.7336\n",
       "1  357.0  394.0   8 -1.80 -1.11 -0.4641  -0.3665  0.0976  10.1504\n",
       "2  394.0  431.0  23 -1.11 -0.42 -0.3665  -0.1628  0.2037  21.1848\n",
       "3  431.0  468.0  25 -0.42  0.27 -0.1628   0.1064  0.2692  27.9968\n",
       "4  468.0  505.0  24  0.27  0.95  0.1064   0.3289  0.2225  23.1400\n",
       "5  505.0  542.0  15  0.95  1.64  0.3289   0.4495  0.1206  12.5424\n",
       "6  542.0  576.0   4  1.64   inf  0.4495   0.5000  0.0505   5.2520"
      ]
     },
     "execution_count": 9,
     "metadata": {},
     "output_type": "execute_result"
    }
   ],
   "source": [
    "df['F(zi)'] = np.array([-5000,-4641,-3665,-1628,1064,3289,4495])/10000\n",
    "df['F(zi+1)'] = np.array([-4641,-3665,-1628,1064,3289,4495,5000])/10000\n",
    "df['pi'] = np.round(df['F(zi+1)'] - df['F(zi)'], 4)\n",
    "df['ni*'] = np.round(df['pi']*N, 4)\n",
    "df.to_csv('data/data1.csv', index=False)\n",
    "df"
   ]
  },
  {
   "cell_type": "code",
   "execution_count": 10,
   "id": "42e07d0d-2e59-4a09-8dce-44a93fdc17b6",
   "metadata": {},
   "outputs": [
    {
     "data": {
      "text/html": [
       "<div>\n",
       "<style scoped>\n",
       "    .dataframe tbody tr th:only-of-type {\n",
       "        vertical-align: middle;\n",
       "    }\n",
       "\n",
       "    .dataframe tbody tr th {\n",
       "        vertical-align: top;\n",
       "    }\n",
       "\n",
       "    .dataframe thead th {\n",
       "        text-align: right;\n",
       "    }\n",
       "</style>\n",
       "<table border=\"1\" class=\"dataframe\">\n",
       "  <thead>\n",
       "    <tr style=\"text-align: right;\">\n",
       "      <th></th>\n",
       "      <th>ni</th>\n",
       "      <th>ni*</th>\n",
       "      <th>-</th>\n",
       "      <th>-2</th>\n",
       "      <th>-2/</th>\n",
       "    </tr>\n",
       "  </thead>\n",
       "  <tbody>\n",
       "    <tr>\n",
       "      <th>0</th>\n",
       "      <td>5</td>\n",
       "      <td>3.7336</td>\n",
       "      <td>1.2664</td>\n",
       "      <td>1.6038</td>\n",
       "      <td>0.4296</td>\n",
       "    </tr>\n",
       "    <tr>\n",
       "      <th>1</th>\n",
       "      <td>8</td>\n",
       "      <td>10.1504</td>\n",
       "      <td>-2.1504</td>\n",
       "      <td>4.6242</td>\n",
       "      <td>0.4556</td>\n",
       "    </tr>\n",
       "    <tr>\n",
       "      <th>2</th>\n",
       "      <td>23</td>\n",
       "      <td>21.1848</td>\n",
       "      <td>1.8152</td>\n",
       "      <td>3.2950</td>\n",
       "      <td>0.1555</td>\n",
       "    </tr>\n",
       "    <tr>\n",
       "      <th>3</th>\n",
       "      <td>25</td>\n",
       "      <td>27.9968</td>\n",
       "      <td>-2.9968</td>\n",
       "      <td>8.9808</td>\n",
       "      <td>0.3208</td>\n",
       "    </tr>\n",
       "    <tr>\n",
       "      <th>4</th>\n",
       "      <td>24</td>\n",
       "      <td>23.1400</td>\n",
       "      <td>0.8600</td>\n",
       "      <td>0.7396</td>\n",
       "      <td>0.0320</td>\n",
       "    </tr>\n",
       "    <tr>\n",
       "      <th>5</th>\n",
       "      <td>15</td>\n",
       "      <td>12.5424</td>\n",
       "      <td>2.4576</td>\n",
       "      <td>6.0398</td>\n",
       "      <td>0.4816</td>\n",
       "    </tr>\n",
       "    <tr>\n",
       "      <th>6</th>\n",
       "      <td>4</td>\n",
       "      <td>5.2520</td>\n",
       "      <td>-1.2520</td>\n",
       "      <td>1.5675</td>\n",
       "      <td>0.2985</td>\n",
       "    </tr>\n",
       "  </tbody>\n",
       "</table>\n",
       "</div>"
      ],
      "text/plain": [
       "   ni      ni*       -      -2     -2/\n",
       "0   5   3.7336  1.2664  1.6038  0.4296\n",
       "1   8  10.1504 -2.1504  4.6242  0.4556\n",
       "2  23  21.1848  1.8152  3.2950  0.1555\n",
       "3  25  27.9968 -2.9968  8.9808  0.3208\n",
       "4  24  23.1400  0.8600  0.7396  0.0320\n",
       "5  15  12.5424  2.4576  6.0398  0.4816\n",
       "6   4   5.2520 -1.2520  1.5675  0.2985"
      ]
     },
     "execution_count": 10,
     "metadata": {},
     "output_type": "execute_result"
    }
   ],
   "source": [
    "df_nabl = pd.DataFrame()\n",
    "df_nabl['ni'], df_nabl['ni*'] = df['ni'], df['ni*']\n",
    "df_nabl['-'] = np.round(df_nabl['ni']-df_nabl['ni*'], 4)\n",
    "df_nabl['-2'] = np.round(df_nabl['-']**2, 4)\n",
    "df_nabl['-2/'] = np.round(df_nabl['-2']/df_nabl['ni*'], 4)\n",
    "df_nabl.to_csv('data/data2.csv', index=False)\n",
    "hi_nabl = df_nabl['-2/'].sum().round(4)\n",
    "df_nabl"
   ]
  },
  {
   "cell_type": "code",
   "execution_count": 11,
   "id": "31955202-0889-41fc-8982-8c7210c985de",
   "metadata": {},
   "outputs": [
    {
     "data": {
      "text/plain": [
       "(4, 0.05)"
      ]
     },
     "execution_count": 11,
     "metadata": {},
     "output_type": "execute_result"
    },
    {
     "data": {
      "text/plain": [
       "(2.1736, 9.5)"
      ]
     },
     "execution_count": 11,
     "metadata": {},
     "output_type": "execute_result"
    },
    {
     "data": {
      "text/plain": [
       "'True'"
      ]
     },
     "execution_count": 11,
     "metadata": {},
     "output_type": "execute_result"
    }
   ],
   "source": [
    "k = len(df)-3\n",
    "(k, alpha)\n",
    "hi_crit = 9.5\n",
    "(hi_nabl, hi_crit)\n",
    "'True' if hi_nabl <= hi_crit else 'False'"
   ]
  },
  {
   "cell_type": "markdown",
   "id": "1f4d36ef-9841-457a-8860-842a3f14ec4f",
   "metadata": {
    "tags": []
   },
   "source": [
    "## Переменная $E$"
   ]
  },
  {
   "cell_type": "code",
   "execution_count": 12,
   "id": "06dffc9e-676c-4c21-9cbf-7ea092c82347",
   "metadata": {},
   "outputs": [
    {
     "data": {
      "text/plain": [
       "104"
      ]
     },
     "execution_count": 12,
     "metadata": {},
     "output_type": "execute_result"
    },
    {
     "data": {
      "text/html": [
       "<div>\n",
       "<style scoped>\n",
       "    .dataframe tbody tr th:only-of-type {\n",
       "        vertical-align: middle;\n",
       "    }\n",
       "\n",
       "    .dataframe tbody tr th {\n",
       "        vertical-align: top;\n",
       "    }\n",
       "\n",
       "    .dataframe thead th {\n",
       "        text-align: right;\n",
       "    }\n",
       "</style>\n",
       "<table border=\"1\" class=\"dataframe\">\n",
       "  <thead>\n",
       "    <tr style=\"text-align: right;\">\n",
       "      <th></th>\n",
       "      <th>inter</th>\n",
       "      <th>avg_inter</th>\n",
       "      <th>af</th>\n",
       "      <th>rf</th>\n",
       "    </tr>\n",
       "  </thead>\n",
       "  <tbody>\n",
       "    <tr>\n",
       "      <th>0</th>\n",
       "      <td>[64.5, 80.6)</td>\n",
       "      <td>72.55</td>\n",
       "      <td>2</td>\n",
       "      <td>0.019</td>\n",
       "    </tr>\n",
       "    <tr>\n",
       "      <th>1</th>\n",
       "      <td>[80.6, 96.7)</td>\n",
       "      <td>88.65</td>\n",
       "      <td>5</td>\n",
       "      <td>0.048</td>\n",
       "    </tr>\n",
       "    <tr>\n",
       "      <th>2</th>\n",
       "      <td>[96.7, 112.8)</td>\n",
       "      <td>104.75</td>\n",
       "      <td>15</td>\n",
       "      <td>0.144</td>\n",
       "    </tr>\n",
       "    <tr>\n",
       "      <th>3</th>\n",
       "      <td>[112.8, 128.9)</td>\n",
       "      <td>120.85</td>\n",
       "      <td>27</td>\n",
       "      <td>0.260</td>\n",
       "    </tr>\n",
       "    <tr>\n",
       "      <th>4</th>\n",
       "      <td>[128.9, 145.0)</td>\n",
       "      <td>136.95</td>\n",
       "      <td>27</td>\n",
       "      <td>0.260</td>\n",
       "    </tr>\n",
       "    <tr>\n",
       "      <th>5</th>\n",
       "      <td>[145.0, 161.1)</td>\n",
       "      <td>153.05</td>\n",
       "      <td>21</td>\n",
       "      <td>0.202</td>\n",
       "    </tr>\n",
       "    <tr>\n",
       "      <th>6</th>\n",
       "      <td>[161.1, 177.0)</td>\n",
       "      <td>169.05</td>\n",
       "      <td>7</td>\n",
       "      <td>0.067</td>\n",
       "    </tr>\n",
       "  </tbody>\n",
       "</table>\n",
       "</div>"
      ],
      "text/plain": [
       "            inter  avg_inter  af     rf\n",
       "0    [64.5, 80.6)      72.55   2  0.019\n",
       "1    [80.6, 96.7)      88.65   5  0.048\n",
       "2   [96.7, 112.8)     104.75  15  0.144\n",
       "3  [112.8, 128.9)     120.85  27  0.260\n",
       "4  [128.9, 145.0)     136.95  27  0.260\n",
       "5  [145.0, 161.1)     153.05  21  0.202\n",
       "6  [161.1, 177.0)     169.05   7  0.067"
      ]
     },
     "execution_count": 12,
     "metadata": {},
     "output_type": "execute_result"
    }
   ],
   "source": [
    "int_row = pd.read_csv('c:/Users/gandh/dev/unv/smoed/me/data/interval2.csv')\n",
    "N = int_row['af'].sum()\n",
    "h = 16.1\n",
    "N\n",
    "int_row"
   ]
  },
  {
   "cell_type": "code",
   "execution_count": 13,
   "id": "86d56436-30a6-459e-8e19-a6e5fc3dbd69",
   "metadata": {},
   "outputs": [
    {
     "data": {
      "text/plain": [
       "129.98"
      ]
     },
     "execution_count": 13,
     "metadata": {},
     "output_type": "execute_result"
    },
    {
     "data": {
      "text/plain": [
       "481.82543846153806"
      ]
     },
     "execution_count": 13,
     "metadata": {},
     "output_type": "execute_result"
    },
    {
     "data": {
      "text/plain": [
       "22.06"
      ]
     },
     "execution_count": 13,
     "metadata": {},
     "output_type": "execute_result"
    }
   ],
   "source": [
    "xv = (np.dot(int_row['avg_inter'], int_row['af'])/N).round(2)\n",
    "dv = (np.dot((int_row['avg_inter']-xv)**2, int_row['af'])/N)\n",
    "s = np.sqrt(dv*(N/(N-1))).round(2)\n",
    "xv\n",
    "dv\n",
    "s"
   ]
  },
  {
   "cell_type": "code",
   "execution_count": 14,
   "id": "18f9e588-8098-4a2d-bc4f-105ebcfbcbb8",
   "metadata": {},
   "outputs": [
    {
     "data": {
      "text/plain": [
       "6"
      ]
     },
     "execution_count": 14,
     "metadata": {},
     "output_type": "execute_result"
    }
   ],
   "source": [
    "k = len(int_row)-1\n",
    "gamma = 0.95\n",
    "tg = 1.984 \n",
    "k"
   ]
  },
  {
   "cell_type": "code",
   "execution_count": 15,
   "id": "1176de28-0b4b-4b52-a42c-7d456a360932",
   "metadata": {},
   "outputs": [
    {
     "data": {
      "text/plain": [
       "129.98"
      ]
     },
     "execution_count": 15,
     "metadata": {},
     "output_type": "execute_result"
    },
    {
     "data": {
      "text/plain": [
       "array([125.69, 134.27])"
      ]
     },
     "execution_count": 15,
     "metadata": {},
     "output_type": "execute_result"
    }
   ],
   "source": [
    "di_a = np.round((xv-tg*s/np.sqrt(N), xv+tg*s/np.sqrt(N)), 2)\n",
    "xv\n",
    "di_a"
   ]
  },
  {
   "cell_type": "code",
   "execution_count": 16,
   "id": "cc769ad9-8d01-4bed-98ba-3a13d2f9c49a",
   "metadata": {},
   "outputs": [
    {
     "data": {
      "text/plain": [
       "22.06"
      ]
     },
     "execution_count": 16,
     "metadata": {},
     "output_type": "execute_result"
    },
    {
     "data": {
      "text/plain": [
       "(18.94954, 25.17046)"
      ]
     },
     "execution_count": 16,
     "metadata": {},
     "output_type": "execute_result"
    }
   ],
   "source": [
    "q = 0.141\n",
    "di_s = (s*(1-q), s*(1+q))\n",
    "s\n",
    "di_s"
   ]
  },
  {
   "cell_type": "code",
   "execution_count": 17,
   "id": "3160fbc0-da15-493f-9fb6-076dabdcae32",
   "metadata": {},
   "outputs": [],
   "source": [
    "alpha = 0.05"
   ]
  },
  {
   "cell_type": "code",
   "execution_count": 18,
   "id": "bc03bd79-e7d1-4a6c-9614-75e4aea0175e",
   "metadata": {},
   "outputs": [
    {
     "data": {
      "text/html": [
       "<div>\n",
       "<style scoped>\n",
       "    .dataframe tbody tr th:only-of-type {\n",
       "        vertical-align: middle;\n",
       "    }\n",
       "\n",
       "    .dataframe tbody tr th {\n",
       "        vertical-align: top;\n",
       "    }\n",
       "\n",
       "    .dataframe thead th {\n",
       "        text-align: right;\n",
       "    }\n",
       "</style>\n",
       "<table border=\"1\" class=\"dataframe\">\n",
       "  <thead>\n",
       "    <tr style=\"text-align: right;\">\n",
       "      <th></th>\n",
       "      <th>inter</th>\n",
       "      <th>avg_inter</th>\n",
       "      <th>af</th>\n",
       "      <th>rf</th>\n",
       "    </tr>\n",
       "  </thead>\n",
       "  <tbody>\n",
       "    <tr>\n",
       "      <th>0</th>\n",
       "      <td>[64.5, 80.6)</td>\n",
       "      <td>72.55</td>\n",
       "      <td>2</td>\n",
       "      <td>0.019</td>\n",
       "    </tr>\n",
       "    <tr>\n",
       "      <th>1</th>\n",
       "      <td>[80.6, 96.7)</td>\n",
       "      <td>88.65</td>\n",
       "      <td>5</td>\n",
       "      <td>0.048</td>\n",
       "    </tr>\n",
       "    <tr>\n",
       "      <th>2</th>\n",
       "      <td>[96.7, 112.8)</td>\n",
       "      <td>104.75</td>\n",
       "      <td>15</td>\n",
       "      <td>0.144</td>\n",
       "    </tr>\n",
       "    <tr>\n",
       "      <th>3</th>\n",
       "      <td>[112.8, 128.9)</td>\n",
       "      <td>120.85</td>\n",
       "      <td>27</td>\n",
       "      <td>0.260</td>\n",
       "    </tr>\n",
       "    <tr>\n",
       "      <th>4</th>\n",
       "      <td>[128.9, 145.0)</td>\n",
       "      <td>136.95</td>\n",
       "      <td>27</td>\n",
       "      <td>0.260</td>\n",
       "    </tr>\n",
       "    <tr>\n",
       "      <th>5</th>\n",
       "      <td>[145.0, 161.1)</td>\n",
       "      <td>153.05</td>\n",
       "      <td>21</td>\n",
       "      <td>0.202</td>\n",
       "    </tr>\n",
       "    <tr>\n",
       "      <th>6</th>\n",
       "      <td>[161.1, 177.0)</td>\n",
       "      <td>169.05</td>\n",
       "      <td>7</td>\n",
       "      <td>0.067</td>\n",
       "    </tr>\n",
       "  </tbody>\n",
       "</table>\n",
       "</div>"
      ],
      "text/plain": [
       "            inter  avg_inter  af     rf\n",
       "0    [64.5, 80.6)      72.55   2  0.019\n",
       "1    [80.6, 96.7)      88.65   5  0.048\n",
       "2   [96.7, 112.8)     104.75  15  0.144\n",
       "3  [112.8, 128.9)     120.85  27  0.260\n",
       "4  [128.9, 145.0)     136.95  27  0.260\n",
       "5  [145.0, 161.1)     153.05  21  0.202\n",
       "6  [161.1, 177.0)     169.05   7  0.067"
      ]
     },
     "execution_count": 18,
     "metadata": {},
     "output_type": "execute_result"
    },
    {
     "data": {
      "text/plain": [
       "16.1"
      ]
     },
     "execution_count": 18,
     "metadata": {},
     "output_type": "execute_result"
    }
   ],
   "source": [
    "int_row\n",
    "h"
   ]
  },
  {
   "cell_type": "code",
   "execution_count": 19,
   "id": "60ab7d18-0456-488a-90df-fe2a02dfec19",
   "metadata": {},
   "outputs": [
    {
     "data": {
      "text/html": [
       "<div>\n",
       "<style scoped>\n",
       "    .dataframe tbody tr th:only-of-type {\n",
       "        vertical-align: middle;\n",
       "    }\n",
       "\n",
       "    .dataframe tbody tr th {\n",
       "        vertical-align: top;\n",
       "    }\n",
       "\n",
       "    .dataframe thead th {\n",
       "        text-align: right;\n",
       "    }\n",
       "</style>\n",
       "<table border=\"1\" class=\"dataframe\">\n",
       "  <thead>\n",
       "    <tr style=\"text-align: right;\">\n",
       "      <th></th>\n",
       "      <th>xi</th>\n",
       "      <th>xi+1</th>\n",
       "      <th>ni</th>\n",
       "      <th>zi</th>\n",
       "      <th>zi+1</th>\n",
       "    </tr>\n",
       "  </thead>\n",
       "  <tbody>\n",
       "    <tr>\n",
       "      <th>0</th>\n",
       "      <td>64.5</td>\n",
       "      <td>80.6</td>\n",
       "      <td>2</td>\n",
       "      <td>-inf</td>\n",
       "      <td>-2.24</td>\n",
       "    </tr>\n",
       "    <tr>\n",
       "      <th>1</th>\n",
       "      <td>80.6</td>\n",
       "      <td>96.7</td>\n",
       "      <td>5</td>\n",
       "      <td>-2.24</td>\n",
       "      <td>-1.51</td>\n",
       "    </tr>\n",
       "    <tr>\n",
       "      <th>2</th>\n",
       "      <td>96.7</td>\n",
       "      <td>112.8</td>\n",
       "      <td>15</td>\n",
       "      <td>-1.51</td>\n",
       "      <td>-0.78</td>\n",
       "    </tr>\n",
       "    <tr>\n",
       "      <th>3</th>\n",
       "      <td>112.8</td>\n",
       "      <td>128.9</td>\n",
       "      <td>27</td>\n",
       "      <td>-0.78</td>\n",
       "      <td>-0.05</td>\n",
       "    </tr>\n",
       "    <tr>\n",
       "      <th>4</th>\n",
       "      <td>128.9</td>\n",
       "      <td>145.0</td>\n",
       "      <td>27</td>\n",
       "      <td>-0.05</td>\n",
       "      <td>0.68</td>\n",
       "    </tr>\n",
       "    <tr>\n",
       "      <th>5</th>\n",
       "      <td>145.0</td>\n",
       "      <td>161.1</td>\n",
       "      <td>21</td>\n",
       "      <td>0.68</td>\n",
       "      <td>1.41</td>\n",
       "    </tr>\n",
       "    <tr>\n",
       "      <th>6</th>\n",
       "      <td>161.1</td>\n",
       "      <td>177.0</td>\n",
       "      <td>7</td>\n",
       "      <td>1.41</td>\n",
       "      <td>inf</td>\n",
       "    </tr>\n",
       "  </tbody>\n",
       "</table>\n",
       "</div>"
      ],
      "text/plain": [
       "      xi   xi+1  ni    zi  zi+1\n",
       "0   64.5   80.6   2  -inf -2.24\n",
       "1   80.6   96.7   5 -2.24 -1.51\n",
       "2   96.7  112.8  15 -1.51 -0.78\n",
       "3  112.8  128.9  27 -0.78 -0.05\n",
       "4  128.9  145.0  27 -0.05  0.68\n",
       "5  145.0  161.1  21  0.68  1.41\n",
       "6  161.1  177.0   7  1.41   inf"
      ]
     },
     "execution_count": 19,
     "metadata": {},
     "output_type": "execute_result"
    }
   ],
   "source": [
    "df = int_row.copy().drop(['avg_inter', 'inter', 'rf'], axis=1)\n",
    "df['xi'] = int_row['avg_inter']-h/2\n",
    "df['xi+1'] = int_row['avg_inter']+h/2\n",
    "df = df[['xi', 'xi+1', 'af']]\n",
    "df = df.rename(columns={'af': 'ni'})\n",
    "df.iloc[6, 0], df.iloc[6, 1] = 161.1, 177\n",
    "df['zi'] = np.round((df['xi']-xv)/s, 2)\n",
    "df['zi+1'] = np.round((df['xi+1']-xv)/s, 2)\n",
    "df.loc[0, 'zi'], df.loc[6, 'zi+1'] = -np.inf, np.inf\n",
    "df"
   ]
  },
  {
   "cell_type": "code",
   "execution_count": 20,
   "id": "074aa288-f435-40b3-9023-b8bf81c5cd1c",
   "metadata": {},
   "outputs": [
    {
     "data": {
      "text/html": [
       "<div>\n",
       "<style scoped>\n",
       "    .dataframe tbody tr th:only-of-type {\n",
       "        vertical-align: middle;\n",
       "    }\n",
       "\n",
       "    .dataframe tbody tr th {\n",
       "        vertical-align: top;\n",
       "    }\n",
       "\n",
       "    .dataframe thead th {\n",
       "        text-align: right;\n",
       "    }\n",
       "</style>\n",
       "<table border=\"1\" class=\"dataframe\">\n",
       "  <thead>\n",
       "    <tr style=\"text-align: right;\">\n",
       "      <th></th>\n",
       "      <th>xi</th>\n",
       "      <th>xi+1</th>\n",
       "      <th>ni</th>\n",
       "      <th>zi</th>\n",
       "      <th>zi+1</th>\n",
       "      <th>F(zi)</th>\n",
       "      <th>F(zi+1)</th>\n",
       "      <th>pi</th>\n",
       "      <th>ni*</th>\n",
       "    </tr>\n",
       "  </thead>\n",
       "  <tbody>\n",
       "    <tr>\n",
       "      <th>0</th>\n",
       "      <td>64.5</td>\n",
       "      <td>80.6</td>\n",
       "      <td>2</td>\n",
       "      <td>-inf</td>\n",
       "      <td>-2.24</td>\n",
       "      <td>-0.5000</td>\n",
       "      <td>-0.4875</td>\n",
       "      <td>0.0125</td>\n",
       "      <td>1.3000</td>\n",
       "    </tr>\n",
       "    <tr>\n",
       "      <th>1</th>\n",
       "      <td>80.6</td>\n",
       "      <td>96.7</td>\n",
       "      <td>5</td>\n",
       "      <td>-2.24</td>\n",
       "      <td>-1.51</td>\n",
       "      <td>-0.4875</td>\n",
       "      <td>-0.4345</td>\n",
       "      <td>0.0530</td>\n",
       "      <td>5.5120</td>\n",
       "    </tr>\n",
       "    <tr>\n",
       "      <th>2</th>\n",
       "      <td>96.7</td>\n",
       "      <td>112.8</td>\n",
       "      <td>15</td>\n",
       "      <td>-1.51</td>\n",
       "      <td>-0.78</td>\n",
       "      <td>-0.4345</td>\n",
       "      <td>-0.2823</td>\n",
       "      <td>0.1522</td>\n",
       "      <td>15.8288</td>\n",
       "    </tr>\n",
       "    <tr>\n",
       "      <th>3</th>\n",
       "      <td>112.8</td>\n",
       "      <td>128.9</td>\n",
       "      <td>27</td>\n",
       "      <td>-0.78</td>\n",
       "      <td>-0.05</td>\n",
       "      <td>-0.2823</td>\n",
       "      <td>-0.0199</td>\n",
       "      <td>0.2624</td>\n",
       "      <td>27.2896</td>\n",
       "    </tr>\n",
       "    <tr>\n",
       "      <th>4</th>\n",
       "      <td>128.9</td>\n",
       "      <td>145.0</td>\n",
       "      <td>27</td>\n",
       "      <td>-0.05</td>\n",
       "      <td>0.68</td>\n",
       "      <td>-0.0199</td>\n",
       "      <td>0.2517</td>\n",
       "      <td>0.2716</td>\n",
       "      <td>28.2464</td>\n",
       "    </tr>\n",
       "    <tr>\n",
       "      <th>5</th>\n",
       "      <td>145.0</td>\n",
       "      <td>161.1</td>\n",
       "      <td>21</td>\n",
       "      <td>0.68</td>\n",
       "      <td>1.41</td>\n",
       "      <td>0.2517</td>\n",
       "      <td>0.4207</td>\n",
       "      <td>0.1690</td>\n",
       "      <td>17.5760</td>\n",
       "    </tr>\n",
       "    <tr>\n",
       "      <th>6</th>\n",
       "      <td>161.1</td>\n",
       "      <td>177.0</td>\n",
       "      <td>7</td>\n",
       "      <td>1.41</td>\n",
       "      <td>inf</td>\n",
       "      <td>0.4207</td>\n",
       "      <td>0.5000</td>\n",
       "      <td>0.0793</td>\n",
       "      <td>8.2472</td>\n",
       "    </tr>\n",
       "  </tbody>\n",
       "</table>\n",
       "</div>"
      ],
      "text/plain": [
       "      xi   xi+1  ni    zi  zi+1   F(zi)  F(zi+1)      pi      ni*\n",
       "0   64.5   80.6   2  -inf -2.24 -0.5000  -0.4875  0.0125   1.3000\n",
       "1   80.6   96.7   5 -2.24 -1.51 -0.4875  -0.4345  0.0530   5.5120\n",
       "2   96.7  112.8  15 -1.51 -0.78 -0.4345  -0.2823  0.1522  15.8288\n",
       "3  112.8  128.9  27 -0.78 -0.05 -0.2823  -0.0199  0.2624  27.2896\n",
       "4  128.9  145.0  27 -0.05  0.68 -0.0199   0.2517  0.2716  28.2464\n",
       "5  145.0  161.1  21  0.68  1.41  0.2517   0.4207  0.1690  17.5760\n",
       "6  161.1  177.0   7  1.41   inf  0.4207   0.5000  0.0793   8.2472"
      ]
     },
     "execution_count": 20,
     "metadata": {},
     "output_type": "execute_result"
    }
   ],
   "source": [
    "df['F(zi)'] = np.array([-5000,-4875,-4345,-2823,-199,2517,4207])/10000\n",
    "df['F(zi+1)'] = np.array([-4875,-4345,-2823,-199,2517,4207,5000])/10000\n",
    "df['pi'] = np.round(df['F(zi+1)'] - df['F(zi)'], 4)\n",
    "df['ni*'] = np.round(df['pi']*N, 4)\n",
    "df.to_csv('data/data1_2.csv', index=False)\n",
    "df"
   ]
  },
  {
   "cell_type": "code",
   "execution_count": 21,
   "id": "2a6965f2-2f41-4dc4-8971-d0d3d89d7b13",
   "metadata": {},
   "outputs": [
    {
     "data": {
      "text/html": [
       "<div>\n",
       "<style scoped>\n",
       "    .dataframe tbody tr th:only-of-type {\n",
       "        vertical-align: middle;\n",
       "    }\n",
       "\n",
       "    .dataframe tbody tr th {\n",
       "        vertical-align: top;\n",
       "    }\n",
       "\n",
       "    .dataframe thead th {\n",
       "        text-align: right;\n",
       "    }\n",
       "</style>\n",
       "<table border=\"1\" class=\"dataframe\">\n",
       "  <thead>\n",
       "    <tr style=\"text-align: right;\">\n",
       "      <th></th>\n",
       "      <th>ni</th>\n",
       "      <th>ni*</th>\n",
       "      <th>-</th>\n",
       "      <th>-2</th>\n",
       "      <th>-2/</th>\n",
       "    </tr>\n",
       "  </thead>\n",
       "  <tbody>\n",
       "    <tr>\n",
       "      <th>0</th>\n",
       "      <td>2</td>\n",
       "      <td>1.3000</td>\n",
       "      <td>0.7000</td>\n",
       "      <td>0.4900</td>\n",
       "      <td>0.3769</td>\n",
       "    </tr>\n",
       "    <tr>\n",
       "      <th>1</th>\n",
       "      <td>5</td>\n",
       "      <td>5.5120</td>\n",
       "      <td>-0.5120</td>\n",
       "      <td>0.2621</td>\n",
       "      <td>0.0476</td>\n",
       "    </tr>\n",
       "    <tr>\n",
       "      <th>2</th>\n",
       "      <td>15</td>\n",
       "      <td>15.8288</td>\n",
       "      <td>-0.8288</td>\n",
       "      <td>0.6869</td>\n",
       "      <td>0.0434</td>\n",
       "    </tr>\n",
       "    <tr>\n",
       "      <th>3</th>\n",
       "      <td>27</td>\n",
       "      <td>27.2896</td>\n",
       "      <td>-0.2896</td>\n",
       "      <td>0.0839</td>\n",
       "      <td>0.0031</td>\n",
       "    </tr>\n",
       "    <tr>\n",
       "      <th>4</th>\n",
       "      <td>27</td>\n",
       "      <td>28.2464</td>\n",
       "      <td>-1.2464</td>\n",
       "      <td>1.5535</td>\n",
       "      <td>0.0550</td>\n",
       "    </tr>\n",
       "    <tr>\n",
       "      <th>5</th>\n",
       "      <td>21</td>\n",
       "      <td>17.5760</td>\n",
       "      <td>3.4240</td>\n",
       "      <td>11.7238</td>\n",
       "      <td>0.6670</td>\n",
       "    </tr>\n",
       "    <tr>\n",
       "      <th>6</th>\n",
       "      <td>7</td>\n",
       "      <td>8.2472</td>\n",
       "      <td>-1.2472</td>\n",
       "      <td>1.5555</td>\n",
       "      <td>0.1886</td>\n",
       "    </tr>\n",
       "  </tbody>\n",
       "</table>\n",
       "</div>"
      ],
      "text/plain": [
       "   ni      ni*       -       -2     -2/\n",
       "0   2   1.3000  0.7000   0.4900  0.3769\n",
       "1   5   5.5120 -0.5120   0.2621  0.0476\n",
       "2  15  15.8288 -0.8288   0.6869  0.0434\n",
       "3  27  27.2896 -0.2896   0.0839  0.0031\n",
       "4  27  28.2464 -1.2464   1.5535  0.0550\n",
       "5  21  17.5760  3.4240  11.7238  0.6670\n",
       "6   7   8.2472 -1.2472   1.5555  0.1886"
      ]
     },
     "execution_count": 21,
     "metadata": {},
     "output_type": "execute_result"
    }
   ],
   "source": [
    "df_nabl = pd.DataFrame()\n",
    "df_nabl['ni'], df_nabl['ni*'] = df['ni'], df['ni*']\n",
    "df_nabl['-'] = np.round(df_nabl['ni']-df_nabl['ni*'], 4)\n",
    "df_nabl['-2'] = np.round(df_nabl['-']**2, 4)\n",
    "df_nabl['-2/'] = np.round(df_nabl['-2']/df_nabl['ni*'], 4)\n",
    "df_nabl.to_csv('data/data2_2.csv', index=False)\n",
    "hi_nabl = df_nabl['-2/'].sum().round(4)\n",
    "df_nabl"
   ]
  },
  {
   "cell_type": "code",
   "execution_count": 22,
   "id": "9dfa6653-e9f3-40c5-93d9-be231b3962fc",
   "metadata": {},
   "outputs": [
    {
     "data": {
      "text/plain": [
       "(4, 0.05)"
      ]
     },
     "execution_count": 22,
     "metadata": {},
     "output_type": "execute_result"
    },
    {
     "data": {
      "text/plain": [
       "(1.3816, 9.5)"
      ]
     },
     "execution_count": 22,
     "metadata": {},
     "output_type": "execute_result"
    },
    {
     "data": {
      "text/plain": [
       "'True'"
      ]
     },
     "execution_count": 22,
     "metadata": {},
     "output_type": "execute_result"
    }
   ],
   "source": [
    "k = len(df)-3\n",
    "(k, alpha)\n",
    "hi_crit = 9.5\n",
    "(hi_nabl, hi_crit)\n",
    "'True' if hi_nabl <= hi_crit else 'False'"
   ]
  },
  {
   "cell_type": "code",
   "execution_count": null,
   "id": "8228cde3-8b67-44cc-814b-0d77292ba383",
   "metadata": {},
   "outputs": [],
   "source": []
  }
 ],
 "metadata": {
  "kernelspec": {
   "display_name": "Python 3",
   "language": "python",
   "name": "python3"
  },
  "language_info": {
   "codemirror_mode": {
    "name": "ipython",
    "version": 3
   },
   "file_extension": ".py",
   "mimetype": "text/x-python",
   "name": "python",
   "nbconvert_exporter": "python",
   "pygments_lexer": "ipython3",
   "version": "3.8.8"
  }
 },
 "nbformat": 4,
 "nbformat_minor": 5
}
