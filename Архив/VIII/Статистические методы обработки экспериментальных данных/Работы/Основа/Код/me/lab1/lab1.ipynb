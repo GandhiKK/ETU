{
 "cells": [
  {
   "cell_type": "code",
   "execution_count": 1,
   "id": "caf847b8-02e7-4544-83ea-62511fa38e67",
   "metadata": {},
   "outputs": [],
   "source": [
    "import numpy as np\n",
    "import pandas as pd\n",
    "import matplotlib.pyplot as plt\n",
    "import seaborn as sns\n",
    "from IPython.core.interactiveshell import InteractiveShell \n",
    "InteractiveShell.ast_node_interactivity = \"all\""
   ]
  },
  {
   "cell_type": "markdown",
   "id": "91b7849e-7cf6-41bf-a13a-529168013060",
   "metadata": {
    "heading_collapsed": "true",
    "tags": []
   },
   "source": [
    "# Выборка"
   ]
  },
  {
   "cell_type": "code",
   "execution_count": 2,
   "id": "3cd7f776-291b-4061-9dbe-bfa7c947dac2",
   "metadata": {},
   "outputs": [
    {
     "data": {
      "text/plain": [
       "104"
      ]
     },
     "execution_count": 2,
     "metadata": {},
     "output_type": "execute_result"
    }
   ],
   "source": [
    "raw = pd.read_csv('c:/Users/gandh/dev/unv/smoed/me/data/sample.csv')\n",
    "df = pd.read_csv('c:/Users/gandh/dev/unv/smoed/me/data/main_data.csv')\n",
    "df.to_csv('data/data1.csv', index=False)\n",
    "n = len(df)\n",
    "n"
   ]
  },
  {
   "cell_type": "code",
   "execution_count": 3,
   "id": "e917b83f-3e47-4b2a-b462-aa03001a9095",
   "metadata": {},
   "outputs": [
    {
     "data": {
      "text/html": [
       "<div>\n",
       "<style scoped>\n",
       "    .dataframe tbody tr th:only-of-type {\n",
       "        vertical-align: middle;\n",
       "    }\n",
       "\n",
       "    .dataframe tbody tr th {\n",
       "        vertical-align: top;\n",
       "    }\n",
       "\n",
       "    .dataframe thead th {\n",
       "        text-align: right;\n",
       "    }\n",
       "</style>\n",
       "<table border=\"1\" class=\"dataframe\">\n",
       "  <thead>\n",
       "    <tr style=\"text-align: right;\">\n",
       "      <th></th>\n",
       "      <th>nu</th>\n",
       "      <th>E</th>\n",
       "    </tr>\n",
       "  </thead>\n",
       "  <tbody>\n",
       "    <tr>\n",
       "      <th>count</th>\n",
       "      <td>104.000000</td>\n",
       "      <td>104.000000</td>\n",
       "    </tr>\n",
       "    <tr>\n",
       "      <th>mean</th>\n",
       "      <td>453.201923</td>\n",
       "      <td>129.931731</td>\n",
       "    </tr>\n",
       "    <tr>\n",
       "      <th>std</th>\n",
       "      <td>53.829537</td>\n",
       "      <td>21.924634</td>\n",
       "    </tr>\n",
       "    <tr>\n",
       "      <th>min</th>\n",
       "      <td>320.000000</td>\n",
       "      <td>64.500000</td>\n",
       "    </tr>\n",
       "    <tr>\n",
       "      <th>25%</th>\n",
       "      <td>414.750000</td>\n",
       "      <td>115.175000</td>\n",
       "    </tr>\n",
       "    <tr>\n",
       "      <th>50%</th>\n",
       "      <td>458.500000</td>\n",
       "      <td>129.850000</td>\n",
       "    </tr>\n",
       "    <tr>\n",
       "      <th>75%</th>\n",
       "      <td>493.000000</td>\n",
       "      <td>146.000000</td>\n",
       "    </tr>\n",
       "    <tr>\n",
       "      <th>max</th>\n",
       "      <td>576.000000</td>\n",
       "      <td>177.000000</td>\n",
       "    </tr>\n",
       "  </tbody>\n",
       "</table>\n",
       "</div>"
      ],
      "text/plain": [
       "               nu           E\n",
       "count  104.000000  104.000000\n",
       "mean   453.201923  129.931731\n",
       "std     53.829537   21.924634\n",
       "min    320.000000   64.500000\n",
       "25%    414.750000  115.175000\n",
       "50%    458.500000  129.850000\n",
       "75%    493.000000  146.000000\n",
       "max    576.000000  177.000000"
      ]
     },
     "execution_count": 3,
     "metadata": {},
     "output_type": "execute_result"
    }
   ],
   "source": [
    "df.describe()"
   ]
  },
  {
   "cell_type": "markdown",
   "id": "c34b3495-f41a-46e3-83a5-91ce7631fdcd",
   "metadata": {
    "tags": []
   },
   "source": [
    "## Распределение"
   ]
  },
  {
   "cell_type": "code",
   "execution_count": 4,
   "id": "1e73b1e2-8c18-4393-a99f-4d33517b3eca",
   "metadata": {},
   "outputs": [
    {
     "data": {
      "image/png": "[encoded data removed]",
      "text/plain": [
       "<Figure size 842.4x595.44 with 1 Axes>"
      ]
     },
     "metadata": {},
     "output_type": "display_data"
    }
   ],
   "source": [
    "sns.set_theme(style=\"whitegrid\", palette='deep', context='notebook', font_scale=1.3)\n",
    "ax = sns.catplot(data=raw, kind='box', height=8.27, aspect=11.7/8.27)\n",
    "plt.savefig('pics/1.png')"
   ]
  },
  {
   "cell_type": "code",
   "execution_count": 5,
   "id": "39f0abac-360d-41d4-a878-0c51582019f8",
   "metadata": {},
   "outputs": [
    {
     "data": {
      "image/png": "[encoded data removed]",
      "text/plain": [
       "<Figure size 842.4x595.44 with 1 Axes>"
      ]
     },
     "metadata": {},
     "output_type": "display_data"
    }
   ],
   "source": [
    "sns.set_theme(style=\"whitegrid\", palette='deep', context='notebook', font_scale=1.3)\n",
    "ax = sns.catplot(data=df, kind='box', height=8.27, aspect=11.7/8.27)\n",
    "plt.savefig('pics/2.png')"
   ]
  },
  {
   "cell_type": "markdown",
   "id": "b33fa981-b80a-48d3-8255-c7c81d5191f2",
   "metadata": {
    "heading_collapsed": "true",
    "tags": []
   },
   "source": [
    "# Переменная $nu$"
   ]
  },
  {
   "cell_type": "markdown",
   "id": "9006001e-8141-47c2-bdfd-85df32f8d976",
   "metadata": {
    "heading_collapsed": "true",
    "tags": []
   },
   "source": [
    "## Одна переменная"
   ]
  },
  {
   "cell_type": "code",
   "execution_count": 6,
   "id": "4f3c1ca8-2b8e-4606-abef-206a9920bbf9",
   "metadata": {},
   "outputs": [
    {
     "data": {
      "text/html": [
       "<div>\n",
       "<style scoped>\n",
       "    .dataframe tbody tr th:only-of-type {\n",
       "        vertical-align: middle;\n",
       "    }\n",
       "\n",
       "    .dataframe tbody tr th {\n",
       "        vertical-align: top;\n",
       "    }\n",
       "\n",
       "    .dataframe thead th {\n",
       "        text-align: right;\n",
       "    }\n",
       "</style>\n",
       "<table border=\"1\" class=\"dataframe\">\n",
       "  <thead>\n",
       "    <tr style=\"text-align: right;\">\n",
       "      <th></th>\n",
       "      <th>nu</th>\n",
       "    </tr>\n",
       "  </thead>\n",
       "  <tbody>\n",
       "    <tr>\n",
       "      <th>0</th>\n",
       "      <td>460</td>\n",
       "    </tr>\n",
       "    <tr>\n",
       "      <th>1</th>\n",
       "      <td>525</td>\n",
       "    </tr>\n",
       "    <tr>\n",
       "      <th>2</th>\n",
       "      <td>503</td>\n",
       "    </tr>\n",
       "    <tr>\n",
       "      <th>3</th>\n",
       "      <td>482</td>\n",
       "    </tr>\n",
       "    <tr>\n",
       "      <th>4</th>\n",
       "      <td>470</td>\n",
       "    </tr>\n",
       "  </tbody>\n",
       "</table>\n",
       "</div>"
      ],
      "text/plain": [
       "    nu\n",
       "0  460\n",
       "1  525\n",
       "2  503\n",
       "3  482\n",
       "4  470"
      ]
     },
     "execution_count": 6,
     "metadata": {},
     "output_type": "execute_result"
    }
   ],
   "source": [
    "df2 = df.drop('E', axis=1)\n",
    "df2.to_csv('data/data2.csv', index=False)\n",
    "df2.head()"
   ]
  },
  {
   "cell_type": "markdown",
   "id": "70afd09a-2878-444a-8b8b-c9cd9f8ba8ec",
   "metadata": {
    "heading_collapsed": "true",
    "tags": []
   },
   "source": [
    "## Ранжированный ряд"
   ]
  },
  {
   "cell_type": "code",
   "execution_count": 7,
   "id": "6c7e4aed-b8f5-43a4-8033-2be33ee1e646",
   "metadata": {},
   "outputs": [
    {
     "data": {
      "text/html": [
       "<div>\n",
       "<style scoped>\n",
       "    .dataframe tbody tr th:only-of-type {\n",
       "        vertical-align: middle;\n",
       "    }\n",
       "\n",
       "    .dataframe tbody tr th {\n",
       "        vertical-align: top;\n",
       "    }\n",
       "\n",
       "    .dataframe thead th {\n",
       "        text-align: right;\n",
       "    }\n",
       "</style>\n",
       "<table border=\"1\" class=\"dataframe\">\n",
       "  <thead>\n",
       "    <tr style=\"text-align: right;\">\n",
       "      <th></th>\n",
       "      <th>nu</th>\n",
       "    </tr>\n",
       "  </thead>\n",
       "  <tbody>\n",
       "    <tr>\n",
       "      <th>0</th>\n",
       "      <td>320</td>\n",
       "    </tr>\n",
       "    <tr>\n",
       "      <th>1</th>\n",
       "      <td>331</td>\n",
       "    </tr>\n",
       "    <tr>\n",
       "      <th>2</th>\n",
       "      <td>345</td>\n",
       "    </tr>\n",
       "    <tr>\n",
       "      <th>3</th>\n",
       "      <td>351</td>\n",
       "    </tr>\n",
       "    <tr>\n",
       "      <th>4</th>\n",
       "      <td>352</td>\n",
       "    </tr>\n",
       "  </tbody>\n",
       "</table>\n",
       "</div>"
      ],
      "text/plain": [
       "    nu\n",
       "0  320\n",
       "1  331\n",
       "2  345\n",
       "3  351\n",
       "4  352"
      ]
     },
     "execution_count": 7,
     "metadata": {},
     "output_type": "execute_result"
    }
   ],
   "source": [
    "df2 = df2.sort_values(by=['nu'], ignore_index = True)\n",
    "df2.to_csv('data/data3.csv', index=False)\n",
    "df2.head()"
   ]
  },
  {
   "cell_type": "code",
   "execution_count": 8,
   "id": "03599f8d-be88-485b-9d7d-5c472e7e81e9",
   "metadata": {},
   "outputs": [
    {
     "data": {
      "text/plain": [
       "nu    320\n",
       "dtype: int64"
      ]
     },
     "execution_count": 8,
     "metadata": {},
     "output_type": "execute_result"
    },
    {
     "data": {
      "text/plain": [
       "nu    576\n",
       "dtype: int64"
      ]
     },
     "execution_count": 8,
     "metadata": {},
     "output_type": "execute_result"
    }
   ],
   "source": [
    "df2.min()\n",
    "df2.max()"
   ]
  },
  {
   "cell_type": "code",
   "execution_count": 9,
   "id": "734f9dc2-531e-420b-8d34-fe5a47ad1c6d",
   "metadata": {},
   "outputs": [],
   "source": [
    "X = df2['nu']"
   ]
  },
  {
   "cell_type": "markdown",
   "id": "1b6163b7-023c-412d-b57d-e620a9165ded",
   "metadata": {
    "heading_collapsed": "true",
    "tags": []
   },
   "source": [
    "## Вариационный ряд"
   ]
  },
  {
   "cell_type": "code",
   "execution_count": 10,
   "id": "714f3337-d9bf-4365-bd7b-cdf0eea0edc3",
   "metadata": {},
   "outputs": [],
   "source": [
    "table_af = X.value_counts().sort_index()\n",
    "table_rf = X.value_counts(normalize=True).sort_index()\n",
    "table_af = pd.DataFrame({'nu': table_af.index, 'af': table_af.values})\n",
    "table_rf = pd.DataFrame({'nu': table_rf.index, 'rf': table_rf.values})\n",
    "table_rf2 = table_rf.copy()\n",
    "table_rf2['rf'] = np.round(table_rf2['rf'], 4)\n",
    "table_af.to_csv('data/data4.csv', index=False)\n",
    "table_rf2.to_csv('data/data5.csv', index=False)"
   ]
  },
  {
   "cell_type": "markdown",
   "id": "a6099759-352c-4955-89a8-a0d6409a2caa",
   "metadata": {
    "heading_collapsed": "true",
    "tags": []
   },
   "source": [
    "## Интервальный ряд"
   ]
  },
  {
   "cell_type": "code",
   "execution_count": 11,
   "id": "9674f5c4-072b-491c-823e-bf30ad4b028d",
   "metadata": {},
   "outputs": [
    {
     "data": {
      "text/plain": [
       "7"
      ]
     },
     "execution_count": 11,
     "metadata": {},
     "output_type": "execute_result"
    }
   ],
   "source": [
    "k = 1+3.31*np.log10(n)\n",
    "k = int(np.floor(k))\n",
    "k"
   ]
  },
  {
   "cell_type": "code",
   "execution_count": 12,
   "id": "d1873a49-764e-4d38-96b7-6102428ced48",
   "metadata": {},
   "outputs": [
    {
     "data": {
      "text/plain": [
       "320"
      ]
     },
     "execution_count": 12,
     "metadata": {},
     "output_type": "execute_result"
    },
    {
     "data": {
      "text/plain": [
       "576"
      ]
     },
     "execution_count": 12,
     "metadata": {},
     "output_type": "execute_result"
    }
   ],
   "source": [
    "min(X)\n",
    "max(X)"
   ]
  },
  {
   "cell_type": "code",
   "execution_count": 13,
   "id": "f5cba525-9269-4e37-be8d-e4b7ae8ecccf",
   "metadata": {},
   "outputs": [
    {
     "data": {
      "text/plain": [
       "37"
      ]
     },
     "execution_count": 13,
     "metadata": {},
     "output_type": "execute_result"
    }
   ],
   "source": [
    "h = (max(X)-min(X))/k\n",
    "h = int(np.ceil(h))\n",
    "h"
   ]
  },
  {
   "cell_type": "code",
   "execution_count": 14,
   "id": "18f53fc0-67b1-495c-9bcb-1f75c0ebe04d",
   "metadata": {},
   "outputs": [],
   "source": [
    "data_interval = pd.concat([table_af, table_rf], ignore_index=True, axis=1).drop(2, axis=1)\n",
    "data_interval.columns = ['nu', 'af', 'rf']\n",
    "data_interval.to_csv('data/data6.csv', index=False)"
   ]
  },
  {
   "cell_type": "code",
   "execution_count": 15,
   "id": "449b3bb7-4584-4a26-91dc-997b13836c00",
   "metadata": {},
   "outputs": [
    {
     "data": {
      "text/plain": [
       "array([320, 357, 394, 431, 468, 505, 542, 576])"
      ]
     },
     "execution_count": 15,
     "metadata": {},
     "output_type": "execute_result"
    }
   ],
   "source": [
    "ivs = np.hstack((np.arange(min(X), max(X), h), np.array(max(X))))\n",
    "ivs"
   ]
  },
  {
   "cell_type": "code",
   "execution_count": 16,
   "id": "4b9b08d5-5974-4708-be87-ce5e156fd8bd",
   "metadata": {},
   "outputs": [
    {
     "data": {
      "text/plain": [
       "[320, 357)     5\n",
       "[357, 394)     7\n",
       "[394, 431)    21\n",
       "[431, 468)    17\n",
       "[468, 505)    19\n",
       "[505, 542)    11\n",
       "[542, 576)     4\n",
       "Name: inter, dtype: int64"
      ]
     },
     "execution_count": 16,
     "metadata": {},
     "output_type": "execute_result"
    }
   ],
   "source": [
    "data_interval['inter'] = pd.cut(data_interval['nu'], bins=ivs, \n",
    "                                right=False)\n",
    "data_interval.iloc[83, 3] = data_interval.iloc[82, 3]\n",
    "data_interval['inter'].value_counts().sort_index()"
   ]
  },
  {
   "cell_type": "code",
   "execution_count": 17,
   "id": "ab7965ac-cd7f-46a3-a05f-17ad17bff5e2",
   "metadata": {},
   "outputs": [
    {
     "data": {
      "text/plain": [
       "104"
      ]
     },
     "execution_count": 17,
     "metadata": {},
     "output_type": "execute_result"
    },
    {
     "data": {
      "text/html": [
       "<div>\n",
       "<style scoped>\n",
       "    .dataframe tbody tr th:only-of-type {\n",
       "        vertical-align: middle;\n",
       "    }\n",
       "\n",
       "    .dataframe tbody tr th {\n",
       "        vertical-align: top;\n",
       "    }\n",
       "\n",
       "    .dataframe thead th {\n",
       "        text-align: right;\n",
       "    }\n",
       "</style>\n",
       "<table border=\"1\" class=\"dataframe\">\n",
       "  <thead>\n",
       "    <tr style=\"text-align: right;\">\n",
       "      <th></th>\n",
       "      <th>inter</th>\n",
       "      <th>avg_inter</th>\n",
       "      <th>af</th>\n",
       "      <th>rf</th>\n",
       "    </tr>\n",
       "  </thead>\n",
       "  <tbody>\n",
       "    <tr>\n",
       "      <th>0</th>\n",
       "      <td>[320, 357)</td>\n",
       "      <td>338.5</td>\n",
       "      <td>5</td>\n",
       "      <td>0.048</td>\n",
       "    </tr>\n",
       "    <tr>\n",
       "      <th>1</th>\n",
       "      <td>[357, 394)</td>\n",
       "      <td>375.5</td>\n",
       "      <td>8</td>\n",
       "      <td>0.077</td>\n",
       "    </tr>\n",
       "    <tr>\n",
       "      <th>2</th>\n",
       "      <td>[394, 431)</td>\n",
       "      <td>412.5</td>\n",
       "      <td>23</td>\n",
       "      <td>0.221</td>\n",
       "    </tr>\n",
       "    <tr>\n",
       "      <th>3</th>\n",
       "      <td>[431, 468)</td>\n",
       "      <td>449.5</td>\n",
       "      <td>25</td>\n",
       "      <td>0.240</td>\n",
       "    </tr>\n",
       "    <tr>\n",
       "      <th>4</th>\n",
       "      <td>[468, 505)</td>\n",
       "      <td>486.5</td>\n",
       "      <td>24</td>\n",
       "      <td>0.231</td>\n",
       "    </tr>\n",
       "    <tr>\n",
       "      <th>5</th>\n",
       "      <td>[505, 542)</td>\n",
       "      <td>523.5</td>\n",
       "      <td>15</td>\n",
       "      <td>0.144</td>\n",
       "    </tr>\n",
       "    <tr>\n",
       "      <th>6</th>\n",
       "      <td>[542, 576)</td>\n",
       "      <td>559.0</td>\n",
       "      <td>4</td>\n",
       "      <td>0.038</td>\n",
       "    </tr>\n",
       "  </tbody>\n",
       "</table>\n",
       "</div>"
      ],
      "text/plain": [
       "        inter  avg_inter  af     rf\n",
       "0  [320, 357)      338.5   5  0.048\n",
       "1  [357, 394)      375.5   8  0.077\n",
       "2  [394, 431)      412.5  23  0.221\n",
       "3  [431, 468)      449.5  25  0.240\n",
       "4  [468, 505)      486.5  24  0.231\n",
       "5  [505, 542)      523.5  15  0.144\n",
       "6  [542, 576)      559.0   4  0.038"
      ]
     },
     "execution_count": 17,
     "metadata": {},
     "output_type": "execute_result"
    }
   ],
   "source": [
    "f_inter = data_interval.groupby(['inter'])[['af', 'rf']].apply(sum).reset_index()\n",
    "f_inter['avg_inter'] = np.array([np.mean([ivs[i], ivs[i+1]], axis=0) for i in range(k)])\n",
    "f_inter = f_inter[['inter', 'avg_inter', 'af', 'rf']]\n",
    "f_inter['af'] = (f_inter['af']).astype(int)\n",
    "f_inter['rf'] = np.round(f_inter['rf'], 3)\n",
    "# f_inter.iloc[6, 3] = 0.039\n",
    "f_inter.to_csv('data/data7.csv', index=False)\n",
    "f_inter['af'].sum()\n",
    "f_inter"
   ]
  },
  {
   "cell_type": "markdown",
   "id": "807d748a-84aa-45e6-8523-e29a9fc5cb8b",
   "metadata": {
    "tags": []
   },
   "source": [
    "## Графики абсолют"
   ]
  },
  {
   "cell_type": "markdown",
   "id": "738655c4-06e3-4076-aa2c-4382e49b2c19",
   "metadata": {
    "heading_collapsed": "true",
    "tags": []
   },
   "source": [
    "### Полигон"
   ]
  },
  {
   "cell_type": "code",
   "execution_count": 18,
   "id": "e46f1036-d8c1-49a5-996a-3c6ff38f5971",
   "metadata": {},
   "outputs": [
    {
     "data": {
      "text/plain": [
       "<seaborn.axisgrid.FacetGrid at 0x27b3a866430>"
      ]
     },
     "execution_count": 18,
     "metadata": {},
     "output_type": "execute_result"
    },
    {
     "data": {
      "text/plain": [
       "<seaborn.axisgrid.FacetGrid at 0x27b3a866430>"
      ]
     },
     "execution_count": 18,
     "metadata": {},
     "output_type": "execute_result"
    },
    {
     "data": {
      "text/plain": [
       "Text(0.5, 0.98, 'Полигон для абсолютных частот')"
      ]
     },
     "execution_count": 18,
     "metadata": {},
     "output_type": "execute_result"
    },
    {
     "data": {
      "image/png": "[encoded data removed]",
      "text/plain": [
       "<Figure size 842.4x595.44 with 1 Axes>"
      ]
     },
     "metadata": {},
     "output_type": "display_data"
    }
   ],
   "source": [
    "ax = sns.relplot(data=f_inter, x='avg_inter', y='af', kind='line', height=8.27, aspect=11.7/8.27)\n",
    "ax.set_axis_labels('Середина интервала', 'Частота')\n",
    "ax.set(ylim=[0,28], xticks=f_inter['avg_inter'])\n",
    "ax.fig.suptitle('Полигон для абсолютных частот')\n",
    "plt.savefig('pics/3.png')"
   ]
  },
  {
   "cell_type": "markdown",
   "id": "70703644-c9f9-4a91-9d22-5703beb12510",
   "metadata": {
    "tags": []
   },
   "source": [
    "### Гист"
   ]
  },
  {
   "cell_type": "markdown",
   "id": "cb473115-94fa-4e6f-acb1-01cf820a44a4",
   "metadata": {
    "heading_collapsed": "true",
    "tags": []
   },
   "source": [
    "#### Только ось ординат"
   ]
  },
  {
   "cell_type": "code",
   "execution_count": 19,
   "id": "cd759b5c-3ac6-4dd1-b9e3-bc1d4cb5ed04",
   "metadata": {},
   "outputs": [
    {
     "data": {
      "text/plain": [
       "<seaborn.axisgrid.FacetGrid at 0x27b3ab06ca0>"
      ]
     },
     "execution_count": 19,
     "metadata": {},
     "output_type": "execute_result"
    },
    {
     "data": {
      "text/plain": [
       "<seaborn.axisgrid.FacetGrid at 0x27b3ab06ca0>"
      ]
     },
     "execution_count": 19,
     "metadata": {},
     "output_type": "execute_result"
    },
    {
     "data": {
      "text/plain": [
       "Text(0.5, 0.98, 'Гистограмма для абсолютных частот')"
      ]
     },
     "execution_count": 19,
     "metadata": {},
     "output_type": "execute_result"
    },
    {
     "data": {
      "image/png": "[encoded data removed]",
      "text/plain": [
       "<Figure size 842.4x595.44 with 1 Axes>"
      ]
     },
     "metadata": {},
     "output_type": "display_data"
    }
   ],
   "source": [
    "ax = sns.displot(data=df, x='nu', bins=ivs, kind='hist', height=8.27, aspect=11.7/8.27, stat='density')\n",
    "ax.set_axis_labels('Середина интервала', 'Частота')\n",
    "ax.set(xticks=f_inter['avg_inter'], yticks=f_inter['af']/h)\n",
    "ax.fig.suptitle('Гистограмма для абсолютных частот')\n",
    "plt.savefig('pics/4_o.png')"
   ]
  },
  {
   "cell_type": "markdown",
   "id": "9ac3e50a-0435-4516-b181-18d1dfa9d012",
   "metadata": {
    "heading_collapsed": "true",
    "tags": []
   },
   "source": [
    "#### График"
   ]
  },
  {
   "cell_type": "code",
   "execution_count": 20,
   "id": "3722cbcb-3bdb-4e77-bf61-166d8d76c0ad",
   "metadata": {},
   "outputs": [
    {
     "data": {
      "text/plain": [
       "<seaborn.axisgrid.FacetGrid at 0x27b3ab0b2e0>"
      ]
     },
     "execution_count": 20,
     "metadata": {},
     "output_type": "execute_result"
    },
    {
     "data": {
      "text/plain": [
       "<seaborn.axisgrid.FacetGrid at 0x27b3ab0b2e0>"
      ]
     },
     "execution_count": 20,
     "metadata": {},
     "output_type": "execute_result"
    },
    {
     "data": {
      "text/plain": [
       "Text(0.5, 0.98, 'Гистограмма для абсолютных частот')"
      ]
     },
     "execution_count": 20,
     "metadata": {},
     "output_type": "execute_result"
    },
    {
     "data": {
      "image/png": "[encoded data removed]",
      "text/plain": [
       "<Figure size 842.4x595.44 with 1 Axes>"
      ]
     },
     "metadata": {},
     "output_type": "display_data"
    }
   ],
   "source": [
    "ax = sns.displot(data=df, x='nu', bins=ivs, kind='hist', height=8.27, aspect=11.7/8.27)\n",
    "ax.set_axis_labels('Середина интервала', 'Частота')\n",
    "ax.set(xticks=f_inter['avg_inter'], yticks=f_inter['af'])\n",
    "ax.fig.suptitle('Гистограмма для абсолютных частот')\n",
    "plt.savefig('pics/4.png')"
   ]
  },
  {
   "cell_type": "markdown",
   "id": "aca9ea51-c57c-4a1a-bcae-ecb0d92ef4d8",
   "metadata": {
    "heading_collapsed": "true",
    "tags": []
   },
   "source": [
    "## Графики относительно"
   ]
  },
  {
   "cell_type": "markdown",
   "id": "b226c3bb-938e-41fb-bcbc-4cf35bd0fc8b",
   "metadata": {
    "heading_collapsed": "true",
    "tags": []
   },
   "source": [
    "### ecdf"
   ]
  },
  {
   "cell_type": "code",
   "execution_count": 21,
   "id": "30fa99a7-ebfd-4cb7-ae6f-24b816f8c5f4",
   "metadata": {},
   "outputs": [
    {
     "data": {
      "text/html": [
       "<div>\n",
       "<style scoped>\n",
       "    .dataframe tbody tr th:only-of-type {\n",
       "        vertical-align: middle;\n",
       "    }\n",
       "\n",
       "    .dataframe tbody tr th {\n",
       "        vertical-align: top;\n",
       "    }\n",
       "\n",
       "    .dataframe thead th {\n",
       "        text-align: right;\n",
       "    }\n",
       "</style>\n",
       "<table border=\"1\" class=\"dataframe\">\n",
       "  <thead>\n",
       "    <tr style=\"text-align: right;\">\n",
       "      <th></th>\n",
       "      <th>inter</th>\n",
       "      <th>avg_inter</th>\n",
       "      <th>af</th>\n",
       "      <th>rf</th>\n",
       "      <th>sum_rf</th>\n",
       "    </tr>\n",
       "  </thead>\n",
       "  <tbody>\n",
       "    <tr>\n",
       "      <th>0</th>\n",
       "      <td>[320, 357)</td>\n",
       "      <td>338.5</td>\n",
       "      <td>5</td>\n",
       "      <td>0.048</td>\n",
       "      <td>0.048</td>\n",
       "    </tr>\n",
       "    <tr>\n",
       "      <th>1</th>\n",
       "      <td>[357, 394)</td>\n",
       "      <td>375.5</td>\n",
       "      <td>8</td>\n",
       "      <td>0.077</td>\n",
       "      <td>0.125</td>\n",
       "    </tr>\n",
       "    <tr>\n",
       "      <th>2</th>\n",
       "      <td>[394, 431)</td>\n",
       "      <td>412.5</td>\n",
       "      <td>23</td>\n",
       "      <td>0.221</td>\n",
       "      <td>0.346</td>\n",
       "    </tr>\n",
       "    <tr>\n",
       "      <th>3</th>\n",
       "      <td>[431, 468)</td>\n",
       "      <td>449.5</td>\n",
       "      <td>25</td>\n",
       "      <td>0.240</td>\n",
       "      <td>0.586</td>\n",
       "    </tr>\n",
       "    <tr>\n",
       "      <th>4</th>\n",
       "      <td>[468, 505)</td>\n",
       "      <td>486.5</td>\n",
       "      <td>24</td>\n",
       "      <td>0.231</td>\n",
       "      <td>0.817</td>\n",
       "    </tr>\n",
       "    <tr>\n",
       "      <th>5</th>\n",
       "      <td>[505, 542)</td>\n",
       "      <td>523.5</td>\n",
       "      <td>15</td>\n",
       "      <td>0.144</td>\n",
       "      <td>0.961</td>\n",
       "    </tr>\n",
       "    <tr>\n",
       "      <th>6</th>\n",
       "      <td>[542, 576)</td>\n",
       "      <td>559.0</td>\n",
       "      <td>4</td>\n",
       "      <td>0.038</td>\n",
       "      <td>0.999</td>\n",
       "    </tr>\n",
       "  </tbody>\n",
       "</table>\n",
       "</div>"
      ],
      "text/plain": [
       "        inter  avg_inter  af     rf  sum_rf\n",
       "0  [320, 357)      338.5   5  0.048   0.048\n",
       "1  [357, 394)      375.5   8  0.077   0.125\n",
       "2  [394, 431)      412.5  23  0.221   0.346\n",
       "3  [431, 468)      449.5  25  0.240   0.586\n",
       "4  [468, 505)      486.5  24  0.231   0.817\n",
       "5  [505, 542)      523.5  15  0.144   0.961\n",
       "6  [542, 576)      559.0   4  0.038   0.999"
      ]
     },
     "execution_count": 21,
     "metadata": {},
     "output_type": "execute_result"
    }
   ],
   "source": [
    "f_inter['sum_rf'] = f_inter['rf'].cumsum()\n",
    "f_inter"
   ]
  },
  {
   "cell_type": "code",
   "execution_count": 22,
   "id": "eb7de46b-c59d-462c-992b-3d9788f05a8d",
   "metadata": {},
   "outputs": [
    {
     "data": {
      "text/plain": [
       "<matplotlib.collections.LineCollection at 0x27b3a9b5520>"
      ]
     },
     "execution_count": 22,
     "metadata": {},
     "output_type": "execute_result"
    },
    {
     "data": {
      "text/plain": [
       "<matplotlib.collections.LineCollection at 0x27b3ab06b80>"
      ]
     },
     "execution_count": 22,
     "metadata": {},
     "output_type": "execute_result"
    },
    {
     "data": {
      "text/plain": [
       "<matplotlib.collections.LineCollection at 0x27b3a97c580>"
      ]
     },
     "execution_count": 22,
     "metadata": {},
     "output_type": "execute_result"
    },
    {
     "data": {
      "text/plain": [
       "<matplotlib.collections.LineCollection at 0x27b3aa04850>"
      ]
     },
     "execution_count": 22,
     "metadata": {},
     "output_type": "execute_result"
    },
    {
     "data": {
      "text/plain": [
       "<matplotlib.collections.LineCollection at 0x27b3a944eb0>"
      ]
     },
     "execution_count": 22,
     "metadata": {},
     "output_type": "execute_result"
    },
    {
     "data": {
      "text/plain": [
       "<matplotlib.collections.LineCollection at 0x27b3aa19760>"
      ]
     },
     "execution_count": 22,
     "metadata": {},
     "output_type": "execute_result"
    },
    {
     "data": {
      "text/plain": [
       "<matplotlib.collections.LineCollection at 0x27b3a9b5a90>"
      ]
     },
     "execution_count": 22,
     "metadata": {},
     "output_type": "execute_result"
    },
    {
     "data": {
      "text/plain": [
       "<matplotlib.collections.LineCollection at 0x27b3aa19df0>"
      ]
     },
     "execution_count": 22,
     "metadata": {},
     "output_type": "execute_result"
    },
    {
     "data": {
      "text/plain": [
       "<matplotlib.collections.LineCollection at 0x27b3aa19d30>"
      ]
     },
     "execution_count": 22,
     "metadata": {},
     "output_type": "execute_result"
    },
    {
     "data": {
      "text/plain": [
       "<matplotlib.collections.LineCollection at 0x27b3aa19fa0>"
      ]
     },
     "execution_count": 22,
     "metadata": {},
     "output_type": "execute_result"
    },
    {
     "data": {
      "text/plain": [
       "<matplotlib.collections.LineCollection at 0x27b3aa04a30>"
      ]
     },
     "execution_count": 22,
     "metadata": {},
     "output_type": "execute_result"
    },
    {
     "data": {
      "text/plain": [
       "<matplotlib.collections.LineCollection at 0x27b3aa20a00>"
      ]
     },
     "execution_count": 22,
     "metadata": {},
     "output_type": "execute_result"
    },
    {
     "data": {
      "text/plain": [
       "<matplotlib.collections.LineCollection at 0x27b3aa20910>"
      ]
     },
     "execution_count": 22,
     "metadata": {},
     "output_type": "execute_result"
    },
    {
     "data": {
      "text/plain": [
       "<matplotlib.collections.LineCollection at 0x27b3aa20ca0>"
      ]
     },
     "execution_count": 22,
     "metadata": {},
     "output_type": "execute_result"
    },
    {
     "data": {
      "text/plain": [
       "<matplotlib.collections.LineCollection at 0x27b3a8ec580>"
      ]
     },
     "execution_count": 22,
     "metadata": {},
     "output_type": "execute_result"
    },
    {
     "data": {
      "text/plain": [
       "Text(375.5, 0.048, '')"
      ]
     },
     "execution_count": 22,
     "metadata": {},
     "output_type": "execute_result"
    },
    {
     "data": {
      "text/plain": [
       "Text(412.5, 0.125, '')"
      ]
     },
     "execution_count": 22,
     "metadata": {},
     "output_type": "execute_result"
    },
    {
     "data": {
      "text/plain": [
       "Text(449.5, 0.346, '')"
      ]
     },
     "execution_count": 22,
     "metadata": {},
     "output_type": "execute_result"
    },
    {
     "data": {
      "text/plain": [
       "Text(486.5, 0.586, '')"
      ]
     },
     "execution_count": 22,
     "metadata": {},
     "output_type": "execute_result"
    },
    {
     "data": {
      "text/plain": [
       "Text(523.5, 0.817, '')"
      ]
     },
     "execution_count": 22,
     "metadata": {},
     "output_type": "execute_result"
    },
    {
     "data": {
      "text/plain": [
       "Text(559.0, 0.961, '')"
      ]
     },
     "execution_count": 22,
     "metadata": {},
     "output_type": "execute_result"
    },
    {
     "data": {
      "text/plain": [
       "Text(596, 1, '')"
      ]
     },
     "execution_count": 22,
     "metadata": {},
     "output_type": "execute_result"
    },
    {
     "data": {
      "text/plain": [
       "<seaborn.axisgrid.FacetGrid at 0x27b3a9b5850>"
      ]
     },
     "execution_count": 22,
     "metadata": {},
     "output_type": "execute_result"
    },
    {
     "data": {
      "text/plain": [
       "<seaborn.axisgrid.FacetGrid at 0x27b3a9b5850>"
      ]
     },
     "execution_count": 22,
     "metadata": {},
     "output_type": "execute_result"
    },
    {
     "data": {
      "text/plain": [
       "Text(0.5, 0.98, 'Эмпирическая фукнция распределения')"
      ]
     },
     "execution_count": 22,
     "metadata": {},
     "output_type": "execute_result"
    },
    {
     "data": {
      "image/png": "[encoded data removed]",
      "text/plain": [
       "<Figure size 842.4x595.44 with 1 Axes>"
      ]
     },
     "metadata": {},
     "output_type": "display_data"
    }
   ],
   "source": [
    "ax = sns.relplot(data=f_inter, x='avg_inter', y='sum_rf', s=0,\n",
    "                 kind='scatter', height=8.27, aspect=11.7/8.27, color='b')\n",
    "for i in range(6):\n",
    "    plt.hlines(f_inter['sum_rf'][i], f_inter['avg_inter'][i], f_inter['avg_inter'][i+1], color='b')\n",
    "plt.hlines(1, 559, 559+h, color='b')\n",
    "plt.hlines(0, 338.5-h, 338.5, color='b')\n",
    "for i in range(6):\n",
    "    plt.vlines(f_inter['avg_inter'][i+1], f_inter['sum_rf'][i], f_inter['sum_rf'][i+1], color='b', linestyle='--')\n",
    "plt.vlines(338.5, 0, 0.048, color='b', linestyle='--')\n",
    "\n",
    "for i in range(6):\n",
    "    plt.annotate('', xy=(f_inter['avg_inter'][i]-1, f_inter['sum_rf'][i]), \n",
    "                 xytext=(f_inter['avg_inter'][i+1], f_inter['sum_rf'][i]), \n",
    "                 arrowprops=dict(arrowstyle=\"->\", color='b', linewidth=3))\n",
    "plt.annotate('', xy=(559, 1), \n",
    "                 xytext=(559+h, 1), \n",
    "                 arrowprops=dict(arrowstyle=\"->\", color='b', linewidth=3))\n",
    "\n",
    "ax.set_axis_labels('Середина интервала', 'Накопленная частота')\n",
    "ax.set(xticks=f_inter['avg_inter'], yticks=[0]+f_inter['sum_rf'][:-1].to_list()+[1])\n",
    "ax.fig.suptitle('Эмпирическая фукнция распределения')\n",
    "plt.tight_layout()\n",
    "plt.savefig('pics/5.png')"
   ]
  },
  {
   "cell_type": "markdown",
   "id": "edb535f9-45cc-4cc2-a3b6-dd697aa63956",
   "metadata": {
    "heading_collapsed": "true",
    "tags": []
   },
   "source": [
    "### Полигон"
   ]
  },
  {
   "cell_type": "code",
   "execution_count": 23,
   "id": "a0e7c235-cf7e-4796-be79-f3d9935a4cd0",
   "metadata": {},
   "outputs": [
    {
     "data": {
      "text/plain": [
       "<seaborn.axisgrid.FacetGrid at 0x27b3a9b2310>"
      ]
     },
     "execution_count": 23,
     "metadata": {},
     "output_type": "execute_result"
    },
    {
     "data": {
      "text/plain": [
       "<seaborn.axisgrid.FacetGrid at 0x27b3a9b2310>"
      ]
     },
     "execution_count": 23,
     "metadata": {},
     "output_type": "execute_result"
    },
    {
     "data": {
      "text/plain": [
       "Text(0.5, 0.98, 'Полигон для относительных частот')"
      ]
     },
     "execution_count": 23,
     "metadata": {},
     "output_type": "execute_result"
    },
    {
     "data": {
      "image/png": "[encoded data removed]",
      "text/plain": [
       "<Figure size 842.4x595.44 with 1 Axes>"
      ]
     },
     "metadata": {},
     "output_type": "display_data"
    }
   ],
   "source": [
    "ax = sns.relplot(data=f_inter, x='avg_inter', y='rf', kind='line', height=8.27, aspect=11.7/8.27)\n",
    "ax.set_axis_labels('Середина интервала', 'Частота')\n",
    "ax.set(ylim=[0,0.26], xticks=f_inter['avg_inter'])\n",
    "ax.fig.suptitle('Полигон для относительных частот')\n",
    "plt.savefig('pics/6.png')"
   ]
  },
  {
   "cell_type": "markdown",
   "id": "d582b41f-3a9e-4e19-ab07-1b08df26a1d6",
   "metadata": {
    "heading_collapsed": "true",
    "tags": []
   },
   "source": [
    "### Гист"
   ]
  },
  {
   "cell_type": "code",
   "execution_count": 24,
   "id": "e61c76f0-1432-42e4-82c3-e425a366d451",
   "metadata": {},
   "outputs": [
    {
     "data": {
      "text/plain": [
       "<seaborn.axisgrid.FacetGrid at 0x27b3aa98670>"
      ]
     },
     "execution_count": 24,
     "metadata": {},
     "output_type": "execute_result"
    },
    {
     "data": {
      "text/plain": [
       "<seaborn.axisgrid.FacetGrid at 0x27b3aa98670>"
      ]
     },
     "execution_count": 24,
     "metadata": {},
     "output_type": "execute_result"
    },
    {
     "data": {
      "text/plain": [
       "Text(0.5, 0.98, 'Гистограмма для относительных частот')"
      ]
     },
     "execution_count": 24,
     "metadata": {},
     "output_type": "execute_result"
    },
    {
     "data": {
      "image/png": "[encoded data removed]",
      "text/plain": [
       "<Figure size 842.4x595.44 with 1 Axes>"
      ]
     },
     "metadata": {},
     "output_type": "display_data"
    }
   ],
   "source": [
    "ax = sns.displot(data=df, x='nu', bins=ivs, kind='hist', height=8.27, aspect=11.7/8.27, stat='density')\n",
    "ax.set_axis_labels('Середина интервала', 'Частота')\n",
    "ax.set(xticks=f_inter['avg_inter'], yticks=round((f_inter['rf']/h), 4))\n",
    "ax.fig.suptitle('Гистограмма для относительных частот')\n",
    "plt.savefig('pics/7.png')"
   ]
  },
  {
   "cell_type": "markdown",
   "id": "0f855fb0-8449-4993-893f-2d406a445449",
   "metadata": {
    "heading_collapsed": "true",
    "tags": []
   },
   "source": [
    "# Переменная $E$"
   ]
  },
  {
   "cell_type": "markdown",
   "id": "e63ca9a1-929f-443a-8bc0-f85ec047415f",
   "metadata": {
    "heading_collapsed": "true",
    "tags": []
   },
   "source": [
    "## Одна переменная"
   ]
  },
  {
   "cell_type": "code",
   "execution_count": 25,
   "id": "50a445f2-0716-4914-b0c1-ea7ba4fec229",
   "metadata": {},
   "outputs": [
    {
     "data": {
      "text/html": [
       "<div>\n",
       "<style scoped>\n",
       "    .dataframe tbody tr th:only-of-type {\n",
       "        vertical-align: middle;\n",
       "    }\n",
       "\n",
       "    .dataframe tbody tr th {\n",
       "        vertical-align: top;\n",
       "    }\n",
       "\n",
       "    .dataframe thead th {\n",
       "        text-align: right;\n",
       "    }\n",
       "</style>\n",
       "<table border=\"1\" class=\"dataframe\">\n",
       "  <thead>\n",
       "    <tr style=\"text-align: right;\">\n",
       "      <th></th>\n",
       "      <th>E</th>\n",
       "    </tr>\n",
       "  </thead>\n",
       "  <tbody>\n",
       "    <tr>\n",
       "      <th>0</th>\n",
       "      <td>124.5</td>\n",
       "    </tr>\n",
       "    <tr>\n",
       "      <th>1</th>\n",
       "      <td>148.3</td>\n",
       "    </tr>\n",
       "    <tr>\n",
       "      <th>2</th>\n",
       "      <td>146.6</td>\n",
       "    </tr>\n",
       "    <tr>\n",
       "      <th>3</th>\n",
       "      <td>148.2</td>\n",
       "    </tr>\n",
       "    <tr>\n",
       "      <th>4</th>\n",
       "      <td>124.0</td>\n",
       "    </tr>\n",
       "  </tbody>\n",
       "</table>\n",
       "</div>"
      ],
      "text/plain": [
       "       E\n",
       "0  124.5\n",
       "1  148.3\n",
       "2  146.6\n",
       "3  148.2\n",
       "4  124.0"
      ]
     },
     "execution_count": 25,
     "metadata": {},
     "output_type": "execute_result"
    }
   ],
   "source": [
    "df2 = df.drop('nu', axis=1)\n",
    "df2.to_csv('data2/data2.csv', index=False)\n",
    "df2.head()"
   ]
  },
  {
   "cell_type": "markdown",
   "id": "86d25b14-715d-4348-842d-e827819b7368",
   "metadata": {
    "heading_collapsed": "true",
    "tags": []
   },
   "source": [
    "## Ранжированный ряд"
   ]
  },
  {
   "cell_type": "code",
   "execution_count": 26,
   "id": "d00a2b50-b556-4933-83a2-11b3de7206c1",
   "metadata": {},
   "outputs": [
    {
     "data": {
      "text/html": [
       "<div>\n",
       "<style scoped>\n",
       "    .dataframe tbody tr th:only-of-type {\n",
       "        vertical-align: middle;\n",
       "    }\n",
       "\n",
       "    .dataframe tbody tr th {\n",
       "        vertical-align: top;\n",
       "    }\n",
       "\n",
       "    .dataframe thead th {\n",
       "        text-align: right;\n",
       "    }\n",
       "</style>\n",
       "<table border=\"1\" class=\"dataframe\">\n",
       "  <thead>\n",
       "    <tr style=\"text-align: right;\">\n",
       "      <th></th>\n",
       "      <th>E</th>\n",
       "    </tr>\n",
       "  </thead>\n",
       "  <tbody>\n",
       "    <tr>\n",
       "      <th>0</th>\n",
       "      <td>64.5</td>\n",
       "    </tr>\n",
       "    <tr>\n",
       "      <th>1</th>\n",
       "      <td>71.9</td>\n",
       "    </tr>\n",
       "    <tr>\n",
       "      <th>2</th>\n",
       "      <td>81.7</td>\n",
       "    </tr>\n",
       "    <tr>\n",
       "      <th>3</th>\n",
       "      <td>84.6</td>\n",
       "    </tr>\n",
       "    <tr>\n",
       "      <th>4</th>\n",
       "      <td>87.7</td>\n",
       "    </tr>\n",
       "  </tbody>\n",
       "</table>\n",
       "</div>"
      ],
      "text/plain": [
       "      E\n",
       "0  64.5\n",
       "1  71.9\n",
       "2  81.7\n",
       "3  84.6\n",
       "4  87.7"
      ]
     },
     "execution_count": 26,
     "metadata": {},
     "output_type": "execute_result"
    }
   ],
   "source": [
    "df2 = df2.sort_values(by=['E'], ignore_index = True)\n",
    "df2.to_csv('data2/data3.csv', index=False)\n",
    "df2.head()"
   ]
  },
  {
   "cell_type": "code",
   "execution_count": 27,
   "id": "f15bc8d4-6028-4c2d-86a6-8deb90fdadb6",
   "metadata": {},
   "outputs": [
    {
     "data": {
      "text/plain": [
       "E    64.5\n",
       "dtype: float64"
      ]
     },
     "execution_count": 27,
     "metadata": {},
     "output_type": "execute_result"
    },
    {
     "data": {
      "text/plain": [
       "E    177.0\n",
       "dtype: float64"
      ]
     },
     "execution_count": 27,
     "metadata": {},
     "output_type": "execute_result"
    }
   ],
   "source": [
    "df2.min()\n",
    "df2.max()"
   ]
  },
  {
   "cell_type": "code",
   "execution_count": 28,
   "id": "c6a9b8b5-6029-4f67-883b-eb7797a909ca",
   "metadata": {},
   "outputs": [],
   "source": [
    "X = df2['E']"
   ]
  },
  {
   "cell_type": "markdown",
   "id": "703e626d-93d3-480c-b745-8292b2620ca7",
   "metadata": {
    "heading_collapsed": "true",
    "tags": []
   },
   "source": [
    "## Вариационный ряд"
   ]
  },
  {
   "cell_type": "code",
   "execution_count": 29,
   "id": "f9ac01d1-0e2e-40f0-b245-a41d4220437c",
   "metadata": {},
   "outputs": [],
   "source": [
    "table_af0 = X.value_counts().sort_index()\n",
    "table_rf0 = X.value_counts(normalize=True).sort_index()\n",
    "table_af = pd.DataFrame({'E': table_af0.index, 'af': table_af0.values})\n",
    "table_rf = pd.DataFrame({'E': table_rf0.index, 'rf': table_rf0.values})\n",
    "table_rf2 = table_rf.copy()\n",
    "table_rf2['rf'] = np.round(table_rf2['rf'], 4)\n",
    "table_af.to_csv('data2/data4.csv', index=False)\n",
    "table_rf2.to_csv('data2/data5.csv', index=False)"
   ]
  },
  {
   "cell_type": "markdown",
   "id": "3a088481-c1ff-41dd-8c1d-071eec0a8c76",
   "metadata": {
    "heading_collapsed": "true",
    "tags": []
   },
   "source": [
    "## Интервальный ряд"
   ]
  },
  {
   "cell_type": "code",
   "execution_count": 30,
   "id": "d14f0d04-baa5-4426-ae24-ebd7e4c44ff6",
   "metadata": {},
   "outputs": [
    {
     "data": {
      "text/plain": [
       "7"
      ]
     },
     "execution_count": 30,
     "metadata": {},
     "output_type": "execute_result"
    }
   ],
   "source": [
    "k = 1+3.31*np.log10(n)\n",
    "k = int(np.floor(k))\n",
    "k"
   ]
  },
  {
   "cell_type": "code",
   "execution_count": 31,
   "id": "e598f897-90d4-4caa-a68b-94c99efacbc0",
   "metadata": {},
   "outputs": [
    {
     "data": {
      "text/plain": [
       "64.5"
      ]
     },
     "execution_count": 31,
     "metadata": {},
     "output_type": "execute_result"
    },
    {
     "data": {
      "text/plain": [
       "177.0"
      ]
     },
     "execution_count": 31,
     "metadata": {},
     "output_type": "execute_result"
    }
   ],
   "source": [
    "min(X)\n",
    "max(X)"
   ]
  },
  {
   "cell_type": "code",
   "execution_count": 32,
   "id": "119aadc7-f2c3-46d8-bc7c-4da4ce5c36bf",
   "metadata": {},
   "outputs": [
    {
     "data": {
      "text/plain": [
       "16.071428571428573"
      ]
     },
     "execution_count": 32,
     "metadata": {},
     "output_type": "execute_result"
    },
    {
     "data": {
      "text/plain": [
       "16.1"
      ]
     },
     "execution_count": 32,
     "metadata": {},
     "output_type": "execute_result"
    }
   ],
   "source": [
    "h = (max(X)-min(X))/k\n",
    "h\n",
    "h = int(np.ceil(h))\n",
    "# h += 1\n",
    "h = 16.1\n",
    "h"
   ]
  },
  {
   "cell_type": "code",
   "execution_count": 33,
   "id": "d52ba639-0a27-4314-b1f8-fc92aa54e4f0",
   "metadata": {},
   "outputs": [],
   "source": [
    "data_interval = pd.concat([table_af, table_rf], ignore_index=True, axis=1).drop(2, axis=1)\n",
    "data_interval.columns = ['E', 'af', 'rf']\n",
    "data_interval.to_csv('data2/data6.csv', index=False)"
   ]
  },
  {
   "cell_type": "code",
   "execution_count": 34,
   "id": "68495aa6-8608-424d-b516-1f7f6b44e852",
   "metadata": {},
   "outputs": [
    {
     "data": {
      "text/plain": [
       "array([ 64.5,  80.6,  96.7, 112.8, 128.9, 145. , 161.1, 177. ])"
      ]
     },
     "execution_count": 34,
     "metadata": {},
     "output_type": "execute_result"
    }
   ],
   "source": [
    "ivs = np.hstack((np.arange(min(X), max(X), h), np.array(max(X))))\n",
    "ivs"
   ]
  },
  {
   "cell_type": "code",
   "execution_count": 35,
   "id": "cc8db129-f8f6-450f-a1fa-f6b795efed09",
   "metadata": {},
   "outputs": [
    {
     "data": {
      "text/plain": [
       "[64.5, 80.6)       2\n",
       "[80.6, 96.7)       5\n",
       "[96.7, 112.8)     14\n",
       "[112.8, 128.9)    25\n",
       "[128.9, 145.0)    24\n",
       "[145.0, 161.1)    19\n",
       "[161.1, 177.0)     7\n",
       "Name: inter, dtype: int64"
      ]
     },
     "execution_count": 35,
     "metadata": {},
     "output_type": "execute_result"
    }
   ],
   "source": [
    "data_interval['inter'] = pd.cut(data_interval['E'], bins=ivs, \n",
    "                                right=False)\n",
    "data_interval.iloc[95, 3] = data_interval.iloc[94, 3]\n",
    "data_interval['inter'].value_counts().sort_index()"
   ]
  },
  {
   "cell_type": "code",
   "execution_count": 36,
   "id": "93077e18-6fa3-4c61-8f81-028d122ff8a6",
   "metadata": {},
   "outputs": [
    {
     "data": {
      "text/html": [
       "<div>\n",
       "<style scoped>\n",
       "    .dataframe tbody tr th:only-of-type {\n",
       "        vertical-align: middle;\n",
       "    }\n",
       "\n",
       "    .dataframe tbody tr th {\n",
       "        vertical-align: top;\n",
       "    }\n",
       "\n",
       "    .dataframe thead th {\n",
       "        text-align: right;\n",
       "    }\n",
       "</style>\n",
       "<table border=\"1\" class=\"dataframe\">\n",
       "  <thead>\n",
       "    <tr style=\"text-align: right;\">\n",
       "      <th></th>\n",
       "      <th>inter</th>\n",
       "      <th>avg_inter</th>\n",
       "      <th>af</th>\n",
       "      <th>rf</th>\n",
       "    </tr>\n",
       "  </thead>\n",
       "  <tbody>\n",
       "    <tr>\n",
       "      <th>0</th>\n",
       "      <td>[64.5, 80.6)</td>\n",
       "      <td>72.55</td>\n",
       "      <td>2</td>\n",
       "      <td>0.019</td>\n",
       "    </tr>\n",
       "    <tr>\n",
       "      <th>1</th>\n",
       "      <td>[80.6, 96.7)</td>\n",
       "      <td>88.65</td>\n",
       "      <td>5</td>\n",
       "      <td>0.048</td>\n",
       "    </tr>\n",
       "    <tr>\n",
       "      <th>2</th>\n",
       "      <td>[96.7, 112.8)</td>\n",
       "      <td>104.75</td>\n",
       "      <td>15</td>\n",
       "      <td>0.144</td>\n",
       "    </tr>\n",
       "    <tr>\n",
       "      <th>3</th>\n",
       "      <td>[112.8, 128.9)</td>\n",
       "      <td>120.85</td>\n",
       "      <td>27</td>\n",
       "      <td>0.260</td>\n",
       "    </tr>\n",
       "    <tr>\n",
       "      <th>4</th>\n",
       "      <td>[128.9, 145.0)</td>\n",
       "      <td>136.95</td>\n",
       "      <td>27</td>\n",
       "      <td>0.260</td>\n",
       "    </tr>\n",
       "    <tr>\n",
       "      <th>5</th>\n",
       "      <td>[145.0, 161.1)</td>\n",
       "      <td>153.05</td>\n",
       "      <td>21</td>\n",
       "      <td>0.202</td>\n",
       "    </tr>\n",
       "    <tr>\n",
       "      <th>6</th>\n",
       "      <td>[161.1, 177.0)</td>\n",
       "      <td>169.05</td>\n",
       "      <td>7</td>\n",
       "      <td>0.067</td>\n",
       "    </tr>\n",
       "  </tbody>\n",
       "</table>\n",
       "</div>"
      ],
      "text/plain": [
       "            inter  avg_inter  af     rf\n",
       "0    [64.5, 80.6)      72.55   2  0.019\n",
       "1    [80.6, 96.7)      88.65   5  0.048\n",
       "2   [96.7, 112.8)     104.75  15  0.144\n",
       "3  [112.8, 128.9)     120.85  27  0.260\n",
       "4  [128.9, 145.0)     136.95  27  0.260\n",
       "5  [145.0, 161.1)     153.05  21  0.202\n",
       "6  [161.1, 177.0)     169.05   7  0.067"
      ]
     },
     "execution_count": 36,
     "metadata": {},
     "output_type": "execute_result"
    },
    {
     "data": {
      "text/plain": [
       "104"
      ]
     },
     "execution_count": 36,
     "metadata": {},
     "output_type": "execute_result"
    },
    {
     "data": {
      "text/plain": [
       "1.0"
      ]
     },
     "execution_count": 36,
     "metadata": {},
     "output_type": "execute_result"
    }
   ],
   "source": [
    "f_inter = data_interval.groupby(['inter'])[['af', 'rf']].apply(sum).reset_index()\n",
    "f_inter['avg_inter'] = np.array([np.mean([ivs[i], ivs[i+1]], axis=0) for i in range(k)])\n",
    "f_inter = f_inter[['inter', 'avg_inter', 'af', 'rf']]\n",
    "f_inter['af'] = (f_inter['af']).astype(int)\n",
    "f_inter['rf'] = np.round(f_inter['rf'], 3)\n",
    "f_inter.to_csv('data2/data7.csv', index=False)\n",
    "f_inter\n",
    "f_inter['af'].sum()\n",
    "f_inter['rf'].sum()"
   ]
  },
  {
   "cell_type": "markdown",
   "id": "fcd3d73c-e33d-4ccb-9b51-ad43b4066846",
   "metadata": {
    "heading_collapsed": "true",
    "tags": []
   },
   "source": [
    "## Графики абсолют"
   ]
  },
  {
   "cell_type": "markdown",
   "id": "dc76ae27-51f5-4369-8727-11f54b0c6200",
   "metadata": {
    "heading_collapsed": "true",
    "tags": []
   },
   "source": [
    "### Полигон"
   ]
  },
  {
   "cell_type": "code",
   "execution_count": 37,
   "id": "d9cc1f5e-a1f7-4e70-b122-cdf65ec87fc7",
   "metadata": {},
   "outputs": [
    {
     "data": {
      "text/plain": [
       "<seaborn.axisgrid.FacetGrid at 0x27b3aa91730>"
      ]
     },
     "execution_count": 37,
     "metadata": {},
     "output_type": "execute_result"
    },
    {
     "data": {
      "text/plain": [
       "<seaborn.axisgrid.FacetGrid at 0x27b3aa91730>"
      ]
     },
     "execution_count": 37,
     "metadata": {},
     "output_type": "execute_result"
    },
    {
     "data": {
      "text/plain": [
       "Text(0.5, 0.98, 'Полигон для абсолютных частот')"
      ]
     },
     "execution_count": 37,
     "metadata": {},
     "output_type": "execute_result"
    },
    {
     "data": {
      "image/png": "[encoded data removed]",
      "text/plain": [
       "<Figure size 842.4x595.44 with 1 Axes>"
      ]
     },
     "metadata": {},
     "output_type": "display_data"
    }
   ],
   "source": [
    "ax = sns.relplot(data=f_inter, x='avg_inter', y='af', kind='line', height=8.27, aspect=11.7/8.27)\n",
    "ax.set_axis_labels('Середина интервала', 'Частота')\n",
    "ax.set(ylim=[0,29], xticks=f_inter['avg_inter'])\n",
    "ax.fig.suptitle('Полигон для абсолютных частот')\n",
    "plt.savefig('pics2/3.png')"
   ]
  },
  {
   "cell_type": "markdown",
   "id": "e35eff8b-2d33-41ff-a0dd-c36a4d7cfc7d",
   "metadata": {
    "heading_collapsed": "true",
    "tags": []
   },
   "source": [
    "### Гист"
   ]
  },
  {
   "cell_type": "markdown",
   "id": "d399a022-5248-49d4-9d6e-1388b2392c64",
   "metadata": {
    "heading_collapsed": "true",
    "tags": []
   },
   "source": [
    "#### Только ось ординат"
   ]
  },
  {
   "cell_type": "code",
   "execution_count": 38,
   "id": "530663d9-1344-4b82-a6fd-8cb785d8d28b",
   "metadata": {},
   "outputs": [
    {
     "data": {
      "text/plain": [
       "104.006"
      ]
     },
     "execution_count": 38,
     "metadata": {},
     "output_type": "execute_result"
    }
   ],
   "source": [
    "h*(1.677+1.304+0.932+1.677+0.435+0.311+0.124)"
   ]
  },
  {
   "cell_type": "code",
   "execution_count": 39,
   "id": "051750c6-446f-440e-b277-f3cd3b33921d",
   "metadata": {},
   "outputs": [
    {
     "data": {
      "text/plain": [
       "<seaborn.axisgrid.FacetGrid at 0x27b3c708be0>"
      ]
     },
     "execution_count": 39,
     "metadata": {},
     "output_type": "execute_result"
    },
    {
     "data": {
      "text/plain": [
       "<seaborn.axisgrid.FacetGrid at 0x27b3c708be0>"
      ]
     },
     "execution_count": 39,
     "metadata": {},
     "output_type": "execute_result"
    },
    {
     "data": {
      "text/plain": [
       "Text(0.5, 0.98, 'Гистограмма для абсолютных частот')"
      ]
     },
     "execution_count": 39,
     "metadata": {},
     "output_type": "execute_result"
    },
    {
     "data": {
      "image/png": "[encoded data removed]",
      "text/plain": [
       "<Figure size 842.4x595.44 with 1 Axes>"
      ]
     },
     "metadata": {},
     "output_type": "display_data"
    }
   ],
   "source": [
    "ax = sns.displot(data=df, x='E', bins=ivs, kind='hist', height=8.27, aspect=11.7/8.27, stat='density')\n",
    "ax.set_axis_labels('Середина интервала', 'Частота')\n",
    "ax.set(xticks=f_inter['avg_inter'], yticks=f_inter['af']/h)\n",
    "ax.fig.suptitle('Гистограмма для абсолютных частот')\n",
    "plt.savefig('pics2/4o.png')"
   ]
  },
  {
   "cell_type": "markdown",
   "id": "cf4f34a7-02f0-4f9c-a6a7-1dc8a967cd88",
   "metadata": {
    "heading_collapsed": "true",
    "tags": []
   },
   "source": [
    "#### График"
   ]
  },
  {
   "cell_type": "code",
   "execution_count": 40,
   "id": "03e2ed49-e8e5-47dd-b6fc-0e40f72eb018",
   "metadata": {},
   "outputs": [
    {
     "data": {
      "text/plain": [
       "<seaborn.axisgrid.FacetGrid at 0x27b3aa5f940>"
      ]
     },
     "execution_count": 40,
     "metadata": {},
     "output_type": "execute_result"
    },
    {
     "data": {
      "text/plain": [
       "<seaborn.axisgrid.FacetGrid at 0x27b3aa5f940>"
      ]
     },
     "execution_count": 40,
     "metadata": {},
     "output_type": "execute_result"
    },
    {
     "data": {
      "text/plain": [
       "Text(0.5, 0.98, 'Гистограмма для абсолютных частот')"
      ]
     },
     "execution_count": 40,
     "metadata": {},
     "output_type": "execute_result"
    },
    {
     "data": {
      "image/png": "[encoded data removed]",
      "text/plain": [
       "<Figure size 842.4x595.44 with 1 Axes>"
      ]
     },
     "metadata": {},
     "output_type": "display_data"
    }
   ],
   "source": [
    "ax = sns.displot(data=df, x='E', bins=ivs, kind='hist', height=8.27, aspect=11.7/8.27)\n",
    "ax.set_axis_labels('Середина интервала', 'Частота')\n",
    "ax.set(xticks=f_inter['avg_inter'], yticks=f_inter['af'])\n",
    "ax.fig.suptitle('Гистограмма для абсолютных частот')\n",
    "plt.savefig('pics2/4.png')"
   ]
  },
  {
   "cell_type": "markdown",
   "id": "f9c59f4f-06dd-4d67-a6c8-3ce0b890725f",
   "metadata": {
    "heading_collapsed": "true",
    "tags": []
   },
   "source": [
    "## Графики относительно"
   ]
  },
  {
   "cell_type": "markdown",
   "id": "4251f7c2-d298-4236-8c30-8a397fcb3ffc",
   "metadata": {
    "heading_collapsed": "true",
    "tags": []
   },
   "source": [
    "### ecdf"
   ]
  },
  {
   "cell_type": "code",
   "execution_count": 41,
   "id": "e8c215de-1bf7-40bf-9710-d475ae088a56",
   "metadata": {},
   "outputs": [
    {
     "data": {
      "text/html": [
       "<div>\n",
       "<style scoped>\n",
       "    .dataframe tbody tr th:only-of-type {\n",
       "        vertical-align: middle;\n",
       "    }\n",
       "\n",
       "    .dataframe tbody tr th {\n",
       "        vertical-align: top;\n",
       "    }\n",
       "\n",
       "    .dataframe thead th {\n",
       "        text-align: right;\n",
       "    }\n",
       "</style>\n",
       "<table border=\"1\" class=\"dataframe\">\n",
       "  <thead>\n",
       "    <tr style=\"text-align: right;\">\n",
       "      <th></th>\n",
       "      <th>inter</th>\n",
       "      <th>avg_inter</th>\n",
       "      <th>af</th>\n",
       "      <th>rf</th>\n",
       "      <th>sum_rf</th>\n",
       "    </tr>\n",
       "  </thead>\n",
       "  <tbody>\n",
       "    <tr>\n",
       "      <th>0</th>\n",
       "      <td>[64.5, 80.6)</td>\n",
       "      <td>72.55</td>\n",
       "      <td>2</td>\n",
       "      <td>0.019</td>\n",
       "      <td>0.019</td>\n",
       "    </tr>\n",
       "    <tr>\n",
       "      <th>1</th>\n",
       "      <td>[80.6, 96.7)</td>\n",
       "      <td>88.65</td>\n",
       "      <td>5</td>\n",
       "      <td>0.048</td>\n",
       "      <td>0.067</td>\n",
       "    </tr>\n",
       "    <tr>\n",
       "      <th>2</th>\n",
       "      <td>[96.7, 112.8)</td>\n",
       "      <td>104.75</td>\n",
       "      <td>15</td>\n",
       "      <td>0.144</td>\n",
       "      <td>0.211</td>\n",
       "    </tr>\n",
       "    <tr>\n",
       "      <th>3</th>\n",
       "      <td>[112.8, 128.9)</td>\n",
       "      <td>120.85</td>\n",
       "      <td>27</td>\n",
       "      <td>0.260</td>\n",
       "      <td>0.471</td>\n",
       "    </tr>\n",
       "    <tr>\n",
       "      <th>4</th>\n",
       "      <td>[128.9, 145.0)</td>\n",
       "      <td>136.95</td>\n",
       "      <td>27</td>\n",
       "      <td>0.260</td>\n",
       "      <td>0.731</td>\n",
       "    </tr>\n",
       "    <tr>\n",
       "      <th>5</th>\n",
       "      <td>[145.0, 161.1)</td>\n",
       "      <td>153.05</td>\n",
       "      <td>21</td>\n",
       "      <td>0.202</td>\n",
       "      <td>0.933</td>\n",
       "    </tr>\n",
       "    <tr>\n",
       "      <th>6</th>\n",
       "      <td>[161.1, 177.0)</td>\n",
       "      <td>169.05</td>\n",
       "      <td>7</td>\n",
       "      <td>0.067</td>\n",
       "      <td>1.000</td>\n",
       "    </tr>\n",
       "  </tbody>\n",
       "</table>\n",
       "</div>"
      ],
      "text/plain": [
       "            inter  avg_inter  af     rf  sum_rf\n",
       "0    [64.5, 80.6)      72.55   2  0.019   0.019\n",
       "1    [80.6, 96.7)      88.65   5  0.048   0.067\n",
       "2   [96.7, 112.8)     104.75  15  0.144   0.211\n",
       "3  [112.8, 128.9)     120.85  27  0.260   0.471\n",
       "4  [128.9, 145.0)     136.95  27  0.260   0.731\n",
       "5  [145.0, 161.1)     153.05  21  0.202   0.933\n",
       "6  [161.1, 177.0)     169.05   7  0.067   1.000"
      ]
     },
     "execution_count": 41,
     "metadata": {},
     "output_type": "execute_result"
    }
   ],
   "source": [
    "f_inter['sum_rf'] = f_inter['rf'].cumsum()\n",
    "f_inter"
   ]
  },
  {
   "cell_type": "code",
   "execution_count": 42,
   "id": "a4f96ef5-8cd3-4b26-a49b-9c887e54ea74",
   "metadata": {},
   "outputs": [
    {
     "data": {
      "text/plain": [
       "<matplotlib.collections.LineCollection at 0x27b3a3db970>"
      ]
     },
     "execution_count": 42,
     "metadata": {},
     "output_type": "execute_result"
    },
    {
     "data": {
      "text/plain": [
       "<matplotlib.collections.LineCollection at 0x27b3aa5f940>"
      ]
     },
     "execution_count": 42,
     "metadata": {},
     "output_type": "execute_result"
    },
    {
     "data": {
      "text/plain": [
       "<matplotlib.collections.LineCollection at 0x27b3c733190>"
      ]
     },
     "execution_count": 42,
     "metadata": {},
     "output_type": "execute_result"
    },
    {
     "data": {
      "text/plain": [
       "<matplotlib.collections.LineCollection at 0x27b39efff70>"
      ]
     },
     "execution_count": 42,
     "metadata": {},
     "output_type": "execute_result"
    },
    {
     "data": {
      "text/plain": [
       "<matplotlib.collections.LineCollection at 0x27b3a93a7f0>"
      ]
     },
     "execution_count": 42,
     "metadata": {},
     "output_type": "execute_result"
    },
    {
     "data": {
      "text/plain": [
       "<matplotlib.collections.LineCollection at 0x27b39f1f100>"
      ]
     },
     "execution_count": 42,
     "metadata": {},
     "output_type": "execute_result"
    },
    {
     "data": {
      "text/plain": [
       "<matplotlib.collections.LineCollection at 0x27b3a427190>"
      ]
     },
     "execution_count": 42,
     "metadata": {},
     "output_type": "execute_result"
    },
    {
     "data": {
      "text/plain": [
       "<matplotlib.collections.LineCollection at 0x27b39eff8b0>"
      ]
     },
     "execution_count": 42,
     "metadata": {},
     "output_type": "execute_result"
    },
    {
     "data": {
      "text/plain": [
       "<matplotlib.collections.LineCollection at 0x27b3a3ce460>"
      ]
     },
     "execution_count": 42,
     "metadata": {},
     "output_type": "execute_result"
    },
    {
     "data": {
      "text/plain": [
       "<matplotlib.collections.LineCollection at 0x27b3a3ce070>"
      ]
     },
     "execution_count": 42,
     "metadata": {},
     "output_type": "execute_result"
    },
    {
     "data": {
      "text/plain": [
       "<matplotlib.collections.LineCollection at 0x27b39f1f460>"
      ]
     },
     "execution_count": 42,
     "metadata": {},
     "output_type": "execute_result"
    },
    {
     "data": {
      "text/plain": [
       "<matplotlib.collections.LineCollection at 0x27b3a3ce4c0>"
      ]
     },
     "execution_count": 42,
     "metadata": {},
     "output_type": "execute_result"
    },
    {
     "data": {
      "text/plain": [
       "<matplotlib.collections.LineCollection at 0x27b39eab7f0>"
      ]
     },
     "execution_count": 42,
     "metadata": {},
     "output_type": "execute_result"
    },
    {
     "data": {
      "text/plain": [
       "<matplotlib.collections.LineCollection at 0x27b39eabe20>"
      ]
     },
     "execution_count": 42,
     "metadata": {},
     "output_type": "execute_result"
    },
    {
     "data": {
      "text/plain": [
       "<matplotlib.collections.LineCollection at 0x27b3a3dba00>"
      ]
     },
     "execution_count": 42,
     "metadata": {},
     "output_type": "execute_result"
    },
    {
     "data": {
      "text/plain": [
       "Text(88.64999999999999, 0.019, '')"
      ]
     },
     "execution_count": 42,
     "metadata": {},
     "output_type": "execute_result"
    },
    {
     "data": {
      "text/plain": [
       "Text(104.74999999999999, 0.067, '')"
      ]
     },
     "execution_count": 42,
     "metadata": {},
     "output_type": "execute_result"
    },
    {
     "data": {
      "text/plain": [
       "Text(120.84999999999998, 0.211, '')"
      ]
     },
     "execution_count": 42,
     "metadata": {},
     "output_type": "execute_result"
    },
    {
     "data": {
      "text/plain": [
       "Text(136.95, 0.471, '')"
      ]
     },
     "execution_count": 42,
     "metadata": {},
     "output_type": "execute_result"
    },
    {
     "data": {
      "text/plain": [
       "Text(153.04999999999995, 0.731, '')"
      ]
     },
     "execution_count": 42,
     "metadata": {},
     "output_type": "execute_result"
    },
    {
     "data": {
      "text/plain": [
       "Text(169.04999999999998, 0.933, '')"
      ]
     },
     "execution_count": 42,
     "metadata": {},
     "output_type": "execute_result"
    },
    {
     "data": {
      "text/plain": [
       "Text(185.15, 1, '')"
      ]
     },
     "execution_count": 42,
     "metadata": {},
     "output_type": "execute_result"
    },
    {
     "data": {
      "text/plain": [
       "<seaborn.axisgrid.FacetGrid at 0x27b3a3db8e0>"
      ]
     },
     "execution_count": 42,
     "metadata": {},
     "output_type": "execute_result"
    },
    {
     "data": {
      "text/plain": [
       "<seaborn.axisgrid.FacetGrid at 0x27b3a3db8e0>"
      ]
     },
     "execution_count": 42,
     "metadata": {},
     "output_type": "execute_result"
    },
    {
     "data": {
      "text/plain": [
       "Text(0.5, 0.98, 'Эмпирическая фукнция распределения')"
      ]
     },
     "execution_count": 42,
     "metadata": {},
     "output_type": "execute_result"
    },
    {
     "data": {
      "image/png": "[encoded data removed]",
      "text/plain": [
       "<Figure size 842.4x595.44 with 1 Axes>"
      ]
     },
     "metadata": {},
     "output_type": "display_data"
    }
   ],
   "source": [
    "ax = sns.relplot(data=f_inter, x='avg_inter', y='sum_rf', s=0,\n",
    "                 kind='scatter', height=8.27, aspect=11.7/8.27, color='b')\n",
    "for i in range(6):\n",
    "    plt.hlines(f_inter['sum_rf'][i], f_inter['avg_inter'][i], f_inter['avg_inter'][i+1], color='b')\n",
    "plt.hlines(1, 169.05, 169.05+h, color='b')\n",
    "plt.hlines(0, 72.55-h, 72.55, color='b')\n",
    "for i in range(6):\n",
    "    plt.vlines(f_inter['avg_inter'][i+1], f_inter['sum_rf'][i], f_inter['sum_rf'][i+1], color='b', linestyle='--')\n",
    "plt.vlines(72.55, 0, 0.019, color='b', linestyle='--')\n",
    "\n",
    "for i in range(6):\n",
    "    plt.annotate('', xy=(f_inter['avg_inter'][i]-1, f_inter['sum_rf'][i]), \n",
    "                 xytext=(f_inter['avg_inter'][i+1], f_inter['sum_rf'][i]), \n",
    "                 arrowprops=dict(arrowstyle=\"->\", color='b', linewidth=3))\n",
    "plt.annotate('', xy=(169.05, 1), \n",
    "                 xytext=(169.05+h, 1), \n",
    "                 arrowprops=dict(arrowstyle=\"->\", color='b', linewidth=3))\n",
    "\n",
    "ax.set_axis_labels('Середина интервала', 'Накопленная частота')\n",
    "ax.set(xticks=f_inter['avg_inter'], yticks=[0]+f_inter['sum_rf'][:-1].to_list()+[1])\n",
    "ax.fig.suptitle('Эмпирическая фукнция распределения')\n",
    "plt.tight_layout()\n",
    "plt.savefig('pics2/5.png')"
   ]
  },
  {
   "cell_type": "markdown",
   "id": "c4484ba8-185d-45f1-80cd-a31608fca385",
   "metadata": {
    "heading_collapsed": "true",
    "tags": []
   },
   "source": [
    "### Полигон"
   ]
  },
  {
   "cell_type": "code",
   "execution_count": 43,
   "id": "df22d971-0f97-4c27-a44d-752e5d812880",
   "metadata": {},
   "outputs": [
    {
     "data": {
      "text/plain": [
       "<seaborn.axisgrid.FacetGrid at 0x27b3a4270d0>"
      ]
     },
     "execution_count": 43,
     "metadata": {},
     "output_type": "execute_result"
    },
    {
     "data": {
      "text/plain": [
       "<seaborn.axisgrid.FacetGrid at 0x27b3a4270d0>"
      ]
     },
     "execution_count": 43,
     "metadata": {},
     "output_type": "execute_result"
    },
    {
     "data": {
      "text/plain": [
       "Text(0.5, 0.98, 'Полигон для относительных частот')"
      ]
     },
     "execution_count": 43,
     "metadata": {},
     "output_type": "execute_result"
    },
    {
     "data": {
      "image/png": "[encoded data removed]",
      "text/plain": [
       "<Figure size 842.4x595.44 with 1 Axes>"
      ]
     },
     "metadata": {},
     "output_type": "display_data"
    }
   ],
   "source": [
    "ax = sns.relplot(data=f_inter, x='avg_inter', y='rf', kind='line', height=8.27, aspect=11.7/8.27)\n",
    "ax.set_axis_labels('Середина интервала', 'Частота')\n",
    "ax.set(ylim=[0,0.28], xticks=f_inter['avg_inter'])\n",
    "ax.fig.suptitle('Полигон для относительных частот')\n",
    "plt.savefig('pics2/6.png')"
   ]
  },
  {
   "cell_type": "markdown",
   "id": "02f357ab-97ac-4492-875c-60359a805138",
   "metadata": {
    "heading_collapsed": "true",
    "tags": []
   },
   "source": [
    "### Гист"
   ]
  },
  {
   "cell_type": "code",
   "execution_count": 44,
   "id": "76afc97d-3a3d-4db5-a121-f1f849b6e41d",
   "metadata": {},
   "outputs": [
    {
     "data": {
      "text/plain": [
       "0.9982000000000002"
      ]
     },
     "execution_count": 44,
     "metadata": {},
     "output_type": "execute_result"
    }
   ],
   "source": [
    "h*(0.0161+0.0161+0.0125+0.0089+0.0042+0.0030+0.0012)"
   ]
  },
  {
   "cell_type": "code",
   "execution_count": 45,
   "id": "60ff5d21-09ff-472d-8f18-2562b12e549d",
   "metadata": {},
   "outputs": [
    {
     "data": {
      "text/plain": [
       "<seaborn.axisgrid.FacetGrid at 0x27b3c7c8970>"
      ]
     },
     "execution_count": 45,
     "metadata": {},
     "output_type": "execute_result"
    },
    {
     "data": {
      "text/plain": [
       "<seaborn.axisgrid.FacetGrid at 0x27b3c7c8970>"
      ]
     },
     "execution_count": 45,
     "metadata": {},
     "output_type": "execute_result"
    },
    {
     "data": {
      "text/plain": [
       "Text(0.5, 0.98, 'Гистограмма для относительных частот')"
      ]
     },
     "execution_count": 45,
     "metadata": {},
     "output_type": "execute_result"
    },
    {
     "data": {
      "image/png": "[encoded data removed]",
      "text/plain": [
       "<Figure size 842.4x595.44 with 1 Axes>"
      ]
     },
     "metadata": {},
     "output_type": "display_data"
    }
   ],
   "source": [
    "ax = sns.displot(data=df, x='E', bins=ivs, kind='hist', height=8.27, aspect=11.7/8.27, stat='density')\n",
    "ax.set_axis_labels('Середина интервала', 'Частота')\n",
    "ax.set(xticks=f_inter['avg_inter'], yticks=round((f_inter['rf']/h), 4))\n",
    "ax.fig.suptitle('Гистограмма для относительных частот')\n",
    "plt.savefig('pics2/7.png')"
   ]
  },
  {
   "cell_type": "code",
   "execution_count": null,
   "id": "e1f862db-7e35-4518-b66d-383be3c9d235",
   "metadata": {},
   "outputs": [],
   "source": []
  }
 ],
 "metadata": {
  "kernelspec": {
   "display_name": "Python 3",
   "language": "python",
   "name": "python3"
  },
  "language_info": {
   "codemirror_mode": {
    "name": "ipython",
    "version": 3
   },
   "file_extension": ".py",
   "mimetype": "text/x-python",
   "name": "python",
   "nbconvert_exporter": "python",
   "pygments_lexer": "ipython3",
   "version": "3.8.8"
  }
 },
 "nbformat": 4,
 "nbformat_minor": 5
}
