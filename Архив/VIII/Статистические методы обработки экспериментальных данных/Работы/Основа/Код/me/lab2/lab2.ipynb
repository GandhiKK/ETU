{
 "cells": [
  {
   "cell_type": "code",
   "execution_count": 1,
   "id": "4e7c33f5-cf63-40c3-8c5b-f98524df7b90",
   "metadata": {},
   "outputs": [],
   "source": [
    "import numpy as np\n",
    "import pandas as pd\n",
    "import matplotlib.pyplot as plt\n",
    "import seaborn as sns\n",
    "from IPython.core.interactiveshell import InteractiveShell \n",
    "InteractiveShell.ast_node_interactivity = \"all\"\n",
    "pd.set_option('display.max_columns', None)\n",
    "pd.set_option('display.max_rows', None)"
   ]
  },
  {
   "cell_type": "markdown",
   "id": "ad99caa1-2c22-4f10-aa48-e7b5b495059b",
   "metadata": {
    "tags": []
   },
   "source": [
    "## Переменная $nu$"
   ]
  },
  {
   "cell_type": "code",
   "execution_count": 2,
   "id": "8a7e9c4d-d17a-4019-8b1b-d43e626a17ef",
   "metadata": {},
   "outputs": [],
   "source": [
    "original = pd.read_csv('c:/Users/gandh/dev/unv/smoed/me/lab1/data/data2.csv')\n",
    "var_row = pd.read_csv('c:/Users/gandh/dev/unv/smoed/me/lab1/data/data4.csv')\n",
    "var_row.to_csv('data/var_row.csv', index=False)\n",
    "n = 104\n",
    "h = 37"
   ]
  },
  {
   "cell_type": "code",
   "execution_count": 3,
   "id": "e6a50ab3-76a6-4f82-ba75-fbbfff0b7aa3",
   "metadata": {},
   "outputs": [],
   "source": [
    "int_row = pd.read_csv('c:/Users/gandh/dev/unv/smoed/me/data/interval.csv')\n",
    "int_row['cum_sum'] = np.round(np.cumsum(int_row['rf']), 3)\n",
    "int_row['rf'] = np.round(int_row['rf'], 3)\n",
    "int_row.to_csv('data/int_row.csv', index=False)"
   ]
  },
  {
   "cell_type": "code",
   "execution_count": 4,
   "id": "ef5e2d54-7451-4f01-98b7-7a100a059a46",
   "metadata": {},
   "outputs": [],
   "source": [
    "usl_mom = int_row.copy()\n",
    "usl_mom = usl_mom.iloc[:, [1,3]]\n",
    "usl_mom['u'] = np.arange(-3,4,1)\n",
    "usl_mom['nu'] = usl_mom['rf']*usl_mom['u']\n",
    "usl_mom['nu2'] = usl_mom['rf']*pow(usl_mom['u'], 2)\n",
    "usl_mom['nu3'] = usl_mom['rf']*pow(usl_mom['u'], 3)\n",
    "usl_mom['nu4'] = usl_mom['rf']*pow(usl_mom['u'], 4)\n",
    "usl_mom['nu4+'] = usl_mom['rf']*pow(usl_mom['u']+1, 4)"
   ]
  },
  {
   "cell_type": "code",
   "execution_count": 5,
   "id": "166d6eb8-4103-4a53-8652-b458e64353e2",
   "metadata": {},
   "outputs": [],
   "source": [
    "usl_mom_f = usl_mom.append(usl_mom.sum(), ignore_index=True)\n",
    "usl_mom_f.to_csv('data/usl_mom.csv', index=False)"
   ]
  },
  {
   "cell_type": "code",
   "execution_count": 6,
   "id": "39cdf7a9-75d7-4923-a252-9dd8d3239542",
   "metadata": {},
   "outputs": [
    {
     "data": {
      "text/plain": [
       "26.429"
      ]
     },
     "execution_count": 6,
     "metadata": {},
     "output_type": "execute_result"
    }
   ],
   "source": [
    "moms = usl_mom_f.iloc[7, [3,4,5,6]]\n",
    "moms[3]+4*moms[2]+6*moms[1]+4*moms[0]+1"
   ]
  },
  {
   "cell_type": "code",
   "execution_count": 7,
   "id": "726bc316-06a0-4073-9eeb-346b1d613562",
   "metadata": {},
   "outputs": [
    {
     "data": {
      "text/plain": [
       "453.71153846153845"
      ]
     },
     "execution_count": 7,
     "metadata": {},
     "output_type": "execute_result"
    },
    {
     "data": {
      "text/plain": [
       "2865.503328402367"
      ]
     },
     "execution_count": 7,
     "metadata": {},
     "output_type": "execute_result"
    },
    {
     "data": {
      "text/plain": [
       "2893.323749066468"
      ]
     },
     "execution_count": 7,
     "metadata": {},
     "output_type": "execute_result"
    },
    {
     "data": {
      "text/plain": [
       "53.530396303430884"
      ]
     },
     "execution_count": 7,
     "metadata": {},
     "output_type": "execute_result"
    },
    {
     "data": {
      "text/plain": [
       "53.789624920299154"
      ]
     },
     "execution_count": 7,
     "metadata": {},
     "output_type": "execute_result"
    }
   ],
   "source": [
    "int_mean = (int_row['avg_inter']*int_row['af']).sum()/n\n",
    "int_var = (((int_row['avg_inter']-int_mean)**2)*int_row['af']).sum()/n\n",
    "s = int_var*(n/(n-1))\n",
    "std_s = np.sqrt(s)\n",
    "std_var = np.sqrt(int_var)\n",
    "int_mean\n",
    "int_var\n",
    "s\n",
    "std_var\n",
    "std_s"
   ]
  },
  {
   "cell_type": "code",
   "execution_count": 8,
   "id": "7c402a95-99ef-430e-a5e4-75003d5f8748",
   "metadata": {},
   "outputs": [
    {
     "data": {
      "text/plain": [
       "nu    453.201923\n",
       "dtype: float64"
      ]
     },
     "execution_count": 8,
     "metadata": {},
     "output_type": "execute_result"
    },
    {
     "data": {
      "text/plain": [
       "nu    53.570116\n",
       "dtype: float64"
      ]
     },
     "execution_count": 8,
     "metadata": {},
     "output_type": "execute_result"
    },
    {
     "data": {
      "text/plain": [
       "nu    2897.619025\n",
       "dtype: float64"
      ]
     },
     "execution_count": 8,
     "metadata": {},
     "output_type": "execute_result"
    }
   ],
   "source": [
    "np.mean(original, axis=0)\n",
    "np.std(original, axis=0)\n",
    "np.var(original, axis=0)*(n/(n-1))"
   ]
  },
  {
   "cell_type": "code",
   "execution_count": 9,
   "id": "a74a2f0c-d9bf-41e8-8ce5-afc059d49579",
   "metadata": {},
   "outputs": [
    {
     "data": {
      "text/plain": [
       "(453.829, 2882.170759, -22164.01915042198, 20740732.14621509)"
      ]
     },
     "execution_count": 9,
     "metadata": {},
     "output_type": "execute_result"
    }
   ],
   "source": [
    "M1 = moms[0]*h+449.5\n",
    "m2 = (moms[1] - pow(moms[0],2))*pow(h,2)\n",
    "m3 = (moms[2] - 3*moms[1]*moms[0] + 2*pow(moms[0],3))*pow(h,3)\n",
    "m4 = (moms[3] - 4*moms[2]*moms[0] + 6*moms[1]*pow(moms[0],2) - 3*pow(moms[0],4))*pow(h,4)\n",
    "M1, m2, m3 ,m4"
   ]
  },
  {
   "cell_type": "code",
   "execution_count": 10,
   "id": "7b8bfe2a-7202-40f7-b58a-78d528f2c071",
   "metadata": {},
   "outputs": [],
   "source": [
    "As = m3/(pow(s, 3))\n",
    "Ex = (m4/(pow(s, 4))) - 3"
   ]
  },
  {
   "cell_type": "code",
   "execution_count": 11,
   "id": "84d36f3b-aa02-401e-9791-c2997792882b",
   "metadata": {},
   "outputs": [
    {
     "data": {
      "text/plain": [
       "(-9.150765396131701e-07, -2.9999997040379984)"
      ]
     },
     "execution_count": 11,
     "metadata": {},
     "output_type": "execute_result"
    }
   ],
   "source": [
    "As, Ex"
   ]
  },
  {
   "cell_type": "code",
   "execution_count": 12,
   "id": "dd2ae7a0-9969-481c-877e-e40391c84ec8",
   "metadata": {},
   "outputs": [
    {
     "data": {
      "text/plain": [
       "nu    453.201923\n",
       "dtype: float64"
      ]
     },
     "execution_count": 12,
     "metadata": {},
     "output_type": "execute_result"
    },
    {
     "data": {
      "text/plain": [
       "array([[482]], dtype=int64)"
      ]
     },
     "execution_count": 12,
     "metadata": {},
     "output_type": "execute_result"
    },
    {
     "data": {
      "text/plain": [
       "nu    458.5\n",
       "dtype: float64"
      ]
     },
     "execution_count": 12,
     "metadata": {},
     "output_type": "execute_result"
    }
   ],
   "source": [
    "original.mean()\n",
    "np.asarray(original.mode())\n",
    "original.median()"
   ]
  },
  {
   "cell_type": "code",
   "execution_count": 13,
   "id": "bf98d3b0-37aa-4243-b82a-6e77c036ce1d",
   "metadata": {},
   "outputs": [
    {
     "data": {
      "text/plain": [
       "455.6666666666667"
      ]
     },
     "execution_count": 13,
     "metadata": {},
     "output_type": "execute_result"
    },
    {
     "data": {
      "text/plain": [
       "454.68"
      ]
     },
     "execution_count": 13,
     "metadata": {},
     "output_type": "execute_result"
    },
    {
     "data": {
      "text/plain": [
       "453.71153846153845"
      ]
     },
     "execution_count": 13,
     "metadata": {},
     "output_type": "execute_result"
    }
   ],
   "source": [
    "raw_mode = 431+h*(2/3)\n",
    "raw_median = 431+(((0.5*n)-36)/25)*h\n",
    "raw_mode\n",
    "raw_median\n",
    "int_mean"
   ]
  },
  {
   "cell_type": "code",
   "execution_count": 14,
   "id": "d16bdfdd-6984-4dc8-86ea-9f48dad95661",
   "metadata": {},
   "outputs": [
    {
     "data": {
      "text/html": [
       "<div>\n",
       "<style scoped>\n",
       "    .dataframe tbody tr th:only-of-type {\n",
       "        vertical-align: middle;\n",
       "    }\n",
       "\n",
       "    .dataframe tbody tr th {\n",
       "        vertical-align: top;\n",
       "    }\n",
       "\n",
       "    .dataframe thead th {\n",
       "        text-align: right;\n",
       "    }\n",
       "</style>\n",
       "<table border=\"1\" class=\"dataframe\">\n",
       "  <thead>\n",
       "    <tr style=\"text-align: right;\">\n",
       "      <th></th>\n",
       "      <th>nu</th>\n",
       "    </tr>\n",
       "  </thead>\n",
       "  <tbody>\n",
       "    <tr>\n",
       "      <th>0</th>\n",
       "      <td>460</td>\n",
       "    </tr>\n",
       "    <tr>\n",
       "      <th>1</th>\n",
       "      <td>525</td>\n",
       "    </tr>\n",
       "    <tr>\n",
       "      <th>2</th>\n",
       "      <td>503</td>\n",
       "    </tr>\n",
       "    <tr>\n",
       "      <th>3</th>\n",
       "      <td>482</td>\n",
       "    </tr>\n",
       "    <tr>\n",
       "      <th>4</th>\n",
       "      <td>470</td>\n",
       "    </tr>\n",
       "  </tbody>\n",
       "</table>\n",
       "</div>"
      ],
      "text/plain": [
       "    nu\n",
       "0  460\n",
       "1  525\n",
       "2  503\n",
       "3  482\n",
       "4  470"
      ]
     },
     "execution_count": 14,
     "metadata": {},
     "output_type": "execute_result"
    }
   ],
   "source": [
    "original.head()"
   ]
  },
  {
   "cell_type": "code",
   "execution_count": 15,
   "id": "17cabe1e-c5e6-4f7a-85f8-f39570473697",
   "metadata": {},
   "outputs": [
    {
     "data": {
      "text/plain": [
       "<matplotlib.collections.LineCollection at 0x1d7fc8e66d0>"
      ]
     },
     "execution_count": 15,
     "metadata": {},
     "output_type": "execute_result"
    },
    {
     "data": {
      "text/plain": [
       "<matplotlib.collections.LineCollection at 0x1d7fc96c7c0>"
      ]
     },
     "execution_count": 15,
     "metadata": {},
     "output_type": "execute_result"
    },
    {
     "data": {
      "text/plain": [
       "<matplotlib.collections.LineCollection at 0x1d7fc9546a0>"
      ]
     },
     "execution_count": 15,
     "metadata": {},
     "output_type": "execute_result"
    },
    {
     "data": {
      "text/plain": [
       "<seaborn.axisgrid.FacetGrid at 0x1d7fc8e67f0>"
      ]
     },
     "execution_count": 15,
     "metadata": {},
     "output_type": "execute_result"
    },
    {
     "data": {
      "text/plain": [
       "<seaborn.axisgrid.FacetGrid at 0x1d7fc8e67f0>"
      ]
     },
     "execution_count": 15,
     "metadata": {},
     "output_type": "execute_result"
    },
    {
     "data": {
      "text/plain": [
       "Text(0.5, 0.98, 'Гистограмма для относительных частот')"
      ]
     },
     "execution_count": 15,
     "metadata": {},
     "output_type": "execute_result"
    },
    {
     "data": {
      "text/plain": [
       "<matplotlib.legend.Legend at 0x1d7fc928c70>"
      ]
     },
     "execution_count": 15,
     "metadata": {},
     "output_type": "execute_result"
    },
    {
     "data": {
      "image/png": "[encoded data removed]",
      "text/plain": [
       "<Figure size 842.4x595.44 with 1 Axes>"
      ]
     },
     "metadata": {},
     "output_type": "display_data"
    }
   ],
   "source": [
    "sns.set_theme(style=\"whitegrid\", palette='deep', context='notebook', font_scale=1.3)\n",
    "ax = sns.displot(data=original, x='nu', bins=np.array([320, 357, 394, 431, 468, 505, 542, 576]),\n",
    "                 kind='hist', height=8.27, aspect=11.7/8.27, stat='density')\n",
    "plt.vlines(raw_mode, 0, int_row.loc[3, 'rf']/h, colors='orange', linestyles='solid', label='$M_o$')\n",
    "plt.vlines(raw_median, 0, int_row.loc[3, 'rf']/h, colors='r', linestyles='solid', label='$M_e$')\n",
    "plt.vlines(int_mean, 0, int_row.loc[3, 'rf']/h, colors='k', linestyles='solid', label='$x_в$')\n",
    "ax.set_axis_labels('Середина интервала', 'Частота')\n",
    "ax.set(xticks=int_row['avg_inter'], yticks=round((int_row['rf']/h), 4))\n",
    "ax.fig.suptitle('Гистограмма для относительных частот')\n",
    "plt.legend()\n",
    "plt.savefig('pics/1.png')"
   ]
  },
  {
   "cell_type": "markdown",
   "id": "a5902537-6193-402c-a41d-853cb32112b8",
   "metadata": {
    "heading_collapsed": "true",
    "tags": []
   },
   "source": [
    "## Переменная $E$"
   ]
  },
  {
   "cell_type": "code",
   "execution_count": 16,
   "id": "6b886b77-94d3-40b4-bbc5-b9f0058c3dff",
   "metadata": {},
   "outputs": [],
   "source": [
    "original = pd.read_csv('c:/Users/gandh/dev/unv/smoed/me/lab1/data2/data2.csv')\n",
    "var_row = pd.read_csv('c:/Users/gandh/dev/unv/smoed/me/lab1/data2/data4.csv')\n",
    "var_row.to_csv('data/var_row2.csv', index=False)\n",
    "n = 104\n",
    "h = 16.1"
   ]
  },
  {
   "cell_type": "code",
   "execution_count": 17,
   "id": "3f91bfae-a0fc-4e63-8489-0c558044eb10",
   "metadata": {},
   "outputs": [
    {
     "data": {
      "text/html": [
       "<div>\n",
       "<style scoped>\n",
       "    .dataframe tbody tr th:only-of-type {\n",
       "        vertical-align: middle;\n",
       "    }\n",
       "\n",
       "    .dataframe tbody tr th {\n",
       "        vertical-align: top;\n",
       "    }\n",
       "\n",
       "    .dataframe thead th {\n",
       "        text-align: right;\n",
       "    }\n",
       "</style>\n",
       "<table border=\"1\" class=\"dataframe\">\n",
       "  <thead>\n",
       "    <tr style=\"text-align: right;\">\n",
       "      <th></th>\n",
       "      <th>inter</th>\n",
       "      <th>avg_inter</th>\n",
       "      <th>af</th>\n",
       "      <th>rf</th>\n",
       "      <th>cum_sum</th>\n",
       "    </tr>\n",
       "  </thead>\n",
       "  <tbody>\n",
       "    <tr>\n",
       "      <th>0</th>\n",
       "      <td>[64.5, 80.6)</td>\n",
       "      <td>72.55</td>\n",
       "      <td>2</td>\n",
       "      <td>0.019</td>\n",
       "      <td>0.019</td>\n",
       "    </tr>\n",
       "    <tr>\n",
       "      <th>1</th>\n",
       "      <td>[80.6, 96.7)</td>\n",
       "      <td>88.65</td>\n",
       "      <td>5</td>\n",
       "      <td>0.048</td>\n",
       "      <td>0.067</td>\n",
       "    </tr>\n",
       "    <tr>\n",
       "      <th>2</th>\n",
       "      <td>[96.7, 112.8)</td>\n",
       "      <td>104.75</td>\n",
       "      <td>15</td>\n",
       "      <td>0.144</td>\n",
       "      <td>0.211</td>\n",
       "    </tr>\n",
       "    <tr>\n",
       "      <th>3</th>\n",
       "      <td>[112.8, 128.9)</td>\n",
       "      <td>120.85</td>\n",
       "      <td>27</td>\n",
       "      <td>0.260</td>\n",
       "      <td>0.471</td>\n",
       "    </tr>\n",
       "    <tr>\n",
       "      <th>4</th>\n",
       "      <td>[128.9, 145.0)</td>\n",
       "      <td>136.95</td>\n",
       "      <td>27</td>\n",
       "      <td>0.260</td>\n",
       "      <td>0.731</td>\n",
       "    </tr>\n",
       "    <tr>\n",
       "      <th>5</th>\n",
       "      <td>[145.0, 161.1)</td>\n",
       "      <td>153.05</td>\n",
       "      <td>21</td>\n",
       "      <td>0.202</td>\n",
       "      <td>0.933</td>\n",
       "    </tr>\n",
       "    <tr>\n",
       "      <th>6</th>\n",
       "      <td>[161.1, 177.0)</td>\n",
       "      <td>169.05</td>\n",
       "      <td>7</td>\n",
       "      <td>0.067</td>\n",
       "      <td>1.000</td>\n",
       "    </tr>\n",
       "  </tbody>\n",
       "</table>\n",
       "</div>"
      ],
      "text/plain": [
       "            inter  avg_inter  af     rf  cum_sum\n",
       "0    [64.5, 80.6)      72.55   2  0.019    0.019\n",
       "1    [80.6, 96.7)      88.65   5  0.048    0.067\n",
       "2   [96.7, 112.8)     104.75  15  0.144    0.211\n",
       "3  [112.8, 128.9)     120.85  27  0.260    0.471\n",
       "4  [128.9, 145.0)     136.95  27  0.260    0.731\n",
       "5  [145.0, 161.1)     153.05  21  0.202    0.933\n",
       "6  [161.1, 177.0)     169.05   7  0.067    1.000"
      ]
     },
     "execution_count": 17,
     "metadata": {},
     "output_type": "execute_result"
    }
   ],
   "source": [
    "int_row = pd.read_csv('c:/Users/gandh/dev/unv/smoed/me/data/interval2.csv')\n",
    "int_row['cum_sum'] = np.round(np.cumsum(int_row['rf']), 3)\n",
    "int_row['rf'] = np.round(int_row['rf'], 3)\n",
    "int_row['avg_inter'] = np.round(int_row['avg_inter'], 2)\n",
    "int_row.to_csv('data/int_row2.csv', index=False)\n",
    "int_row"
   ]
  },
  {
   "cell_type": "code",
   "execution_count": 18,
   "id": "515b29b9-4a6f-4ab2-829f-aa49b6d091d5",
   "metadata": {},
   "outputs": [
    {
     "data": {
      "text/html": [
       "<div>\n",
       "<style scoped>\n",
       "    .dataframe tbody tr th:only-of-type {\n",
       "        vertical-align: middle;\n",
       "    }\n",
       "\n",
       "    .dataframe tbody tr th {\n",
       "        vertical-align: top;\n",
       "    }\n",
       "\n",
       "    .dataframe thead th {\n",
       "        text-align: right;\n",
       "    }\n",
       "</style>\n",
       "<table border=\"1\" class=\"dataframe\">\n",
       "  <thead>\n",
       "    <tr style=\"text-align: right;\">\n",
       "      <th></th>\n",
       "      <th>avg_inter</th>\n",
       "      <th>rf</th>\n",
       "      <th>u</th>\n",
       "      <th>nu</th>\n",
       "      <th>nu2</th>\n",
       "      <th>nu3</th>\n",
       "      <th>nu4</th>\n",
       "      <th>nu4+</th>\n",
       "    </tr>\n",
       "  </thead>\n",
       "  <tbody>\n",
       "    <tr>\n",
       "      <th>0</th>\n",
       "      <td>72.55</td>\n",
       "      <td>0.019</td>\n",
       "      <td>-3</td>\n",
       "      <td>-0.057</td>\n",
       "      <td>0.171</td>\n",
       "      <td>-0.513</td>\n",
       "      <td>1.539</td>\n",
       "      <td>0.304</td>\n",
       "    </tr>\n",
       "    <tr>\n",
       "      <th>1</th>\n",
       "      <td>88.65</td>\n",
       "      <td>0.048</td>\n",
       "      <td>-2</td>\n",
       "      <td>-0.096</td>\n",
       "      <td>0.192</td>\n",
       "      <td>-0.384</td>\n",
       "      <td>0.768</td>\n",
       "      <td>0.048</td>\n",
       "    </tr>\n",
       "    <tr>\n",
       "      <th>2</th>\n",
       "      <td>104.75</td>\n",
       "      <td>0.144</td>\n",
       "      <td>-1</td>\n",
       "      <td>-0.144</td>\n",
       "      <td>0.144</td>\n",
       "      <td>-0.144</td>\n",
       "      <td>0.144</td>\n",
       "      <td>0.000</td>\n",
       "    </tr>\n",
       "    <tr>\n",
       "      <th>3</th>\n",
       "      <td>120.85</td>\n",
       "      <td>0.260</td>\n",
       "      <td>0</td>\n",
       "      <td>0.000</td>\n",
       "      <td>0.000</td>\n",
       "      <td>0.000</td>\n",
       "      <td>0.000</td>\n",
       "      <td>0.260</td>\n",
       "    </tr>\n",
       "    <tr>\n",
       "      <th>4</th>\n",
       "      <td>136.95</td>\n",
       "      <td>0.260</td>\n",
       "      <td>1</td>\n",
       "      <td>0.260</td>\n",
       "      <td>0.260</td>\n",
       "      <td>0.260</td>\n",
       "      <td>0.260</td>\n",
       "      <td>4.160</td>\n",
       "    </tr>\n",
       "    <tr>\n",
       "      <th>5</th>\n",
       "      <td>153.05</td>\n",
       "      <td>0.202</td>\n",
       "      <td>2</td>\n",
       "      <td>0.404</td>\n",
       "      <td>0.808</td>\n",
       "      <td>1.616</td>\n",
       "      <td>3.232</td>\n",
       "      <td>16.362</td>\n",
       "    </tr>\n",
       "    <tr>\n",
       "      <th>6</th>\n",
       "      <td>169.05</td>\n",
       "      <td>0.067</td>\n",
       "      <td>3</td>\n",
       "      <td>0.201</td>\n",
       "      <td>0.603</td>\n",
       "      <td>1.809</td>\n",
       "      <td>5.427</td>\n",
       "      <td>17.152</td>\n",
       "    </tr>\n",
       "  </tbody>\n",
       "</table>\n",
       "</div>"
      ],
      "text/plain": [
       "   avg_inter     rf  u     nu    nu2    nu3    nu4    nu4+\n",
       "0      72.55  0.019 -3 -0.057  0.171 -0.513  1.539   0.304\n",
       "1      88.65  0.048 -2 -0.096  0.192 -0.384  0.768   0.048\n",
       "2     104.75  0.144 -1 -0.144  0.144 -0.144  0.144   0.000\n",
       "3     120.85  0.260  0  0.000  0.000  0.000  0.000   0.260\n",
       "4     136.95  0.260  1  0.260  0.260  0.260  0.260   4.160\n",
       "5     153.05  0.202  2  0.404  0.808  1.616  3.232  16.362\n",
       "6     169.05  0.067  3  0.201  0.603  1.809  5.427  17.152"
      ]
     },
     "execution_count": 18,
     "metadata": {},
     "output_type": "execute_result"
    }
   ],
   "source": [
    "usl_mom = int_row.copy()\n",
    "usl_mom = usl_mom.iloc[:, [1,3]]\n",
    "usl_mom['u'] = np.arange(-3,4,1)\n",
    "usl_mom['nu'] = usl_mom['rf']*usl_mom['u']\n",
    "usl_mom['nu2'] = usl_mom['rf']*pow(usl_mom['u'], 2)\n",
    "usl_mom['nu3'] = usl_mom['rf']*pow(usl_mom['u'], 3)\n",
    "usl_mom['nu4'] = usl_mom['rf']*pow(usl_mom['u'], 4)\n",
    "usl_mom['nu4+'] = usl_mom['rf']*pow(usl_mom['u']+1, 4)\n",
    "usl_mom"
   ]
  },
  {
   "cell_type": "code",
   "execution_count": 19,
   "id": "d8d5a4c8-97ed-432d-aacc-be00ebbf0457",
   "metadata": {},
   "outputs": [
    {
     "data": {
      "text/html": [
       "<div>\n",
       "<style scoped>\n",
       "    .dataframe tbody tr th:only-of-type {\n",
       "        vertical-align: middle;\n",
       "    }\n",
       "\n",
       "    .dataframe tbody tr th {\n",
       "        vertical-align: top;\n",
       "    }\n",
       "\n",
       "    .dataframe thead th {\n",
       "        text-align: right;\n",
       "    }\n",
       "</style>\n",
       "<table border=\"1\" class=\"dataframe\">\n",
       "  <thead>\n",
       "    <tr style=\"text-align: right;\">\n",
       "      <th></th>\n",
       "      <th>avg_inter</th>\n",
       "      <th>rf</th>\n",
       "      <th>u</th>\n",
       "      <th>nu</th>\n",
       "      <th>nu2</th>\n",
       "      <th>nu3</th>\n",
       "      <th>nu4</th>\n",
       "      <th>nu4+</th>\n",
       "    </tr>\n",
       "  </thead>\n",
       "  <tbody>\n",
       "    <tr>\n",
       "      <th>0</th>\n",
       "      <td>72.55</td>\n",
       "      <td>0.019</td>\n",
       "      <td>-3.0</td>\n",
       "      <td>-0.057</td>\n",
       "      <td>0.171</td>\n",
       "      <td>-0.513</td>\n",
       "      <td>1.539</td>\n",
       "      <td>0.304</td>\n",
       "    </tr>\n",
       "    <tr>\n",
       "      <th>1</th>\n",
       "      <td>88.65</td>\n",
       "      <td>0.048</td>\n",
       "      <td>-2.0</td>\n",
       "      <td>-0.096</td>\n",
       "      <td>0.192</td>\n",
       "      <td>-0.384</td>\n",
       "      <td>0.768</td>\n",
       "      <td>0.048</td>\n",
       "    </tr>\n",
       "    <tr>\n",
       "      <th>2</th>\n",
       "      <td>104.75</td>\n",
       "      <td>0.144</td>\n",
       "      <td>-1.0</td>\n",
       "      <td>-0.144</td>\n",
       "      <td>0.144</td>\n",
       "      <td>-0.144</td>\n",
       "      <td>0.144</td>\n",
       "      <td>0.000</td>\n",
       "    </tr>\n",
       "    <tr>\n",
       "      <th>3</th>\n",
       "      <td>120.85</td>\n",
       "      <td>0.260</td>\n",
       "      <td>0.0</td>\n",
       "      <td>0.000</td>\n",
       "      <td>0.000</td>\n",
       "      <td>0.000</td>\n",
       "      <td>0.000</td>\n",
       "      <td>0.260</td>\n",
       "    </tr>\n",
       "    <tr>\n",
       "      <th>4</th>\n",
       "      <td>136.95</td>\n",
       "      <td>0.260</td>\n",
       "      <td>1.0</td>\n",
       "      <td>0.260</td>\n",
       "      <td>0.260</td>\n",
       "      <td>0.260</td>\n",
       "      <td>0.260</td>\n",
       "      <td>4.160</td>\n",
       "    </tr>\n",
       "    <tr>\n",
       "      <th>5</th>\n",
       "      <td>153.05</td>\n",
       "      <td>0.202</td>\n",
       "      <td>2.0</td>\n",
       "      <td>0.404</td>\n",
       "      <td>0.808</td>\n",
       "      <td>1.616</td>\n",
       "      <td>3.232</td>\n",
       "      <td>16.362</td>\n",
       "    </tr>\n",
       "    <tr>\n",
       "      <th>6</th>\n",
       "      <td>169.05</td>\n",
       "      <td>0.067</td>\n",
       "      <td>3.0</td>\n",
       "      <td>0.201</td>\n",
       "      <td>0.603</td>\n",
       "      <td>1.809</td>\n",
       "      <td>5.427</td>\n",
       "      <td>17.152</td>\n",
       "    </tr>\n",
       "    <tr>\n",
       "      <th>7</th>\n",
       "      <td>845.85</td>\n",
       "      <td>1.000</td>\n",
       "      <td>0.0</td>\n",
       "      <td>0.568</td>\n",
       "      <td>2.178</td>\n",
       "      <td>2.644</td>\n",
       "      <td>11.370</td>\n",
       "      <td>38.286</td>\n",
       "    </tr>\n",
       "  </tbody>\n",
       "</table>\n",
       "</div>"
      ],
      "text/plain": [
       "   avg_inter     rf    u     nu    nu2    nu3     nu4    nu4+\n",
       "0      72.55  0.019 -3.0 -0.057  0.171 -0.513   1.539   0.304\n",
       "1      88.65  0.048 -2.0 -0.096  0.192 -0.384   0.768   0.048\n",
       "2     104.75  0.144 -1.0 -0.144  0.144 -0.144   0.144   0.000\n",
       "3     120.85  0.260  0.0  0.000  0.000  0.000   0.000   0.260\n",
       "4     136.95  0.260  1.0  0.260  0.260  0.260   0.260   4.160\n",
       "5     153.05  0.202  2.0  0.404  0.808  1.616   3.232  16.362\n",
       "6     169.05  0.067  3.0  0.201  0.603  1.809   5.427  17.152\n",
       "7     845.85  1.000  0.0  0.568  2.178  2.644  11.370  38.286"
      ]
     },
     "execution_count": 19,
     "metadata": {},
     "output_type": "execute_result"
    }
   ],
   "source": [
    "usl_mom_f = usl_mom.append(usl_mom.sum(), ignore_index=True)\n",
    "usl_mom_f.to_csv('data/usl_mom2.csv', index=False)\n",
    "usl_mom_f"
   ]
  },
  {
   "cell_type": "code",
   "execution_count": 20,
   "id": "af05d9a0-b6a8-46a3-85b6-e2f2222ff5b0",
   "metadata": {},
   "outputs": [
    {
     "data": {
      "text/plain": [
       "'True'"
      ]
     },
     "execution_count": 20,
     "metadata": {},
     "output_type": "execute_result"
    },
    {
     "data": {
      "text/plain": [
       "38.286"
      ]
     },
     "execution_count": 20,
     "metadata": {},
     "output_type": "execute_result"
    }
   ],
   "source": [
    "moms = usl_mom_f.iloc[7, [3,4,5,6]]\n",
    "checker = moms[3]+4*moms[2]+6*moms[1]+4*moms[0]+1\n",
    "'True' if checker == usl_mom_f.loc[7, ['nu4+']][0] else 'False'\n",
    "checker"
   ]
  },
  {
   "cell_type": "code",
   "execution_count": 21,
   "id": "0e58879f-c3fd-4168-8a44-92138bc6bf67",
   "metadata": {},
   "outputs": [
    {
     "data": {
      "text/plain": [
       "(129.9948, 480.93201296000007, -2924.6817984572176, 622622.8161265319)"
      ]
     },
     "execution_count": 21,
     "metadata": {},
     "output_type": "execute_result"
    }
   ],
   "source": [
    "M1 = moms[0]*h+120.85\n",
    "m2 = (moms[1] - pow(moms[0],2))*pow(h,2)\n",
    "m3 = (moms[2] - 3*moms[1]*moms[0] + 2*pow(moms[0],3))*pow(h,3)\n",
    "m4 = (moms[3] - 4*moms[2]*moms[0] + 6*moms[1]*pow(moms[0],2) - 3*pow(moms[0],4))*pow(h,4)\n",
    "M1, m2, m3, m4"
   ]
  },
  {
   "cell_type": "code",
   "execution_count": 22,
   "id": "a70ef3f6-2f12-4135-b2c3-9b0586bf8fa0",
   "metadata": {},
   "outputs": [
    {
     "data": {
      "text/plain": [
       "129.97692307692307"
      ]
     },
     "execution_count": 22,
     "metadata": {},
     "output_type": "execute_result"
    },
    {
     "data": {
      "text/plain": [
       "481.825428994083"
      ]
     },
     "execution_count": 22,
     "metadata": {},
     "output_type": "execute_result"
    },
    {
     "data": {
      "text/plain": [
       "486.5033457804333"
      ]
     },
     "execution_count": 22,
     "metadata": {},
     "output_type": "execute_result"
    },
    {
     "data": {
      "text/plain": [
       "22.056820844818805"
      ]
     },
     "execution_count": 22,
     "metadata": {},
     "output_type": "execute_result"
    },
    {
     "data": {
      "text/plain": [
       "21.95052229433466"
      ]
     },
     "execution_count": 22,
     "metadata": {},
     "output_type": "execute_result"
    }
   ],
   "source": [
    "int_mean = (int_row['avg_inter']*int_row['af']).sum()/n\n",
    "int_var = (((int_row['avg_inter']-int_mean)**2)*int_row['af']).sum()/n\n",
    "s = int_var*(n/(n-1))\n",
    "std_s = np.sqrt(s)\n",
    "std_var = np.sqrt(int_var)\n",
    "int_mean\n",
    "int_var\n",
    "s\n",
    "std_s\n",
    "std_var"
   ]
  },
  {
   "cell_type": "code",
   "execution_count": 23,
   "id": "bf81d797-0c68-42b1-b205-7278d61ec227",
   "metadata": {},
   "outputs": [
    {
     "data": {
      "text/plain": [
       "(-2.53992637736103e-05, -2.9999888857104704)"
      ]
     },
     "execution_count": 23,
     "metadata": {},
     "output_type": "execute_result"
    }
   ],
   "source": [
    "As = m3/(pow(s, 3))\n",
    "Ex = (m4/(pow(s, 4))) - 3\n",
    "As, Ex"
   ]
  },
  {
   "cell_type": "code",
   "execution_count": 24,
   "id": "1bedd3bd-a158-44f9-850c-9f5623278077",
   "metadata": {},
   "outputs": [
    {
     "data": {
      "text/plain": [
       "E    129.931731\n",
       "dtype: float64"
      ]
     },
     "execution_count": 24,
     "metadata": {},
     "output_type": "execute_result"
    }
   ],
   "source": [
    "original.mean()"
   ]
  }
 ],
 "metadata": {
  "kernelspec": {
   "display_name": "Python 3",
   "language": "python",
   "name": "python3"
  },
  "language_info": {
   "codemirror_mode": {
    "name": "ipython",
    "version": 3
   },
   "file_extension": ".py",
   "mimetype": "text/x-python",
   "name": "python",
   "nbconvert_exporter": "python",
   "pygments_lexer": "ipython3",
   "version": "3.8.8"
  }
 },
 "nbformat": 4,
 "nbformat_minor": 5
}
