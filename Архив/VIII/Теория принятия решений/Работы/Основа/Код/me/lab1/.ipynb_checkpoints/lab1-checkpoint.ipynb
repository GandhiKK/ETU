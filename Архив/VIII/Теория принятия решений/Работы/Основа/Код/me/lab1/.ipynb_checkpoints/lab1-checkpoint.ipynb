{
 "cells": [
  {
   "cell_type": "code",
   "execution_count": 1,
   "id": "b51b2843-2498-4328-8729-16a283244dfc",
   "metadata": {},
   "outputs": [],
   "source": [
    "import numpy as np\n",
    "from IPython.core.interactiveshell import InteractiveShell \n",
    "InteractiveShell.ast_node_interactivity = \"all\""
   ]
  },
  {
   "cell_type": "code",
   "execution_count": 2,
   "id": "6dc9afb2-bfe3-47ea-a1e8-aa1b60dad06c",
   "metadata": {},
   "outputs": [],
   "source": [
    "a = np.array([[5, 6, 8, 7], [3, 9, 4, 5]])\n",
    "amin = a.min(axis=1)\n",
    "bmax = a.max(axis=0)\n",
    "alpha = max(amin)\n",
    "beta = min(bmax)"
   ]
  },
  {
   "cell_type": "code",
   "execution_count": 3,
   "id": "bd5f4917-3122-4046-9e8f-7a9d99a2d807",
   "metadata": {},
   "outputs": [
    {
     "data": {
      "text/plain": [
       "'Нижняя цена игры равна 5'"
      ]
     },
     "execution_count": 3,
     "metadata": {},
     "output_type": "execute_result"
    },
    {
     "data": {
      "text/plain": [
       "'Верхняя цена игры равна 5'"
      ]
     },
     "execution_count": 3,
     "metadata": {},
     "output_type": "execute_result"
    }
   ],
   "source": [
    "f'Нижняя цена игры равна ' + str(alpha)\n",
    "f'Верхняя цена игры равна ' + str(beta)"
   ]
  },
  {
   "cell_type": "code",
   "execution_count": 4,
   "id": "8210becf-9828-4d80-8963-9d8edb3186b3",
   "metadata": {},
   "outputs": [
    {
     "name": "stdout",
     "output_type": "stream",
     "text": [
      "Седловая точка существует. "
     ]
    }
   ],
   "source": [
    "if alpha == beta:\n",
    "    print(\"Седловая точка существует.\", end =\" \")"
   ]
  },
  {
   "cell_type": "code",
   "execution_count": 5,
   "id": "079b02fa-b183-4fc2-86e1-ea9f0a994e22",
   "metadata": {},
   "outputs": [
    {
     "name": "stdout",
     "output_type": "stream",
     "text": [
      "Её координаты равны (1, 1).\n"
     ]
    }
   ],
   "source": [
    "for i in range(np.size(amin)):\n",
    "    for j in range(np.size(bmax)):\n",
    "        if amin[i]==bmax[j]:\n",
    "            print(\"Её координаты равны (\" + str(i+1) +\", \" + str(j+1) + \").\")"
   ]
  }
 ],
 "metadata": {
  "kernelspec": {
   "display_name": "Python 3",
   "language": "python",
   "name": "python3"
  },
  "language_info": {
   "codemirror_mode": {
    "name": "ipython",
    "version": 3
   },
   "file_extension": ".py",
   "mimetype": "text/x-python",
   "name": "python",
   "nbconvert_exporter": "python",
   "pygments_lexer": "ipython3",
   "version": "3.8.8"
  }
 },
 "nbformat": 4,
 "nbformat_minor": 5
}
