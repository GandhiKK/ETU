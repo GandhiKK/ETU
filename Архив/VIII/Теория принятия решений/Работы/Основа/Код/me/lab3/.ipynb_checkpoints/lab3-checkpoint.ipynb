{
 "cells": [
  {
   "cell_type": "code",
   "execution_count": 1,
   "id": "1a031ede-8b1e-4723-a5c2-d107647190da",
   "metadata": {},
   "outputs": [],
   "source": [
    "import numpy as np\n",
    "from IPython.core.interactiveshell import InteractiveShell \n",
    "InteractiveShell.ast_node_interactivity = \"all\""
   ]
  },
  {
   "cell_type": "code",
   "execution_count": 2,
   "id": "1af37927-208b-4ef5-b953-729cf3b8f280",
   "metadata": {},
   "outputs": [
    {
     "data": {
      "text/plain": [
       "array([[0.21696611, 8.64275768, 5.66714339, 2.35493825, 4.14174707,\n",
       "        8.3984355 , 1.03530041, 0.9544642 , 6.48294763, 6.09519077],\n",
       "       [5.41215538, 0.13362961, 5.26354235, 3.61452804, 6.4073283 ,\n",
       "        8.30741645, 1.43108043, 7.65950728, 1.4839575 , 1.61690505],\n",
       "       [3.08475194, 4.43544675, 1.20084981, 2.85561188, 5.79495467,\n",
       "        7.88569013, 7.66034163, 1.21495138, 7.01873894, 4.81100084],\n",
       "       [8.55926938, 0.60196915, 4.85977383, 8.88879083, 2.39033833,\n",
       "        6.43076353, 4.2484534 , 7.26376408, 4.46487883, 6.31947148],\n",
       "       [1.24641144, 3.11012244, 7.0653609 , 6.17592788, 4.67295937,\n",
       "        1.83687274, 5.66521076, 7.01564429, 3.75689184, 8.91342984],\n",
       "       [3.90052566, 2.89128138, 4.74285051, 1.28169604, 1.78756623,\n",
       "        5.40240449, 6.05816348, 6.46296761, 4.5307975 , 7.59857877],\n",
       "       [5.79324593, 7.27571971, 2.77178784, 7.82280187, 4.9644154 ,\n",
       "        4.48230301, 7.67651217, 1.656722  , 7.25916407, 2.54360159],\n",
       "       [2.8540837 , 2.36304366, 6.81127107, 6.20917671, 0.17330178,\n",
       "        4.52739261, 3.35108923, 6.52797924, 5.00823872, 1.66079571],\n",
       "       [7.04652326, 7.6211172 , 4.85738253, 0.67800739, 1.24632693,\n",
       "        1.43318022, 7.91353038, 3.28465737, 8.89260578, 4.73539933],\n",
       "       [1.32602264, 5.18655272, 3.03473155, 2.85751673, 8.98485299,\n",
       "        5.13924753, 1.68409525, 6.20766536, 5.62862368, 5.05822482]])"
      ]
     },
     "execution_count": 2,
     "metadata": {},
     "output_type": "execute_result"
    }
   ],
   "source": [
    "mat = np.random.uniform(low=1/9, high=9, size=(10,10))\n",
    "mat                        "
   ]
  },
  {
   "cell_type": "code",
   "execution_count": 3,
   "id": "c56e6d3e-1048-419d-a4a9-7cfedc84bbab",
   "metadata": {},
   "outputs": [],
   "source": [
    "amin = mat.min(axis=1)\n",
    "alpha = max(amin)\n",
    "strat = np.argmax(amin)+1"
   ]
  },
  {
   "cell_type": "code",
   "execution_count": 4,
   "id": "adc2d4a4-e82b-46bb-b741-bc7c570de767",
   "metadata": {},
   "outputs": [
    {
     "data": {
      "text/plain": [
       "'Минимум = 1.66'"
      ]
     },
     "execution_count": 4,
     "metadata": {},
     "output_type": "execute_result"
    },
    {
     "data": {
      "text/plain": [
       "'Оптимальная стратегия - 7'"
      ]
     },
     "execution_count": 4,
     "metadata": {},
     "output_type": "execute_result"
    }
   ],
   "source": [
    "f'Минимум = {alpha.round(2)}'\n",
    "f'Оптимальная стратегия - {strat}'"
   ]
  },
  {
   "cell_type": "code",
   "execution_count": null,
   "id": "6b8bdf8e-2441-437f-8216-b5acd12a9836",
   "metadata": {},
   "outputs": [],
   "source": []
  }
 ],
 "metadata": {
  "kernelspec": {
   "display_name": "Python 3",
   "language": "python",
   "name": "python3"
  },
  "language_info": {
   "codemirror_mode": {
    "name": "ipython",
    "version": 3
   },
   "file_extension": ".py",
   "mimetype": "text/x-python",
   "name": "python",
   "nbconvert_exporter": "python",
   "pygments_lexer": "ipython3",
   "version": "3.8.8"
  }
 },
 "nbformat": 4,
 "nbformat_minor": 5
}
