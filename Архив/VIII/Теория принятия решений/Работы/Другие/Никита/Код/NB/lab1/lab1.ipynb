{
 "cells": [
  {
   "cell_type": "code",
   "execution_count": 11,
   "id": "b51b2843-2498-4328-8729-16a283244dfc",
   "metadata": {},
   "outputs": [],
   "source": [
    "import numpy as np\n",
    "import pandas as pd\n",
    "import matplotlib.pyplot as plt\n",
    "import seaborn as sns\n",
    "from IPython.core.interactiveshell import InteractiveShell \n",
    "InteractiveShell.ast_node_interactivity = \"all\""
   ]
  },
  {
   "cell_type": "code",
   "execution_count": 37,
   "id": "d602c016-5f95-4009-9ab7-cfeb9c639049",
   "metadata": {
    "tags": []
   },
   "outputs": [],
   "source": [
    "def default(c):\n",
    "    amin = c.min(axis=1)\n",
    "    bmax = c.max(axis=0)\n",
    "    alpha = max(amin)\n",
    "    beta = min(bmax)\n",
    "    print(f'Нижняя цена игры равна {alpha}')\n",
    "    print(f'Верхняя цена игры равна {beta}')\n",
    "    print(f'Седловая точка существует') if alpha == beta else print(f'Седловая точка не существует')\n",
    "    if alpha == beta:\n",
    "        print(f'Координаты седловой точки равны ({np.argmax(amin)+1}, {np.argmin(bmax)+1})')\n",
    "    p1 = (c[1,1]-c[1,0])/(c[0,0]+c[1,1]-(c[0,1]+c[1,0]))\n",
    "    p2 = 1-p1\n",
    "    q1 = (c[1,1]-c[0,1])/(c[0,0]+c[1,1]-(c[0,1]+c[1,0]))\n",
    "    q2 = 1-q1\n",
    "    v = c[0,0]*p1+c[1,0]*p2\n",
    "    print(p1,p2,q1,q2,v)"
   ]
  },
  {
   "cell_type": "code",
   "execution_count": 48,
   "id": "8723480d-bd1b-4f45-923d-9e21221bf2b0",
   "metadata": {},
   "outputs": [],
   "source": [
    "c1 = np.array([[2,3,-1,4], [3,2,4,1], [-4,3,-1,-2], [-5,5,-3,-4]])\n",
    "c2 = np.array([[4,1],[2,4]])\n",
    "c3 = np.array([[0.5,0.3,0.6,0.7,0.8], [0.6,0.5,0.4,0.9,1.1]])\n",
    "c31 = np.array([[0.3,0.6],[0.5,0.4]])\n",
    "c4 = np.array([[3,8],[7,6],[4,5],[9,2],[6,1]])\n",
    "c41 = np.array([[3,8],[7,6]])\n",
    "c5 = np.array([[4,5,6], [7,3,2], [2,1,8]])"
   ]
  },
  {
   "cell_type": "code",
   "execution_count": 50,
   "id": "ae015191-cfc7-41b4-b659-b9325b8ccefe",
   "metadata": {},
   "outputs": [
    {
     "name": "stdout",
     "output_type": "stream",
     "text": [
      "Нижняя цена игры равна 4\n",
      "Верхняя цена игры равна 5\n",
      "Седловая точка не существует\n",
      "0.8 0.19999999999999996 0.4 0.6 4.6\n"
     ]
    }
   ],
   "source": [
    "default(c5)"
   ]
  },
  {
   "cell_type": "code",
   "execution_count": 57,
   "id": "013110e2-c94f-4c74-a018-24de9a30373e",
   "metadata": {},
   "outputs": [
    {
     "data": {
      "text/plain": [
       "0.217"
      ]
     },
     "execution_count": 57,
     "metadata": {},
     "output_type": "execute_result"
    },
    {
     "data": {
      "text/plain": [
       "array([0.174, 0.043, 0.   ])"
      ]
     },
     "execution_count": 57,
     "metadata": {},
     "output_type": "execute_result"
    },
    {
     "data": {
      "text/plain": [
       "array([0.8, 0.2, 0. ])"
      ]
     },
     "execution_count": 57,
     "metadata": {},
     "output_type": "execute_result"
    },
    {
     "data": {
      "text/plain": [
       "4.6"
      ]
     },
     "execution_count": 57,
     "metadata": {},
     "output_type": "execute_result"
    }
   ],
   "source": [
    "from scipy.optimize import linprog\n",
    "obj = [1,1,1]\n",
    "lhs_ineq = [[-4,-7,-2],[-5,-3,-1],[-6,-2,-8]]  \n",
    "rhs_ineq = [-1,-1,-1] \n",
    "bnd = [(0, float(\"inf\")),(0, float(\"inf\")),(0, float(\"inf\"))] \n",
    "opt = linprog(c=obj, A_ub=lhs_ineq, b_ub=rhs_ineq, bounds=bnd,method=\"simplex\")\n",
    "opt.fun.round(3)\n",
    "opt.x.round(3)\n",
    "(1/opt.fun) * opt.x\n",
    "(1/opt.fun).round(3)"
   ]
  },
  {
   "cell_type": "code",
   "execution_count": 63,
   "id": "42b1eea1-3130-445a-b040-0e7fb334b1b6",
   "metadata": {},
   "outputs": [
    {
     "data": {
      "text/plain": [
       "0.217"
      ]
     },
     "execution_count": 63,
     "metadata": {},
     "output_type": "execute_result"
    },
    {
     "data": {
      "text/plain": [
       "array([0.087, 0.13 , 0.   ])"
      ]
     },
     "execution_count": 63,
     "metadata": {},
     "output_type": "execute_result"
    },
    {
     "data": {
      "text/plain": [
       "array([0.4, 0.6, 0. ])"
      ]
     },
     "execution_count": 63,
     "metadata": {},
     "output_type": "execute_result"
    },
    {
     "data": {
      "text/plain": [
       "4.6"
      ]
     },
     "execution_count": 63,
     "metadata": {},
     "output_type": "execute_result"
    }
   ],
   "source": [
    "from scipy.optimize import linprog\n",
    "obj = [-1,-1,-1]\n",
    "lhs_ineq = [[4,5,6],[7,3,2],[2,1,8]]  \n",
    "rhs_ineq = [1,1,1] \n",
    "bnd = [(0, float(\"inf\")),(0, float(\"inf\")),(0, float(\"inf\"))]\n",
    "opt = linprog(c=obj, A_ub=lhs_ineq, b_ub=rhs_ineq, bounds=bnd,method=\"simplex\")\n",
    "-opt.fun.round(3)\n",
    "opt.x.round(3)\n",
    "(-1/opt.fun) * opt.x\n",
    "(-1/opt.fun).round(3)"
   ]
  },
  {
   "cell_type": "code",
   "execution_count": null,
   "id": "2fb51c66-cbd6-4156-9774-8ae171ee79de",
   "metadata": {},
   "outputs": [],
   "source": []
  }
 ],
 "metadata": {
  "kernelspec": {
   "display_name": "Python 3",
   "language": "python",
   "name": "python3"
  },
  "language_info": {
   "codemirror_mode": {
    "name": "ipython",
    "version": 3
   },
   "file_extension": ".py",
   "mimetype": "text/x-python",
   "name": "python",
   "nbconvert_exporter": "python",
   "pygments_lexer": "ipython3",
   "version": "3.8.8"
  }
 },
 "nbformat": 4,
 "nbformat_minor": 5
}
