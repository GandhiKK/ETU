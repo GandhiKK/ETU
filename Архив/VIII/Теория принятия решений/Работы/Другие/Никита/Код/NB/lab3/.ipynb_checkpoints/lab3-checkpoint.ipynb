{
 "cells": [
  {
   "cell_type": "code",
   "execution_count": 1,
   "id": "1a031ede-8b1e-4723-a5c2-d107647190da",
   "metadata": {},
   "outputs": [],
   "source": [
    "import numpy as np\n",
    "from IPython.core.interactiveshell import InteractiveShell \n",
    "InteractiveShell.ast_node_interactivity = \"all\""
   ]
  },
  {
   "cell_type": "code",
   "execution_count": 2,
   "id": "1af37927-208b-4ef5-b953-729cf3b8f280",
   "metadata": {},
   "outputs": [
    {
     "data": {
      "text/plain": [
       "array([[1.31783185, 1.16534635, 1.08426649, 1.564475  , 1.92780206,\n",
       "        2.76502083, 1.31405258, 0.57450568, 1.522134  , 0.83155127],\n",
       "       [2.14362617, 2.83761297, 0.81491503, 2.88661279, 2.54630214,\n",
       "        2.67417587, 2.214177  , 2.85918016, 2.27528365, 0.47673465],\n",
       "       [2.1099629 , 0.85081056, 1.76522763, 0.54855458, 1.08503333,\n",
       "        1.5227449 , 2.97337928, 1.62904391, 1.91307774, 1.49781296],\n",
       "       [1.05456773, 1.93549616, 0.36855975, 2.26668689, 1.80603084,\n",
       "        2.81181922, 0.3429712 , 1.91312011, 2.35329612, 0.83871365],\n",
       "       [1.82534011, 2.08384714, 2.47522064, 2.25994489, 1.93463269,\n",
       "        2.93983771, 2.61067812, 1.21037754, 1.98467141, 0.9349063 ],\n",
       "       [1.24932345, 2.75933954, 1.22700405, 2.47617058, 0.69747205,\n",
       "        1.85517476, 1.06652136, 1.78949457, 0.43107097, 2.56063147],\n",
       "       [2.83135773, 0.73220865, 1.03835431, 0.4076899 , 0.50955582,\n",
       "        2.49451515, 0.54206866, 1.64914524, 2.68130549, 0.96019047],\n",
       "       [2.26097718, 0.88786918, 1.79168115, 0.92349988, 2.9990781 ,\n",
       "        2.02900502, 1.8436143 , 1.03782503, 2.6459168 , 2.37673484],\n",
       "       [0.42048064, 1.51163038, 2.50413886, 1.71182176, 0.39927293,\n",
       "        0.5308872 , 0.9187745 , 1.63389237, 0.94023116, 2.09235015],\n",
       "       [0.7790987 , 1.05024067, 1.65116644, 1.03986928, 2.75479511,\n",
       "        1.25662632, 1.16919578, 2.89765339, 1.03922047, 2.52448064]])"
      ]
     },
     "execution_count": 2,
     "metadata": {},
     "output_type": "execute_result"
    }
   ],
   "source": [
    "sz = 10\n",
    "mat = np.random.uniform(low=1/3, high=3, size=(sz,sz))\n",
    "mat                        "
   ]
  },
  {
   "cell_type": "code",
   "execution_count": 5,
   "id": "c56e6d3e-1048-419d-a4a9-7cfedc84bbab",
   "metadata": {},
   "outputs": [],
   "source": [
    "mat_lapl = mat*(1/sz)\n",
    "ks = mat_lapl.sum(axis=1)\n",
    "alpha = max(ks)\n",
    "strat = np.argmax(ks)+1"
   ]
  },
  {
   "cell_type": "code",
   "execution_count": 6,
   "id": "adc2d4a4-e82b-46bb-b741-bc7c570de767",
   "metadata": {},
   "outputs": [
    {
     "data": {
      "text/plain": [
       "'Мат. ожидание для всех встратегий = [1.40669861 2.17286204 1.58956478 1.56912617 2.02594566 1.61122028\\n 1.38463914 1.87962015 1.26634799 1.61623468]'"
      ]
     },
     "execution_count": 6,
     "metadata": {},
     "output_type": "execute_result"
    },
    {
     "data": {
      "text/plain": [
       "'Максимальное мат. ожидание = 2.17286'"
      ]
     },
     "execution_count": 6,
     "metadata": {},
     "output_type": "execute_result"
    },
    {
     "data": {
      "text/plain": [
       "'Оптимальная стратегия - 2'"
      ]
     },
     "execution_count": 6,
     "metadata": {},
     "output_type": "execute_result"
    }
   ],
   "source": [
    "f'Мат. ожидание для всех встратегий = {ks}'\n",
    "f'Максимальное мат. ожидание = {alpha.round(5)}'\n",
    "f'Оптимальная стратегия - {strat}'"
   ]
  },
  {
   "cell_type": "code",
   "execution_count": null,
   "id": "6b8bdf8e-2441-437f-8216-b5acd12a9836",
   "metadata": {},
   "outputs": [],
   "source": []
  }
 ],
 "metadata": {
  "kernelspec": {
   "display_name": "Python 3",
   "language": "python",
   "name": "python3"
  },
  "language_info": {
   "codemirror_mode": {
    "name": "ipython",
    "version": 3
   },
   "file_extension": ".py",
   "mimetype": "text/x-python",
   "name": "python",
   "nbconvert_exporter": "python",
   "pygments_lexer": "ipython3",
   "version": "3.8.8"
  }
 },
 "nbformat": 4,
 "nbformat_minor": 5
}
