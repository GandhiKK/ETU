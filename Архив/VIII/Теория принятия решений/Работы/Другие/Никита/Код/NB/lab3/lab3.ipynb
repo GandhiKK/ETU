{
 "cells": [
  {
   "cell_type": "code",
   "execution_count": 1,
   "id": "1a031ede-8b1e-4723-a5c2-d107647190da",
   "metadata": {},
   "outputs": [],
   "source": [
    "import numpy as np\n",
    "from IPython.core.interactiveshell import InteractiveShell \n",
    "InteractiveShell.ast_node_interactivity = \"all\""
   ]
  },
  {
   "cell_type": "code",
   "execution_count": 10,
   "id": "1af37927-208b-4ef5-b953-729cf3b8f280",
   "metadata": {},
   "outputs": [
    {
     "data": {
      "text/plain": [
       "array([[0.94953, 0.58459, 1.99635, 1.96785, 0.66937, 0.44119, 1.90917,\n",
       "        1.45924, 0.43583, 1.79961],\n",
       "       [2.7089 , 0.75101, 1.95195, 1.27907, 0.90439, 0.83893, 2.76103,\n",
       "        1.98733, 1.71402, 1.98908],\n",
       "       [1.67677, 1.61489, 1.19568, 2.75191, 0.47809, 0.72995, 0.82674,\n",
       "        1.47595, 0.80377, 2.18358],\n",
       "       [0.89156, 0.73998, 1.82151, 2.69328, 1.03868, 1.82485, 1.61966,\n",
       "        2.95659, 0.46161, 0.82297],\n",
       "       [0.85131, 2.05408, 1.70841, 1.89073, 0.75333, 0.54589, 1.34622,\n",
       "        0.52754, 0.65879, 0.53983],\n",
       "       [1.27931, 1.57897, 1.4417 , 1.24255, 2.15824, 2.7303 , 1.25113,\n",
       "        2.21762, 2.69107, 2.16864],\n",
       "       [0.47671, 1.35253, 0.79862, 2.29628, 0.69243, 2.36835, 1.85473,\n",
       "        0.36393, 1.04671, 1.26303],\n",
       "       [2.44755, 1.69246, 2.25048, 0.63719, 1.64774, 1.24432, 1.80138,\n",
       "        2.29369, 2.08725, 2.18704],\n",
       "       [1.103  , 1.3519 , 1.15986, 2.77046, 2.27835, 0.68865, 1.86503,\n",
       "        1.91307, 2.32799, 1.41456],\n",
       "       [0.7123 , 1.95233, 0.75391, 2.47131, 2.12133, 0.44344, 2.7533 ,\n",
       "        2.11391, 0.86022, 0.73009]])"
      ]
     },
     "execution_count": 10,
     "metadata": {},
     "output_type": "execute_result"
    }
   ],
   "source": [
    "sz = 10\n",
    "mat = np.random.uniform(low=1/3, high=3, size=(sz,sz)).round(5)\n",
    "mat                        "
   ]
  },
  {
   "cell_type": "code",
   "execution_count": 16,
   "id": "c56e6d3e-1048-419d-a4a9-7cfedc84bbab",
   "metadata": {},
   "outputs": [],
   "source": [
    "mat_lapl = mat*(1/sz)\n",
    "ks = mat_lapl.sum(axis=1).round(5)\n",
    "alpha = max(ks)\n",
    "strat = np.argmax(ks)+1"
   ]
  },
  {
   "cell_type": "code",
   "execution_count": 18,
   "id": "adc2d4a4-e82b-46bb-b741-bc7c570de767",
   "metadata": {},
   "outputs": [
    {
     "data": {
      "text/plain": [
       "'Мат. ожидание для всех стратегий: [1.22127 1.68857 1.37373 1.48707 1.08761 1.87595 1.25133 1.82891 1.68729\\n 1.49121]'"
      ]
     },
     "execution_count": 18,
     "metadata": {},
     "output_type": "execute_result"
    },
    {
     "data": {
      "text/plain": [
       "'Максимальное мат. ожидание = 1.87595'"
      ]
     },
     "execution_count": 18,
     "metadata": {},
     "output_type": "execute_result"
    },
    {
     "data": {
      "text/plain": [
       "'Оптимальная стратегия: 6'"
      ]
     },
     "execution_count": 18,
     "metadata": {},
     "output_type": "execute_result"
    }
   ],
   "source": [
    "f'Мат. ожидание для всех стратегий: {ks}'\n",
    "f'Максимальное мат. ожидание = {alpha}'\n",
    "f'Оптимальная стратегия: {strat}'"
   ]
  },
  {
   "cell_type": "code",
   "execution_count": null,
   "id": "6b8bdf8e-2441-437f-8216-b5acd12a9836",
   "metadata": {},
   "outputs": [],
   "source": []
  }
 ],
 "metadata": {
  "kernelspec": {
   "display_name": "Python 3",
   "language": "python",
   "name": "python3"
  },
  "language_info": {
   "codemirror_mode": {
    "name": "ipython",
    "version": 3
   },
   "file_extension": ".py",
   "mimetype": "text/x-python",
   "name": "python",
   "nbconvert_exporter": "python",
   "pygments_lexer": "ipython3",
   "version": "3.8.8"
  }
 },
 "nbformat": 4,
 "nbformat_minor": 5
}
