{
 "cells": [
  {
   "cell_type": "code",
   "execution_count": 1,
   "id": "5a5028a3-78b4-4c94-bd44-809f5d8e610e",
   "metadata": {},
   "outputs": [],
   "source": [
    "from IPython.core.interactiveshell import InteractiveShell \n",
    "InteractiveShell.ast_node_interactivity = \"all\""
   ]
  },
  {
   "cell_type": "code",
   "execution_count": 2,
   "id": "18077acb-d3d3-47ec-82ce-7529b28c3d62",
   "metadata": {},
   "outputs": [],
   "source": [
    "c = 3"
   ]
  },
  {
   "cell_type": "markdown",
   "id": "19650df6-6497-467d-8afc-5d3c57a5ec2e",
   "metadata": {},
   "source": [
    "### Первая стратегия"
   ]
  },
  {
   "cell_type": "code",
   "execution_count": 3,
   "id": "0a4d6800-ebf1-40d4-b564-09e462f3076e",
   "metadata": {},
   "outputs": [],
   "source": [
    "a = pow(c/(c+2), 2)\n",
    "b = c/(c+2)"
   ]
  },
  {
   "cell_type": "code",
   "execution_count": 4,
   "id": "c84d780b-9d26-4f36-b671-45c0add6114c",
   "metadata": {},
   "outputs": [],
   "source": [
    "H = (pow((c+2),2)/(4*(c+1)))*(-pow(a,2)+2*a*(pow(c,2)/pow(c+2,2))-(pow(c,2)/pow(c+2,2)))"
   ]
  },
  {
   "cell_type": "code",
   "execution_count": 5,
   "id": "a76a2ad9-ddb1-4141-95dd-ec4248547f7d",
   "metadata": {},
   "outputs": [
    {
     "data": {
      "text/plain": [
       "'Порог игрока А = 0.36, порог игрока B = 0.6'"
      ]
     },
     "execution_count": 5,
     "metadata": {},
     "output_type": "execute_result"
    },
    {
     "data": {
      "text/plain": [
       "'Выигрыш игрока А = -0.36'"
      ]
     },
     "execution_count": 5,
     "metadata": {},
     "output_type": "execute_result"
    }
   ],
   "source": [
    "f'Порог игрока А = {a}, порог игрока B = {round(b,2)}'\n",
    "f'Выигрыш игрока А = {H}'"
   ]
  },
  {
   "cell_type": "markdown",
   "id": "93dd989b-8479-4f29-aac4-c78736d895a4",
   "metadata": {},
   "source": [
    "### Вторая стратегия"
   ]
  },
  {
   "cell_type": "code",
   "execution_count": 6,
   "id": "b9a4169f-a3d5-496e-9b04-df98fddb0028",
   "metadata": {},
   "outputs": [],
   "source": [
    "a = (c-1)/(c+1)\n",
    "b = (c-2)/c"
   ]
  },
  {
   "cell_type": "code",
   "execution_count": 7,
   "id": "2f1bb6f2-e0d3-420b-bf3a-76010c8447c6",
   "metadata": {},
   "outputs": [],
   "source": [
    "H = -(a-1)*(1+a+(a*c)-(b*c))-1"
   ]
  },
  {
   "cell_type": "code",
   "execution_count": 8,
   "id": "444aff65-4f1a-4043-92a4-185cd1a8d952",
   "metadata": {},
   "outputs": [],
   "source": [
    "H2 = ((c**2)/(4*(c+1)))*((b**2)-2*b*(((c**2)-2*c)/(c**2))+1)"
   ]
  },
  {
   "cell_type": "code",
   "execution_count": 10,
   "id": "5cdb5650-857f-4d90-bcbf-4a2c84c396d4",
   "metadata": {},
   "outputs": [
    {
     "data": {
      "text/plain": [
       "'Порог игрока А = 0.5, порог игрока B = 0.33'"
      ]
     },
     "execution_count": 10,
     "metadata": {},
     "output_type": "execute_result"
    },
    {
     "data": {
      "text/plain": [
       "'Выигрыш игрока А = 0.5'"
      ]
     },
     "execution_count": 10,
     "metadata": {},
     "output_type": "execute_result"
    }
   ],
   "source": [
    "f'Порог игрока А = {a}, порог игрока B = {round(b, 2)}'\n",
    "f'Выигрыш игрока А = {round(H2, 2)}'"
   ]
  },
  {
   "cell_type": "code",
   "execution_count": null,
   "id": "24160218-ffa6-4753-b756-d26247a5ef4d",
   "metadata": {},
   "outputs": [],
   "source": []
  }
 ],
 "metadata": {
  "kernelspec": {
   "display_name": "Python 3",
   "language": "python",
   "name": "python3"
  },
  "language_info": {
   "codemirror_mode": {
    "name": "ipython",
    "version": 3
   },
   "file_extension": ".py",
   "mimetype": "text/x-python",
   "name": "python",
   "nbconvert_exporter": "python",
   "pygments_lexer": "ipython3",
   "version": "3.8.8"
  }
 },
 "nbformat": 4,
 "nbformat_minor": 5
}
