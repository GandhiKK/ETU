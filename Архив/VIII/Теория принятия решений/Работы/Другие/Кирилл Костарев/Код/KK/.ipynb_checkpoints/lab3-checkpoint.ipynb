{
 "cells": [
  {
   "cell_type": "code",
   "execution_count": 1,
   "id": "1a031ede-8b1e-4723-a5c2-d107647190da",
   "metadata": {},
   "outputs": [],
   "source": [
    "import numpy as np\n",
    "from IPython.core.interactiveshell import InteractiveShell \n",
    "InteractiveShell.ast_node_interactivity = \"all\""
   ]
  },
  {
   "cell_type": "code",
   "execution_count": 2,
   "id": "1af37927-208b-4ef5-b953-729cf3b8f280",
   "metadata": {},
   "outputs": [
    {
     "data": {
      "text/plain": [
       "array([[ 8.62,  9.71, 10.77,  3.61,  4.71,  0.57,  7.14,  9.63,  2.55,\n",
       "         5.71],\n",
       "       [ 4.12,  9.98,  3.58,  4.45,  2.86,  6.42,  3.92,  2.45,  4.02,\n",
       "        10.29],\n",
       "       [ 2.1 ,  9.22,  7.42, 10.92,  4.63,  5.08,  1.97,  7.06,  5.55,\n",
       "         7.92],\n",
       "       [ 4.65,  7.04,  8.34,  2.72,  0.41,  4.65,  3.14,  5.08,  7.79,\n",
       "         5.16],\n",
       "       [ 0.88,  3.84,  9.97, 10.67,  7.42,  7.23,  1.78,  2.77,  4.96,\n",
       "         7.06],\n",
       "       [ 2.65,  2.44,  5.45,  9.52,  4.18,  3.53,  4.58, 10.5 ,  0.64,\n",
       "         1.1 ],\n",
       "       [ 1.83,  6.87,  8.03,  0.82,  8.2 ,  1.47,  8.16,  0.96, 10.92,\n",
       "         0.41],\n",
       "       [10.94,  8.01,  3.04,  9.78,  4.83,  9.68,  7.66,  3.  ,  1.79,\n",
       "         5.74],\n",
       "       [ 5.56,  0.44,  6.67,  6.  ,  0.83,  0.48,  5.64,  8.07,  3.34,\n",
       "         0.11],\n",
       "       [ 0.54,  0.63, 10.87,  1.24,  9.25,  9.  ,  0.93, 10.32,  1.96,\n",
       "         9.82]])"
      ]
     },
     "execution_count": 2,
     "metadata": {},
     "output_type": "execute_result"
    }
   ],
   "source": [
    "mat = np.random.uniform(low=1/11, high=11, size=(10,10)).round(2)\n",
    "mat                        "
   ]
  },
  {
   "cell_type": "code",
   "execution_count": 3,
   "id": "c56e6d3e-1048-419d-a4a9-7cfedc84bbab",
   "metadata": {},
   "outputs": [],
   "source": [
    "amin = mat.min(axis=1)\n",
    "alpha = max(amin)\n",
    "strat = np.argmax(amin)+1"
   ]
  },
  {
   "cell_type": "code",
   "execution_count": 4,
   "id": "adc2d4a4-e82b-46bb-b741-bc7c570de767",
   "metadata": {},
   "outputs": [
    {
     "data": {
      "text/plain": [
       "'Минимум каждой стратегии - [0.57 2.45 1.97 0.41 0.88 0.64 0.41 1.79 0.11 0.54]'"
      ]
     },
     "execution_count": 4,
     "metadata": {},
     "output_type": "execute_result"
    },
    {
     "data": {
      "text/plain": [
       "'Максимальный минимум = 2.45'"
      ]
     },
     "execution_count": 4,
     "metadata": {},
     "output_type": "execute_result"
    },
    {
     "data": {
      "text/plain": [
       "'Оптимальная стратегия - 2'"
      ]
     },
     "execution_count": 4,
     "metadata": {},
     "output_type": "execute_result"
    }
   ],
   "source": [
    "f'Минимум каждой стратегии - {amin}'\n",
    "f'Максимальный минимум = {alpha}'\n",
    "f'Оптимальная стратегия - {strat}'"
   ]
  },
  {
   "cell_type": "code",
   "execution_count": null,
   "id": "6b8bdf8e-2441-437f-8216-b5acd12a9836",
   "metadata": {},
   "outputs": [],
   "source": []
  }
 ],
 "metadata": {
  "kernelspec": {
   "display_name": "Python 3",
   "language": "python",
   "name": "python3"
  },
  "language_info": {
   "codemirror_mode": {
    "name": "ipython",
    "version": 3
   },
   "file_extension": ".py",
   "mimetype": "text/x-python",
   "name": "python",
   "nbconvert_exporter": "python",
   "pygments_lexer": "ipython3",
   "version": "3.8.8"
  }
 },
 "nbformat": 4,
 "nbformat_minor": 5
}
