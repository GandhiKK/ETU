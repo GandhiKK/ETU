{
 "cells": [
  {
   "cell_type": "code",
   "execution_count": 26,
   "id": "1a031ede-8b1e-4723-a5c2-d107647190da",
   "metadata": {},
   "outputs": [],
   "source": [
    "import numpy as np\n",
    "from IPython.core.interactiveshell import InteractiveShell \n",
    "InteractiveShell.ast_node_interactivity = \"all\""
   ]
  },
  {
   "cell_type": "code",
   "execution_count": 35,
   "id": "1af37927-208b-4ef5-b953-729cf3b8f280",
   "metadata": {},
   "outputs": [
    {
     "name": "stdout",
     "output_type": "stream",
     "text": [
      "[[ 1.39  7.14  3.33  3.67  8.05  8.67  2.69  0.67  9.88  3.15]\n",
      " [ 7.26  9.17  7.76 10.94  8.58  3.72  2.93  8.74  0.66  4.14]\n",
      " [ 1.02  8.7   7.34  6.31  5.52  2.35  4.86  9.2   9.19  0.29]\n",
      " [ 0.72  5.1   5.43  4.47  4.27  9.6   5.87  4.87  0.53  7.03]\n",
      " [10.74  8.65  1.34  1.48  2.11  4.79  1.93  4.52  6.09  2.78]\n",
      " [ 5.12  4.34  7.4   5.1   2.08  3.13  0.38  5.48  0.72  7.88]\n",
      " [ 0.48  9.15  9.74  7.89  3.27  3.2   5.25  8.63  0.53  0.98]\n",
      " [ 5.96  8.35  4.46  8.02  9.35  4.23  9.22  7.65  9.03 10.46]\n",
      " [ 2.3   5.51  2.48  2.45  7.96  6.63  9.18  8.97  9.97  6.92]\n",
      " [ 9.99 10.71  8.7   4.35 10.47  5.55  8.03  0.86  6.38  1.86]]\n"
     ]
    }
   ],
   "source": [
    "mat = np.random.uniform(low=1/11, high=11, size=(10,10)).round(2)\n",
    "print(mat)                   "
   ]
  },
  {
   "cell_type": "code",
   "execution_count": 36,
   "id": "c56e6d3e-1048-419d-a4a9-7cfedc84bbab",
   "metadata": {},
   "outputs": [],
   "source": [
    "gamma = 1/12\n",
    "amin = mat.min(axis=1)\n",
    "amax = mat.max(axis=1)\n",
    "coef = gamma*amax + (1-gamma)*amin\n",
    "alpha = np.max(coef)\n",
    "strat = np.argmax(coef)+1"
   ]
  },
  {
   "cell_type": "code",
   "execution_count": 37,
   "id": "adc2d4a4-e82b-46bb-b741-bc7c570de767",
   "metadata": {},
   "outputs": [
    {
     "data": {
      "text/plain": [
       "'Коэффициент Гурвица для каждой стратегии - [1.44 1.52 1.03 1.29 2.12 1.   1.25 4.75 2.94 1.68]'"
      ]
     },
     "execution_count": 37,
     "metadata": {},
     "output_type": "execute_result"
    },
    {
     "data": {
      "text/plain": [
       "'Максимальный коэффициент = 4.75'"
      ]
     },
     "execution_count": 37,
     "metadata": {},
     "output_type": "execute_result"
    },
    {
     "data": {
      "text/plain": [
       "'Оптимальная стратегия - 8'"
      ]
     },
     "execution_count": 37,
     "metadata": {},
     "output_type": "execute_result"
    }
   ],
   "source": [
    "f'Коэффициент Гурвица для каждой стратегии - {coef.round(2)}'\n",
    "f'Максимальный коэффициент = {alpha.round(2)}'\n",
    "f'Оптимальная стратегия - {strat}'"
   ]
  },
  {
   "cell_type": "code",
   "execution_count": null,
   "id": "6b8bdf8e-2441-437f-8216-b5acd12a9836",
   "metadata": {},
   "outputs": [],
   "source": []
  }
 ],
 "metadata": {
  "kernelspec": {
   "display_name": "Python 3",
   "language": "python",
   "name": "python3"
  },
  "language_info": {
   "codemirror_mode": {
    "name": "ipython",
    "version": 3
   },
   "file_extension": ".py",
   "mimetype": "text/x-python",
   "name": "python",
   "nbconvert_exporter": "python",
   "pygments_lexer": "ipython3",
   "version": "3.8.8"
  }
 },
 "nbformat": 4,
 "nbformat_minor": 5
}
