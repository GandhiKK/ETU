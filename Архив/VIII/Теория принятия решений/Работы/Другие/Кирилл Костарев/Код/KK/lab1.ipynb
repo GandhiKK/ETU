{
 "cells": [
  {
   "cell_type": "code",
   "execution_count": 1,
   "id": "b51b2843-2498-4328-8729-16a283244dfc",
   "metadata": {},
   "outputs": [],
   "source": [
    "import numpy as np\n",
    "import pandas as pd\n",
    "import matplotlib.pyplot as plt\n",
    "import seaborn as sns\n",
    "from IPython.core.interactiveshell import InteractiveShell \n",
    "InteractiveShell.ast_node_interactivity = \"all\""
   ]
  },
  {
   "cell_type": "code",
   "execution_count": 16,
   "id": "d602c016-5f95-4009-9ab7-cfeb9c639049",
   "metadata": {
    "tags": []
   },
   "outputs": [],
   "source": [
    "def default(c):\n",
    "    amin = c.min(axis=1)\n",
    "    bmax = c.max(axis=0)\n",
    "    alpha = max(amin)\n",
    "    beta = min(bmax)\n",
    "    print(f'Нижняя цена игры: {alpha}')\n",
    "    print(f'Верхняя цена игры: {beta}')\n",
    "    print(f'Седловая точка существует') if alpha == beta else print(f'Седловая точка не существует')\n",
    "    if alpha == beta:\n",
    "        print(f'Координаты седловой точки равны ({np.argmax(amin)+1}, {np.argmin(bmax)+1})')\n",
    "    p1 = (c[1,1]-c[1,0])/(c[0,0]+c[1,1]-(c[0,1]+c[1,0]))\n",
    "    p2 = 1-p1\n",
    "    q1 = (c[1,1]-c[0,1])/(c[0,0]+c[1,1]-(c[0,1]+c[1,0]))\n",
    "    q2 = 1-q1\n",
    "    v = c[0,0]*p1+c[1,0]*p2\n",
    "    print(p1,p2,q1,q2,v)"
   ]
  },
  {
   "cell_type": "code",
   "execution_count": 26,
   "id": "8723480d-bd1b-4f45-923d-9e21221bf2b0",
   "metadata": {},
   "outputs": [],
   "source": [
    "c1 = np.array([[4,8,-1,-2], [5,9,3,2], [5,-7,-2,4]])\n",
    "c2 = np.array([[5,9],[8,3]])\n",
    "c3 = np.array([[5,8,6,4,7], [3,2,4,8,9]])\n",
    "c31 = np.array([[5,4],[3,8]])\n",
    "c4 = np.array([[-4,2],[5,7],[2,-8],[-1,4],[6,-3]])\n",
    "c41 = np.array([[5,7],[6,-3]])\n",
    "c5 = np.array([[2,6,4,5], [7,2,3,1], [5,3,6,2]])\n",
    "# c1,c2,c3,c4,c5"
   ]
  },
  {
   "cell_type": "code",
   "execution_count": 41,
   "id": "ae015191-cfc7-41b4-b659-b9325b8ccefe",
   "metadata": {},
   "outputs": [
    {
     "name": "stdout",
     "output_type": "stream",
     "text": [
      "Нижняя цена игры: 2\n",
      "Верхняя цена игры: 5\n",
      "Седловая точка не существует\n",
      "0.5555555555555556 0.4444444444444444 0.4444444444444444 0.5555555555555556 4.222222222222221\n"
     ]
    }
   ],
   "source": [
    "default(c5)"
   ]
  },
  {
   "cell_type": "code",
   "execution_count": 40,
   "id": "c5647708-229c-4673-9214-139ab5788000",
   "metadata": {},
   "outputs": [
    {
     "data": {
      "text/plain": [
       "3.5087719298245585"
      ]
     },
     "execution_count": 40,
     "metadata": {},
     "output_type": "execute_result"
    },
    {
     "data": {
      "text/plain": [
       "-4.347826086956518"
      ]
     },
     "execution_count": 40,
     "metadata": {},
     "output_type": "execute_result"
    }
   ],
   "source": [
    "ist = 57/11\n",
    "schit = 5/1\n",
    "(np.abs(ist-schit)/ist)*100\n",
    "(np.abs((1-ist)-(1-schit))/(1-ist))*100"
   ]
  },
  {
   "cell_type": "code",
   "execution_count": 44,
   "id": "f6cebbe3-f191-4b0d-a201-ba35cb54470c",
   "metadata": {},
   "outputs": [],
   "source": [
    "from scipy.optimize import linprog"
   ]
  },
  {
   "cell_type": "code",
   "execution_count": 47,
   "id": "bee239ff-7e42-4a5c-b0d2-0855872155e2",
   "metadata": {},
   "outputs": [
    {
     "data": {
      "text/plain": [
       "0.273"
      ]
     },
     "execution_count": 47,
     "metadata": {},
     "output_type": "execute_result"
    },
    {
     "data": {
      "text/plain": [
       "array([0.182, 0.091, 0.   ])"
      ]
     },
     "execution_count": 47,
     "metadata": {},
     "output_type": "execute_result"
    }
   ],
   "source": [
    "obj = [1,1,1]\n",
    "lhs_ineq = [[-2,-7,-5],[-6,-2,-3],[-4,-3,-6], [-5,-1,-2]]  \n",
    "rhs_ineq = [-1,-1,-1,-1] \n",
    "bnd = [(0, float(\"inf\")),(0, float(\"inf\")),(0, float(\"inf\"))] \n",
    "opt = linprog(c=obj, A_ub=lhs_ineq, b_ub=rhs_ineq, bounds=bnd,method=\"simplex\")\n",
    "opt.fun.round(3)\n",
    "opt.x.round(3)"
   ]
  },
  {
   "cell_type": "code",
   "execution_count": 50,
   "id": "f68acb83-8b75-47cf-8926-02d997863682",
   "metadata": {},
   "outputs": [
    {
     "data": {
      "text/plain": [
       "3.667"
      ]
     },
     "execution_count": 50,
     "metadata": {},
     "output_type": "execute_result"
    },
    {
     "data": {
      "text/plain": [
       "array([0.66666667, 0.33333333, 0.        ])"
      ]
     },
     "execution_count": 50,
     "metadata": {},
     "output_type": "execute_result"
    }
   ],
   "source": [
    "(1/opt.fun).round(3)\n",
    "(1/opt.fun) * opt.x"
   ]
  },
  {
   "cell_type": "code",
   "execution_count": 54,
   "id": "ebcb30e6-4a57-49dd-9389-0c48fc3c55af",
   "metadata": {},
   "outputs": [
    {
     "data": {
      "text/plain": [
       "0.273"
      ]
     },
     "execution_count": 54,
     "metadata": {},
     "output_type": "execute_result"
    },
    {
     "data": {
      "text/plain": [
       "array([0.111, 0.   , 0.03 , 0.131])"
      ]
     },
     "execution_count": 54,
     "metadata": {},
     "output_type": "execute_result"
    },
    {
     "data": {
      "text/plain": [
       "3.667"
      ]
     },
     "execution_count": 54,
     "metadata": {},
     "output_type": "execute_result"
    },
    {
     "data": {
      "text/plain": [
       "array([0.40740741, 0.        , 0.11111111, 0.48148148])"
      ]
     },
     "execution_count": 54,
     "metadata": {},
     "output_type": "execute_result"
    }
   ],
   "source": [
    "obj = [-1,-1,-1,-1]\n",
    "lhs_ineq = [[2,6,4,5],[7,2,3,1],[5,3,6,2]]  \n",
    "rhs_ineq = [1,1,1] \n",
    "bnd = [(0, float(\"inf\")),(0, float(\"inf\")),(0, float(\"inf\")), (0, float(\"inf\"))]\n",
    "opt = linprog(c=obj, A_ub=lhs_ineq, b_ub=rhs_ineq, bounds=bnd,method=\"simplex\")\n",
    "-opt.fun.round(3)\n",
    "opt.x.round(3)\n",
    "(-1/opt.fun).round(3)\n",
    "(-1/opt.fun) * opt.x"
   ]
  },
  {
   "cell_type": "code",
   "execution_count": null,
   "id": "2fb51c66-cbd6-4156-9774-8ae171ee79de",
   "metadata": {},
   "outputs": [],
   "source": []
  }
 ],
 "metadata": {
  "kernelspec": {
   "display_name": "Python 3",
   "language": "python",
   "name": "python3"
  },
  "language_info": {
   "codemirror_mode": {
    "name": "ipython",
    "version": 3
   },
   "file_extension": ".py",
   "mimetype": "text/x-python",
   "name": "python",
   "nbconvert_exporter": "python",
   "pygments_lexer": "ipython3",
   "version": "3.8.8"
  }
 },
 "nbformat": 4,
 "nbformat_minor": 5
}
