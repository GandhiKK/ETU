{
 "cells": [
  {
   "cell_type": "code",
   "execution_count": 1,
   "id": "b51b2843-2498-4328-8729-16a283244dfc",
   "metadata": {},
   "outputs": [],
   "source": [
    "import numpy as np\n",
    "import pandas as pd\n",
    "import matplotlib.pyplot as plt\n",
    "import seaborn as sns\n",
    "from IPython.core.interactiveshell import InteractiveShell \n",
    "InteractiveShell.ast_node_interactivity = \"all\"\n",
    "from scipy.optimize import linprog"
   ]
  },
  {
   "cell_type": "code",
   "execution_count": 2,
   "id": "d602c016-5f95-4009-9ab7-cfeb9c639049",
   "metadata": {
    "tags": []
   },
   "outputs": [],
   "source": [
    "def default(c):\n",
    "    amin = c.min(axis=1)\n",
    "    bmax = c.max(axis=0)\n",
    "    alpha = max(amin)\n",
    "    beta = min(bmax)\n",
    "    print(f'Нижняя цена игры равна {alpha}')\n",
    "    print(f'Верхняя цена игры равна {beta}')\n",
    "    print(f'Седловая точка существует') if alpha == beta else print(f'Седловая точка не существует')\n",
    "    if alpha == beta:\n",
    "        print(f'Координаты седловой точки равны ({np.argmax(amin)+1}, {np.argmin(bmax)+1})')\n",
    "    p1 = (c[1,1]-c[1,0])/(c[0,0]+c[1,1]-(c[0,1]+c[1,0]))\n",
    "    p2 = 1-p1\n",
    "    q1 = (c[1,1]-c[0,1])/(c[0,0]+c[1,1]-(c[0,1]+c[1,0]))\n",
    "    q2 = 1-q1\n",
    "    v = c[0,0]*p1+c[1,0]*p2\n",
    "    print(p1,p2,q1,q2,v)"
   ]
  },
  {
   "cell_type": "code",
   "execution_count": 3,
   "id": "8723480d-bd1b-4f45-923d-9e21221bf2b0",
   "metadata": {},
   "outputs": [
    {
     "data": {
      "text/plain": [
       "(array([[ 2,  9, 10,  5],\n",
       "        [ 3,  4,  8,  7],\n",
       "        [-4,  3, -4, -2],\n",
       "        [ 8,  5, -3, -4]]),\n",
       " array([[1, 4],\n",
       "        [5, 3]]),\n",
       " array([[ 2,  4,  3,  5],\n",
       "        [ 5,  2, -3, -4]]),\n",
       " array([[3, 6],\n",
       "        [5, 2],\n",
       "        [1, 3],\n",
       "        [4, 5]]),\n",
       " array([[ 3, 14,  7],\n",
       "        [ 8,  9,  6],\n",
       "        [ 5,  8,  9]]))"
      ]
     },
     "execution_count": 3,
     "metadata": {},
     "output_type": "execute_result"
    }
   ],
   "source": [
    "c1 = np.array([[2,9,10,5], [3,4,8,7], [-4,3,-4,-2], [8,5,-3,-4]])\n",
    "c2 = np.array([[1,4],[5,3]])\n",
    "c3 = np.array([[2,4,3,5], [5,2,-3,-4]])\n",
    "# c31 = np.array([[0.3,0.6],[0.5,0.4]])\n",
    "c4 = np.array([[3,6],[5,2],[1,3],[4,5]])\n",
    "# c41 = np.array([[3,8],[7,6]])\n",
    "c5 = np.array([[3,14,7], [8,9,6], [5,8,9]])\n",
    "c1,c2,c3,c4,c5"
   ]
  },
  {
   "cell_type": "code",
   "execution_count": 50,
   "id": "ae015191-cfc7-41b4-b659-b9325b8ccefe",
   "metadata": {},
   "outputs": [
    {
     "name": "stdout",
     "output_type": "stream",
     "text": [
      "Нижняя цена игры равна 4\n",
      "Верхняя цена игры равна 5\n",
      "Седловая точка не существует\n",
      "0.8 0.19999999999999996 0.4 0.6 4.6\n"
     ]
    }
   ],
   "source": [
    "default(c5)"
   ]
  },
  {
   "cell_type": "code",
   "execution_count": 57,
   "id": "f29548ee-b1ea-407d-a8f8-a1301cbba211",
   "metadata": {},
   "outputs": [],
   "source": [
    "func_coefs = [1,1,1]\n",
    "lhs_coefs = [[-3,-8,-5],[-14,-9,-8],[-7,-6,-9]]  \n",
    "rhs_coefs = [-1,-1,-1] \n",
    "edges = [(0, float(\"inf\")),(0, float(\"inf\")),(0, float(\"inf\"))] \n",
    "opt = linprog(c=func_coefs, A_ub=lhs_coefs, \n",
    "              b_ub=rhs_coefs, bounds=edges, \n",
    "              method=\"simplex\")\n",
    "opt.fun.round(3)"
   ]
  },
  {
   "cell_type": "code",
   "execution_count": 57,
   "id": "c9212cbf-9217-41f6-85db-aa6227c9b1db",
   "metadata": {},
   "outputs": [],
   "source": [
    "opt.x.round(3)"
   ]
  },
  {
   "cell_type": "code",
   "execution_count": 57,
   "id": "ac8a9453-f29f-4db1-88b4-0f3217f3bc35",
   "metadata": {},
   "outputs": [],
   "source": [
    "(1/opt.fun) * opt.x"
   ]
  },
  {
   "cell_type": "code",
   "execution_count": 57,
   "id": "d5bd170c-59d9-452e-be46-de615314f836",
   "metadata": {},
   "outputs": [
    {
     "data": {
      "text/plain": [
       "0.217"
      ]
     },
     "execution_count": 57,
     "metadata": {},
     "output_type": "execute_result"
    },
    {
     "data": {
      "text/plain": [
       "array([0.174, 0.043, 0.   ])"
      ]
     },
     "execution_count": 57,
     "metadata": {},
     "output_type": "execute_result"
    },
    {
     "data": {
      "text/plain": [
       "array([0.8, 0.2, 0. ])"
      ]
     },
     "execution_count": 57,
     "metadata": {},
     "output_type": "execute_result"
    },
    {
     "data": {
      "text/plain": [
       "4.6"
      ]
     },
     "execution_count": 57,
     "metadata": {},
     "output_type": "execute_result"
    }
   ],
   "source": [
    "(1/opt.fun).round(3)"
   ]
  },
  {
   "cell_type": "code",
   "execution_count": 63,
   "id": "42b1eea1-3130-445a-b040-0e7fb334b1b6",
   "metadata": {},
   "outputs": [
    {
     "data": {
      "text/plain": [
       "0.217"
      ]
     },
     "execution_count": 63,
     "metadata": {},
     "output_type": "execute_result"
    },
    {
     "data": {
      "text/plain": [
       "array([0.087, 0.13 , 0.   ])"
      ]
     },
     "execution_count": 63,
     "metadata": {},
     "output_type": "execute_result"
    },
    {
     "data": {
      "text/plain": [
       "array([0.4, 0.6, 0. ])"
      ]
     },
     "execution_count": 63,
     "metadata": {},
     "output_type": "execute_result"
    },
    {
     "data": {
      "text/plain": [
       "4.6"
      ]
     },
     "execution_count": 63,
     "metadata": {},
     "output_type": "execute_result"
    }
   ],
   "source": [
    "obj = [-1,-1,-1]\n",
    "lhs_ineq = [[3,14,7],[8,9,6],[5,8,9]]  \n",
    "rhs_ineq = [1,1,1] \n",
    "bnd = [(0, float(\"inf\")),(0, float(\"inf\")),(0, float(\"inf\"))]\n",
    "opt = linprog(c=obj, A_ub=lhs_ineq, b_ub=rhs_ineq, bounds=bnd,method=\"simplex\")\n",
    "print(-opt.fun.round(3))\n",
    "print(opt.x.round(3))\n",
    "print((-1/opt.fun) * opt.x)\n",
    "print((-1/opt.fun).round(3))"
   ]
  },
  {
   "cell_type": "code",
   "execution_count": null,
   "id": "2fb51c66-cbd6-4156-9774-8ae171ee79de",
   "metadata": {},
   "outputs": [],
   "source": []
  }
 ],
 "metadata": {
  "kernelspec": {
   "display_name": "Python 3",
   "language": "python",
   "name": "python3"
  },
  "language_info": {
   "codemirror_mode": {
    "name": "ipython",
    "version": 3
   },
   "file_extension": ".py",
   "mimetype": "text/x-python",
   "name": "python",
   "nbconvert_exporter": "python",
   "pygments_lexer": "ipython3",
   "version": "3.8.8"
  }
 },
 "nbformat": 4,
 "nbformat_minor": 5
}
