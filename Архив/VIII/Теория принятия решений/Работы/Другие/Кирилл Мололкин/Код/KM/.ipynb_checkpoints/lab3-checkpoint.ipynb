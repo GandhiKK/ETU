{
 "cells": [
  {
   "cell_type": "code",
   "execution_count": 1,
   "id": "1a031ede-8b1e-4723-a5c2-d107647190da",
   "metadata": {},
   "outputs": [],
   "source": [
    "import numpy as np\n",
    "from IPython.core.interactiveshell import InteractiveShell \n",
    "InteractiveShell.ast_node_interactivity = \"all\""
   ]
  },
  {
   "cell_type": "code",
   "execution_count": 15,
   "id": "1af37927-208b-4ef5-b953-729cf3b8f280",
   "metadata": {},
   "outputs": [
    {
     "data": {
      "text/plain": [
       "array([[7.96, 8.36, 6.67, 6.72, 4.03, 4.16, 8.84, 1.55, 6.54, 5.14],\n",
       "       [5.62, 3.34, 2.65, 3.32, 0.59, 1.32, 8.6 , 8.82, 4.69, 8.34],\n",
       "       [4.54, 2.14, 2.08, 5.89, 5.09, 1.11, 1.28, 1.27, 3.34, 3.27],\n",
       "       [7.35, 7.32, 1.48, 1.08, 6.28, 3.72, 3.2 , 8.47, 1.45, 5.81],\n",
       "       [3.06, 3.24, 8.89, 4.25, 2.57, 4.46, 5.95, 7.05, 2.61, 3.77],\n",
       "       [1.33, 1.27, 0.32, 5.87, 7.9 , 7.73, 8.03, 3.38, 4.66, 4.77],\n",
       "       [6.2 , 2.06, 6.13, 7.34, 6.66, 2.65, 7.87, 3.88, 5.53, 3.87],\n",
       "       [2.23, 6.17, 4.91, 8.31, 3.71, 6.96, 7.15, 2.69, 1.48, 5.87],\n",
       "       [7.59, 1.26, 2.45, 8.52, 2.4 , 3.81, 1.46, 3.89, 3.71, 7.54],\n",
       "       [2.7 , 0.65, 6.14, 2.94, 5.37, 7.09, 6.89, 2.53, 7.46, 1.96]])"
      ]
     },
     "execution_count": 15,
     "metadata": {},
     "output_type": "execute_result"
    }
   ],
   "source": [
    "mat = np.random.uniform(low=1/9, high=9, size=(10,10)).round(2)\n",
    "mat                        "
   ]
  },
  {
   "cell_type": "code",
   "execution_count": 16,
   "id": "c56e6d3e-1048-419d-a4a9-7cfedc84bbab",
   "metadata": {},
   "outputs": [],
   "source": [
    "amin = mat.min(axis=1)\n",
    "alpha = max(amin)\n",
    "strat = np.argmax(amin)+1"
   ]
  },
  {
   "cell_type": "code",
   "execution_count": 18,
   "id": "adc2d4a4-e82b-46bb-b741-bc7c570de767",
   "metadata": {},
   "outputs": [
    {
     "data": {
      "text/plain": [
       "'Минимум каждой стратегии - [1.55 0.59 1.11 1.08 2.57 0.32 2.06 1.48 1.26 0.65]'"
      ]
     },
     "execution_count": 18,
     "metadata": {},
     "output_type": "execute_result"
    },
    {
     "data": {
      "text/plain": [
       "'Максимальный минимум = 2.57'"
      ]
     },
     "execution_count": 18,
     "metadata": {},
     "output_type": "execute_result"
    },
    {
     "data": {
      "text/plain": [
       "'Оптимальная стратегия - 5'"
      ]
     },
     "execution_count": 18,
     "metadata": {},
     "output_type": "execute_result"
    }
   ],
   "source": [
    "f'Минимум каждой стратегии - {amin}'\n",
    "f'Максимальный минимум = {alpha}'\n",
    "f'Оптимальная стратегия - {strat}'"
   ]
  },
  {
   "cell_type": "code",
   "execution_count": null,
   "id": "6b8bdf8e-2441-437f-8216-b5acd12a9836",
   "metadata": {},
   "outputs": [],
   "source": []
  }
 ],
 "metadata": {
  "kernelspec": {
   "display_name": "Python 3",
   "language": "python",
   "name": "python3"
  },
  "language_info": {
   "codemirror_mode": {
    "name": "ipython",
    "version": 3
   },
   "file_extension": ".py",
   "mimetype": "text/x-python",
   "name": "python",
   "nbconvert_exporter": "python",
   "pygments_lexer": "ipython3",
   "version": "3.8.8"
  }
 },
 "nbformat": 4,
 "nbformat_minor": 5
}
