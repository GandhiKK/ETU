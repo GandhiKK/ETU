{
 "cells": [
  {
   "cell_type": "code",
   "execution_count": 1,
   "id": "1a031ede-8b1e-4723-a5c2-d107647190da",
   "metadata": {},
   "outputs": [],
   "source": [
    "import numpy as np\n",
    "from IPython.core.interactiveshell import InteractiveShell \n",
    "InteractiveShell.ast_node_interactivity = \"all\""
   ]
  },
  {
   "cell_type": "code",
   "execution_count": 2,
   "id": "1af37927-208b-4ef5-b953-729cf3b8f280",
   "metadata": {},
   "outputs": [
    {
     "data": {
      "text/plain": [
       "array([[ 5.53,  5.14,  6.38,  9.48,  9.44,  9.06,  4.07,  7.62,  4.35,\n",
       "         9.37],\n",
       "       [10.93,  5.82,  7.58,  7.95,  2.68,  6.86,  5.14,  3.05,  5.  ,\n",
       "         9.  ],\n",
       "       [12.64,  7.2 ,  6.7 , 10.83, 11.27,  1.94,  4.67,  0.44, 12.78,\n",
       "         2.62],\n",
       "       [ 4.36,  3.72, 11.48, 10.81, 12.29, 11.81,  6.34, 10.99,  6.89,\n",
       "        11.76],\n",
       "       [ 7.64,  1.72, 11.56,  8.68,  0.96,  9.62,  1.82,  4.52, 11.63,\n",
       "         9.43],\n",
       "       [ 9.82,  2.8 , 10.48,  6.51,  9.8 ,  3.04,  4.24,  6.6 ,  7.71,\n",
       "         4.32],\n",
       "       [ 1.31,  6.16, 11.77,  5.94,  7.81, 12.89,  9.95,  3.4 ,  7.86,\n",
       "         0.18],\n",
       "       [ 0.3 , 10.47,  9.12,  5.97,  4.54,  6.84,  3.03,  5.3 ,  0.2 ,\n",
       "         2.32],\n",
       "       [11.43, 11.02,  1.8 ,  5.55,  4.75,  8.19,  0.68,  6.26,  2.55,\n",
       "         2.91],\n",
       "       [11.42,  1.65, 11.2 , 10.09,  3.05, 12.47,  5.66,  4.77, 11.89,\n",
       "         3.71]])"
      ]
     },
     "execution_count": 2,
     "metadata": {},
     "output_type": "execute_result"
    }
   ],
   "source": [
    "mat = np.random.uniform(low=1/13, high=13, size=(10,10)).round(2)\n",
    "mat                        "
   ]
  },
  {
   "cell_type": "code",
   "execution_count": 3,
   "id": "c56e6d3e-1048-419d-a4a9-7cfedc84bbab",
   "metadata": {},
   "outputs": [],
   "source": [
    "amin = mat.min(axis=1)\n",
    "alpha = max(amin)\n",
    "strat = np.argmax(amin)+1"
   ]
  },
  {
   "cell_type": "code",
   "execution_count": 4,
   "id": "adc2d4a4-e82b-46bb-b741-bc7c570de767",
   "metadata": {},
   "outputs": [
    {
     "data": {
      "text/plain": [
       "'Минимум каждой стратегии - [4.07 2.68 0.44 3.72 0.96 2.8  0.18 0.2  0.68 1.65]'"
      ]
     },
     "execution_count": 4,
     "metadata": {},
     "output_type": "execute_result"
    },
    {
     "data": {
      "text/plain": [
       "'Максимальный минимум = 4.07'"
      ]
     },
     "execution_count": 4,
     "metadata": {},
     "output_type": "execute_result"
    },
    {
     "data": {
      "text/plain": [
       "'Оптимальная стратегия - 1'"
      ]
     },
     "execution_count": 4,
     "metadata": {},
     "output_type": "execute_result"
    }
   ],
   "source": [
    "f'Минимум каждой стратегии - {amin}'\n",
    "f'Максимальный минимум = {alpha}'\n",
    "f'Оптимальная стратегия - {strat}'"
   ]
  },
  {
   "cell_type": "code",
   "execution_count": null,
   "id": "6b8bdf8e-2441-437f-8216-b5acd12a9836",
   "metadata": {},
   "outputs": [],
   "source": []
  }
 ],
 "metadata": {
  "kernelspec": {
   "display_name": "Python 3",
   "language": "python",
   "name": "python3"
  },
  "language_info": {
   "codemirror_mode": {
    "name": "ipython",
    "version": 3
   },
   "file_extension": ".py",
   "mimetype": "text/x-python",
   "name": "python",
   "nbconvert_exporter": "python",
   "pygments_lexer": "ipython3",
   "version": "3.8.8"
  }
 },
 "nbformat": 4,
 "nbformat_minor": 5
}
