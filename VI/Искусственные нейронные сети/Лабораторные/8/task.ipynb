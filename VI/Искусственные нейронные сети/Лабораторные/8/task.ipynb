{
  "nbformat": 4,
  "nbformat_minor": 0,
  "metadata": {
    "orig_nbformat": 2,
    "kernelspec": {
      "name": "pythonjvsc74a57bd0b9cd369297badecef033754457a409e1f5bc5a1dd91d77fefd2fd9bfe0bf4093",
      "display_name": "Python 3.8.7  ('.pyDev': venv)"
    },
    "metadata": {
      "interpreter": {
        "hash": "b9cd369297badecef033754457a409e1f5bc5a1dd91d77fefd2fd9bfe0bf4093"
      }
    },
    "colab": {
      "name": "lb8.ipynb",
      "provenance": [],
      "collapsed_sections": []
    },
    "language_info": {
      "name": "python",
      "version": "3.8.7"
    },
    "accelerator": "GPU"
  },
  "cells": [
    {
      "cell_type": "code",
      "metadata": {
        "id": "dMwVls8xjjJ7"
      },
      "source": [
        "import os\n",
        "os.environ['TF_CPP_MIN_LOG_LEVEL'] = '2'\n",
        "os.environ['TF_FORCE_GPU_ALLOW_GROWTH'] = 'true'\n",
        "from matplotlib import gridspec\n",
        "%matplotlib inline\n",
        "import matplotlib\n",
        "import matplotlib.pyplot as plt\n",
        "import numpy as np\n",
        "from keras.layers import Dense, Dropout, LSTM\n",
        "from keras.models import Sequential\n",
        "from keras.callbacks import ModelCheckpoint, Callback, TensorBoard\n",
        "from keras.utils import np_utils"
      ],
      "execution_count": null,
      "outputs": []
    },
    {
      "cell_type": "code",
      "metadata": {
        "id": "kCWJajlBhGMp"
      },
      "source": [
        "class GenerationCallback(Callback):\n",
        "    def gen_text(self, size=100):\n",
        "        start = np.random.randint(0, n_patterns-1)\n",
        "        pattern = dataX[start]\n",
        "        text = []\n",
        "        for i in range(size):\n",
        "            x = np.reshape(pattern, (1, len(pattern), 1))\n",
        "            x = x / float(n_vocab)\n",
        "            prediction = model.predict(x, verbose=0)\n",
        "            index = np.argmax(prediction)\n",
        "            result = int_to_char[index]\n",
        "            text.append(result)\n",
        "            pattern.append(index)\n",
        "            pattern = pattern[1:len(pattern)]\n",
        "        print(\"\".join(text))\n",
        "\n",
        "    def on_epoch_end(self, epoch, logs=None):\n",
        "        if epoch % 5 == 0:\n",
        "            print(f'{epoch+1} ep:')\n",
        "            self.gen_text()"
      ],
      "execution_count": null,
      "outputs": []
    },
    {
      "cell_type": "code",
      "metadata": {
        "id": "opc_r49T1nzb"
      },
      "source": [
        "filename = \"wonderland.txt\"\n",
        "raw_text = open(filename).read()\n",
        "raw_text = raw_text.lower()"
      ],
      "execution_count": null,
      "outputs": []
    },
    {
      "cell_type": "code",
      "metadata": {
        "colab": {
          "base_uri": "https://localhost:8080/"
        },
        "id": "SpSiRizA7V40",
        "outputId": "a5b4f8f0-621c-4e8f-c772-5a08120a4f69"
      },
      "source": [
        "chars = sorted(list(set(raw_text)))\n",
        "print(set(raw_text))\n",
        "print(chars)\n",
        "char_to_int = dict((c, i) for i, c in enumerate(chars))\n",
        "int_to_char = dict((i, c) for i, c in enumerate(chars))\n",
        "print(char_to_int)\n",
        "print(int_to_char)"
      ],
      "execution_count": null,
      "outputs": []
    },
    {
      "cell_type": "code",
      "metadata": {
        "colab": {
          "base_uri": "https://localhost:8080/"
        },
        "id": "H9GNsOuu8GfC",
        "outputId": "5f5bc56b-a847-4991-f710-49ee8d2da4f7"
      },
      "source": [
        "n_chars = len(raw_text)\n",
        "n_vocab = len(chars)\n",
        "print(\"Total Characters: \", n_chars)\n",
        "print(\"Total Vocab: \", n_vocab)"
      ],
      "execution_count": null,
      "outputs": []
    },
    {
      "cell_type": "code",
      "metadata": {
        "colab": {
          "base_uri": "https://localhost:8080/"
        },
        "id": "zNHqjsEq9tZ1",
        "outputId": "55ca8678-6ab3-41de-c651-c2e3c98b21f7"
      },
      "source": [
        "seq_length = 100\n",
        "dataX = [] # 144331 x 100\n",
        "dataY = []\n",
        "for i in range(0, n_chars - seq_length, 1):\n",
        "        seq_in = raw_text[i:i + seq_length]\n",
        "        seq_out = raw_text[i + seq_length]\n",
        "        dataX.append([char_to_int[char] for char in seq_in])\n",
        "        dataY.append(char_to_int[seq_out])\n",
        "n_patterns = len(dataX)\n",
        "print(\"Total Patterns: \", n_patterns)\n",
        "print(dataX[0])\n",
        "print(dataY[0])"
      ],
      "execution_count": null,
      "outputs": []
    },
    {
      "cell_type": "code",
      "metadata": {
        "id": "5jUQjCf0ET2F"
      },
      "source": [
        "X = np.reshape(dataX, (n_patterns, seq_length, 1)) # образцы, временные шаги, признаки\n",
        "X = X / float(n_vocab) # нормализация\n",
        "y = np_utils.to_categorical(dataY)\n",
        "# print(X.shape) # (144331, 100, 1)\n",
        "# print(y.shape) # (144331, 45)\n",
        "# print(X[0])\n",
        "# print(y[0])"
      ],
      "execution_count": null,
      "outputs": []
    },
    {
      "cell_type": "code",
      "metadata": {
        "id": "s5KzP1pAFrrN"
      },
      "source": [
        "model = Sequential([\n",
        "    LSTM(256, input_shape=(X.shape[1], X.shape[2]), return_sequences=True),\n",
        "    Dropout(0.2),\n",
        "    LSTM(256),\n",
        "    Dropout(0.2),\n",
        "    Dense(y.shape[1], activation='softmax')])\n",
        "model.compile(loss='categorical_crossentropy', optimizer='adam')"
      ],
      "execution_count": null,
      "outputs": []
    },
    {
      "cell_type": "code",
      "metadata": {
        "id": "Ws6vowsNHooz"
      },
      "source": [
        "filepath=\"weights-improvement-{epoch:02d}.hdf5\"\n",
        "checkpoint = ModelCheckpoint(filepath, monitor='loss', verbose=1, save_best_only=True, mode='min')\n",
        "callbacks_list = [checkpoint, GenerationCallback(), TensorBoard(log_dir='logs', histogram_freq=1, embeddings_freq=1)]"
      ],
      "execution_count": null,
      "outputs": []
    },
    {
      "cell_type": "code",
      "metadata": {
        "id": "AmG814U6H7ir"
      },
      "source": [
        "model.fit(X, y, epochs=20, batch_size=128, callbacks=callbacks_list, verbose=2)"
      ],
      "execution_count": null,
      "outputs": []
    },
    {
      "cell_type": "code",
      "metadata": {
        "id": "vKVV6ZaXKbFy"
      },
      "source": [
        "filename = \"weights-improvement-20.hdf5\"\n",
        "model.load_weights(filename)"
      ],
      "execution_count": null,
      "outputs": []
    },
    {
      "cell_type": "code",
      "metadata": {
        "id": "d9Gbo30yLEXF"
      },
      "source": [
        "start = np.random.randint(0, n_patterns-1)\n",
        "pattern = dataX[start]\n",
        "print(\"Seed:\")\n",
        "print(\"\\\"\", ''.join([int_to_char[value] for value in pattern]), \"\\\"\")\n",
        "text = []\n",
        "\n",
        "for i in range(200):\n",
        "        x = np.reshape(pattern, (1, len(pattern), 1))\n",
        "        x = x / float(n_vocab)\n",
        "        prediction = model.predict(x, verbose=0)\n",
        "        index = np.argmax(prediction)\n",
        "        result = int_to_char[index]\n",
        "        text.append(result)\n",
        "        pattern.append(index)\n",
        "        pattern = pattern[1:len(pattern)]\n",
        "print(\"\".join(text))"
      ],
      "execution_count": null,
      "outputs": []
    }
  ]
}